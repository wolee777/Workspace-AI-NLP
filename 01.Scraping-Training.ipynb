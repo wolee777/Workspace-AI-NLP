{
 "cells": [
  {
   "cell_type": "code",
   "execution_count": 1,
   "metadata": {},
   "outputs": [],
   "source": [
    "# Scraping 실습"
   ]
  },
  {
   "cell_type": "code",
   "execution_count": 2,
   "metadata": {},
   "outputs": [],
   "source": [
    "# request package"
   ]
  },
  {
   "cell_type": "code",
   "execution_count": null,
   "metadata": {},
   "outputs": [],
   "source": [
    "!conda install requests"
   ]
  },
  {
   "cell_type": "code",
   "execution_count": 39,
   "metadata": {},
   "outputs": [],
   "source": [
    "import requests\n",
    "\n",
    "def getDownload( url, param = None, retries = 3 ):\n",
    "    resp = None\n",
    "    \n",
    "    try:\n",
    "        resp = requests.get( url, params = param ) #, headers = header )\n",
    "        resp.raise_for_status()\n",
    "    except requests.exceptions.HTTPError as e:\n",
    "        if 500 <= resp.status_code < 600 and retries > 0:\n",
    "            print( 'Retries : {0}'.format( retries ) )\n",
    "            return getDownload( url, param, retries - 1 )\n",
    "        else:\n",
    "            print( resp.status_code )\n",
    "            print( resp.reason )\n",
    "            print( resp.request.headers )\n",
    "    \n",
    "    return resp"
   ]
  },
  {
   "cell_type": "code",
   "execution_count": 2,
   "metadata": {},
   "outputs": [
    {
     "name": "stdout",
     "output_type": "stream",
     "text": [
      "408\n",
      "REQUEST_TIMEOUT\n",
      "{'Accept': '*/*', 'User-Agent': 'python-requests/2.19.1', 'Accept-Encoding': 'gzip, deflate', 'Connection': 'keep-alive'}\n"
     ]
    },
    {
     "data": {
      "text/plain": [
       "<Response [408]>"
      ]
     },
     "execution_count": 2,
     "metadata": {},
     "output_type": "execute_result"
    }
   ],
   "source": [
    "url = 'http://www.crawler-test.com/status_codes/status_100'\n",
    "getDownload( url )"
   ]
  },
  {
   "cell_type": "code",
   "execution_count": 3,
   "metadata": {},
   "outputs": [
    {
     "data": {
      "text/plain": [
       "<Response [200]>"
      ]
     },
     "execution_count": 3,
     "metadata": {},
     "output_type": "execute_result"
    }
   ],
   "source": [
    "url = 'http://www.crawler-test.com/status_codes/status_200'\n",
    "getDownload( url )"
   ]
  },
  {
   "cell_type": "code",
   "execution_count": 4,
   "metadata": {},
   "outputs": [
    {
     "name": "stdout",
     "output_type": "stream",
     "text": [
      "404\n",
      "Not Found\n",
      "{'Accept': '*/*', 'User-Agent': 'python-requests/2.19.1', 'Accept-Encoding': 'gzip, deflate', 'Connection': 'keep-alive'}\n"
     ]
    },
    {
     "data": {
      "text/plain": [
       "<Response [404]>"
      ]
     },
     "execution_count": 4,
     "metadata": {},
     "output_type": "execute_result"
    }
   ],
   "source": [
    "url = 'http://www.crawler-test.com/status_codes/status_300'\n",
    "getDownload( url )"
   ]
  },
  {
   "cell_type": "code",
   "execution_count": 5,
   "metadata": {},
   "outputs": [
    {
     "name": "stdout",
     "output_type": "stream",
     "text": [
      "400\n",
      "Bad Request\n",
      "{'Accept': '*/*', 'User-Agent': 'python-requests/2.19.1', 'Accept-Encoding': 'gzip, deflate', 'Connection': 'keep-alive'}\n"
     ]
    },
    {
     "data": {
      "text/plain": [
       "<Response [400]>"
      ]
     },
     "execution_count": 5,
     "metadata": {},
     "output_type": "execute_result"
    }
   ],
   "source": [
    "url = 'http://www.crawler-test.com/status_codes/status_400'\n",
    "getDownload( url )"
   ]
  },
  {
   "cell_type": "code",
   "execution_count": 6,
   "metadata": {},
   "outputs": [
    {
     "name": "stdout",
     "output_type": "stream",
     "text": [
      "Retries : 3\n",
      "Retries : 2\n",
      "Retries : 1\n",
      "500\n",
      "Internal Server Error\n",
      "{'Accept': '*/*', 'User-Agent': 'python-requests/2.19.1', 'Accept-Encoding': 'gzip, deflate', 'Connection': 'keep-alive'}\n"
     ]
    },
    {
     "data": {
      "text/plain": [
       "<Response [500]>"
      ]
     },
     "execution_count": 6,
     "metadata": {},
     "output_type": "execute_result"
    }
   ],
   "source": [
    "url = 'http://www.crawler-test.com/status_codes/status_500'\n",
    "getDownload( url )"
   ]
  },
  {
   "cell_type": "code",
   "execution_count": 7,
   "metadata": {},
   "outputs": [],
   "source": [
    "import requests\n",
    "\n",
    "def postDownload( url, data = None, retries = 3 ):\n",
    "    resp = None\n",
    "    \n",
    "    try:\n",
    "        resp = requests.post( url, data = data, params = param ) #, headers = header )\n",
    "        resp.raise_for_status()\n",
    "    except requests.exceptions.HTTPError as e:\n",
    "        if 500 <= resp.status_code < 600 and retries > 0:\n",
    "            print( 'Retries : {0}'.format( retries ) )\n",
    "            return getDownload( url, data, retries - 1 )\n",
    "        else:\n",
    "            print( resp.status_code )\n",
    "            print( resp.reason )\n",
    "            print( resp.request.headers )\n",
    "    \n",
    "    return resp"
   ]
  },
  {
   "cell_type": "code",
   "execution_count": 8,
   "metadata": {},
   "outputs": [],
   "source": [
    "url = 'http://pythonscraping.com/pages/files/processing.php' \n",
    "data = { 'firstname':'테스트', 'lastname':1234 }"
   ]
  },
  {
   "cell_type": "code",
   "execution_count": 9,
   "metadata": {},
   "outputs": [
    {
     "name": "stdout",
     "output_type": "stream",
     "text": [
      "lastname=1234&firstname=%ED%85%8C%EC%8A%A4%ED%8A%B8\n",
      "{'Accept': '*/*', 'Content-Type': 'application/x-www-form-urlencoded', 'User-Agent': 'python-requests/2.19.1', 'Accept-Encoding': 'gzip, deflate', 'Connection': 'keep-alive', 'Content-Length': '51'}\n"
     ]
    },
    {
     "data": {
      "text/plain": [
       "'Hello there, 테스트 1234!'"
      ]
     },
     "execution_count": 9,
     "metadata": {},
     "output_type": "execute_result"
    }
   ],
   "source": [
    "html = postDownload( url, data )\n",
    "\n",
    "print( html.request.body )\n",
    "print( html.request.headers )\n",
    "\n",
    "html.text"
   ]
  },
  {
   "cell_type": "code",
   "execution_count": 13,
   "metadata": {},
   "outputs": [],
   "source": [
    "# Cookie"
   ]
  },
  {
   "cell_type": "code",
   "execution_count": 10,
   "metadata": {},
   "outputs": [],
   "source": [
    "import requests\n",
    "\n",
    "def postDownloadCookie( url, data = None, cookie = None, retries = 3 ):\n",
    "    resp = None\n",
    "    \n",
    "    try:\n",
    "        resp = requests.post( url, data = data, cookies = cookie , params = param ) #, headers = header )\n",
    "        resp.raise_for_status()\n",
    "    except requests.exceptions.HTTPError as e:\n",
    "        if 500 <= resp.status_code < 600 and retries > 0:\n",
    "            print( 'Retries : {0}'.format( retries ) )\n",
    "            return getDownload( url, data, cookie, retries - 1 )\n",
    "        else:\n",
    "            print( resp.status_code )\n",
    "            print( resp.reason )\n",
    "            print( resp.request.headers )\n",
    "    \n",
    "    return resp"
   ]
  },
  {
   "cell_type": "code",
   "execution_count": 11,
   "metadata": {},
   "outputs": [],
   "source": [
    "url = 'http://pythonscraping.com/pages/cookies/login.php'\n",
    "data = { 'username':'test', 'password':'password' }"
   ]
  },
  {
   "cell_type": "code",
   "execution_count": 12,
   "metadata": {},
   "outputs": [
    {
     "name": "stdout",
     "output_type": "stream",
     "text": [
      "404\n",
      "Not Found\n",
      "{'Accept': '*/*', 'Content-Type': 'application/x-www-form-urlencoded', 'User-Agent': 'python-requests/2.19.1', 'Accept-Encoding': 'gzip, deflate', 'Connection': 'keep-alive', 'Content-Length': '31'}\n"
     ]
    },
    {
     "data": {
      "text/plain": [
       "'<!DOCTYPE html PUBLIC \"-//W3C//DTD XHTML+RDFa 1.0//EN\"\\n  \"http://www.w3.org/MarkUp/DTD/xhtml-rdfa-1.dtd\">\\n<html xmlns=\"http://www.w3.org/1999/xhtml\" xml:lang=\"en\" version=\"XHTML+RDFa 1.0\" dir=\"ltr\"\\n  xmlns:content=\"http://purl.org/rss/1.0/modules/content/\"\\n  xmlns:dc=\"http://purl.org/dc/terms/\"\\n  xmlns:foaf=\"http://xmlns.com/foaf/0.1/\"\\n  xmlns:og=\"http://ogp.me/ns#\"\\n  xmlns:rdfs=\"http://www.w3.org/2000/01/rdf-schema#\"\\n  xmlns:sioc=\"http://rdfs.org/sioc/ns#\"\\n  xmlns:sioct=\"http://rdfs.org/sioc/types#\"\\n  xmlns:skos=\"http://www.w3.org/2004/02/skos/core#\"\\n  xmlns:xsd=\"http://www.w3.org/2001/XMLSchema#\">\\n\\n<head profile=\"http://www.w3.org/1999/xhtml/vocab\">\\n  <meta charset=\"utf-8\" />\\n<link rel=\"shortcut icon\" href=\"http://pythonscraping.com/misc/favicon.ico\" type=\"image/vnd.microsoft.icon\" />\\n<meta name=\"viewport\" content=\"width=device-width, initial-scale=1\" />\\n<meta name=\"MobileOptimized\" content=\"width\" />\\n<meta name=\"Generator\" content=\"Drupal 7 (http://drupal.org)\" />\\n<meta name=\"HandheldFriendly\" content=\"true\" />\\n  <title>Page not found | Web Scraping with Python</title>\\n  <style type=\"text/css\" media=\"all\">\\n@import url(\"http://pythonscraping.com/modules/system/system.base.css?q4na2g\");\\n@import url(\"http://pythonscraping.com/modules/system/system.menus.css?q4na2g\");\\n@import url(\"http://pythonscraping.com/modules/system/system.messages.css?q4na2g\");\\n@import url(\"http://pythonscraping.com/modules/system/system.theme.css?q4na2g\");\\n</style>\\n<style type=\"text/css\" media=\"all\">\\n@import url(\"http://pythonscraping.com/modules/comment/comment.css?q4na2g\");\\n@import url(\"http://pythonscraping.com/modules/field/theme/field.css?q4na2g\");\\n@import url(\"http://pythonscraping.com/modules/node/node.css?q4na2g\");\\n@import url(\"http://pythonscraping.com/modules/search/search.css?q4na2g\");\\n@import url(\"http://pythonscraping.com/modules/user/user.css?q4na2g\");\\n@import url(\"http://pythonscraping.com/sites/all/modules/views/css/views.css?q4na2g\");\\n@import url(\"http://pythonscraping.com/sites/all/modules/ckeditor/css/ckeditor.css?q4na2g\");\\n</style>\\n<style type=\"text/css\" media=\"all\">\\n@import url(\"http://pythonscraping.com/sites/all/modules/ctools/css/ctools.css?q4na2g\");\\n</style>\\n<style type=\"text/css\" media=\"all\">\\n@import url(\"http://pythonscraping.com/sites/all/themes/skeletontheme/css/skeleton.css?q4na2g\");\\n@import url(\"http://pythonscraping.com/sites/all/themes/skeletontheme/css/style.css?q4na2g\");\\n@import url(\"http://pythonscraping.com/sites/all/themes/skeletontheme/css/buttons.css?q4na2g\");\\n@import url(\"http://pythonscraping.com/sites/all/themes/skeletontheme/css/layout.css?q4na2g\");\\n@import url(\"http://pythonscraping.com/sites/all/themes/skeletontheme/color/colors.css?q4na2g\");\\n</style>\\n  <script type=\"text/javascript\" src=\"http://pythonscraping.com/misc/jquery.js?v=1.4.4\"></script>\\n<script type=\"text/javascript\" src=\"http://pythonscraping.com/misc/jquery.once.js?v=1.2\"></script>\\n<script type=\"text/javascript\" src=\"http://pythonscraping.com/misc/drupal.js?q4na2g\"></script>\\n<script type=\"text/javascript\" src=\"http://pythonscraping.com/sites/all/themes/skeletontheme/js/jquery.mobilemenu.js?q4na2g\"></script>\\n<script type=\"text/javascript\">\\n<!--//--><![CDATA[//><!--\\njQuery(document).ready(function($) { \\r\\n\\t\\r\\n\\t$(\"#navigation .content > ul\").mobileMenu({\\r\\n\\t\\tprependTo: \"#navigation\",\\r\\n\\t\\tcombine: false,\\r\\n        switchWidth: 760,\\r\\n        topOptionText: Drupal.settings.skeletontheme[\\'topoptiontext\\']\\r\\n\\t});\\r\\n\\t\\r\\n\\t});\\n//--><!]]>\\n</script>\\n<script type=\"text/javascript\" src=\"http://pythonscraping.com/sites/all/modules/google_analytics/googleanalytics.js?q4na2g\"></script>\\n<script type=\"text/javascript\">\\n<!--//--><![CDATA[//><!--\\n(function(i,s,o,g,r,a,m){i[\"GoogleAnalyticsObject\"]=r;i[r]=i[r]||function(){(i[r].q=i[r].q||[]).push(arguments)},i[r].l=1*new Date();a=s.createElement(o),m=s.getElementsByTagName(o)[0];a.async=1;a.src=g;m.parentNode.insertBefore(a,m)})(window,document,\"script\",\"https://www.google-analytics.com/analytics.js\",\"ga\");ga(\"create\", \"UA-57871098-1\", {\"cookieDomain\":\"auto\"});ga(\"set\", \"anonymizeIp\", true);ga(\"set\", \"page\", \"/404.html?page=\" + document.location.pathname + document.location.search + \"&from=\" + document.referrer);ga(\"send\", \"pageview\");\\n//--><!]]>\\n</script>\\n<script type=\"text/javascript\">\\n<!--//--><![CDATA[//><!--\\njQuery.extend(Drupal.settings, {\"basePath\":\"\\\\/\",\"pathPrefix\":\"\",\"skeletontheme\":{\"topoptiontext\":\"Select a page\"},\"ajaxPageState\":{\"theme\":\"skeletontheme\",\"theme_token\":\"EU1YwCjb88QrtVGuws5eDdf5xGGXJTDPDxXlqMvcbzw\",\"js\":{\"misc\\\\/jquery.js\":1,\"misc\\\\/jquery.once.js\":1,\"misc\\\\/drupal.js\":1,\"sites\\\\/all\\\\/themes\\\\/skeletontheme\\\\/js\\\\/jquery.mobilemenu.js\":1,\"0\":1,\"sites\\\\/all\\\\/modules\\\\/google_analytics\\\\/googleanalytics.js\":1,\"1\":1},\"css\":{\"modules\\\\/system\\\\/system.base.css\":1,\"modules\\\\/system\\\\/system.menus.css\":1,\"modules\\\\/system\\\\/system.messages.css\":1,\"modules\\\\/system\\\\/system.theme.css\":1,\"modules\\\\/comment\\\\/comment.css\":1,\"modules\\\\/field\\\\/theme\\\\/field.css\":1,\"modules\\\\/node\\\\/node.css\":1,\"modules\\\\/search\\\\/search.css\":1,\"modules\\\\/user\\\\/user.css\":1,\"sites\\\\/all\\\\/modules\\\\/views\\\\/css\\\\/views.css\":1,\"sites\\\\/all\\\\/modules\\\\/ckeditor\\\\/css\\\\/ckeditor.css\":1,\"sites\\\\/all\\\\/modules\\\\/ctools\\\\/css\\\\/ctools.css\":1,\"sites\\\\/all\\\\/themes\\\\/skeletontheme\\\\/css\\\\/skeleton.css\":1,\"sites\\\\/all\\\\/themes\\\\/skeletontheme\\\\/css\\\\/style.css\":1,\"sites\\\\/all\\\\/themes\\\\/skeletontheme\\\\/css\\\\/buttons.css\":1,\"sites\\\\/all\\\\/themes\\\\/skeletontheme\\\\/css\\\\/layout.css\":1,\"sites\\\\/all\\\\/themes\\\\/skeletontheme\\\\/color\\\\/colors.css\":1}},\"googleanalytics\":{\"trackOutbound\":1,\"trackMailto\":1,\"trackDownload\":1,\"trackDownloadExtensions\":\"7z|aac|arc|arj|asf|asx|avi|bin|csv|doc(x|m)?|dot(x|m)?|exe|flv|gif|gz|gzip|hqx|jar|jpe?g|js|mp(2|3|4|e?g)|mov(ie)?|msi|msp|pdf|phps|png|ppt(x|m)?|pot(x|m)?|pps(x|m)?|ppam|sld(x|m)?|thmx|qtm?|ra(m|r)?|sea|sit|tar|tgz|torrent|txt|wav|wma|wmv|wpd|xls(x|m|b)?|xlt(x|m)|xlam|xml|z|zip\"}});\\n//--><!]]>\\n</script>\\n</head>\\n<body class=\"html not-front not-logged-in one-sidebar sidebar-first page-pages page-pages-cookies page-pages-cookies-loginphp\" >\\n  <div id=\"skip-link\">\\n    <a href=\"#main-content\" class=\"element-invisible element-focusable\">Skip to main content</a>\\n  </div>\\n    <div id=\"wrap\">\\n    <div class=\"container\">\\n        \\n                \\n        <div class=\"clear\"></div>\\n        \\n        <!-- #header -->\\n                <div id=\"header\" class=\"sixteen columns clearfix\">   \\n                \\n            <div class=\"inner\">\\n    \\n                                  <a href=\"/\" title=\"Home\" rel=\"home\" id=\"logo\">\\n                    <img src=\"http://pythonscraping.com/sites/default/files/lrg_0.jpg\" alt=\"Home\" />\\n                  </a>\\n                                \\n                                <div id=\"name-and-slogan\">\\n                \\n                                        <div id=\"site-name\">\\n                    <a href=\"/\" title=\"Home\" rel=\"home\">Web Scraping with Python</a>\\n                    </div>\\n                                        \\n                                    \\n                </div>\\n                            </div>\\n        </div><!-- /#header -->\\n        \\n                \\n        <div class=\"clear\"></div>\\n        \\n        <!-- #navigation -->\\n        <div id=\"navigation\" class=\"sixteen columns clearfix\">\\n        \\n            <div class=\"menu-header\">\\n                            \\t\\t\\t\\t<div class=\"content\">\\n\\t\\t\\t\\t                </div>\\n                        </div>\\n            \\n        </div><!-- /#navigation -->\\n        \\n                <!-- #sidebar-first -->\\n        <div id=\"sidebar-first\" class=\"five columns\">\\n              <div class=\"region region-sidebar-first\">\\n    <div id=\"block-block-1\" class=\"block block-block\">\\n\\n    <h2>Buy WsWP from O&#039;Reilly</h2>\\n  \\n  <div class=\"content\">\\n    <p><a href=\"http://shop.oreilly.com/product/0636920078067.do\" target=\"_blank\"><img src=\"https://covers.oreillystatic.com/images/0636920078067/lrg.jpg\" style=\"max-width:200px;\" /></a></p>\\n  </div>\\n</div>\\n  </div>\\n        </div><!-- /#sidebar-first -->\\n                \\n                <div id=\"content\" class=\"eleven columns\">\\n\\t\\t        \\n                    \\n                        \\n            <div id=\"main\">\\n            \\n                                \\n                                \\n                                <h1 class=\"title\" id=\"page-title\">\\n                  Page not found                </h1>\\n                                \\n                                \\n                                <div class=\"tabs\">\\n                                  </div>\\n                                \\n                                \\n                                \\n                  <div class=\"region region-content\">\\n    <div id=\"block-system-main\" class=\"block block-system\">\\n\\n    \\n  <div class=\"content\">\\n    The requested page \"/pages/cookies/login.php\" could not be found.  </div>\\n</div>\\n  </div>\\n                                \\n            </div>\\n        \\n        </div><!-- /#content -->\\n        \\n                \\n        <div class=\"clear\"></div>\\n        \\n                \\n\\t</div>\\n        \\n\\t<div id=\"footer\" >\\n        <div class=\"container\">\\n        \\t<div class=\"sixteen columns clearfix\">\\n        \\n                <div class=\"one_third\">\\n                                </div>\\n                \\n                <div class=\"one_third\">\\n                                </div>\\n                \\n                <div class=\"one_third last\">\\n                                </div>\\n        \\n                <div class=\"clear\"></div>\\n                \\n                                \\n                <div class=\"clear\"></div>\\n                \\n                <div id=\"credits\">\\n                2020                                 Web Scraping with Python<br/>\\n                                &copy; Ryan Mitchell, All Rights Reserved. For questions about reproduction or use of any material on this site, please contact ryan.e.mitchell@gmail.com\\n                </div>\\n        \\t</div>\\n        </div>\\n    </div>\\n    \\n</div> <!-- /#wrap -->  </body>\\n</html>\\n'"
      ]
     },
     "execution_count": 12,
     "metadata": {},
     "output_type": "execute_result"
    }
   ],
   "source": [
    "html = postDownload( url, data )\n",
    "cookie = html.cookies.get_dict()\n",
    "\n",
    "html = requests.post( url, cookies = cookie )\n",
    "html.text"
   ]
  },
  {
   "cell_type": "code",
   "execution_count": 13,
   "metadata": {},
   "outputs": [
    {
     "data": {
      "text/plain": [
       "'<!DOCTYPE html PUBLIC \"-//W3C//DTD XHTML+RDFa 1.0//EN\"\\n  \"http://www.w3.org/MarkUp/DTD/xhtml-rdfa-1.dtd\">\\n<html xmlns=\"http://www.w3.org/1999/xhtml\" xml:lang=\"en\" version=\"XHTML+RDFa 1.0\" dir=\"ltr\"\\n  xmlns:content=\"http://purl.org/rss/1.0/modules/content/\"\\n  xmlns:dc=\"http://purl.org/dc/terms/\"\\n  xmlns:foaf=\"http://xmlns.com/foaf/0.1/\"\\n  xmlns:og=\"http://ogp.me/ns#\"\\n  xmlns:rdfs=\"http://www.w3.org/2000/01/rdf-schema#\"\\n  xmlns:sioc=\"http://rdfs.org/sioc/ns#\"\\n  xmlns:sioct=\"http://rdfs.org/sioc/types#\"\\n  xmlns:skos=\"http://www.w3.org/2004/02/skos/core#\"\\n  xmlns:xsd=\"http://www.w3.org/2001/XMLSchema#\">\\n\\n<head profile=\"http://www.w3.org/1999/xhtml/vocab\">\\n  <meta charset=\"utf-8\" />\\n<link rel=\"shortcut icon\" href=\"http://pythonscraping.com/misc/favicon.ico\" type=\"image/vnd.microsoft.icon\" />\\n<meta name=\"viewport\" content=\"width=device-width, initial-scale=1\" />\\n<meta name=\"MobileOptimized\" content=\"width\" />\\n<meta name=\"Generator\" content=\"Drupal 7 (http://drupal.org)\" />\\n<meta name=\"HandheldFriendly\" content=\"true\" />\\n  <title>Page not found | Web Scraping with Python</title>\\n  <style type=\"text/css\" media=\"all\">\\n@import url(\"http://pythonscraping.com/modules/system/system.base.css?q4na2g\");\\n@import url(\"http://pythonscraping.com/modules/system/system.menus.css?q4na2g\");\\n@import url(\"http://pythonscraping.com/modules/system/system.messages.css?q4na2g\");\\n@import url(\"http://pythonscraping.com/modules/system/system.theme.css?q4na2g\");\\n</style>\\n<style type=\"text/css\" media=\"all\">\\n@import url(\"http://pythonscraping.com/modules/comment/comment.css?q4na2g\");\\n@import url(\"http://pythonscraping.com/modules/field/theme/field.css?q4na2g\");\\n@import url(\"http://pythonscraping.com/modules/node/node.css?q4na2g\");\\n@import url(\"http://pythonscraping.com/modules/search/search.css?q4na2g\");\\n@import url(\"http://pythonscraping.com/modules/user/user.css?q4na2g\");\\n@import url(\"http://pythonscraping.com/sites/all/modules/views/css/views.css?q4na2g\");\\n@import url(\"http://pythonscraping.com/sites/all/modules/ckeditor/css/ckeditor.css?q4na2g\");\\n</style>\\n<style type=\"text/css\" media=\"all\">\\n@import url(\"http://pythonscraping.com/sites/all/modules/ctools/css/ctools.css?q4na2g\");\\n</style>\\n<style type=\"text/css\" media=\"all\">\\n@import url(\"http://pythonscraping.com/sites/all/themes/skeletontheme/css/skeleton.css?q4na2g\");\\n@import url(\"http://pythonscraping.com/sites/all/themes/skeletontheme/css/style.css?q4na2g\");\\n@import url(\"http://pythonscraping.com/sites/all/themes/skeletontheme/css/buttons.css?q4na2g\");\\n@import url(\"http://pythonscraping.com/sites/all/themes/skeletontheme/css/layout.css?q4na2g\");\\n@import url(\"http://pythonscraping.com/sites/all/themes/skeletontheme/color/colors.css?q4na2g\");\\n</style>\\n  <script type=\"text/javascript\" src=\"http://pythonscraping.com/misc/jquery.js?v=1.4.4\"></script>\\n<script type=\"text/javascript\" src=\"http://pythonscraping.com/misc/jquery.once.js?v=1.2\"></script>\\n<script type=\"text/javascript\" src=\"http://pythonscraping.com/misc/drupal.js?q4na2g\"></script>\\n<script type=\"text/javascript\" src=\"http://pythonscraping.com/sites/all/themes/skeletontheme/js/jquery.mobilemenu.js?q4na2g\"></script>\\n<script type=\"text/javascript\">\\n<!--//--><![CDATA[//><!--\\njQuery(document).ready(function($) { \\r\\n\\t\\r\\n\\t$(\"#navigation .content > ul\").mobileMenu({\\r\\n\\t\\tprependTo: \"#navigation\",\\r\\n\\t\\tcombine: false,\\r\\n        switchWidth: 760,\\r\\n        topOptionText: Drupal.settings.skeletontheme[\\'topoptiontext\\']\\r\\n\\t});\\r\\n\\t\\r\\n\\t});\\n//--><!]]>\\n</script>\\n<script type=\"text/javascript\" src=\"http://pythonscraping.com/sites/all/modules/google_analytics/googleanalytics.js?q4na2g\"></script>\\n<script type=\"text/javascript\">\\n<!--//--><![CDATA[//><!--\\n(function(i,s,o,g,r,a,m){i[\"GoogleAnalyticsObject\"]=r;i[r]=i[r]||function(){(i[r].q=i[r].q||[]).push(arguments)},i[r].l=1*new Date();a=s.createElement(o),m=s.getElementsByTagName(o)[0];a.async=1;a.src=g;m.parentNode.insertBefore(a,m)})(window,document,\"script\",\"https://www.google-analytics.com/analytics.js\",\"ga\");ga(\"create\", \"UA-57871098-1\", {\"cookieDomain\":\"auto\"});ga(\"set\", \"anonymizeIp\", true);ga(\"set\", \"page\", \"/404.html?page=\" + document.location.pathname + document.location.search + \"&from=\" + document.referrer);ga(\"send\", \"pageview\");\\n//--><!]]>\\n</script>\\n<script type=\"text/javascript\">\\n<!--//--><![CDATA[//><!--\\njQuery.extend(Drupal.settings, {\"basePath\":\"\\\\/\",\"pathPrefix\":\"\",\"skeletontheme\":{\"topoptiontext\":\"Select a page\"},\"ajaxPageState\":{\"theme\":\"skeletontheme\",\"theme_token\":\"4ssxqxDS7ftnf9OHvj7TBe0PTUsPWqlkbXR7M6NXehc\",\"js\":{\"misc\\\\/jquery.js\":1,\"misc\\\\/jquery.once.js\":1,\"misc\\\\/drupal.js\":1,\"sites\\\\/all\\\\/themes\\\\/skeletontheme\\\\/js\\\\/jquery.mobilemenu.js\":1,\"0\":1,\"sites\\\\/all\\\\/modules\\\\/google_analytics\\\\/googleanalytics.js\":1,\"1\":1},\"css\":{\"modules\\\\/system\\\\/system.base.css\":1,\"modules\\\\/system\\\\/system.menus.css\":1,\"modules\\\\/system\\\\/system.messages.css\":1,\"modules\\\\/system\\\\/system.theme.css\":1,\"modules\\\\/comment\\\\/comment.css\":1,\"modules\\\\/field\\\\/theme\\\\/field.css\":1,\"modules\\\\/node\\\\/node.css\":1,\"modules\\\\/search\\\\/search.css\":1,\"modules\\\\/user\\\\/user.css\":1,\"sites\\\\/all\\\\/modules\\\\/views\\\\/css\\\\/views.css\":1,\"sites\\\\/all\\\\/modules\\\\/ckeditor\\\\/css\\\\/ckeditor.css\":1,\"sites\\\\/all\\\\/modules\\\\/ctools\\\\/css\\\\/ctools.css\":1,\"sites\\\\/all\\\\/themes\\\\/skeletontheme\\\\/css\\\\/skeleton.css\":1,\"sites\\\\/all\\\\/themes\\\\/skeletontheme\\\\/css\\\\/style.css\":1,\"sites\\\\/all\\\\/themes\\\\/skeletontheme\\\\/css\\\\/buttons.css\":1,\"sites\\\\/all\\\\/themes\\\\/skeletontheme\\\\/css\\\\/layout.css\":1,\"sites\\\\/all\\\\/themes\\\\/skeletontheme\\\\/color\\\\/colors.css\":1}},\"googleanalytics\":{\"trackOutbound\":1,\"trackMailto\":1,\"trackDownload\":1,\"trackDownloadExtensions\":\"7z|aac|arc|arj|asf|asx|avi|bin|csv|doc(x|m)?|dot(x|m)?|exe|flv|gif|gz|gzip|hqx|jar|jpe?g|js|mp(2|3|4|e?g)|mov(ie)?|msi|msp|pdf|phps|png|ppt(x|m)?|pot(x|m)?|pps(x|m)?|ppam|sld(x|m)?|thmx|qtm?|ra(m|r)?|sea|sit|tar|tgz|torrent|txt|wav|wma|wmv|wpd|xls(x|m|b)?|xlt(x|m)|xlam|xml|z|zip\"}});\\n//--><!]]>\\n</script>\\n</head>\\n<body class=\"html not-front not-logged-in one-sidebar sidebar-first page-pages page-pages-cookies page-pages-cookies-loginphp\" >\\n  <div id=\"skip-link\">\\n    <a href=\"#main-content\" class=\"element-invisible element-focusable\">Skip to main content</a>\\n  </div>\\n    <div id=\"wrap\">\\n    <div class=\"container\">\\n        \\n                \\n        <div class=\"clear\"></div>\\n        \\n        <!-- #header -->\\n                <div id=\"header\" class=\"sixteen columns clearfix\">   \\n                \\n            <div class=\"inner\">\\n    \\n                                  <a href=\"/\" title=\"Home\" rel=\"home\" id=\"logo\">\\n                    <img src=\"http://pythonscraping.com/sites/default/files/lrg_0.jpg\" alt=\"Home\" />\\n                  </a>\\n                                \\n                                <div id=\"name-and-slogan\">\\n                \\n                                        <div id=\"site-name\">\\n                    <a href=\"/\" title=\"Home\" rel=\"home\">Web Scraping with Python</a>\\n                    </div>\\n                                        \\n                                    \\n                </div>\\n                            </div>\\n        </div><!-- /#header -->\\n        \\n                \\n        <div class=\"clear\"></div>\\n        \\n        <!-- #navigation -->\\n        <div id=\"navigation\" class=\"sixteen columns clearfix\">\\n        \\n            <div class=\"menu-header\">\\n                            \\t\\t\\t\\t<div class=\"content\">\\n\\t\\t\\t\\t                </div>\\n                        </div>\\n            \\n        </div><!-- /#navigation -->\\n        \\n                <!-- #sidebar-first -->\\n        <div id=\"sidebar-first\" class=\"five columns\">\\n              <div class=\"region region-sidebar-first\">\\n    <div id=\"block-block-1\" class=\"block block-block\">\\n\\n    <h2>Buy WsWP from O&#039;Reilly</h2>\\n  \\n  <div class=\"content\">\\n    <p><a href=\"http://shop.oreilly.com/product/0636920078067.do\" target=\"_blank\"><img src=\"https://covers.oreillystatic.com/images/0636920078067/lrg.jpg\" style=\"max-width:200px;\" /></a></p>\\n  </div>\\n</div>\\n  </div>\\n        </div><!-- /#sidebar-first -->\\n                \\n                <div id=\"content\" class=\"eleven columns\">\\n\\t\\t        \\n                    \\n                        \\n            <div id=\"main\">\\n            \\n                                \\n                                \\n                                <h1 class=\"title\" id=\"page-title\">\\n                  Page not found                </h1>\\n                                \\n                                \\n                                <div class=\"tabs\">\\n                                  </div>\\n                                \\n                                \\n                                \\n                  <div class=\"region region-content\">\\n    <div id=\"block-system-main\" class=\"block block-system\">\\n\\n    \\n  <div class=\"content\">\\n    The requested page \"/pages/cookies/login.php\" could not be found.  </div>\\n</div>\\n  </div>\\n                                \\n            </div>\\n        \\n        </div><!-- /#content -->\\n        \\n                \\n        <div class=\"clear\"></div>\\n        \\n                \\n\\t</div>\\n        \\n\\t<div id=\"footer\" >\\n        <div class=\"container\">\\n        \\t<div class=\"sixteen columns clearfix\">\\n        \\n                <div class=\"one_third\">\\n                                </div>\\n                \\n                <div class=\"one_third\">\\n                                </div>\\n                \\n                <div class=\"one_third last\">\\n                                </div>\\n        \\n                <div class=\"clear\"></div>\\n                \\n                                \\n                <div class=\"clear\"></div>\\n                \\n                <div id=\"credits\">\\n                2020                                 Web Scraping with Python<br/>\\n                                &copy; Ryan Mitchell, All Rights Reserved. For questions about reproduction or use of any material on this site, please contact ryan.e.mitchell@gmail.com\\n                </div>\\n        \\t</div>\\n        </div>\\n    </div>\\n    \\n</div> <!-- /#wrap -->  </body>\\n</html>\\n'"
      ]
     },
     "execution_count": 13,
     "metadata": {},
     "output_type": "execute_result"
    }
   ],
   "source": [
    "session = requests.Session()\n",
    "data = { 'username':'test', 'password':'password' }\n",
    "\n",
    "html = session.post( url, data )\n",
    "\n",
    "html = session.post( url )\n",
    "html.text"
   ]
  },
  {
   "cell_type": "code",
   "execution_count": 27,
   "metadata": {},
   "outputs": [],
   "source": [
    "# HTML - BeautifulSoup"
   ]
  },
  {
   "cell_type": "code",
   "execution_count": 28,
   "metadata": {},
   "outputs": [
    {
     "name": "stdout",
     "output_type": "stream",
     "text": [
      "Collecting package metadata (current_repodata.json): ...working... done\n",
      "Solving environment: ...working... done\n",
      "\n",
      "# All requested packages already installed.\n",
      "\n"
     ]
    },
    {
     "name": "stderr",
     "output_type": "stream",
     "text": [
      "\n",
      "\n",
      "==> WARNING: A newer version of conda exists. <==\n",
      "  current version: 4.7.11\n",
      "  latest version: 4.8.1\n",
      "\n",
      "Please update conda by running\n",
      "\n",
      "    $ conda update -n base -c defaults conda\n",
      "\n",
      "\n"
     ]
    }
   ],
   "source": [
    "!conda install beautifulsoup4"
   ]
  },
  {
   "cell_type": "code",
   "execution_count": 14,
   "metadata": {},
   "outputs": [],
   "source": [
    "from bs4 import BeautifulSoup"
   ]
  },
  {
   "cell_type": "code",
   "execution_count": 15,
   "metadata": {},
   "outputs": [],
   "source": [
    "html = '''\n",
    "<!DOCTYPE html>\n",
    "<html>\n",
    "    <head>\n",
    "        <meta charset=\"utf-8\">\n",
    "        <title>Beautiful Soup Training</title>\n",
    "    </head>\n",
    "    <body>\n",
    "        <div id=\"result\">\n",
    "            <p class=\"row\">\n",
    "                <a class=\"red\">Go to page1</a>\n",
    "                <a class=\"blue\">Go to page2</a>\n",
    "                <b class=\"green\">Go to page3</a>\n",
    "                <a class=\"red\">Go to page4</a>\n",
    "                <c class=\"yellow\">Go to page4</a>\n",
    "                <d id=\"gray\">Go to page5</a>\n",
    "                <e id=\"red\">Go to page6</a>\n",
    "            </p>\n",
    "        </div>\n",
    "    </body>\n",
    "</html>\n",
    "'''"
   ]
  },
  {
   "cell_type": "code",
   "execution_count": 16,
   "metadata": {},
   "outputs": [],
   "source": [
    "dom = BeautifulSoup( html, \"lxml\" )"
   ]
  },
  {
   "cell_type": "code",
   "execution_count": 17,
   "metadata": {},
   "outputs": [
    {
     "data": {
      "text/plain": [
       "<!DOCTYPE html>\n",
       "<html>\n",
       "<head>\n",
       "<meta charset=\"utf-8\"/>\n",
       "<title>Beautiful Soup Training</title>\n",
       "</head>\n",
       "<body>\n",
       "<div id=\"result\">\n",
       "<p class=\"row\">\n",
       "<a class=\"red\">Go to page1</a>\n",
       "<a class=\"blue\">Go to page2</a>\n",
       "<b class=\"green\">Go to page3\n",
       "                <a class=\"red\">Go to page4</a>\n",
       "<c class=\"yellow\">Go to page4\n",
       "                <d id=\"gray\">Go to page5\n",
       "                <e id=\"red\">Go to page6\n",
       "            </e></d></c></b></p>\n",
       "</div>\n",
       "</body>\n",
       "</html>"
      ]
     },
     "execution_count": 17,
     "metadata": {},
     "output_type": "execute_result"
    }
   ],
   "source": [
    "dom"
   ]
  },
  {
   "cell_type": "code",
   "execution_count": null,
   "metadata": {},
   "outputs": [],
   "source": [
    "# find() / find_all() - tag"
   ]
  },
  {
   "cell_type": "code",
   "execution_count": 18,
   "metadata": {},
   "outputs": [
    {
     "data": {
      "text/plain": [
       "<a class=\"red\">Go to page1</a>"
      ]
     },
     "execution_count": 18,
     "metadata": {},
     "output_type": "execute_result"
    }
   ],
   "source": [
    "dom.find( 'a' )"
   ]
  },
  {
   "cell_type": "code",
   "execution_count": 19,
   "metadata": {},
   "outputs": [
    {
     "data": {
      "text/plain": [
       "[<a class=\"red\">Go to page1</a>,\n",
       " <a class=\"blue\">Go to page2</a>,\n",
       " <a class=\"red\">Go to page4</a>]"
      ]
     },
     "execution_count": 19,
     "metadata": {},
     "output_type": "execute_result"
    }
   ],
   "source": [
    "dom.find_all( 'a' )"
   ]
  },
  {
   "cell_type": "code",
   "execution_count": 20,
   "metadata": {},
   "outputs": [],
   "source": [
    "# find() / find_all() - attribute"
   ]
  },
  {
   "cell_type": "code",
   "execution_count": 21,
   "metadata": {},
   "outputs": [
    {
     "data": {
      "text/plain": [
       "<div id=\"result\">\n",
       "<p class=\"row\">\n",
       "<a class=\"red\">Go to page1</a>\n",
       "<a class=\"blue\">Go to page2</a>\n",
       "<b class=\"green\">Go to page3\n",
       "                <a class=\"red\">Go to page4</a>\n",
       "<c class=\"yellow\">Go to page4\n",
       "                <d id=\"gray\">Go to page5\n",
       "                <e id=\"red\">Go to page6\n",
       "            </e></d></c></b></p>\n",
       "</div>"
      ]
     },
     "execution_count": 21,
     "metadata": {},
     "output_type": "execute_result"
    }
   ],
   "source": [
    "dom.find( '', { \"id\":\"result\" } )"
   ]
  },
  {
   "cell_type": "code",
   "execution_count": 22,
   "metadata": {},
   "outputs": [
    {
     "data": {
      "text/plain": [
       "[<div id=\"result\">\n",
       " <p class=\"row\">\n",
       " <a class=\"red\">Go to page1</a>\n",
       " <a class=\"blue\">Go to page2</a>\n",
       " <b class=\"green\">Go to page3\n",
       "                 <a class=\"red\">Go to page4</a>\n",
       " <c class=\"yellow\">Go to page4\n",
       "                 <d id=\"gray\">Go to page5\n",
       "                 <e id=\"red\">Go to page6\n",
       "             </e></d></c></b></p>\n",
       " </div>]"
      ]
     },
     "execution_count": 22,
     "metadata": {},
     "output_type": "execute_result"
    }
   ],
   "source": [
    "dom.find_all( '', { 'id':'result' } )"
   ]
  },
  {
   "cell_type": "code",
   "execution_count": 23,
   "metadata": {},
   "outputs": [
    {
     "data": {
      "text/plain": [
       "<a class=\"red\">Go to page1</a>"
      ]
     },
     "execution_count": 23,
     "metadata": {},
     "output_type": "execute_result"
    }
   ],
   "source": [
    "dom.find( '', { 'class':'red' } )"
   ]
  },
  {
   "cell_type": "code",
   "execution_count": 24,
   "metadata": {},
   "outputs": [
    {
     "data": {
      "text/plain": [
       "[<a class=\"red\">Go to page1</a>, <a class=\"red\">Go to page4</a>]"
      ]
     },
     "execution_count": 24,
     "metadata": {},
     "output_type": "execute_result"
    }
   ],
   "source": [
    "dom.find_all( '', { 'class':'red' } )"
   ]
  },
  {
   "cell_type": "code",
   "execution_count": 25,
   "metadata": {},
   "outputs": [],
   "source": [
    "# find() / find_all() - keyword"
   ]
  },
  {
   "cell_type": "code",
   "execution_count": 26,
   "metadata": {},
   "outputs": [
    {
     "data": {
      "text/plain": [
       "<div id=\"result\">\n",
       "<p class=\"row\">\n",
       "<a class=\"red\">Go to page1</a>\n",
       "<a class=\"blue\">Go to page2</a>\n",
       "<b class=\"green\">Go to page3\n",
       "                <a class=\"red\">Go to page4</a>\n",
       "<c class=\"yellow\">Go to page4\n",
       "                <d id=\"gray\">Go to page5\n",
       "                <e id=\"red\">Go to page6\n",
       "            </e></d></c></b></p>\n",
       "</div>"
      ]
     },
     "execution_count": 26,
     "metadata": {},
     "output_type": "execute_result"
    }
   ],
   "source": [
    "dom.find( id = 'result' )"
   ]
  },
  {
   "cell_type": "code",
   "execution_count": 27,
   "metadata": {},
   "outputs": [
    {
     "data": {
      "text/plain": [
       "[<div id=\"result\">\n",
       " <p class=\"row\">\n",
       " <a class=\"red\">Go to page1</a>\n",
       " <a class=\"blue\">Go to page2</a>\n",
       " <b class=\"green\">Go to page3\n",
       "                 <a class=\"red\">Go to page4</a>\n",
       " <c class=\"yellow\">Go to page4\n",
       "                 <d id=\"gray\">Go to page5\n",
       "                 <e id=\"red\">Go to page6\n",
       "             </e></d></c></b></p>\n",
       " </div>]"
      ]
     },
     "execution_count": 27,
     "metadata": {},
     "output_type": "execute_result"
    }
   ],
   "source": [
    "dom.find_all( id = 'result' )"
   ]
  },
  {
   "cell_type": "code",
   "execution_count": 28,
   "metadata": {},
   "outputs": [],
   "source": [
    "# HTML - BeautifulSoup Training"
   ]
  },
  {
   "cell_type": "code",
   "execution_count": 29,
   "metadata": {},
   "outputs": [
    {
     "data": {
      "text/plain": [
       "'<html>\\n<head>\\n<style>\\nimg{\\n\\twidth:75px;\\n}\\ntable{\\n\\twidth:50%;\\n}\\ntd{\\n\\tmargin:10px;\\n\\tpadding:10px;\\n}\\n.wrapper{\\n\\twidth:800px;\\n}\\n.excitingNote{\\n\\tfont-style:italic;\\n\\tfont-weight:bold;\\n}\\n</style>\\n</head>\\n<body>\\n<div id=\"wrapper\">\\n<img src=\"../img/gifts/logo.jpg\" style=\"float:left;\">\\n<h1>Totally Normal Gifts</h1>\\n<div id=\"content\">Here is a collection of totally normal, totally reasonable gifts that your friends are sure to love! Our collection is\\nhand-curated by well-paid, free-range Tibetan monks.<p>\\nWe haven\\'t figured out how to make online shopping carts yet, but you can send us a check to:<br>\\n123 Main St.<br>\\nAbuja, Nigeria\\n</br>We will then send your totally amazing gift, pronto! Please include an extra $5.00 for gift wrapping.</div>\\n<table id=\"giftList\">\\n<tr><th>\\nItem Title\\n</th><th>\\nDescription\\n</th><th>\\nCost\\n</th><th>\\nImage\\n</th></tr>\\n\\n<tr id=\"gift1\" class=\"gift\"><td>\\nVegetable Basket\\n</td><td>\\nThis vegetable basket is the perfect gift for your health conscious (or overweight) friends!\\n<span class=\"excitingNote\">Now with super-colorful bell peppers!</span>\\n</td><td>\\n$15.00\\n</td><td>\\n<img src=\"../img/gifts/img1.jpg\">\\n</td></tr>\\n\\n<tr id=\"gift2\" class=\"gift\"><td>\\nRussian Nesting Dolls\\n</td><td>\\nHand-painted by trained monkeys, these exquisite dolls are priceless! And by \"priceless,\" we mean \"extremely expensive\"! <span class=\"excitingNote\">8 entire dolls per set! Octuple the presents!</span>\\n</td><td>\\n$10,000.52\\n</td><td>\\n<img src=\"../img/gifts/img2.jpg\">\\n</td></tr>\\n\\n<tr id=\"gift3\" class=\"gift\"><td>\\nFish Painting\\n</td><td>\\nIf something seems fishy about this painting, it\\'s because it\\'s a fish! <span class=\"excitingNote\">Also hand-painted by trained monkeys!</span>\\n</td><td>\\n$10,005.00\\n</td><td>\\n<img src=\"../img/gifts/img3.jpg\">\\n</td></tr>\\n\\n<tr id=\"gift4\" class=\"gift\"><td>\\nDead Parrot\\n</td><td>\\nThis is an ex-parrot! <span class=\"excitingNote\">Or maybe he\\'s only resting?</span>\\n</td><td>\\n$0.50\\n</td><td>\\n<img src=\"../img/gifts/img4.jpg\">\\n</td></tr>\\n\\n<tr id=\"gift5\" class=\"gift\"><td>\\nMystery Box\\n</td><td>\\nIf you love suprises, this mystery box is for you! Do not place on light-colored surfaces. May cause oil staining. <span class=\"excitingNote\">Keep your friends guessing!</span>\\n</td><td>\\n$1.50\\n</td><td>\\n<img src=\"../img/gifts/img6.jpg\">\\n</td></tr>\\n</table>\\n</p>\\n<div id=\"footer\">\\n&copy; Totally Normal Gifts, Inc. <br>\\n+234 (617) 863-0736\\n</div>\\n\\n</div>\\n</body>\\n</html>\\n'"
      ]
     },
     "execution_count": 29,
     "metadata": {},
     "output_type": "execute_result"
    }
   ],
   "source": [
    "url = \"http://pythonscraping.com/pages/page3.html\"\n",
    "html = getDownload( url )\n",
    "html.text"
   ]
  },
  {
   "cell_type": "code",
   "execution_count": 30,
   "metadata": {},
   "outputs": [
    {
     "data": {
      "text/plain": [
       "<html>\n",
       "<head>\n",
       "<style>\n",
       "img{\n",
       "\twidth:75px;\n",
       "}\n",
       "table{\n",
       "\twidth:50%;\n",
       "}\n",
       "td{\n",
       "\tmargin:10px;\n",
       "\tpadding:10px;\n",
       "}\n",
       ".wrapper{\n",
       "\twidth:800px;\n",
       "}\n",
       ".excitingNote{\n",
       "\tfont-style:italic;\n",
       "\tfont-weight:bold;\n",
       "}\n",
       "</style>\n",
       "</head>\n",
       "<body>\n",
       "<div id=\"wrapper\">\n",
       "<img src=\"../img/gifts/logo.jpg\" style=\"float:left;\"/>\n",
       "<h1>Totally Normal Gifts</h1>\n",
       "<div id=\"content\">Here is a collection of totally normal, totally reasonable gifts that your friends are sure to love! Our collection is\n",
       "hand-curated by well-paid, free-range Tibetan monks.<p>\n",
       "We haven't figured out how to make online shopping carts yet, but you can send us a check to:<br/>\n",
       "123 Main St.<br/>\n",
       "Abuja, Nigeria\n",
       "We will then send your totally amazing gift, pronto! Please include an extra $5.00 for gift wrapping.</p></div>\n",
       "<table id=\"giftList\">\n",
       "<tr><th>\n",
       "Item Title\n",
       "</th><th>\n",
       "Description\n",
       "</th><th>\n",
       "Cost\n",
       "</th><th>\n",
       "Image\n",
       "</th></tr>\n",
       "<tr class=\"gift\" id=\"gift1\"><td>\n",
       "Vegetable Basket\n",
       "</td><td>\n",
       "This vegetable basket is the perfect gift for your health conscious (or overweight) friends!\n",
       "<span class=\"excitingNote\">Now with super-colorful bell peppers!</span>\n",
       "</td><td>\n",
       "$15.00\n",
       "</td><td>\n",
       "<img src=\"../img/gifts/img1.jpg\"/>\n",
       "</td></tr>\n",
       "<tr class=\"gift\" id=\"gift2\"><td>\n",
       "Russian Nesting Dolls\n",
       "</td><td>\n",
       "Hand-painted by trained monkeys, these exquisite dolls are priceless! And by \"priceless,\" we mean \"extremely expensive\"! <span class=\"excitingNote\">8 entire dolls per set! Octuple the presents!</span>\n",
       "</td><td>\n",
       "$10,000.52\n",
       "</td><td>\n",
       "<img src=\"../img/gifts/img2.jpg\"/>\n",
       "</td></tr>\n",
       "<tr class=\"gift\" id=\"gift3\"><td>\n",
       "Fish Painting\n",
       "</td><td>\n",
       "If something seems fishy about this painting, it's because it's a fish! <span class=\"excitingNote\">Also hand-painted by trained monkeys!</span>\n",
       "</td><td>\n",
       "$10,005.00\n",
       "</td><td>\n",
       "<img src=\"../img/gifts/img3.jpg\"/>\n",
       "</td></tr>\n",
       "<tr class=\"gift\" id=\"gift4\"><td>\n",
       "Dead Parrot\n",
       "</td><td>\n",
       "This is an ex-parrot! <span class=\"excitingNote\">Or maybe he's only resting?</span>\n",
       "</td><td>\n",
       "$0.50\n",
       "</td><td>\n",
       "<img src=\"../img/gifts/img4.jpg\"/>\n",
       "</td></tr>\n",
       "<tr class=\"gift\" id=\"gift5\"><td>\n",
       "Mystery Box\n",
       "</td><td>\n",
       "If you love suprises, this mystery box is for you! Do not place on light-colored surfaces. May cause oil staining. <span class=\"excitingNote\">Keep your friends guessing!</span>\n",
       "</td><td>\n",
       "$1.50\n",
       "</td><td>\n",
       "<img src=\"../img/gifts/img6.jpg\"/>\n",
       "</td></tr>\n",
       "</table>\n",
       "<div id=\"footer\">\n",
       "© Totally Normal Gifts, Inc. <br/>\n",
       "+234 (617) 863-0736\n",
       "</div>\n",
       "</div>\n",
       "</body>\n",
       "</html>"
      ]
     },
     "execution_count": 30,
     "metadata": {},
     "output_type": "execute_result"
    }
   ],
   "source": [
    "dom = BeautifulSoup( html.text, 'lxml' )\n",
    "dom"
   ]
  },
  {
   "cell_type": "code",
   "execution_count": 31,
   "metadata": {},
   "outputs": [],
   "source": [
    "# id = 'footer' -> div tag"
   ]
  },
  {
   "cell_type": "code",
   "execution_count": 33,
   "metadata": {},
   "outputs": [
    {
     "data": {
      "text/plain": [
       "<div id=\"footer\">\n",
       "© Totally Normal Gifts, Inc. <br/>\n",
       "+234 (617) 863-0736\n",
       "</div>"
      ]
     },
     "execution_count": 33,
     "metadata": {},
     "output_type": "execute_result"
    }
   ],
   "source": [
    "footer = dom.find( 'div', { 'id':'footer' } )\n",
    "footer"
   ]
  },
  {
   "cell_type": "code",
   "execution_count": 34,
   "metadata": {},
   "outputs": [
    {
     "data": {
      "text/plain": [
       "('div', {'id': 'wrapper'})"
      ]
     },
     "execution_count": 34,
     "metadata": {},
     "output_type": "execute_result"
    }
   ],
   "source": [
    "parent = footer.find_parent()\n",
    "parent.name, parent.attrs"
   ]
  },
  {
   "cell_type": "code",
   "execution_count": 35,
   "metadata": {},
   "outputs": [
    {
     "name": "stdout",
     "output_type": "stream",
     "text": [
      "img {'style': 'float:left;', 'src': '../img/gifts/logo.jpg'}\n",
      "h1 {}\n",
      "div {'id': 'content'}\n",
      "table {'id': 'giftList'}\n",
      "div {'id': 'footer'}\n"
     ]
    }
   ],
   "source": [
    "children = parent.find_all( recursive = False )\n",
    "for row in children:\n",
    "    print( row.name, row.attrs )"
   ]
  },
  {
   "cell_type": "code",
   "execution_count": 36,
   "metadata": {},
   "outputs": [
    {
     "name": "stdout",
     "output_type": "stream",
     "text": [
      "Cost\n",
      "$15.00\n",
      "$10,000.52\n",
      "$10,005.00\n",
      "$0.50\n",
      "$1.50\n"
     ]
    }
   ],
   "source": [
    "aList = dom.find_all( 'tr' )\n",
    "for row in aList:\n",
    "    print( row.find_all( recursive = False )[ 2 ].text.strip() )"
   ]
  },
  {
   "cell_type": "code",
   "execution_count": 43,
   "metadata": {},
   "outputs": [
    {
     "data": {
      "text/plain": [
       "<!DOCTYPE html>\n",
       "<html lang=\"ko\"><head><meta charset=\"utf-8\"/><meta content=\"/images/branding/googleg/1x/googleg_standard_color_128dp.png\" itemprop=\"image\"/><title>python - Google 검색</title><script nonce=\"/IRz2htWfa45WZfysAYn7Q==\">(function(){\n",
       "document.documentElement.addEventListener(\"submit\",function(b){var a;if(a=b.target){var c=a.getAttribute(\"data-submitfalse\");a=\"1\"==c||\"q\"==c&&!a.elements.q.value?!0:!1}else a=!1;a&&(b.preventDefault(),b.stopPropagation())},!0);document.documentElement.addEventListener(\"click\",function(b){var a;a:{for(a=b.target;a&&a!=document.documentElement;a=a.parentElement)if(\"A\"==a.tagName){a=\"1\"==a.getAttribute(\"data-nohref\");break a}a=!1}a&&b.preventDefault()},!0);}).call(this);(function(){\n",
       "var a=window.performance;window.start=(new Date).getTime();a:{var b=window;if(a){var c=a.timing;if(c){var d=c.navigationStart,f=c.responseStart;if(f>d&&f<=window.start){window.start=f;b.wsrt=f-d;break a}}a.now&&(b.wsrt=Math.floor(a.now()))}}window.google=window.google||{};google.aft=function(g){g.setAttribute(\"data-iml\",+new Date)};}).call(this);(function(){window.jsarwt=function(){return!1};}).call(this);(function(){\n",
       "var c=[],e=0;window.ping=function(b){-1==b.indexOf(\"&zx\")&&(b+=\"&zx=\"+(new Date).getTime());var a=new Image,d=e++;c[d]=a;a.onerror=a.onload=a.onabort=function(){delete c[d]};a.src=b};}).call(this);</script><style>body{margin:0 auto;max-width:736px;padding:0 8px}a{color:#1967D2;text-decoration:none;tap-highlight-color:rgba(0,0,0,.1)}a:visited{color:#4B11A8}a:hover{text-decoration:underline}img{border:0}html{font-family:Roboto,HelveticaNeue,Arial,sans-serif;font-size:14px;line-height:20px;text-size-adjust:100%;color:#3C4043;word-wrap:break-word;background-color:#fff}.bRsWnc{background-color:#fff;border-top:1px solid #e0e0e0;height:39px;overflow:hidden}.N6RWV{height:51px;overflow-scrolling:touch;overflow-x:auto;overflow-y:hidden}.Uv67qb{box-pack:justify;font-size:12px;line-height:37px;justify-content:space-between;justify-content:space-between}.Uv67qb a,.Uv67qb span{color:#757575;display:block;flex:none;padding:0 16px;text-align:center;text-transform:uppercase;}span.OXXup{border-bottom:2px solid #4285f4;color:#4285f4;font-weight:bold}a.eZt8xd:visited{color:#757575}.FElbsf{border-left:1px solid rgba(0,0,0,.12)}header article{overflow:visible}.Pg70bf{height:39px;display:box;display:flex;display:flex;width:100%}.H0PQec{position:relative;flex:1}.sbc{display:flex;width:100%}.Pg70bf input{margin:2px 4px 2px 8px;}.x{width:26px;color:#757575;font:27px/38px arial, sans-serif;line-height:40px;}#qdClwb{flex:0 0 auto;width:39px;height:39px;border-bottom:0;padding:0;border-top-right-radius:8px;background-color:#3b78e7;border:1px solid #3367d6;background-image:url(data:image/gif;base64,R0lGODdhJAAjAPIHAODr/nCk+MPZ/FmV96zK+/7+/5K5+kqL9iwAAAAAJAAjAEADani63P4wykmbKcQRXDscQAEMXmmeaLQVLCukzyC09AjfeK7v/MAajACLhPMVAgwjsUcEiZa8xgAYrVqv2Kx2iwsIAAABknfBBAKrTE4IcMyot8ur8datqIbQfJdnAfo2WE6BV05wXIiJigkAOw==);}.sc{font-size:;position:absolute;top:39px;left:0;right:0;box-shadow:0px 2px 5px rgba(0,0,0,0.2);z-index:2;background-color:#fff}.sc>div{padding:10px 10px;padding-left:16px;padding-left:14px;border-top:1px solid #DFE1E5}.scs{background-color:#f5f5f5;}.noHIxc{display:block;font-size:16px;padding:0 0 0 8px;flex:1;height:35px;outline:none;border:none;width:100%;-webkit-tap-highlight-color:rgba(0,0,0,0);overflow:hidden;}.sbc input[type=text]{background:none}.sml .cOl4Id{display:none}.l{display:none}.sml header{background:none}.sml .l{display:block;padding:0 8px}.sml .l{letter-spacing:-1px;text-align:center;border-radius:2px 0 0 0;font:22px/36px Futura, Arial, sans-serif;font-smoothing:antialiased}.bz1lBb{background:#fff;border-radius:8px 8px 0 0;box-shadow:0 1px 6px rgba(32, 33, 36, 0.18);margin-top:10px}.KP7LCb{border-radius:0 0 8px 8px;box-shadow:0 2px 3px rgba(32, 33, 36, 0.18);margin-bottom:10px;overflow:hidden}.cOl4Id{letter-spacing:-1px;text-align:center;font:22pt Futura, Arial, sans-serif;padding:10px 0 5px 0;height:37px;font-smoothing:antialiased}.cOl4Id span{display:inline-block}.S591j{height:100%}.V6gwVd{color:#4285f4}.iWkuvd{color:#ea4335}.cDrQ7{color:#fbcc05}.ntlR9{color:#34a853}.tJ3Myc{-webkit-transform:rotate(-20deg);position:relative;left:-1px;display:inline-block}footer{text-align:center;margin-top:18px}footer a,footer a:visited,.smiUbb{color:#5f6368}.ksTU4c{margin:0 13px}#mCljob{margin-top:36px}#mCljob>div{margin:20px}</style></head><body jsmodel=\" TvHxbe\"><header id=\"hdr\"><script nonce=\"/IRz2htWfa45WZfysAYn7Q==\">(function(){var c=500;(function(){window.screen&&window.screen.width<=c&&window.screen.height<=c&&document.getElementById(\"hdr\").classList.add(\"sml\");}).call(this);})();</script><div class=\"cOl4Id\"><a href=\"/?sa=X&amp;ved=0ahUKEwic1K-MlLXnAhWJ62EKHbkEAnsQOwgC\"><span class=\"V6gwVd\">G</span><span class=\"iWkuvd\">o</span><span class=\"cDrQ7\">o</span><span class=\"V6gwVd\">g</span><span class=\"ntlR9\">l</span><span class=\"iWkuvd tJ3Myc\">e</span></a></div><div class=\"bz1lBb\"><form class=\"Pg70bf\" id=\"sf\"><a class=\"l\" href=\"/?output=search&amp;ie=UTF-8&amp;sa=X&amp;ved=0ahUKEwic1K-MlLXnAhWJ62EKHbkEAnsQPAgE\"><span class=\"V6gwVd\">G</span><span class=\"iWkuvd\">o</span><span class=\"cDrQ7\">o</span><span class=\"V6gwVd\">g</span><span class=\"ntlR9\">l</span><span class=\"iWkuvd tJ3Myc\">e</span></a><input name=\"ie\" type=\"hidden\" value=\"ISO-8859-1\"/><div class=\"H0PQec\"><div class=\"sbc esbc\"><input autocapitalize=\"none\" autocomplete=\"off\" class=\"noHIxc\" name=\"q\" spellcheck=\"false\" type=\"text\" value=\"python\"/><input name=\"oq\" type=\"hidden\"/><input name=\"aqs\" type=\"hidden\"/><div class=\"x\">×</div><div class=\"sc\"></div></div></div><button id=\"qdClwb\" type=\"submit\"></button></form></div><noscript><meta content=\"0;url=/search?q=python&amp;ie=UTF-8&amp;gbv=1&amp;sei=pvM3XpzpEInXhwO5iYjYBw\" http-equiv=\"refresh\"/><style>table,div,span,p{display:none}</style><div style=\"display:block\">몇 초 안에 이동하지 않는 경우 <a href=\"/search?q=python&amp;ie=UTF-8&amp;gbv=1&amp;sei=pvM3XpzpEInXhwO5iYjYBw\">여기</a>를 클릭하세요.</div></noscript></header><div id=\"main\"><div><div class=\"KP7LCb\"> <div class=\"bRsWnc\"> <div class=\"N6RWV\"> <div class=\"Pg70bf Uv67qb\"> <span class=\"OXXup\">전체</span><a class=\"eZt8xd\" href=\"/search?q=python&amp;ie=UTF-8&amp;source=lnms&amp;tbm=vid&amp;sa=X&amp;ved=0ahUKEwic1K-MlLXnAhWJ62EKHbkEAnsQ_AUICCgB\">동영상</a><a class=\"eZt8xd\" href=\"/search?q=python&amp;ie=UTF-8&amp;source=lnms&amp;tbm=bks&amp;sa=X&amp;ved=0ahUKEwic1K-MlLXnAhWJ62EKHbkEAnsQ_AUICSgC\">도서</a><a class=\"eZt8xd\" href=\"/search?q=python&amp;ie=UTF-8&amp;source=lnms&amp;tbm=isch&amp;sa=X&amp;ved=0ahUKEwic1K-MlLXnAhWJ62EKHbkEAnsQ_AUICigD\">이미지</a> <a href=\"https://maps.google.com/maps?q=python&amp;um=1&amp;ie=UTF-8&amp;sa=X&amp;ved=0ahUKEwic1K-MlLXnAhWJ62EKHbkEAnsQ_AUICygE\">지도</a> <a href=\"/search?q=python&amp;ie=UTF-8&amp;source=lnms&amp;tbm=nws&amp;sa=X&amp;ved=0ahUKEwic1K-MlLXnAhWJ62EKHbkEAnsQ_AUIDCgF\">뉴스</a> <a href=\"/search?q=python&amp;ie=UTF-8&amp;source=lnms&amp;tbm=shop&amp;sa=X&amp;ved=0ahUKEwic1K-MlLXnAhWJ62EKHbkEAnsQ_AUIDSgG\">쇼핑</a> <div class=\"FElbsf\"><a href=\"/advanced_search\" id=\"st-toggle\" role=\"button\" style=\"white-space:nowrap\">검색 도구</a></div> </div> </div> </div> </div><div class=\"Pg70bf wEsjbd ZINbbc xpd O9g5cc uUPGi\" id=\"st-card\" style=\"display:none\"><style>.wEsjbd{background-color:#fff;height:44px;white-space:nowrap}.coPU8c{height:60px;overflow-scrolling:touch;overflow-x:auto;overflow-y:hidden}.Xj2aue{height:44px;overflow:hidden}.RnNGze{margin:11px 16px}.wEsjbd div,.wEsjbd a,.wEsjbd li{outline-width:0;outline:none}</style><div class=\"Xj2aue\"><div class=\"coPU8c\"><div class=\"RnNGze\"><style>.PA9J5{display:inline-block}.RXaOfd{display:inline-block;height:22px;position:relative;padding-top:0;padding-bottom:0;padding-right:16px;padding-left:0;line-height:22px;cursor:pointer;text-transform:uppercase;font-size:12px;color:#757575}.sa1toc{display:none;position:absolute;background:#fff;border:1px solid #d6d6d6;box-shadow:0 2px 4px rgba(0,0,0,0.3);margin:0;white-space:nowrap;z-index:103;line-height:17px;padding-top:5px;padding-bottom:5px;padding-left:0px}.PA9J5:hover .sa1toc{display:block}.mGSy8d a:active,.RXaOfd:active{color:#4285f4}</style><div class=\"PA9J5\"><div class=\"RXaOfd\" role=\"button\" tabindex=\"0\"><style>.TWMOUc{display:inline-block;padding-right:14px;white-space:nowrap}.vQYuGf{font-weight:bold}.OmTIzf{border-color:#909090 transparent;border-style:solid;border-width:4px 4px 0 4px;width:0;height:0;margin-left:-10px;top:50%;margin-top:-2px;position:absolute}.RXaOfd:active .OmTIzf{border-color:#4285f4 transparent}</style><div class=\"TWMOUc\">모든 언어</div><span class=\"OmTIzf\"></span></div><ul class=\"sa1toc ozatM\"><style>.ozatM{font-size:12px;text-transform:uppercase}.ozatM .yNFsl,.ozatM li{list-style-type:none;list-style-position:outside;list-style-image:none}.yNFsl.SkUj4c,.yNFsl a{color:rgba(0,0,0,0.54);text-decoration:none;padding:6px 44px 6px 14px;line-height:17px;display:block}.SkUj4c{background-image:url(//ssl.gstatic.com/ui/v1/menu/checkmark2.png);background-position:right center;background-repeat:no-repeat}.SkUj4c:active{background-color:#f5f5f5}</style><li class=\"yNFsl SkUj4c\">모든 언어</li><li class=\"yNFsl\"><a href=\"/search?q=python&amp;ie=UTF-8&amp;source=lnt&amp;tbs=lr:lang_1ko&amp;lr=lang_ko&amp;sa=X&amp;ved=0ahUKEwic1K-MlLXnAhWJ62EKHbkEAnsQpwUIDw\">한국어 웹</a></li></ul></div><div class=\"PA9J5\"><div class=\"RXaOfd\" role=\"button\" tabindex=\"0\"><div class=\"TWMOUc\">모든 날짜</div><span class=\"OmTIzf\"></span></div><ul class=\"sa1toc ozatM\"><li class=\"yNFsl SkUj4c\">모든 날짜</li><li class=\"yNFsl\"><a href=\"/search?q=python&amp;ie=UTF-8&amp;source=lnt&amp;tbs=qdr:h&amp;sa=X&amp;ved=0ahUKEwic1K-MlLXnAhWJ62EKHbkEAnsQpwUIEQ\"> 지난 1시간</a></li><li class=\"yNFsl\"><a href=\"/search?q=python&amp;ie=UTF-8&amp;source=lnt&amp;tbs=qdr:d&amp;sa=X&amp;ved=0ahUKEwic1K-MlLXnAhWJ62EKHbkEAnsQpwUIEg\"> 지난 1일</a></li><li class=\"yNFsl\"><a href=\"/search?q=python&amp;ie=UTF-8&amp;source=lnt&amp;tbs=qdr:w&amp;sa=X&amp;ved=0ahUKEwic1K-MlLXnAhWJ62EKHbkEAnsQpwUIEw\"> 지난 1주</a></li><li class=\"yNFsl\"><a href=\"/search?q=python&amp;ie=UTF-8&amp;source=lnt&amp;tbs=qdr:m&amp;sa=X&amp;ved=0ahUKEwic1K-MlLXnAhWJ62EKHbkEAnsQpwUIFA\"> 지난 1개월</a></li><li class=\"yNFsl\"><a href=\"/search?q=python&amp;ie=UTF-8&amp;source=lnt&amp;tbs=qdr:y&amp;sa=X&amp;ved=0ahUKEwic1K-MlLXnAhWJ62EKHbkEAnsQpwUIFQ\"> 지난 1년</a></li></ul></div><div class=\"PA9J5\"><div class=\"RXaOfd\" role=\"button\" tabindex=\"0\"><div class=\"TWMOUc\">모든 결과</div><span class=\"OmTIzf\"></span></div><ul class=\"sa1toc ozatM\"><li class=\"yNFsl SkUj4c\">모든 결과</li><li class=\"yNFsl\"><a href=\"/search?q=python&amp;ie=UTF-8&amp;source=lnt&amp;tbs=li:1&amp;sa=X&amp;ved=0ahUKEwic1K-MlLXnAhWJ62EKHbkEAnsQpwUIFw\">완전일치</a></li></ul></div></div></div></div><script nonce=\"/IRz2htWfa45WZfysAYn7Q==\">(function(){\n",
       "var a=document.getElementById(\"st-toggle\"),b=document.getElementById(\"st-card\");a&&b&&a.addEventListener(\"click\",function(c){b.style.display=b.style.display?\"\":\"none\";c.preventDefault()},!1);}).call(this);</script></div></div><style>.ZINbbc{background-color:#fff;margin-bottom:10px;box-shadow:0 1px 6px rgba(32, 33, 36, 0.28);border-radius:8px}.uUPGi{font-size:14px;line-height:20px;}.O9g5cc>*:first-child{border-top-left-radius:8px;border-top-right-radius:8px}.O9g5cc>*:last-child{border-bottom-left-radius:8px;border-bottom-right-radius:8px}.O9g5cc>.qxDOhb>*:first-child{border-top-left-radius:8px;border-top-right-radius:8px}.O9g5cc>.qxDOhb>*:last-child{border-bottom-left-radius:8px;border-bottom-right-radius:8px}.rl7ilb{display:block;clear:both}.kCrYT{padding:12px 16px 12px}a.fdYsqf{color:#4B11A8}.BNeawe{white-space:pre-line;word-wrap:break-word}.vvjwJb{color:#1967D2;font-size:16px;line-height:20px}.vvjwJb a:visited{color:#4B11A8}.vvjwJb.HrGdeb{color:rgba(255,255,255,1)}.vvjwJb.HrGdeb a:visited{color:rgba(255,255,255,.7)}.UPmit{font-size:14px;line-height:20px}.UPmit.HrGdeb{color:rgba(255,255,255,.7)}.UPmit.AP7Wnd{color:rgba(0,102,33,1)}.x54gtf{height:1px;background-color:#dfe1e5;margin:0 16px}.Q0HXG{height:1px;background-color:#dfe1e5}.Ap5OSd{padding-bottom:12px}.s3v9rd{font-size:14px;line-height:20px}.s3v9rd.HrGdeb{color:rgba(255,255,255,1)}.s3v9rd.AP7Wnd{color:#202124}.mSx1Ee{padding-left:48px;margin:0}.v9i61e{padding-bottom:8px}.XLloXe{color:#1967D2;font-size:14px;line-height:20px}.XLloXe a:visited{color:#4B11A8}.XLloXe.HrGdeb{color:rgba(255,255,255,1)}.XLloXe.HrGdeb a:visited{color:rgba(255,255,255,.7)}.nGphre{float:right;padding-left:16px}.UykT9d{border-radius:8px;display:block}.nYT7Qb{clear:both}.deIvCb{font-size:16px;line-height:20px;font-weight:400}.deIvCb.HrGdeb{color:rgba(255,255,255,1)}.deIvCb.AP7Wnd{color:#202124}.tAd8D{font-size:14px;line-height:20px}.tAd8D.HrGdeb{color:rgba(255,255,255,.7)}.tAd8D.AP7Wnd{color:#70757A}.Xdlr0d{overflow-x:auto;-webkit-overflow-scrolling:touch;margin:0 -8px;padding:16px 0 16px 24px;padding-top:2px;margin-top:-2px;transform:translate3d(0,0,0)}.idg8be{display:table;border-collapse:separate;border-spacing:8px 0;margin:0 -8px;padding-right:16px}.BVG0Nb{display:table-cell;vertical-align:top;background-color:#fff;border-radius:8px;box-shadow:0 1px 6px rgba(32, 33, 36, 0.28);overflow:hidden}.WddBJd{display:block;margin:0 auto}.R0jTRc{vertical-align:middle}.mHhylf{display:table-cell;vertical-align:middle}.WZ5GJf{align-items:center;padding:0 20px;min-width:112px}.qN9Ked,.DXk5Me{margin:0 auto}.DXk5Me{margin-bottom:12px}.Qi9Fd{background:#fff;border:0;border-radius:999px;display:block;height:56px;justify-content:center;width:56px;z-index:0}.Qi9Fd{box-shadow:0 1px 6px rgba(32, 33, 36, 0.28),inset 0 0 0 0 rgba(0,0,0,0.10),inset 0 0 0 0 rgba(255,255,255,0.50)}.Qi9Fd:focus{outline:none}.Qi9Fd .hWHuJ{display:block;margin:0 auto}.ji5jpf{text-align:center}.xpc .hwc,.xpx .hwx{display:none}.skVgpb{display:table;table-layout:fixed;width:100%}.VGHMXd{display:table-cell;vertical-align:middle;height:52px;text-align:center}.LpaDrb{margin:0 auto 8px;display:block}.vbShOe{padding-top:0}.AVsepf{padding-bottom:8px}.AVsepf.u2x1Od{padding-bottom:0}.Ru8idb{margin-top:-16px}.punez{font-weight:700;letter-spacing:0.75px;text-transform:uppercase}.wyrwXc{font-size:12px;line-height:16px}.wyrwXc.HrGdeb{color:rgba(255,255,255,1)}.wyrwXc.AP7Wnd{color:#202124}.EYOsld{display:inline-block;position:relative}.BFi9Zb{overflow:hidden;position:relative}.S7Jdze{align-items:center;display:flex;flex-direction:column;justify-content:space-around}hr{border:0;border-bottom:1px solid #dfe1e5;margin:0;}.BUybKe,.HsnFBf{margin-left:16px}.BUybKe,.oM2GA{margin-right:16px}.XO7rhc{margin:0 -16px}.iIWm4b{box-sizing:border-box;min-height:48px}.fLtXsc{padding:14px;position:relative}.Lym8W{width:14px;height:20px;position:relative;margin:0 auto}.xCgLUe{position:absolute;right:16px;margin-top:-10px;top:50%}.Lym8W div{position:absolute;border-left:7px solid transparent;border-right:7px solid transparent;width:0;height:0;left:0}.IyYaEd{top:7px;border-top:7px solid #757575}.ECUHQe{top:4px;border-top:7px solid #fff}.AeQQub{bottom:7px;border-bottom:7px solid #757575}.YCU7eb{bottom:4px;border-bottom:7px solid #fff}.r0bn4c.tr0dw{color:rgba(255,255,255,.7)}.r0bn4c.rQMQod{color:#70757A}.ZTv9Bb{display:block}.nVTMpe{border-radius:8px}.FCUp0c{font-weight:bold}.X7NTVe{display:table;width:100%;padding-right:16px;box-sizing:border-box}.tHmfQe{display:table-cell;padding:12px 0 12px 16px}.UHtrk{width:72px}.HBTM6d{width:30px}.XS7yGd{display:table-cell;text-align:center;vertical-align:middle;padding:12px 0 12px 8px}.am3QBf{display:table;vertical-align:top}.Icx6Cd{margin:0 auto 8px}.mAdjQc{text-align:right}.uEec3{font-size:12px;line-height:16px}.uEec3.HrGdeb{color:rgba(255,255,255,.7)}.uEec3.AP7Wnd{color:#70757A}.rLshyf,.BmP5tf{padding-top:12px;padding-bottom:12px}.w1C3Le,.BmP5tf,.G5NbBd{padding-left:16px;padding-right:16px;}.G5NbBd{padding-bottom:12px}.nMymef{display:flex}.G5eFlf{flex:1;display:block}.nMymef span{text-align:center}</style><div><!--SW_C_X--></div><div><div class=\"ZINbbc xpd O9g5cc uUPGi\"><div class=\"kCrYT\"><a href=\"/url?q=https://www.python.org/&amp;sa=U&amp;ved=2ahUKEwic1K-MlLXnAhWJ62EKHbkEAnsQFjAAegQIBxAB&amp;usg=AOvVaw0NJeM7Yjtd8jXy2HVGSeHs\"><div class=\"BNeawe vvjwJb AP7Wnd\">Python.org</div><div class=\"BNeawe UPmit AP7Wnd\">https://www.python.org</div></a></div><div class=\"x54gtf\"></div><div class=\"kCrYT\"><div><div class=\"BNeawe s3v9rd AP7Wnd\"><div><div><div class=\"Ap5OSd\"><div class=\"BNeawe s3v9rd AP7Wnd\">The official home of the Python Programming Language.</div></div><div class=\"v9i61e\"><div class=\"BNeawe s3v9rd AP7Wnd\"><span class=\"BNeawe\"><a href=\"/url?q=https://www.python.org/downloads/&amp;sa=U&amp;ved=2ahUKEwic1K-MlLXnAhWJ62EKHbkEAnsQjBAwAXoECAcQAw&amp;usg=AOvVaw3B4bd2IxT0xwva1YtbFzZL\"><span class=\"XLloXe AP7Wnd\">Download Python</span></a></span></div></div><div class=\"v9i61e\"><div class=\"BNeawe s3v9rd AP7Wnd\"><span class=\"BNeawe\"><a href=\"/url?q=https://www.python.org/downloads/release/python-374/&amp;sa=U&amp;ved=2ahUKEwic1K-MlLXnAhWJ62EKHbkEAnsQjBAwAnoECAcQBQ&amp;usg=AOvVaw20t2yqsGyznX121Ggn_drQ\"><span class=\"XLloXe AP7Wnd\">Python 3.7.4</span></a></span></div></div><div class=\"v9i61e\"><div class=\"BNeawe s3v9rd AP7Wnd\"><span class=\"BNeawe\"><a href=\"/url?q=https://www.python.org/about/gettingstarted/&amp;sa=U&amp;ved=2ahUKEwic1K-MlLXnAhWJ62EKHbkEAnsQjBAwA3oECAcQBw&amp;usg=AOvVaw1uhlTkJl9KbujUwCzHdnOM\"><span class=\"XLloXe AP7Wnd\">Python For Beginners</span></a></span></div></div><div class=\"v9i61e\"><div class=\"BNeawe s3v9rd AP7Wnd\"><span class=\"BNeawe\"><a href=\"/url?q=https://docs.python.org/&amp;sa=U&amp;ved=2ahUKEwic1K-MlLXnAhWJ62EKHbkEAnsQjBAwBHoECAcQCQ&amp;usg=AOvVaw0ORqXHWGTyo7R_AnFi6MyX\"><span class=\"XLloXe AP7Wnd\">Python Docs</span></a></span></div></div><div class=\"v9i61e\"><div class=\"BNeawe s3v9rd AP7Wnd\"><span class=\"BNeawe\"><a href=\"/url?q=https://docs.python.org/3/tutorial/&amp;sa=U&amp;ved=2ahUKEwic1K-MlLXnAhWJ62EKHbkEAnsQjBAwBXoECAcQCw&amp;usg=AOvVaw0At8Cj2KCuyFziHq41dC2K\"><span class=\"XLloXe AP7Wnd\">The Python Tutorial</span></a></span></div></div><div><div class=\"BNeawe s3v9rd AP7Wnd\"><span class=\"BNeawe\"><a href=\"/url?q=https://www.python.org/doc/&amp;sa=U&amp;ved=2ahUKEwic1K-MlLXnAhWJ62EKHbkEAnsQjBAwBnoECAcQDQ&amp;usg=AOvVaw3PkNtqmP_VGsFGuVsJfOZF\"><span class=\"XLloXe AP7Wnd\">Documentation</span></a></span></div></div></div></div></div></div></div></div></div><div><div class=\"ZINbbc xpd O9g5cc uUPGi\"><div class=\"kCrYT\"><span><div class=\"BNeawe deIvCb AP7Wnd\">파이썬</div></span><span><div class=\"BNeawe tAd8D AP7Wnd\">프로그램 언어</div></span></div><div><div><div><div class=\"Xdlr0d\"><div class=\"idg8be\"><a class=\"BVG0Nb\" href=\"/imgres?imgurl=https://upload.wikimedia.org/wikipedia/commons/thumb/c/c3/Python-logo-notext.svg/600px-Python-logo-notext.svg.png&amp;imgrefurl=https://ko.wikipedia.org/wiki/%25ED%258C%258C%25EC%259D%25BC:Python-logo-notext.svg&amp;h=600&amp;w=600&amp;tbnid=fOm7m-U27qvN7M:&amp;q=python&amp;tbnh=186&amp;tbnw=186&amp;usg=AI4_-kQ7TGOLKEQNzHKqmV1ivDMp1exADw&amp;vet=1&amp;docid=B4tL0EQjL6Em2M&amp;itg=1&amp;sa=X&amp;ved=2ahUKEwic1K-MlLXnAhWJ62EKHbkEAnsQ9QF6BAgIEAQ\"><div><img alt=\"upload.wikimedia.org/wikipedia/commons/thumb/c/c3/...\" class=\"WddBJd\" data-deferred=\"1\" id=\"dimg_1\" src=\"data:image/gif;base64,R0lGODlhAQABAIAAAP///////yH5BAEKAAEALAAAAAABAAEAAAICTAEAOw==\" style=\"max-width:none;height:128px;max-height:128px\"/></div></a><a class=\"BVG0Nb\" href=\"/imgres?imgurl=https://raw.githubusercontent.com/microsoft/vscode-python/master/images/ConfigureDebugger.gif&amp;imgrefurl=https://marketplace.visualstudio.com/items?itemName%3Dms-python.python&amp;h=551&amp;w=968&amp;tbnid=ERFkA_c3qdQq8M:&amp;q=python&amp;tbnh=93&amp;tbnw=163&amp;usg=AI4_-kSQX2VEfJyk9ewTMtr2lT6ckA3xtw&amp;vet=1&amp;docid=Qm8Ivh7KyhCfCM&amp;sa=X&amp;ved=2ahUKEwic1K-MlLXnAhWJ62EKHbkEAnsQ9QF6BAgIEAY\"><div><img alt=\"raw.githubusercontent.com/microsoft/vscode-python/...\" class=\"WddBJd\" data-deferred=\"1\" id=\"dimg_3\" src=\"data:image/gif;base64,R0lGODlhAQABAIAAAP///////yH5BAEKAAEALAAAAAABAAEAAAICTAEAOw==\" style=\"max-width:none;height:128px;max-height:128px\"/></div></a><a class=\"BVG0Nb\" href=\"/imgres?imgurl=https://f1.codingworldnews.com/2019/07/gpcujije51.png&amp;imgrefurl=https://www.codingworldnews.com/article/view/1274&amp;h=164&amp;w=580&amp;tbnid=6gL-m2EeEpxmGM:&amp;q=python&amp;tbnh=93&amp;tbnw=329&amp;usg=AI4_-kS5SAAMSFgYBSiGmNGR8ulEAPQPTg&amp;vet=1&amp;docid=ZznOdFksfYGM4M&amp;sa=X&amp;ved=2ahUKEwic1K-MlLXnAhWJ62EKHbkEAnsQ9QF6BAgIEAg\"><div><img alt=\"f1.codingworldnews.com/2019/07/gpcujije51.png\" class=\"WddBJd\" data-deferred=\"1\" id=\"dimg_5\" src=\"data:image/gif;base64,R0lGODlhAQABAIAAAP///////yH5BAEKAAEALAAAAAABAAEAAAICTAEAOw==\" style=\"max-width:none;height:128px;max-height:128px\"/></div></a><a class=\"BVG0Nb\" href=\"/imgres?imgurl=https://www.codingfactory.net/wp-content/uploads/vscode-python-02.png&amp;imgrefurl=https://www.codingfactory.net/category/python&amp;h=768&amp;w=1024&amp;tbnid=cnZf6uXMymADMM:&amp;q=python&amp;tbnh=93&amp;tbnw=124&amp;usg=AI4_-kR1qK_o2RjBy7cOSP5vIhSkggtBiA&amp;vet=1&amp;docid=fzOHKdP7fspUKM&amp;sa=X&amp;ved=2ahUKEwic1K-MlLXnAhWJ62EKHbkEAnsQ9QF6BAgIEAo\"><div><img alt=\"www.codingfactory.net/wp-content/uploads/vscode-py...\" class=\"WddBJd\" data-deferred=\"1\" id=\"dimg_7\" src=\"data:image/gif;base64,R0lGODlhAQABAIAAAP///////yH5BAEKAAEALAAAAAABAAEAAAICTAEAOw==\" style=\"max-width:none;height:128px;max-height:128px\"/></div></a><div class=\"mHhylf\"><div class=\"WZ5GJf\"><a class=\"qN9Ked\" href=\"https://www.google.com/search?ie=UTF-8&amp;ei=pvM3XpzpEInXhwO5iYjYBw&amp;q=python&amp;tbm=isch&amp;sa=X&amp;ved=2ahUKEwic1K-MlLXnAhWJ62EKHbkEAnsQ7Al6BAgIEAw\"><button class=\"DXk5Me Qi9Fd\"><img alt=\"Arrow\" class=\"hWHuJ\" data-deferred=\"1\" id=\"dimg_9\" src=\"data:image/gif;base64,R0lGODlhAQABAIAAAP///////yH5BAEKAAEALAAAAAABAAEAAAICTAEAOw==\" style=\"max-width:24px;max-height:24px\"/></button><div class=\"BNeawe ji5jpf tAd8D AP7Wnd\">모두 보기</div></a></div></div></div></div></div></div></div><div class=\"xpc\"><div class=\"Q0HXG\"></div><div class=\"kCrYT\"><div><div class=\"BNeawe s3v9rd AP7Wnd\"><div><div class=\"BNeawe s3v9rd AP7Wnd\">파이썬은 1991년 프로그래머인 귀도 반 로섬이 발표한 고급 프로그래밍 언어로, 플랫폼에 독립적이며 인터프리터식, 객체지향적, 동적 타이핑 대화형 언어이다. 파이썬이라는 이름은 귀도가 좋아하는 코미디 〈Monty Python's Flying Circus〉에서 따온 것이다. <span class=\"BNeawe\"><a href=\"/url?q=https://ko.wikipedia.org/wiki/%25ED%258C%258C%25EC%259D%25B4%25EC%258D%25AC&amp;sa=U&amp;ved=2ahUKEwic1K-MlLXnAhWJ62EKHbkEAnsQmhMwD3oECAgQDg&amp;usg=AOvVaw2vSzqn2qQNQfOkUDGyfJut\"><span class=\"XLloXe AP7Wnd\">위키백과</span></a></span></div></div></div></div></div><div class=\"vbShOe kCrYT\"><div class=\"AVsepf\"><div class=\"BNeawe s3v9rd AP7Wnd\"><span><span class=\"BNeawe s3v9rd AP7Wnd\">설계자</span></span>: <span><span class=\"BNeawe tAd8D AP7Wnd\"><span class=\"BNeawe\"><a href=\"/search?ie=UTF-8&amp;q=%EA%B7%80%EB%8F%84+%EB%B0%98+%EB%A1%9C%EC%84%AC&amp;stick=H4sIAAAAAAAAAOPgE-LQz9U3MK0yjFfiBLEMMwxMk7UMMsqt9JPzc3JSk0sy8_P0C4ry04sSc3Mz89LjcxLz0ksT01OLrVJSizPT81JTFJIqF7EKvtre8Lq_ReH1hhkKrxfOedOyBgBwkJkhXQAAAA&amp;sa=X&amp;ved=2ahUKEwic1K-MlLXnAhWJ62EKHbkEAnsQmxMwEXoECAgQEA\"><span class=\"XLloXe AP7Wnd\">귀도 반 로섬</span></a></span></span></span></div></div><div class=\"AVsepf\"><div class=\"BNeawe s3v9rd AP7Wnd\"><span><span class=\"BNeawe s3v9rd AP7Wnd\">최근 버전 출시일</span></span>: <span><span class=\"BNeawe tAd8D AP7Wnd\">2019년 10월 14일</span></span></div></div><div class=\"AVsepf\"><div class=\"BNeawe s3v9rd AP7Wnd\"><span><span class=\"BNeawe s3v9rd AP7Wnd\">파일 확장자</span></span>: <span><span class=\"BNeawe tAd8D AP7Wnd\">py,.pyc,.pyd,.pyo</span></span></div></div><div class=\"AVsepf\"><div class=\"BNeawe s3v9rd AP7Wnd\"><span><span class=\"BNeawe s3v9rd AP7Wnd\">최근 버전</span></span>: <span><span class=\"BNeawe tAd8D AP7Wnd\">3.8.0</span></span></div></div><div class=\"AVsepf hwc\"><div class=\"BNeawe s3v9rd AP7Wnd\"><span><span class=\"BNeawe s3v9rd AP7Wnd\">라이선스</span></span>: <span><span class=\"BNeawe tAd8D AP7Wnd\"><span class=\"BNeawe\"><a href=\"/search?ie=UTF-8&amp;q=%ED%8C%8C%EC%9D%B4%EC%8D%AC+%EC%86%8C%ED%94%84%ED%8A%B8%EC%9B%A8%EC%96%B4+%EC%9E%AC%EB%8B%A8&amp;stick=H4sIAAAAAAAAAOPgE-LQz9U3MK0yjFfiBLGMjXMMC7Qki4ut9MtTk9ISk0uKrV7P3fNm7pY3LQvedC1ZxKrwtqcHxO1do_CmreftlJa3XTvezF7xZtoWhTfz1rzuXgEA-FODMFUAAAA&amp;sa=X&amp;ved=2ahUKEwic1K-MlLXnAhWJ62EKHbkEAnsQmxMwFXoECAgQFQ\"><span class=\"XLloXe AP7Wnd\">파이썬 소프트웨어 재단</span></a></span> 라이선스</span></span></div></div><div class=\"AVsepf u2x1Od hwc\"><div class=\"BNeawe s3v9rd AP7Wnd\"><span><span class=\"BNeawe s3v9rd AP7Wnd\">모회사</span></span>: <span><span class=\"BNeawe tAd8D AP7Wnd\"><span class=\"BNeawe\"><a href=\"/search?ie=UTF-8&amp;q=%ED%8C%8C%EC%9D%B4%EC%8D%AC%EC%86%8C%ED%94%84%ED%8A%B8%EC%9B%A8%EC%96%B4%EC%9E%AC%EB%8B%A8&amp;stick=H4sIAAAAAAAAAOPgE-LQz9U3MK0yjFfiBLGMjXMMC7RUMsqt9JPzc3JSk0sy8_P0k4oS81KKrQoSi1LzShSS83MLEvMqF7HKve3peTN3y5veNW_aet5OaXnbtePN7BVvpm15M2_N6-4VAFpB4h9eAAAA&amp;sa=X&amp;ved=2ahUKEwic1K-MlLXnAhWJ62EKHbkEAnsQmxMwFnoECAgQFw\"><span class=\"XLloXe AP7Wnd\">파이썬소프트웨어재단</span></a></span></span></span></div></div></div><div class=\"Q0HXG\"></div><div><div class=\"kCrYT\"><span class=\"punez\"><div class=\"BNeawe wyrwXc AP7Wnd\">관련 검색어</div></span></div><div><div><div class=\"Xdlr0d\"><div class=\"idg8be\"><a class=\"BVG0Nb\" href=\"/search?ie=UTF-8&amp;q=%EC%9E%90%EB%B0%94&amp;stick=H4sIAAAAAAAAAONgFuLQz9U3MK0yjFfiArHMi5Oy05K0hLOTrfST83Nz8_OsijNTUssTK4sXsbK9mTfh9YYpAKJCBYY2AAAA&amp;sa=X&amp;ved=2ahUKEwic1K-MlLXnAhWJ62EKHbkEAnsQ0I4BMBd6BAgIEBo\"><div><div style=\"width:112px\"><div class=\"S7Jdze\" style=\"width:112px;height:112px\"><img alt=\"\" class=\"EYOsld\" data-deferred=\"1\" id=\"dimg_11\" src=\"data:image/gif;base64,R0lGODlhAQABAIAAAP///////yH5BAEKAAEALAAAAAABAAEAAAICTAEAOw==\" style=\"max-width:112px;max-height:112px\"/></div><div class=\"RWuggc kCrYT\"><div><div class=\"BNeawe s3v9rd AP7Wnd\">자바</div></div></div></div></div></a><a class=\"BVG0Nb\" href=\"/search?ie=UTF-8&amp;q=C%2B%2B&amp;stick=H4sIAAAAAAAAAONgFuLQz9U3MK0yjFcCs7LSC9O1hLOTrfST83Nz8_OsijNTUssTK4sXsTI7a2sDAIk31Y0xAAAA&amp;sa=X&amp;ved=2ahUKEwic1K-MlLXnAhWJ62EKHbkEAnsQ0I4BMBd6BAgIEBw\"><div><div style=\"width:112px\"><div class=\"S7Jdze\" style=\"width:112px;height:112px\"><img alt=\"\" class=\"EYOsld\" data-deferred=\"1\" id=\"dimg_13\" src=\"data:image/gif;base64,R0lGODlhAQABAIAAAP///////yH5BAEKAAEALAAAAAABAAEAAAICTAEAOw==\" style=\"max-width:112px;max-height:112px\"/></div><div class=\"RWuggc kCrYT\"><div><div class=\"BNeawe s3v9rd AP7Wnd\">C++</div></div></div></div></div></a><a class=\"BVG0Nb\" href=\"/search?ie=UTF-8&amp;q=%EC%9E%90%EB%B0%94%EC%8A%A4%ED%81%AC%EB%A6%BD%ED%8A%B8&amp;stick=H4sIAAAAAAAAAONgFuLQz9U3MK0yjFcCs4wKLM21hLOTrfST83Nz8_OsijNTUssTK4sXsQq9mTfh9YYpb7qWvG1c83rZ3rddOwC1-I4aQAAAAA&amp;sa=X&amp;ved=2ahUKEwic1K-MlLXnAhWJ62EKHbkEAnsQ0I4BMBd6BAgIEB4\"><div><div style=\"width:112px\"><div class=\"S7Jdze\" style=\"width:112px;height:112px\"><img alt=\"\" class=\"EYOsld\" data-deferred=\"1\" id=\"dimg_15\" src=\"data:image/gif;base64,R0lGODlhAQABAIAAAP///////yH5BAEKAAEALAAAAAABAAEAAAICTAEAOw==\" style=\"max-width:112px;max-height:112px\"/></div><div class=\"RWuggc kCrYT\"><div><div class=\"BNeawe s3v9rd AP7Wnd\">자바스크립트</div></div></div></div></div></a><a class=\"BVG0Nb\" href=\"/search?ie=UTF-8&amp;q=R+(%ED%94%84%EB%A1%9C%EA%B7%B8%EB%9E%98%EB%B0%8D+%EC%96%B8%EC%96%B4)&amp;stick=H4sIAAAAAAAAAONgFuLQz9U3MK0yjFfiBLGMDI2ycrWEs5Ot9JPzc3Pz86yKM1NSyxMrixexSgUpaLyd0vJ64ZxX23e8njfj9YZehTfTdryZtkUTAKagB4BJAAAA&amp;sa=X&amp;ved=2ahUKEwic1K-MlLXnAhWJ62EKHbkEAnsQ0I4BMBd6BAgIECA\"><div><div style=\"width:112px\"><div class=\"S7Jdze\" style=\"width:112px;height:112px\"><img alt=\"\" class=\"EYOsld\" data-deferred=\"1\" id=\"dimg_17\" src=\"data:image/gif;base64,R0lGODlhAQABAIAAAP///////yH5BAEKAAEALAAAAAABAAEAAAICTAEAOw==\" style=\"max-width:112px;max-height:112px\"/></div><div class=\"RWuggc kCrYT\"><div><div class=\"BNeawe s3v9rd AP7Wnd\">R</div></div></div></div></div></a><a class=\"BVG0Nb\" href=\"/search?ie=UTF-8&amp;q=PHP&amp;stick=H4sIAAAAAAAAAONgFuLQz9U3MK0yjFcCs8wMssu0hLOTrfST83Nz8_OsijNTUssTK4sXsTIHeAQAAD9fip4xAAAA&amp;sa=X&amp;ved=2ahUKEwic1K-MlLXnAhWJ62EKHbkEAnsQ0I4BMBd6BAgIECI\"><div><div style=\"width:112px\"><div class=\"S7Jdze\" style=\"width:112px;height:112px\"><img alt=\"\" class=\"EYOsld\" data-deferred=\"1\" id=\"dimg_19\" src=\"data:image/gif;base64,R0lGODlhAQABAIAAAP///////yH5BAEKAAEALAAAAAABAAEAAAICTAEAOw==\" style=\"max-width:112px;max-height:112px\"/></div><div class=\"RWuggc kCrYT\"><div><div class=\"BNeawe s3v9rd AP7Wnd\">PHP</div></div></div></div></div></a><a class=\"BVG0Nb\" href=\"/search?ie=UTF-8&amp;q=SQL&amp;stick=H4sIAAAAAAAAAONgFuLQz9U3MK0yjFcCs8xNi0u0hLOTrfST83Nz8_OsijNTUssTK4sXsTIHB_oAAFUhtvsxAAAA&amp;sa=X&amp;ved=2ahUKEwic1K-MlLXnAhWJ62EKHbkEAnsQ0I4BMBd6BAgIECQ\"><div><div style=\"width:112px\"><div class=\"S7Jdze\" style=\"width:112px;height:112px\"><img alt=\"\" class=\"EYOsld\" data-deferred=\"1\" id=\"dimg_21\" src=\"data:image/gif;base64,R0lGODlhAQABAIAAAP///////yH5BAEKAAEALAAAAAABAAEAAAICTAEAOw==\" style=\"max-width:112px;max-height:112px\"/></div><div class=\"RWuggc kCrYT\"><div><div class=\"BNeawe s3v9rd AP7Wnd\">SQL</div></div></div></div></div></a></div></div></div></div></div><hr/><div class=\"duf-h\"><div aria-expanded=\"false\" class=\"fLtXsc iIWm4b\" id=\"tsuid23\" role=\"button\" style=\"text-align:center\"><div class=\"Lym8W\"><div class=\"AeQQub hwc\"></div><div class=\"YCU7eb hwc\"></div><div class=\"IyYaEd hwx\"></div><div class=\"ECUHQe hwx\"></div></div></div></div></div></div></div><div><div class=\"ZINbbc xpd O9g5cc uUPGi\"><div class=\"kCrYT\"><a href=\"/url?q=https://ko.wikipedia.org/wiki/%25ED%258C%258C%25EC%259D%25B4%25EC%258D%25AC&amp;sa=U&amp;ved=2ahUKEwic1K-MlLXnAhWJ62EKHbkEAnsQFjAYegQIBhAB&amp;usg=AOvVaw2IIV2OkzW_dXlRHtmAh2F4\"><div class=\"BNeawe vvjwJb AP7Wnd\">파이썬 - 위키백과, 우리 모두의 백과사전</div><div class=\"BNeawe UPmit AP7Wnd\">https://ko.wikipedia.org › wiki › 파이썬</div></a></div><div class=\"x54gtf\"></div><div class=\"kCrYT\"><div><div class=\"BNeawe s3v9rd AP7Wnd\"><div><div><div class=\"BNeawe s3v9rd AP7Wnd\">파이썬(영어: Python)은 1991년 프로그래머인 귀도 반 로섬(Guido van Rossum)이 발표한 고급 프로그래밍 언어로, 플랫폼에 독립적이며 인터프리터식, 객체지향적, ...\n",
       "\n",
       "개발자: <span class=\"BNeawe\"><a href=\"/url?q=https://ko.wikipedia.org/wiki/%25ED%258C%258C%25EC%259D%25B4%25EC%258D%25AC_%25EC%2586%258C%25ED%2594%2584%25ED%258A%25B8%25EC%259B%25A8%25EC%2596%25B4_%25EC%259E%25AC%25EB%258B%25A8&amp;sa=U&amp;ved=2ahUKEwic1K-MlLXnAhWJ62EKHbkEAnsQs2YwGHoECAYQBA&amp;usg=AOvVaw0RHVvuEzCd7iKfmvdQTmmN\"><span class=\"XLloXe AP7Wnd\">파이썬 소프트웨어 재단</span></a></span>\n",
       "패러다임: <span class=\"BNeawe\"><a href=\"/url?q=https://ko.wikipedia.org/wiki/%25ED%2594%2584%25EB%25A1%259C%25EA%25B7%25B8%25EB%259E%2598%25EB%25B0%258D_%25ED%258C%25A8%25EB%259F%25AC%25EB%258B%25A4%25EC%259E%2584&amp;sa=U&amp;ved=2ahUKEwic1K-MlLXnAhWJ62EKHbkEAnsQs2YwGHoECAYQBg&amp;usg=AOvVaw0u1ThW4rbBypwYVCLmF2_U\"><span class=\"XLloXe AP7Wnd\">프로그래밍 패러다임</span></a></span><span class=\"r0bn4c rQMQod\">: </span><span class=\"BNeawe\"><a href=\"/url?q=https://ko.wikipedia.org/wiki/%25EA%25B0%259D%25EC%25B2%25B4_%25EC%25A7%2580%25ED%2596%25A5_%25ED%2594%2584%25EB%25A1%259C%25EA%25B7%25B8%25EB%259E%2598%25EB%25B0%258D&amp;sa=U&amp;ved=2ahUKEwic1K-MlLXnAhWJ62EKHbkEAnsQs2YwGHoECAYQBw&amp;usg=AOvVaw3pU4sQDlvNqkCpGmjKGE1J\"><span class=\"XLloXe AP7Wnd\">객체 지향 프로그래밍</span></a></span><span class=\"r0bn4c rQMQod\">, </span><span class=\"BNeawe\"><a href=\"/url?q=https://ko.wikipedia.org/wiki/%25EB%25AA%2585%25EB%25A0%25B9%25ED%2598%2595_%25ED%2594%2584%25EB%25A1%259C%25EA%25B7%25B8%25EB%259E%2598%25EB%25B0%258D&amp;sa=U&amp;ved=2ahUKEwic1K-MlLXnAhWJ62EKHbkEAnsQs2YwGHoECAYQCA&amp;usg=AOvVaw1wvKzBlPdDp9N6qnG1gQY4\"><span class=\"XLloXe AP7Wnd\">명령형 프로그래밍</span></a></span><span class=\"r0bn4c rQMQod\">, </span><span class=\"BNeawe\"><a href=\"/url?q=https://ko.wikipedia.org/wiki/%25ED%2595%25A8%25EC%2588%2598%25ED%2598%2595_%25ED%2594%2584%25EB%25A1%259C%25EA%25B7%25B8%25EB%259E%2598%25EB%25B0%258D&amp;sa=U&amp;ved=2ahUKEwic1K-MlLXnAhWJ62EKHbkEAnsQs2YwGHoECAYQCQ&amp;usg=AOvVaw0DYSgqvtyMoOAxQKRD45Ia\"><span class=\"XLloXe AP7Wnd\">함수형 프로그래밍</span></a></span><span class=\"r0bn4c rQMQod\">, </span><span class=\"BNeawe\"><a href=\"/url?q=https://ko.wikipedia.org/wiki/%25EC%25A0%2588%25EC%25B0%25A8%25EC%25A0%2581_%25ED%2594%2584%25EB%25A1%259C%25EA%25B7%25B8%25EB%259E%2598%25EB%25B0%258D&amp;sa=U&amp;ved=2ahUKEwic1K-MlLXnAhWJ62EKHbkEAnsQs2YwGHoECAYQCg&amp;usg=AOvVaw1o1lbc4KgatKc0wnL10qwr\"><span class=\"XLloXe AP7Wnd\">절차적 프로그래밍</span></a></span><span class=\"r0bn4c rQMQod\">, </span><span class=\"BNeawe\"><a href=\"/url?q=https://ko.wikipedia.org/wiki/%25EB%25B0%2598%25EC%2598%2581_(%25EC%25BB%25B4%25ED%2593%25A8%25ED%2584%25B0_%25EA%25B3%25BC%25ED%2595%2599)&amp;sa=U&amp;ved=2ahUKEwic1K-MlLXnAhWJ62EKHbkEAnsQs2YwGHoECAYQCw&amp;usg=AOvVaw2s1vq_rSpC_ky2VdYuSZfq\"><span class=\"XLloXe AP7Wnd\">반영</span></a></span>\n",
       "최근 버전 출시일: <span class=\"r0bn4c rQMQod\">2019년 10월 14일</span>\n",
       "파일 확장자: <span class=\"r0bn4c rQMQod\">py,.pyc,.pyd,.pyo</span></div></div></div></div></div></div></div></div><div><div class=\"ZINbbc xpd O9g5cc uUPGi\"><div class=\"kCrYT\"><a href=\"/url?q=https://wikidocs.net/43&amp;sa=U&amp;ved=2ahUKEwic1K-MlLXnAhWJ62EKHbkEAnsQFjAZegQIAxAB&amp;usg=AOvVaw2S7OKyCAoe-5vh2ZyRSqp1\"><div class=\"BNeawe vvjwJb AP7Wnd\">1. 파이썬 시작하기 - 왕초보를 위한 Python 2.7 - WikiDocs</div><div class=\"BNeawe UPmit AP7Wnd\">https://wikidocs.net › ...</div></a></div><div class=\"x54gtf\"></div><div class=\"kCrYT\"><div><div class=\"BNeawe s3v9rd AP7Wnd\"><div><div><div class=\"BNeawe s3v9rd AP7Wnd\">그래서 여러분과 함께 배우기 쉬운 파이썬이라는 언어를 함께 공부해보려고 합니다. ... 이 강좌는 프로그래밍을 처음 하는 분들을 위해서 파이썬을 통해 프로그래밍의 ...</div></div></div></div></div></div></div></div><div><div class=\"ZINbbc xpd O9g5cc uUPGi\"><div class=\"kCrYT\"><a href=\"/url?q=https://namu.wiki/w/Python&amp;sa=U&amp;ved=2ahUKEwic1K-MlLXnAhWJ62EKHbkEAnsQFjAaegQIBBAB&amp;usg=AOvVaw1DrGPgVAtlMu9ahG63tZgj\"><div class=\"BNeawe vvjwJb AP7Wnd\">Python - 나무위키</div><div class=\"BNeawe UPmit AP7Wnd\">https://namu.wiki › Python</div></a></div><div class=\"x54gtf\"></div><div class=\"kCrYT\"><div><div class=\"BNeawe s3v9rd AP7Wnd\"><div><div><div class=\"BNeawe s3v9rd AP7Wnd\"><span class=\"r0bn4c rQMQod\">3일 전</span><span class=\"r0bn4c rQMQod\"> · </span>실제로도 미국 공과 대학교에서 컴퓨터 프로그래밍 입문 수업으로 Python을 많이 사용하기도 한다. 학습용으로 좋은 언어인 동시에 실사용률과 ...</div></div></div></div></div></div></div></div><div><div class=\"ZINbbc xpd O9g5cc uUPGi\"><div class=\"kCrYT\"><a href=\"/url?q=https://www.w3schools.com/python/python_intro.asp&amp;sa=U&amp;ved=2ahUKEwic1K-MlLXnAhWJ62EKHbkEAnsQFjAbegQIARAB&amp;usg=AOvVaw0y9P3UIwmyLBJiHc5QTMDV\"><div class=\"BNeawe vvjwJb AP7Wnd\">Introduction to Python - W3Schools</div><div class=\"BNeawe UPmit AP7Wnd\">https://www.w3schools.com › python › python_intro</div></a></div><div class=\"x54gtf\"></div><div class=\"kCrYT\"><div><div class=\"BNeawe s3v9rd AP7Wnd\"><div><div><div class=\"BNeawe s3v9rd AP7Wnd\">What is Python? Python is a popular programming language. It was created by Guido van Rossum, and released in 1991. It is used for: web development ...</div></div></div></div></div></div></div></div><div><div class=\"ZINbbc xpd O9g5cc uUPGi\"><div class=\"kCrYT\"><a href=\"/url?q=https://www.w3schools.com/Python/default.asp&amp;sa=U&amp;ved=2ahUKEwic1K-MlLXnAhWJ62EKHbkEAnsQFjAcegQIAhAB&amp;usg=AOvVaw3xF4ZbuSaX3FqDU_s4mHEV\"><div class=\"BNeawe vvjwJb AP7Wnd\">Python Tutorial - W3Schools</div><div class=\"BNeawe UPmit AP7Wnd\">https://www.w3schools.com › Python</div></a></div><div class=\"x54gtf\"></div><div class=\"kCrYT\"><div><div class=\"BNeawe s3v9rd AP7Wnd\"><div><div><div class=\"BNeawe s3v9rd AP7Wnd\">Python can be used on a server to create web applications. ... Our \"Show Python\" tool makes it easy to learn Python, it shows both the code and the result.</div></div></div></div></div></div></div></div><div><div class=\"ZINbbc xpd O9g5cc uUPGi\"><div class=\"kCrYT\"><a href=\"/url?q=https://www.codecademy.com/learn/learn-python&amp;sa=U&amp;ved=2ahUKEwic1K-MlLXnAhWJ62EKHbkEAnsQFjAdegQIBRAB&amp;usg=AOvVaw1chby62Bpf5fnrIQtkWHNI\"><div class=\"BNeawe vvjwJb AP7Wnd\">Python Tutorial: Learn Python For Free | Codecademy</div><div class=\"BNeawe UPmit AP7Wnd\">https://www.codecademy.com › learn › learn-python</div></a></div><div class=\"x54gtf\"></div><div class=\"kCrYT\"><div><div class=\"BNeawe s3v9rd AP7Wnd\"><div><div><div class=\"BNeawe s3v9rd AP7Wnd\">Learn Python, a powerful language used by sites like YouTube and Dropbox. Learn the fundamentals of programming to build web apps and manipulate data.</div></div></div></div></div></div></div></div><div><div class=\"ZINbbc xpd O9g5cc uUPGi\"><div class=\"kCrYT\"><div class=\"q4vBJc\"></div><span><div class=\"BNeawe deIvCb AP7Wnd\"><span class=\"FCUp0c rQMQod\">관련 검색어</span></div></span></div><div class=\"Q0HXG\"></div><div class=\"X7NTVe\"><a class=\"tHmfQe\" href=\"/search?ie=UTF-8&amp;q=python+%EA%B0%95%EC%A2%8C&amp;sa=X&amp;ved=2ahUKEwic1K-MlLXnAhWJ62EKHbkEAnsQ1QJ6BAgAEAE\"><div class=\"am3QBf\"><div><span><div class=\"BNeawe deIvCb AP7Wnd\">python 강좌</div></span></div></div></a><div class=\"HBTM6d XS7yGd\"><a href=\"/search?ie=UTF-8&amp;q=python+%EA%B0%95%EC%A2%8C\"><div class=\"BNeawe mAdjQc uEec3 AP7Wnd\">&gt;</div></a></div></div><div class=\"Q0HXG\"></div><div class=\"X7NTVe\"><a class=\"tHmfQe\" href=\"/search?ie=UTF-8&amp;q=python+-m+%EB%9C%BB&amp;sa=X&amp;ved=2ahUKEwic1K-MlLXnAhWJ62EKHbkEAnsQ1QJ6BAgAEAI\"><div class=\"am3QBf\"><div><span><div class=\"BNeawe deIvCb AP7Wnd\">python -m 뜻</div></span></div></div></a><div class=\"HBTM6d XS7yGd\"><a href=\"/search?ie=UTF-8&amp;q=python+-m+%EB%9C%BB\"><div class=\"BNeawe mAdjQc uEec3 AP7Wnd\">&gt;</div></a></div></div><div class=\"Q0HXG\"></div><div class=\"X7NTVe\"><a class=\"tHmfQe\" href=\"/search?ie=UTF-8&amp;q=python+%EC%84%A4%EC%B9%98&amp;sa=X&amp;ved=2ahUKEwic1K-MlLXnAhWJ62EKHbkEAnsQ1QJ6BAgAEAM\"><div class=\"am3QBf\"><div><span><div class=\"BNeawe deIvCb AP7Wnd\">python 설치</div></span></div></div></a><div class=\"HBTM6d XS7yGd\"><a href=\"/search?ie=UTF-8&amp;q=python+%EC%84%A4%EC%B9%98\"><div class=\"BNeawe mAdjQc uEec3 AP7Wnd\">&gt;</div></a></div></div><div class=\"Q0HXG\"></div><div class=\"X7NTVe\"><a class=\"tHmfQe\" href=\"/search?ie=UTF-8&amp;q=python+tutorial&amp;sa=X&amp;ved=2ahUKEwic1K-MlLXnAhWJ62EKHbkEAnsQ1QJ6BAgAEAQ\"><div class=\"am3QBf\"><div><span><div class=\"BNeawe deIvCb AP7Wnd\">python tutorial</div></span></div></div></a><div class=\"HBTM6d XS7yGd\"><a href=\"/search?ie=UTF-8&amp;q=python+tutorial\"><div class=\"BNeawe mAdjQc uEec3 AP7Wnd\">&gt;</div></a></div></div><div class=\"Q0HXG\"></div><div class=\"X7NTVe\"><a class=\"tHmfQe\" href=\"/search?ie=UTF-8&amp;q=python+//+%EC%97%B0%EC%82%B0%EC%9E%90&amp;sa=X&amp;ved=2ahUKEwic1K-MlLXnAhWJ62EKHbkEAnsQ1QJ6BAgAEAU\"><div class=\"am3QBf\"><div><span><div class=\"BNeawe deIvCb AP7Wnd\">python // 연산자</div></span></div></div></a><div class=\"HBTM6d XS7yGd\"><a href=\"/search?ie=UTF-8&amp;q=python+//+%EC%97%B0%EC%82%B0%EC%9E%90\"><div class=\"BNeawe mAdjQc uEec3 AP7Wnd\">&gt;</div></a></div></div><div class=\"Q0HXG\"></div><div class=\"X7NTVe\"><a class=\"tHmfQe\" href=\"/search?ie=UTF-8&amp;q=%ED%8C%8C%EC%9D%B4%EC%8D%AC+%EC%9E%A5%EC%A0%90&amp;sa=X&amp;ved=2ahUKEwic1K-MlLXnAhWJ62EKHbkEAnsQ1QJ6BAgAEAY\"><div class=\"am3QBf\"><div><span><div class=\"BNeawe deIvCb AP7Wnd\">파이썬 장점</div></span></div></div></a><div class=\"HBTM6d XS7yGd\"><a href=\"/search?ie=UTF-8&amp;q=%ED%8C%8C%EC%9D%B4%EC%8D%AC+%EC%9E%A5%EC%A0%90\"><div class=\"BNeawe mAdjQc uEec3 AP7Wnd\">&gt;</div></a></div></div><div class=\"Q0HXG\"></div><div class=\"X7NTVe\"><a class=\"tHmfQe\" href=\"/search?ie=UTF-8&amp;q=python+download&amp;sa=X&amp;ved=2ahUKEwic1K-MlLXnAhWJ62EKHbkEAnsQ1QJ6BAgAEAc\"><div class=\"am3QBf\"><div><span><div class=\"BNeawe deIvCb AP7Wnd\">python download</div></span></div></div></a><div class=\"HBTM6d XS7yGd\"><a href=\"/search?ie=UTF-8&amp;q=python+download\"><div class=\"BNeawe mAdjQc uEec3 AP7Wnd\">&gt;</div></a></div></div><div class=\"Q0HXG\"></div><div class=\"X7NTVe\"><a class=\"tHmfQe\" href=\"/search?ie=UTF-8&amp;q=%ED%8C%8C%EC%9D%B4%EC%8D%AC+%EB%AC%B8%EB%B2%95&amp;sa=X&amp;ved=2ahUKEwic1K-MlLXnAhWJ62EKHbkEAnsQ1QJ6BAgAEAg\"><div class=\"am3QBf\"><div><span><div class=\"BNeawe deIvCb AP7Wnd\">파이썬 문법</div></span></div></div></a><div class=\"HBTM6d XS7yGd\"><a href=\"/search?ie=UTF-8&amp;q=%ED%8C%8C%EC%9D%B4%EC%8D%AC+%EB%AC%B8%EB%B2%95\"><div class=\"BNeawe mAdjQc uEec3 AP7Wnd\">&gt;</div></a></div></div><div class=\"Q0HXG\"></div><div class=\"X7NTVe\"><a class=\"tHmfQe\" href=\"/search?ie=UTF-8&amp;q=%ED%8C%8C%EC%9D%B4%EC%8D%AC+%ED%99%9C%EC%9A%A9&amp;sa=X&amp;ved=2ahUKEwic1K-MlLXnAhWJ62EKHbkEAnsQ1QJ6BAgAEAk\"><div class=\"am3QBf\"><div><span><div class=\"BNeawe deIvCb AP7Wnd\">파이썬 활용</div></span></div></div></a><div class=\"HBTM6d XS7yGd\"><a href=\"/search?ie=UTF-8&amp;q=%ED%8C%8C%EC%9D%B4%EC%8D%AC+%ED%99%9C%EC%9A%A9\"><div class=\"BNeawe mAdjQc uEec3 AP7Wnd\">&gt;</div></a></div></div><div class=\"Q0HXG\"></div><div class=\"X7NTVe\"><a class=\"tHmfQe\" href=\"/search?ie=UTF-8&amp;q=%ED%8C%8C%EC%9D%B4%EC%8D%AC+%EB%8B%A4%EC%9A%B4%EB%A1%9C%EB%93%9C&amp;sa=X&amp;ved=2ahUKEwic1K-MlLXnAhWJ62EKHbkEAnsQ1QJ6BAgAEAo\"><div class=\"am3QBf\"><div><span><div class=\"BNeawe deIvCb AP7Wnd\">파이썬 다운로드</div></span></div></div></a><div class=\"HBTM6d XS7yGd\"><a href=\"/search?ie=UTF-8&amp;q=%ED%8C%8C%EC%9D%B4%EC%8D%AC+%EB%8B%A4%EC%9A%B4%EB%A1%9C%EB%93%9C\"><div class=\"BNeawe mAdjQc uEec3 AP7Wnd\">&gt;</div></a></div></div></div></div><footer> <div> <div class=\"ZINbbc xpd O9g5cc uUPGi BmP5tf\"><div class=\"nMymef MUxGbd lyLwlc\"><a aria-label=\"다음 페이지\" class=\"nBDE1b G5eFlf\" href=\"/search?q=python&amp;ie=UTF-8&amp;ei=pvM3XpzpEInXhwO5iYjYBw&amp;start=10&amp;sa=N\">다음 &gt;</a></div></div> </div> <div id=\"mCljob\"><div><a href=\"/url?q=https://accounts.google.com/ServiceLogin%3Fcontinue%3Dhttps://www.google.com/search%253Fq%253Dpython%26hl%3Dko&amp;sa=U&amp;ved=0ahUKEwic1K-MlLXnAhWJ62EKHbkEAnsQxs8CCHM&amp;usg=AOvVaw0nAztEFXq8ey11716ksd1N\">로그인</a></div><div><a class=\"ksTU4c\" href=\"https://www.google.com/preferences?hl=ko&amp;fg=1&amp;sa=X&amp;ved=0ahUKEwic1K-MlLXnAhWJ62EKHbkEAnsQ5fUCCHQ\">설정</a><a class=\"ksTU4c\" href=\"//policies.google.com/privacy?fg=1\">개인정보처리방침</a><a class=\"ksTU4c\" href=\"//policies.google.com/terms?fg=1\">약관</a></div></div> </footer><script nonce=\"/IRz2htWfa45WZfysAYn7Q==\">(function(){var hl='ko';(function(){\n",
       "var b=this||self,d=/^[\\w+/_-]+[=]{0,2}$/,e=null;var f=document.querySelector(\".l\"),g=document.querySelector(\"#sf\"),k=g.querySelector(\".sbc\"),l=g.querySelector(\"[type=text]\"),m=g.querySelector(\"[type=submit]\"),n=g.querySelector(\".sc\"),p=g.querySelector(\".x\"),q=l.value,r=[],t=-1,u=q,w,x,y;q||(p&&(p.style.display=\"none\"),z(!1));function z(a){if(k.classList.contains(\"esbc\")){var c=k.classList.contains(\"chsbc\"),h=k.classList.contains(\"rtlsbc\");a&&(n.style.display=\"block\",c?(g.style.borderRadius=\"20px 20px 0 0\",n.style.borderBottom=\"1px solid #DFE1E5\",m.style.borderRadius=h?\"20px 0 0 0\":\"0 20px 0 0\"):k.style.borderRadius=h?\"0 8px 0 0\":\"8px 0 0 0\");a||(n.style.display=\"none\",c?(g.style.borderRadius=\"20px\",n.style.borderBottom=\"none\",m.style.borderRadius=h?\"20px 0 0 20px\":\"0 20px 20px 0\"):k.style.borderRadius=h?\"0 8px 8px 0\":\"8px 0 0 8px\")}}function A(){g.querySelector(\"[name=oq]\").value=u;g.querySelector(\"[name=aqs]\").value=\"heirloom-srp.\"+(0<=t?t:\"\")+\".\"+(0<r.length?\"0l\"+r.length:\"\")}\n",
       "function C(){w=null;if(x){var a=\"/complete/search?client=heirloom-srp&hl=\"+hl+\"&json=t&callback=hS&q=\"+encodeURIComponent(x);\"undefined\"!==typeof ds&&ds&&(a+=\"&ds=\"+ds);var c=document.createElement(\"script\");c.src=a;if(null===e)a:{a=b.document;if((a=a.querySelector&&a.querySelector(\"script[nonce]\"))&&(a=a.nonce||a.getAttribute(\"nonce\"))&&d.test(a)){e=a;break a}e=\"\"}(a=e)&&c.setAttribute(\"nonce\",a);document.body.appendChild(c);x=null;w=setTimeout(C,500)}}\n",
       "function D(){for(;n.firstChild;)n.removeChild(n.firstChild);r=[];t=-1;z(!1)}function E(){var a=n.querySelector(\".scs\");a&&(a.className=\"\");0<=t?(a=n.childNodes[t],a.className=\"scs\",q=a.textContent):q=u;l.value=q}l.addEventListener(\"focus\",function(){f&&(f.style.display=\"none\")},!1);l.addEventListener(\"blur\",function(){D();f&&(f.style.display=\"\")},!1);l.addEventListener(\"keyup\",function(a){q=l.value;y=!1;13==a.which?A():27==a.which?(D(),f&&(f.style.display=\"\"),q=u,l.value=q):40==a.which?(t++,t>=r.length&&(t=-1),E()):38==a.which?(t--,-1>t&&(t=r.length-1),E()):(a=q)?(p&&(p.style.display=\"\"),x=a,w||C(),u=a):(p&&(p.style.display=\"none\"),z(!1),D(),u=\"\",y=!0)},!1);m.addEventListener(\"click\",A,!1);p.addEventListener(\"click\",function(){l.value=\"\";p.style.display=\"none\";z(!1)},!1);k.addEventListener(\"click\",function(){l.focus()},!1);window.hS=function(a){if(!y){D();0==a[1].length&&z(!1);for(var c=0;c<a[1].length;c++){var h=a[1][c][0],v=document.createElement(\"div\");v.innerHTML=h;v.addEventListener(\"mousedown\",function(B){B.preventDefault();return!1},!1);h=h.replace(/<\\/?b>/g,\"\");v.addEventListener(\"click\",function(B){return function(){t=B;A();E();D();g.submit()}}(c),!1);n.appendChild(v);z(!0);r.push(h)}}};}).call(this);})();(function(){\n",
       "function b(a){for(a=a.target||a.srcElement;a&&\"A\"!=a.nodeName;)a=a.parentElement;a&&(a.href||\"\").match(/\\/search.*[?&]tbm=isch/)&&(a.href+=\"&biw=\"+document.documentElement.clientWidth,a.href+=\"&bih=\"+document.documentElement.clientHeight)}document.addEventListener(\"click\",b,!1);document.addEventListener(\"touchStart\",b,!1);}).call(this);</script></div><!-- cctlcm 5 cctlcm --><textarea class=\"csi\" name=\"csi\" style=\"display:none\"></textarea><script nonce=\"/IRz2htWfa45WZfysAYn7Q==\">(function(){var e='pvM3XpzpEInXhwO5iYjYBw';var sn='web';(function(){\n",
       "function y(a){var c=window,d=document;if(!a||\"none\"==a.style.display)return 0;if(d.defaultView&&d.defaultView.getComputedStyle){var b=d.defaultView.getComputedStyle(a);if(b&&(\"hidden\"==b.visibility||\"0px\"==b.height&&\"0px\"==b.width))return 0}if(!a.getBoundingClientRect)return 1;var f=a.getBoundingClientRect();a=f.left+c.pageXOffset;b=f.top+c.pageYOffset;var q=f.width;f=f.height;var k=0;if(0>=f&&0>=q)return k;0>b+f?k=2:b>=(c.innerHeight||d.documentElement.clientHeight)&&(k=4);if(0>a+q||a>=(c.innerWidth||\n",
       "d.documentElement.clientWidth))k|=8;return k||1};var z=e,A=sn,G=[];function H(a,c,d){a=\"/gen_204?atyp=csi&s=\"+(A||\"web\")+\"&t=\"+a+(\"&lite=1&ei=\"+z+\"&conn=\"+(window.navigator&&window.navigator.connection?window.navigator.connection.type:-1)+c);c=\"&rt=\";for(var b in d)a+=c+b+\".\"+d[b],c=\",\";return a}function I(a){a={prt:a};window.wsrt&&(a.wsrt=window.wsrt);return a}function J(a){window.ping?window.ping(a):(new Image).src=a}\n",
       "(function(){for(var a=+new Date-window.start,c=I(a),d=0,b=0,f=0,q=document.getElementsByTagName(\"img\"),k=\"&imn=\"+q.length+\"&biw=\"+window.innerWidth+\"&bih=\"+window.innerHeight,K=function(h,r){h.onload=function(){b=+new Date-window.start;r&&++v==f&&(d=b,B());h.onload=null}},B=function(){k+=\"&ima=\"+f;c.aft=d;J(H(\"aft\",k,c))},v=0,L=0,g=void 0;g=q[L++];){var t=y(g),u=1==t;u&&++f;var m=g.hasAttribute(\"data-deferred\"),M=!m&&(g.getAttribute(\"data-src\")||g.getAttribute(\"data-lzysrc\"));G.push([g.id,t,m,M]);m=(t=g.complete&&!m)&&Number(g.getAttribute(\"data-iml\"))||0;t&&m?(u&&++v,m&&(g=m-window.start,u&&(d=Math.max(d,g)),b=Math.max(b,g))):K(g,u)}d||(d=a);b||(b=d);v==f&&B();google.rglh&&google.rglh();window.addEventListener(\"load\",function(){window.setTimeout(function(){c.ol=+new Date-window.start;c.iml=b;var h=window.performance&&window.performance.timing;h&&(c.rqst=h.responseEnd-h.requestStart,c.rspt=h.responseEnd-h.responseStart);for(var r=h=0,C=0,D=0,E=0,N=0,n;n=G[N++];){var p=n[0],l=n[1],w=n[2];n=\n",
       "n[3];var O=0==l,x=l&8,F=l&4;l=1==l||2==l||x&&!F;p=google.ldi&&p&&google.ldi[p];!l||x||w&&!p||++C;w&&(l&&p&&++h,F&&!p&&++r);O||x?n||++E:w||++D}k+=\"&ime=\"+C+(\"&imex=\"+D+\"&imeh=\"+E)+(\"&imea=\"+h+\"&imeb=\"+r);J(H(\"all\",k,c))},0)},!1)})();}).call(this);})();</script><script nonce=\"/IRz2htWfa45WZfysAYn7Q==\">function _setImagesSrc(e,c){function f(b){b.onerror=function(){b.style.display=\"none\"};b.src=c}for(var g=0,a=void 0;a=e[g++];){var d=document.getElementById(a)||document.querySelector('img[data-iid=\"'+a+'\"]');d?f(d):(window.google=window.google||{},google.iir=google.iir||{},google.iir[a]=c)}};</script><script nonce=\"/IRz2htWfa45WZfysAYn7Q==\">(function(){var s='data:image/jpeg;base64,/9j/4AAQSkZJRgABAQAAAQABAAD/2wCEAAkGBwgHBgkIBwgKCgkLDRYPDQwMDRsUFRAWIB0iIiAdHx8kKDQsJCYxJx8fLT0tMTU3Ojo6Iys/RD84QzQ5OjcBCgoKDQwNGg8PGjclHyU3Nzc3Nzc3Nzc3Nzc3Nzc3Nzc3Nzc3Nzc3Nzc3Nzc3Nzc3Nzc3Nzc3Nzc3Nzc3Nzc3N//AABEIAIAAgAMBEQACEQEDEQH/xAAbAAACAgMBAAAAAAAAAAAAAAAAAQIGBAUHA//EAEkQAAEDAgEFCA0JBwUAAAAAAAEAAgMEBREGEiFBkQcTMVFSYXHRFBYiMlNVcnSBkpOhsRUkNVSUsrPS8Bc0NmRzgsEjM0JFYv/EABsBAQACAwEBAAAAAAAAAAAAAAABBAMFBgIH/8QAMxEAAgECAggEBQUAAwAAAAAAAAECAwQRURITFCExMlKxBUFx0RUzgZGhIjRCYfAjweH/2gAMAwEAAhEDEQA/AO4oAQAgBAau/X2isdMJax5LnaI4maXPPN1rJSpSqvCJiq1Y01jI55c8vbtVuIo97o49WYM9/pJ6lsIWdOPHeUJ3dSXDcaCou9zqCTPcat+OozOw2YrOqcFwSMDqTfFsw3yPecXvc7ynEr2keRMlkjOMcj2Hja4hQSm/IzKa+XalIMFzq2Yat9JGw6FjdKD4o9qpNcGWO07olxpntbc4o6uLW5ozHj/B2DpVedpF8u4sQu5Lm3nRbPdqO8UYqqCXfGE4OB0OYeIjUVRnCUHhIvQnGaxRnrwewQAgBACAEAIAQHGMs6yWsylrjKSRDIYWDktbo+OJ9K3FvFRpLA1FxJyqPEtmSmRlumtMFZcozUS1MYkDc8hrGnSODXgqle6mpuMfItULaDipS8yu5dZOw2Krhkoy7sWoBzWOOJY4YaMeLSrFtWdRNS4owXFFU2sODKsSrBWBCRKAIoSb3Ii6yWvKGlzXHeamRsErdRzjgD6CR71gr09OD/oz0Z6E1/Z2tao2gIAQAgBACAEAIDh+U/8AEVz86f8AFbqj8uPoaat8yRZcmcu4rdbYqK5U8zxA3MikhwJLRwAgkcHAqta0cpOUWWKN0oRUZI0WV2Ub8oayNzYjDTQgiNhOJOPCTz6FnoUdUv7ZirVta/6NCsxhEoAihIlBJl2b6at3nkP4jV5nyv0fYmPMvVd0d+WmNyCAEAIAQAgBACA53eMgrjXXWrq4qqlayeZ0jQ7OxAJ16Ffp3cYwUWuBQqWkpTcseJhHc3uv1yi2v6l722GR52KeYv2bXT65RbX9SjbYZDY55h+za6fXKLa/qTbIZDY55lLlYY5Xxkglji0kc2hWk8ViVmsCCASEmXZvpq2+eQ/favE+V+jJjzL1Xc7+tObgEAIAQHnUTR08L5pntZEwFz3uOAaBrKlJt4IhtJYs5tft0CqmldFZW7xCDgJntxe7nAOgfHoWwpWcUv18TX1LuT5Cuvyjvb3FxutZieKUgbArOpp9KK+uq9RE5Q3rxrW+3cmpp9KGuqdTI9sV68a1vt3KNTT6SddU6mHbDevG1b7dyjU0+lDXVOoXbFe/G1b7dyamn0k66p1C7Yr342rfbuUamn0jW1Oo1jnFzi5xJcTiSdayHkigEVAMuzfTVt88h/EavM+V+j7HqPMvVdztN3JE0eDiO5PAedcJ41JqpDB+R0lqk4s1+e/lu2rTayebLeij3p66eAjui9utrlbtvEa9B8cVkzHOhCZu4JmTxCSM4g+5dXQrwr01OHA1s4ODwZQN068Oz4bRC4hubvs+B4eSPdjsW1sqf82a28qfwRQFfKQkBElQAQkSgCKEiUEiQCKgkSAy7N9N2wfzkP4jV4nyv0Z6jzL1Xc7Tef8Adj8k/FcH4382HodLacrNctKXBISZ1on3uo3onuZPiFt/B7hwrap8Jd1/uxVuqeMdLI5XlNVGsyguE5JIM7mt6B3I9wX0KjHRpxRytZ6VRs1ZWQxkSVABCRKAIoSJQSJAJQSJAIlQSWTc/tclyykp5M0mGkInkdxEd6OnHDYVguJ6MH/ZmoQ0p+h027PzqoN5LQPSuE8ZnpXCivJHR2kcIYmCtSWhFQCUL97mjfyXArLQnq6sZ5NETjpRaOTTSGSaSQ8L3F20r6wjiW8XieZKEAhIlAGxj5ZGxxMc97tDWsaXE9AChvAlLE3MOSGUU7Q+O1S5p5b2MOxzgVhdxSXmZlQqvyPTtJyl8Vn7RF+ZNopZ9ydnq5dvcRyIyl8Vn7RF+ZRtFLPuNRVy7e4u0jKXxUftEX5k2iln3Goq5dvcO0jKU/8AVn7RF+ZRtFLMnUVMuxtLZubXOeQG4zw0sWsMOe/q96xyuorlMkbWT5i/UFDb8m6AU1DHm6zicXSO4yf1zLT33iEaK0pvf5I2Nvb4/pjwMB73SPc9xxc44kri5zlUk5y4s3EYqKwRArwSJCREoScpnYY5pIzwseWn0HBfXE8VicM1g8CCkCUAlBFJUTxwQsL5ZHBjGjWScAobSWLPSTbwR2TJ2wUWTdC0kNfVuaN9nI0uPE3iHMtHeXkYRc6jwRtre3w3JbzLluMpP+mAwc4xK5qt4xVk/wDjWC/Jso20VxPA1tT4Y+qOpVfiV31/hexk1FPIRrqrwx9UdSfErvr/AAvYainkLs6q8MfVHUo+JXfX+F7E7PTyDs6q8MfVHUnxK76/wvYbPTyIOral2gzOw5sAvL8QupcZvt2PSoU15HgSXHFxJPGVUbbeLMqWBErySJCREoSRUEnOspac0mUFxgIwzah5HQTiPcV9ZpSxppnE1VozaNYshjFihJZtzimZU5VQl4x3iJ8w6Rg0feVa6bVJli2SdVHSbjKX1Bb/AMWaMOdcF4rXc67h5ROit4YQxzMQrVlgRKEiQkSgESUJEhIsVAEhIihIioJJU7N9qIo8O+cAs1vDWVoQzZ4qS0Ytle3UrU+KsgusbSY5W71KRqcOA+kfBfSrOpinBnK3dPfplExV0piUElv3K/4ol8xk+/Gq138r6+5Ytfm/R/8ARe6v96l8or5ze/uZ+rOlpciPElVTKIoBKCSJKEiQkRKgCQkSEiJUEkSgNpY6YukNQ4dy3Q3nOtbzwW2cpuu+C3L18/sUryoktBGzuNFT3CjlpKtgfDKMHN/XAV08ZOLxRrJRUlgzk1/yJulrlc6khkraXHuXxNxeB/6aNOPR7lsadzCa37ma6pbzhw3or5oK0HA0VUD/AEHdSzaUczFoyyLbuYUtRDlLK6anmjb2FIM58ZaMc+PRpVa6knT3Z+5YtotVMcPL2LrVn51L5RXzu9/cz9WdJS5EeKqmQSEiUEnr2JUnggfsVvYbnoZj11PMRo6nwD9ijYbnoY11PMXYdT4B+xNguehk6+nmHYdV4B+xNguuhjX08yPYdV9XfsTYLroZOvpdQuwasnRTv2IvD7p/wY2il1GXS2iR7gak5jeSDpKv23g1STxrbll5/wDhhqXkUsIbzdxsbGwMYAGjQAF0cIRpxUYrBI1zbbxZJeyAQAgBAV6sPzqXyiuLvf3M/Vm1pciPFVDIIoSRQkzflWoA7yL1T1ra/GrleUfs/crbJTzYfK1TyYvVPWnxq5yj9n7jY6eb/wB9BfK9TyYfVPWnxq6yj9n7jY6eb/30JRXWofLGwtiwc4A4NOs9K90vGLmVSMWo4NpcH7kStKai3izeLpzXAgBACAEAIAQAgK7WfvcvlFcVe/uZ+rNrS5EeKqmUSEkSVAEhJkUNKauYszs1rRi4q7Y2buqmjjglxMVaqqccTMq7S1kLnwvdi0YkO04rZ3fg8IUnOk3is/MrUrtuWEkaunPziH+o34rR2/zoeq7l2pyMti7w0gIAQAgBACAEAIDRXOEx1Jfgc1+kHnXJ+K28qVdy8pbzZW01KGGRh4rWFkiVAEhIYoDIt1WKSYlwJY4YHDUr/h94rWo3LgzDXoupHdxM6rusW8ObCS9zhhwYYLbXfi1HVuNJ4t/gq0rWeljLcjV0MbpauFrdTgTzAFaKypSq3EIxzT+iZdrSUabZal3BpgQAgBACAEAIAQHnLEyZhZI3OadRWKrRhVhoTWKPUZOLxRqp7VI3EwODhxO0FaCv4LNPGi8Vk+P++xdhdr+SMN9LUs76F/oGK1s7K4hzQffsWFWpvgzyLHjhY4f2lYHTmuMX9jIpJ+ZHNeeBjj0BRq5vyf2JxWZJtNUP72CQ/wBpWWNrXlywf2Z5dWC4syYbTUyHGTCIc+kq9R8HuJ75/pX3f49zDO7guG83FHRxUrCI8STwuPCV0FpZ0raOEOL4soVa0qrxZkq2YgQAgBAf/9k\\x3d';var i=['dimg_1'];_setImagesSrc(i,s);})();</script><script nonce=\"/IRz2htWfa45WZfysAYn7Q==\">(function(){var s='data:image/jpeg;base64,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\\x3d\\x3d';var i=['dimg_3'];_setImagesSrc(i,s);})();</script><script nonce=\"/IRz2htWfa45WZfysAYn7Q==\">(function(){var s='data:image/jpeg;base64,/9j/4AAQSkZJRgABAQAAAQABAAD/2wCEAAkGBw8SEA8QDw8QDxEQFg8REBAQEg8QDxAOFxEWFhUSFRUYHSggGRolGxUTITEiJSkrLi4uFyAzODMtNygtLisBCgoKDg0OGxAQGyslHSEzLSsrNS0rMi0vLTUtLTMyLzUwLS0zOC0tNSstLS0tKy0tLS01LS0vLS0rKy0tLS0tLf/AABEIAHcBpwMBEQACEQEDEQH/xAAbAAEAAgMBAQAAAAAAAAAAAAAABAUBAgMHBv/EAEIQAAIBAgEIBwQGCAcBAAAAAAABAgMRBAUSITFBYXGBBiIyUZGhsRRSwfAHI0JygrITM1RVc5LC0hYkNENT0eEV/8QAGwEBAAIDAQEAAAAAAAAAAAAAAAIEAQMFBgf/xAAxEQEAAQMBBgQEBQUAAAAAAAAAAQIDEQQFEhMxMlEhQVJxIiNhkRQzseHwFUJTgaH/2gAMAwEAAhEDEQA/APcQAAAAAAAAAAAAAAAAAAAAAAAAAAAAAAAAAAAAAAAAAAAAAAAAAAAAAAAAAAAAAAAAAA2BBrZYwsO3iKK3Z8b+pOLdc8olCblEc5hw/wAR4H9qo/zIlwbnaUeNb7wlYfKeHqNKnXpTb1KM4t+FyE0VRzhOK6Z5SlkUgAAAAAAAAAAAAAAAAAAAAADRVVeyA3AAAAAAAAAAAAAAAAAAAAAAAAAAAAAAANak1FOT1JNvgkIjJM4eY5+LynXnGM82C62a21SpwvoulrZ1MUaenPm5fx6irHkqcv5Gq4SooVc15yzoShfNkr6de1d282WrsXIzDVctTbnEqiTNiDlID7boF0qqqtDCV5upCp1aUpO8qc7aI32xdrcbFPU2YxvQu6e9Od2Xphz18AAAAAAAAAAAAAAAAAMNpawMgYYEWi+sgJYAAAAAAAAAAAAAAADVz3MAprTu1gZT2gZAAAAAAAAAAAEfKP6mt9yp+VkqOqEaumXk3RzL0sJUc1FTjNKM4t2btpTT2M6t61FyMOVZuzbnLTpR0gljKkZOKpxppxhBO70u7bfe7LwFm1FuMF67NycqKTNrW5yZgTejz/zmF/i0vzIhd6JbLXXD3g47rgAAAAAAAAAAAAAAAABCxD6z5egEyGpcgDAhUH1kBOAAAAAAAAAAAAAAAAayWlbr+gGjg78b34bAN4LQuCA2AAAAAAAAAaVasYxcptRjFNuTdkl3mYiZnEMTMRGZfHZQ6f04yaoUXUS+3N5ifBaXbiXKNHMx8UqdWsj+2ECp9IVRpp4Wm07ppzlZru1E/wAHHdD8ZPpVj6UYf92YX5/CbOBV65Q49Poho+lWH/deF+fwmOBV65OPT6IUeW8pQrzjOGHp4ZKOa4U+y3dvOehadNuRtoommMTOWquuKpzEYVcmTRTejr/zmF/i0vzI13eiU7XXD3CrjGpNZq0bzyV/aVVu5NEU8vq79NmJjOSnjle0lbeLW1aZqxXGCqxPkmHWVwABiUkld6AI08X7q8QNf01T3fJgZhi/eXgBKTA0rVM1XtcDXD1XK99lgOwGGBGpYltpWWkDtWm0rpXAg1J3bb0AdliZe76gS3qAr6EusgJE8Wtiv6Aae1vuXmB3o11Lc+4DqBzq1VHX4AR/aZPUvJsB7VJa15NMCRSqqWrwA6AcqteMdevuQHH2mT7MfVgavETWteKA7UcQpaNT9QO4AAAAAAAAAAAAAPifpIyg1Glh4uynepPek7RT3Xu+Re0dHjNSjrK/CKXn8mX1BykzDLlJgc5MMuUpGGXOTAsOi8G8bhEtLdWn+a5ru9Etlrrh7Nin15cT59rKvn1+70tuPhhwbKky2YWuT6l4LdoPS7Mu8SxET5eClfpxV7pJ0GkAh5QfZ5/ADpgorNvbTp0gSAImOp6M5cGAwNTXHmgN8d2eaA0yf9rkBLAxLUwK3Cvrx+dgFmBW4t9eXL0QFhT1LggMy1MCrpRu0u8Cxp0Yx1LntA2qQTVmBWxk4y4MCzlKybewCtTc5cfJAWMIpKy0AJwTVmBXZzhLh5oCyTurraBWUdMlfTdgWiA1nFNWYFZqlbufxAtQAAAAAAAAAAAAAeW/SDVvjZL3IUorhZy/qZ1NJGLbl6ufmPl5SLCu5SYHXBYCvWebQpTqta8yLaXF6lzI1V0085Tpoqq5QnvojlH9kn/NT/uNX4i33bOBc7Ocuh+Uv2Sf81P+4ce33OBc7NY9C8pN/wClmuMqdvzDj2+7PAudn2XRDol7HL2jEuMsQk1SpwedGldWcm9srNo4+0tqUW6N2nmv6TRzneqfQykeMqqmZzLsRDRshMpYT8kS7a4P1O3sWvrp9lXVRylZHeVACFlJ9j8XwA64HsLiwJAHHF9iXztAhYKXXXP0AlZQ7PNAc8m6pcgJoGJamBV4R9ePzsAtQKvGvry5eiAsqepcF6AZlqYFXhH14/OwC1AAVNd9eXFgT8Y+pLl6gRcn9vk/VAWIACtx/b5ICXhX1FzAgYZ9ePEC2AAVNZ9eX3n6gWwAAAAAAAAAAAAAPLPpGpOONb9+nTkuV4/0nT0k/LczVx8x8pKRZVk3o/kt4rE06CbSldzkvs01pk/hxaNd25uUzU2WqN+qKXrFCEKUFSoRVOnHQlHW97e1nidZtG5drndnEfq9DasU0U4wz+kl7z8WUONc9U/du3Y7MOrL3n4sxx7nqn7s7sdmrqy95+LITfueqfuzFEdnJs0TKcQ0bITKWGrZGZSwscirtvgvU7uw6eur2hU1c8oWh6BSAIGVH2PxfADtk/sLiwJIHDHStCW+y8wIOAV5rddgSspdjmgNMlvtcviBOAxPU+YFTg314/OwC3Aqcc/rJcvyoC0p9lcF6AZlqYFRg314/OwC4AAU2IfXlxYFni43hLhfwAgYCfXW9NfPgBagAKrHz673WQE/DRtCK3AVuFfXjxAuAAFPWf1kvvP1AuAAAAAAAAAAAAAAfEfSdk1ypUsRFX/RNxnbZCWp8E/UuaSvEzTPmp6ujMRV2eaSZ0FB9Z9GH+rrfwKn54FHaH5M/wA8lvRfmPvD5+9C1bIzLOGrZGZZw0bITKWGjZCZSw1bITKWGjZGZZwv8nUc2mr631nxZ7LZunmzp4iec+M/7cu/XvVpRfaQCuys+x+L4Aa4LGRis2SfECb7XT156Ar8di8+yjqXmwJeT6Gas565eSA6Y2k5QaWtaUBW4TEZktK0PQ1tAso4um/tLnoA418fBJqPWfkBCwL+sh87ALoCpylBqbeyVreFgJ2FxEXFaUmkk09YHeWpgU2Cf1kPnYBdAAKTEvry4sC7Ap8VRdOV1q1xfduAn0MZCS0tRe1PQAr4yEVoak9iWkCDhKLqSu9V7t977gLZgUuEf1kOIF2AApK7+sl95+oF2AAAAAAAAAAAAADWpBSTjJKUWmmmrpp600InBzfH436OsJOTlTqVaKf2ItSiuGcrlqnV1xHj4qtWkonl4JfR/ofSwdSdWFapUcoShaaglZtO+hbjTqr83LUxMd/0bLNiLdWYlKbPDZdnDRsjMs4dKMabTz5OL2WV9BYsUaeqmeLXMT7I1TXE/DGW7p0P+SXgbeDof8k/b9kd676WI0KDaSqyu9C0f+CnTaKuqKYuTmfp+zM13YjO6kf/ACI+/LyL39Ct+uf+NP4urs6UMmQi03eTWq+o3afY9i1VFU5mY7o16quqMck46ysAAK3LH+3+L4Ab4KhGVNZyvpenaBl5MjslJeAHWjgoR02u+9gSQAEevg4S0tWfetAHFZNh70vIDtDB046VG773pArMBpqR5+gF2BpUpqStJXQEV5Nh3yXgBMsBHpYKEWmr3W8CSAAjTwMG23e706wJIGJxTVmrreBDnk6D1Nrz9QMwydBa7vnZeQEuMUlZKy3AZAjU8DBNNXut4EkABGlgYNuTvdu+vaBJAAAAAAAAAAAAAAAAa1Oy+D9DXd6KvaWaecKBs8Vl1MNWyMylho2QmWcJuAwKnFyk3rskjrbP2dTqKJrrn6RhXvX5onEOCo5laMb3tKPgVYsTZ1tNvOcTDZv79qavo+gPZOWAAAACry0/1f4/6QJGSv1a4v1AmAAAAAAAjY7EqEXp6zTSW3iBByPTvJy2JW5sC3AAAAAAAAAAAAAAAAAAAAAAAAAAAAAAAAAAAAAAKrGYCSbcFdd21Hm9bsuumqarMZjt5wvWr8TGKldO61prjoOLXFVM4qjHutRieTm2a5lPCRhK1WN1Tu77LXV+8u6O/qreabGZz9MtN2i3PjWscDgZKX6So7y1pb+9na0Ozq6bnHvzmr+c1W9fiadyjksTtqgAAAAIOVMLKea42ebnXV7PTb/oDpk2DjTSkmnd6GBKAAAABgVEpYptqzXBKPmBmjkuTd6kuSd2+YFpTpqKSirJAbAAAAAAAAAAAAAAAAAAAAAAAAAAAAAAAAAAAAAMXAxnrvQGspQeuz42I1U01c4yzEzHJooUu6HgjXGmsx47sfZLiVd3SMo7GjbERHJDLa6MjIAAAAAAAAAAAAAAAAAAAAAAAAAAAAAAAAAAAAAAAAAAAAAAAAAAABhgR6spAQq057wINarV3gRJ1q28DWNavvAk0qtXeBNo1Km8CfRlICVBvaBsAAAAAAAAAAAAAAAAAAAAAAAAAAAAAAAAAAAAAAAAAAAAAAAAAAAAauC7gNXQj3Aa+zQ7gHssO4DKw8O4DZU49wGyQGQAAAAAAAAAAAAAAAAAAAAAAAAAAAAAAAAAAAAAAAAAAAAAAAAAP//Z';var i=['dimg_5'];_setImagesSrc(i,s);})();</script><script nonce=\"/IRz2htWfa45WZfysAYn7Q==\">(function(){var s='data:image/jpeg;base64,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\\x3d';var i=['dimg_7'];_setImagesSrc(i,s);})();</script><script nonce=\"/IRz2htWfa45WZfysAYn7Q==\">(function(){var s='data:image/png;base64,iVBORw0KGgoAAAANSUhEUgAAABgAAAAYAgMAAACdGdVrAAAADFBMVEVMaXFChfRChfRChfT0tCPZAAAAA3RSTlMAgFJEkGxNAAAAL0lEQVR4AWPADxgdwBT3BTDF9AUiuhdC6WNK/v///y+UggrClSA07EWVglmEFwAA5eYSExeCwigAAAAASUVORK5CYII\\x3d';var i=['dimg_9'];_setImagesSrc(i,s);})();</script><script nonce=\"/IRz2htWfa45WZfysAYn7Q==\">(function(){var s='data:image/png;base64,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';var i=['dimg_11'];_setImagesSrc(i,s);})();</script><script nonce=\"/IRz2htWfa45WZfysAYn7Q==\">(function(){var s='data:image/png;base64,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';var i=['dimg_13'];_setImagesSrc(i,s);})();</script><script nonce=\"/IRz2htWfa45WZfysAYn7Q==\">(function(){var s='data:image/png;base64,iVBORw0KGgoAAAANSUhEUgAAAHAAAABwCAMAAADxPgR5AAAAclBMVEX33x4AAAD/5h/u1x0tKQaWiBL/6B/64R785B+OgBHLuBnhyxuUhhLw2h1UTArSvhrcxxtFPgjl0ByIfBEPDgIgHQSklBR5bQ9sYg2/rRdLRAmBdBDXwhoaFwM8NweejxOzohZbUgs2MQYmIwVhWAypmhQcg19NAAADMklEQVRoge2Z25qqIBSABZsFgUxqNWYnq9m+/ytuzVJEMA26mY//ajKG38VhcSgIPB6Px+PxeDwej8fj8Xg8Ho/H82cgNQ7ro4AbAOu+JGHKOU9F9ZcjX75ePoiE8h0IdvheoIrN7bpmgeaN5oMj9GQb9r8JvxZI5lwG1IHwq61w0RPi/Bep3FbwMSFdD3Q1pbXRIKQHrQ+hH1ujXgiFwYdQbtmPWiGJjT6EQrv5oRXCvxHht12IOqES4LY/O3ZWPq0QIqn+7BiGKds9P/7mlqNGK9x3vgtUiZRQyJuPB2E793XCsGvD7BnP3Xhj9hlVIyR80z5jbUBwQNGHUps8ZngXUXi0z2uvhSspJjfrk06YntpnSydRvRAGQpp4sZNF8IVQnhYnBwPztbB7Vk+91KlSm9qOshBtDjE4mA8jwgB/oz5XRl31pVZIV0jlXAo3A9awAGsW/N9CuIjSsMUg16ERbUtqP3xMQqF2453EPr2Zdm0kyHRGVHxmE1Ub6UVrzCw70iist97aIHd2MY4IA4JjnTKyMo4Ja2W63gyMR5uxOi6slaK8KcK9TYivhHURwq7uQpwgrFIdXe1l4dJipE4SVkpcSsKFRZtOFD72iU8sVivzxFf7CXadkM/rRLkukxB4rFRKpRBXs4TA0q48dCfdW3epQGmBzkqlRFok2QwhFpmcnaSGStqqIa/3bYf+0CDsnQgJlHXmyLtxfW5ruT6GAvBr86B/vJYX5cl9CMfk/g/b9FE5ljqmObhQ0TVyJO3XQN52TBylVLQvueBQ32gBl+5GLnU18kmmSmIrwPerL9qbFcm0eSh3QtVDLI7z3t1I0064f9xOfhhPOSvP8sNiYoQhGuNxdid8tNSdqfcKvfQ04PIcM/qVXiKbnNmodmfUkLRvDfpLqI6puqq5wpOxFukkqNuVSrAZmZSmw/W7oXeJ1j/NKMy7xqChunw3KFdowIxNwWYuTYQsh5WcBrXQIBoWq9i9cW0CXN2KFURTCw6KharL+FtHRQLikj0zTLJm1PDSFOKfXZuJknVO8Nt7GYoBh5xzAYBH2ohU5WjI45gH4wUnMfXXAdc/I3g8f53/HKgjPSNgsTAAAAAASUVORK5CYII\\x3d';var i=['dimg_15'];_setImagesSrc(i,s);})();</script><script nonce=\"/IRz2htWfa45WZfysAYn7Q==\">(function(){var s='data:image/jpeg;base64,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';var i=['dimg_17'];_setImagesSrc(i,s);})();</script><script nonce=\"/IRz2htWfa45WZfysAYn7Q==\">(function(){var s='data:image/png;base64,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';var i=['dimg_19'];_setImagesSrc(i,s);})();</script><script nonce=\"/IRz2htWfa45WZfysAYn7Q==\">(function(){var s='data:image/jpeg;base64,/9j/4AAQSkZJRgABAQAAAQABAAD/2wCEAAkGBwgHBgkIBwgKCgkLDRYPDQwMDRsUFRAWIB0iIiAdHx8kKDQsJCYxJx8fLT0tMTU3Ojo6Iys/RD84QzQ5OjcBCgoKDQwNGg8PGjclHyU3Nzc3Nzc3Nzc3Nzc3Nzc3Nzc3Nzc3Nzc3Nzc3Nzc3Nzc3Nzc3Nzc3Nzc3Nzc3Nzc3N//AABEIAHAAbwMBEQACEQEDEQH/xAAaAAACAwEBAAAAAAAAAAAAAAADBAABAgUH/8QASxAAAQMCAwQCDAgLCQEAAAAAAQIDEQAEBRIhEzFBURQiFSMyUmFxgZGSodHSNlNUVXOCk7EkQkNicoOio8HC4TM1RHSUldPi8CX/xAAYAQEBAQEBAAAAAAAAAAAAAAAAAQIDBP/EADQRAQABAgIFCgUEAwAAAAAAAAABAhEDEiExUZHRBBMiQVJTkrHS8DJhoaLhM3GBwSRCwv/aAAwDAQACEQMRAD8A9it7BgNDpNraFzjs2QE7+E+CgL0Cy+SW/wBkn2UAzh1vlcy29qCe4JYT1dPXQZOHWwSjtFuQlMKllPW08WlAri9krK0mwtGAVL669ghWUDXcee6umHFOnM4404miKGbu0UlYDNtZISUDMDaFSgfARpz4VznW6xqCbs7l3qIaw0b9TYrSQOBk6E+SiiDDLwGQjCjIMg22k6REcN/PhrQbt8NuUrR0hrC1IHdFNscx08cb6CO4a+lSyy3hqkqUCEu20ZROuoPKgz2NuwQQ3hPc6p6KYnz0HSFhZfI7f7JPsoJ0Cy+SW/2SfZQToFl8kt/sk+ygqLyR2xmI17UfbQMAgJEiTxgUA3A4UnZLCVcMyJFBSNoG17YpJ4ZUkaUEez5wEyE8YE/wqoES+VEAKyzoTvjxZaCIL89eR4QP+tAX67voD2UE+u96A9lBbaVyVLUSDoEkARE/fpUUu86hFw4lV4UQO4yCE6c48tAxaELYSsObQK1CiN4oDQOQoJA5CgHk/Nb81BpCMpJgCeVBugy4OorxUC1yH+l2xaebQ0CraoUNV6aR5asRFpuzOa8WlWW/1h63jhLJ96o0Zaz7NO1KSuOsUiAT4KDdBKDmm4X2bFvpk2WbjvoGnLlhtakrcCSnUg+KaDTNy06opaWCRvERFAaglAPbI74ekKtpLw1mncCfNUEzfmn1UFLMoVpwoOdiLVorE8OcfYfcfQ4sMqbCsqOrqVxpEc+O6ulFVUU1RGqWZwoqmKp6mmGbJ5wpbC86DJBKhGvhrm0ct7du3BS3IBMwTMUBqCUHIPwkH0FAe6cvUv8AaEBTc66a8N2njoAh7EyDLCRy60/yiggfxMkSwgDmFT/KKCbbEgj+ySVRygT5t1Aa3tLV9sOGz2ZM9VxABrrVXXTNs12IpiY1HUpygJSYA0AiuTa4PfGgpfcK14UAH+k9KY2Oy2MnbZpzeDL/AFoMBeIDQtWp037VQ18WWg0FXxI7VbxHxquX6POgoqxDLo1bZtfyqo8H4tBtk3hUNuhgDmhZP3igRPwkH0FA+448HCEMZk99nAoMF24gfguuv5QUDKTIGYQeVBelAC3DuT8I2alSdUAgR5atVr9FIv1iwO9PmqKnV731UEVGRUDhyoAXCmRcsBbiw4VHIlKjCtNZHtqTXl0bWZpvNyoVZSfw5wdU6F4iBrr6jVaGt7q0aaMXRUJ1U4sn10BW762ccDaH21LJgJCtaBmg5B+Eg+goH3bRp1ZWrNJIOiooKbsWWzKc8/pnnNBOhM5cpzkfpmgKwylhpLaCrKnvjJ89Avh4YDGW0kNpURBB38d9brzX6TNNraDWvfeqsNJB5jzUFLnIqeVAG5uEsKTLLy806ttlUeOKCWrzdyFKS04jKqCHGynXy0BsiYjKPNQWEjkKDVByD8JB9BQM3CEqfUVNXBg6KQuB94rVo2pcOEgg9Hu5B3hXLy61cvzL/JezbSQoMXc8s38JjhUy/MuZRcFRA6O8J4kD20mm3WXaazx22CdO5BqTbqWL9bfV8PrqC+ry9VBSoyKjlQCeDhebyKSESc4O81zqzZotIEoXwIym2PgIUK6BhkLyDbZCvjkBigJA5UEgcqDkn4SD6CgeceWhwpTbuKA/GEQfXQUH3c4BtXQJHWlMffQM6UE0oEux6AZDj4/Xqrpzs7I3MZINpBSkJG4CNTXNtevIeegpfcK3bqBW6dt0X1qh1DpdWpQaKWlKAMayQIGnOszTEzdLRrLKGH5cqnHxJ0hbmh8FaVAMPACg7cQnQdd3x0HRt3m30ZmVZkgxu40BaDkH4SD6CgNeWt268VW9yGgTuiZ0FAAWGIwoG/E8Dl3UEXh+IqAi/wApBndQZOGYjpGIqETMp30HKNwyP8as+LFv61vLyft/WeLtflvd/ZHpMBeHwM2MOAxqOyJMeusWwdv1/K/5nd/ZHpTPh3zy5/uJ96pbB2/X8r/md39kekTDblCMRuG7e5du2BbpUrt+1yHMrXfyjd5qzenN0fNqumucKJxYtN56rdUfKHa2y3VNqYLZaJ65JMjxeGtxpeWqKomykruz3TLQEjcveOPCgyF33WlljwQ4ee7dyoKS5faA27O/WHTp6vHQOCg5J+Eg+goG3lrC1xctNpBAhQGm7/3loNNO7MEP3DRPDcmOdAdDiFlQQoEp3wd1BugDsGfk7foigmwa+Ia9EUE2DXxDXoigmzQ2lRS2hOn4oAoS4V/evqxbZWVqguNpSradLLczOhSEEKAjjz4VJprvMREe/wCHamcKMOKsSqdN9Fr7PnBNvEr9DY2zlope8qGKZfUWzFWKMTriPf8ACzPJZnRVV4Yn/qDLdzirqEqaYbWnvkYmSD+6plxNnvcl+S9qrwx6jDV7i7TaUdjbdUDulX5JPj7XTLibI3/gvyXt1eGPUJ2Qxj5rtf8AXH/jplxNkb/wl+S9urwx6iVliSLjE27t7IyTbnMjaAwoEiAdJrOaLXlqvAqjEmimJnTrt7/synFWX0oeOEuErSFgrUzMHcdVeKsxVVOmyzg4dMzE4kbp4LViLEnNhCuvvlTHW/bq5qtic1h95G6rgMjFClZCMLfC1HgtmVH06ZqthzWH3kbquAvZG5+abz0m/fpmq2HNYfeRuq4Oh9atuCfWNBPrGgpY6itZ0oODitndjGbVdgm6S1cAouXmVM5WQkEpJCwSZJI6s1Jib3iXWnEpimKaqYm22/8AUw0jDLxToCr+9SCNV5Lcx+7qdLteXBc+F3cb6vUOMIuBuxm8H6tn3KvS7XlwM+F3Ub6vUvsTc/PN59mz7lOl2vLgmfC7qN9XqTsRc/PN79mz7lOl2vLgZ8Luo31epz28Ot7bEujZQ6lNqSVOJBKjqZOlLaLHOTXi5tsmLB51vD7PJZh0FhEqCBPcjfJHhpT8MGN+rV+8+YounyrrYYRMa5E+9VcjAcWDIZannsz7aDfSn+8T6B9tAyzIbSFHaKAgrga1Z1pGpv6n3VFT6n3UEX3CtI0oAv26nbhlwPuoDZJKEnRfjqxNoZmm8xN2ejXEaXrnoJ9lRpfRnssdMXPPKmgO0hSEALWVq4qIig3QcS4/v5f+VNSdTVHxQPhNwpGE2YSw4sBhvUceqN1Sn4Ybxv1av3nzNm6XmUkWzpiddINack6UsJnoz2+IgUBWXS6mVNrbPJcTQLMvWDCcrNxboTMwFpqzVM6ZSIiNQnTLX5Yz6aaip0y1+WM+mmgpV7a5FfhbG74we2gUvr3DFPsIeu0hxZKW8j5T58p++sVYlNNUUzrlJmzNtimEsAobxJpQJ/KXBX6yTW1GON4aNTf24ETJXpvj+FBQxvDDuv7fh+PzoCsYrYPglq9t1Rv7YNKDl3F1bHHVEXDJBtiB2wUlqielBC0xe2RaWqOyGyKGkJUgtrO5IBHc1zpqi0cHfFwpnEqmJjXP+1PFvswzI/8ArJjj2hz2VrPHuJY5irbHip4jN43ZpQA5iAWrirI4J8mWmePcScxVtjxU8Wuztj8u/Zd92mePcScxVtjxU8X/2Q\\x3d\\x3d';var i=['dimg_21'];_setImagesSrc(i,s);})();</script><script nonce=\"/IRz2htWfa45WZfysAYn7Q==\">(function(){var e='pvM3XpzpEInXhwO5iYjYBw';(function(){\n",
       "var a=e,b=window.performance&&window.performance.navigation;b&&2==b.type&&window.ping(\"/gen_204?ct=backbutton&ei=\"+a);}).call(this);})();(function(){\n",
       "var b=[function(){google.tick&&google.tick(\"load\",\"dcl\")}];google.dclc=function(a){b.length?b.push(a):a()};function c(){for(var a;a=b.shift();)a()}window.addEventListener?(document.addEventListener(\"DOMContentLoaded\",c,!1),window.addEventListener(\"load\",c,!1)):window.attachEvent&&window.attachEvent(\"onload\",c);}).call(this);(function(){(function(){google.csct={};google.csct.ps='AOvVaw06cokGYHiWb7xwleN3TpoO\\x26ust\\x3d1580811558307687';})();})();(function(){(function(){google.csct.rd=true;})();})();(function(){window.xp=function(b){function f(k,g,h){return\"xp\"+(\"x\"==g?\"c\":\"x\")+h}for(var c=/\\bxp(x|c)(\\d?)\\b/,a=b;a;){var e=a.className,d=e.match(c);if(d){d=\"c\"==d[1];a.className=e.replace(c,f);b&&b.setAttribute(\"aria-expanded\",d);if(d)for(b=a.getElementsByTagName(\"img\"),c=0;c<b.length;++c)if(a=b[c],e=a.getAttribute(\"data-ll\"))a.src=e,a.removeAttribute(\"data-ll\");break}a=a.parentElement}};})();(function(){(function(){var id='tsuid23';var lve=false;(function(){\n",
       "document.getElementById(id).onclick=function(){window.xp(this);lve&&window.logVe(this)};}).call(this);})();})();google.drty&&google.drty();</script></body></html>"
      ]
     },
     "execution_count": 43,
     "metadata": {},
     "output_type": "execute_result"
    }
   ],
   "source": [
    "url = 'https://www.google.com/search'\n",
    "html = getDownload( url, param = { 'q':'python' } )\n",
    "dom = BeautifulSoup( html.text, 'lxml' )\n",
    "\n",
    "dom"
   ]
  },
  {
   "cell_type": "code",
   "execution_count": null,
   "metadata": {},
   "outputs": [],
   "source": [
    "for tag in dom.find_all( '', { 'class':'r' } ):\n",
    "    print( tab.find( 'h3' ).text )"
   ]
  }
 ],
 "metadata": {
  "kernelspec": {
   "display_name": "Python 3",
   "language": "python",
   "name": "python3"
  },
  "language_info": {
   "codemirror_mode": {
    "name": "ipython",
    "version": 3
   },
   "file_extension": ".py",
   "mimetype": "text/x-python",
   "name": "python",
   "nbconvert_exporter": "python",
   "pygments_lexer": "ipython3",
   "version": "3.5.6"
  }
 },
 "nbformat": 4,
 "nbformat_minor": 4
}
