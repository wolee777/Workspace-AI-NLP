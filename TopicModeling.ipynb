{
 "cells": [
  {
   "cell_type": "markdown",
   "metadata": {},
   "source": [
    "# Topic Modeling"
   ]
  },
  {
   "cell_type": "markdown",
   "metadata": {},
   "source": [
    "## 1) 잠재 의미 분석(Latent Semantic Analysis, LSA)"
   ]
  },
  {
   "cell_type": "markdown",
   "metadata": {},
   "source": [
    "### 1. 특이값 분해(Singular Value Decomposition, SVD)"
   ]
  },
  {
   "cell_type": "markdown",
   "metadata": {},
   "source": [
    "### 2. 절단된 SVD(Truncated SVD)"
   ]
  },
  {
   "cell_type": "markdown",
   "metadata": {},
   "source": [
    "### 3. 잠재 의미 분석(Latent Semantic Analysis, LSA)"
   ]
  },
  {
   "cell_type": "code",
   "execution_count": 6,
   "metadata": {},
   "outputs": [
    {
     "data": {
      "text/plain": [
       "(4, 9)"
      ]
     },
     "execution_count": 6,
     "metadata": {},
     "output_type": "execute_result"
    }
   ],
   "source": [
    "import numpy as np\n",
    "A=np.array([[0,0,0,1,0,1,1,0,0],[0,0,0,1,1,0,1,0,0],[0,1,1,0,2,0,0,0,0],[1,0,0,0,0,0,0,1,1]])\n",
    "np.shape(A)"
   ]
  },
  {
   "cell_type": "code",
   "execution_count": 5,
   "metadata": {},
   "outputs": [],
   "source": [
    "U, s, VT = np.linalg.svd(A, full_matrices = True)"
   ]
  },
  {
   "cell_type": "code",
   "execution_count": 4,
   "metadata": {},
   "outputs": [
    {
     "name": "stdout",
     "output_type": "stream",
     "text": [
      "[[-0.24  0.75  0.   -0.62]\n",
      " [-0.51  0.44 -0.    0.74]\n",
      " [-0.83 -0.49 -0.   -0.27]\n",
      " [-0.   -0.    1.    0.  ]]\n"
     ]
    },
    {
     "data": {
      "text/plain": [
       "(4, 4)"
      ]
     },
     "execution_count": 4,
     "metadata": {},
     "output_type": "execute_result"
    }
   ],
   "source": [
    "print(U.round(2))\n",
    "np.shape(U)"
   ]
  },
  {
   "cell_type": "code",
   "execution_count": 7,
   "metadata": {},
   "outputs": [
    {
     "name": "stdout",
     "output_type": "stream",
     "text": [
      "[2.69 2.05 1.73 0.77]\n"
     ]
    },
    {
     "data": {
      "text/plain": [
       "(4,)"
      ]
     },
     "execution_count": 7,
     "metadata": {},
     "output_type": "execute_result"
    }
   ],
   "source": [
    "print(s.round(2))\n",
    "np.shape(s)"
   ]
  },
  {
   "cell_type": "code",
   "execution_count": 8,
   "metadata": {},
   "outputs": [
    {
     "name": "stdout",
     "output_type": "stream",
     "text": [
      "[[2.69 0.   0.   0.   0.   0.   0.   0.   0.  ]\n",
      " [0.   2.05 0.   0.   0.   0.   0.   0.   0.  ]\n",
      " [0.   0.   1.73 0.   0.   0.   0.   0.   0.  ]\n",
      " [0.   0.   0.   0.77 0.   0.   0.   0.   0.  ]]\n"
     ]
    },
    {
     "data": {
      "text/plain": [
       "(4, 9)"
      ]
     },
     "execution_count": 8,
     "metadata": {},
     "output_type": "execute_result"
    }
   ],
   "source": [
    "S = np.zeros((4, 9)) # 대각 행렬의 크기인 4 x 9의 임의의 행렬 생성\n",
    "S[:4, :4] = np.diag(s) # 특이값을 대각행렬에 삽입\n",
    "print(S.round(2))\n",
    "np.shape(S)"
   ]
  },
  {
   "cell_type": "code",
   "execution_count": 9,
   "metadata": {},
   "outputs": [
    {
     "name": "stdout",
     "output_type": "stream",
     "text": [
      "[[-0.   -0.31 -0.31 -0.28 -0.8  -0.09 -0.28 -0.   -0.  ]\n",
      " [ 0.   -0.24 -0.24  0.58 -0.26  0.37  0.58 -0.   -0.  ]\n",
      " [ 0.58 -0.    0.    0.   -0.    0.   -0.    0.58  0.58]\n",
      " [ 0.   -0.35 -0.35  0.16  0.25 -0.8   0.16 -0.   -0.  ]\n",
      " [-0.   -0.78 -0.01 -0.2   0.4   0.4  -0.2   0.    0.  ]\n",
      " [-0.29  0.31 -0.78 -0.24  0.23  0.23  0.01  0.14  0.14]\n",
      " [-0.29 -0.1   0.26 -0.59 -0.08 -0.08  0.66  0.14  0.14]\n",
      " [-0.5  -0.06  0.15  0.24 -0.05 -0.05 -0.19  0.75 -0.25]\n",
      " [-0.5  -0.06  0.15  0.24 -0.05 -0.05 -0.19 -0.25  0.75]]\n"
     ]
    },
    {
     "data": {
      "text/plain": [
       "(9, 9)"
      ]
     },
     "execution_count": 9,
     "metadata": {},
     "output_type": "execute_result"
    }
   ],
   "source": [
    "print(VT.round(2))\n",
    "np.shape(VT)"
   ]
  },
  {
   "cell_type": "code",
   "execution_count": 10,
   "metadata": {},
   "outputs": [
    {
     "data": {
      "text/plain": [
       "True"
      ]
     },
     "execution_count": 10,
     "metadata": {},
     "output_type": "execute_result"
    }
   ],
   "source": [
    "np.allclose(A, np.dot(np.dot(U,S), VT).round(2))"
   ]
  },
  {
   "cell_type": "code",
   "execution_count": 11,
   "metadata": {},
   "outputs": [
    {
     "name": "stdout",
     "output_type": "stream",
     "text": [
      "[[2.69 0.  ]\n",
      " [0.   2.05]]\n"
     ]
    }
   ],
   "source": [
    "S=S[:2,:2]\n",
    "print(S.round(2))"
   ]
  },
  {
   "cell_type": "code",
   "execution_count": 12,
   "metadata": {},
   "outputs": [
    {
     "name": "stdout",
     "output_type": "stream",
     "text": [
      "[[-0.24  0.75]\n",
      " [-0.51  0.44]\n",
      " [-0.83 -0.49]\n",
      " [-0.   -0.  ]]\n"
     ]
    }
   ],
   "source": [
    "U=U[:,:2]\n",
    "print(U.round(2))"
   ]
  },
  {
   "cell_type": "code",
   "execution_count": 13,
   "metadata": {},
   "outputs": [
    {
     "name": "stdout",
     "output_type": "stream",
     "text": [
      "[[-0.   -0.31 -0.31 -0.28 -0.8  -0.09 -0.28 -0.   -0.  ]\n",
      " [ 0.   -0.24 -0.24  0.58 -0.26  0.37  0.58 -0.   -0.  ]]\n"
     ]
    }
   ],
   "source": [
    "VT=VT[:2,:]\n",
    "print(VT.round(2))"
   ]
  },
  {
   "cell_type": "code",
   "execution_count": 14,
   "metadata": {},
   "outputs": [
    {
     "name": "stdout",
     "output_type": "stream",
     "text": [
      "[[0 0 0 1 0 1 1 0 0]\n",
      " [0 0 0 1 1 0 1 0 0]\n",
      " [0 1 1 0 2 0 0 0 0]\n",
      " [1 0 0 0 0 0 0 1 1]]\n",
      "[[ 0.   -0.17 -0.17  1.08  0.12  0.62  1.08 -0.   -0.  ]\n",
      " [ 0.    0.2   0.2   0.91  0.86  0.45  0.91  0.    0.  ]\n",
      " [ 0.    0.93  0.93  0.03  2.05 -0.17  0.03  0.    0.  ]\n",
      " [ 0.    0.    0.    0.    0.   -0.    0.    0.    0.  ]]\n"
     ]
    }
   ],
   "source": [
    "A_prime=np.dot(np.dot(U,S), VT)\n",
    "print(A)\n",
    "print(A_prime.round(2))"
   ]
  },
  {
   "cell_type": "markdown",
   "metadata": {},
   "source": [
    "#### 1) 뉴스 데이터에 대한 이해"
   ]
  },
  {
   "cell_type": "code",
   "execution_count": 15,
   "metadata": {},
   "outputs": [
    {
     "name": "stderr",
     "output_type": "stream",
     "text": [
      "Downloading 20news dataset. This may take a few minutes.\n",
      "Downloading dataset from https://ndownloader.figshare.com/files/5975967 (14 MB)\n"
     ]
    },
    {
     "data": {
      "text/plain": [
       "11314"
      ]
     },
     "execution_count": 15,
     "metadata": {},
     "output_type": "execute_result"
    }
   ],
   "source": [
    "import pandas as pd\n",
    "from sklearn.datasets import fetch_20newsgroups\n",
    "dataset = fetch_20newsgroups(shuffle=True, random_state=1, remove=('headers', 'footers', 'quotes'))\n",
    "documents = dataset.data\n",
    "len(documents)"
   ]
  },
  {
   "cell_type": "code",
   "execution_count": 16,
   "metadata": {},
   "outputs": [
    {
     "data": {
      "text/plain": [
       "\"\\n\\n\\n\\n\\n\\n\\nYeah, do you expect people to read the FAQ, etc. and actually accept hard\\natheism?  No, you need a little leap of faith, Jimmy.  Your logic runs out\\nof steam!\\n\\n\\n\\n\\n\\n\\n\\nJim,\\n\\nSorry I can't pity you, Jim.  And I'm sorry that you have these feelings of\\ndenial about the faith you need to get by.  Oh well, just pretend that it will\\nall end happily ever after anyway.  Maybe if you start a new newsgroup,\\nalt.atheist.hard, you won't be bummin' so much?\\n\\n\\n\\n\\n\\n\\nBye-Bye, Big Jim.  Don't forget your Flintstone's Chewables!  :) \\n--\\nBake Timmons, III\""
      ]
     },
     "execution_count": 16,
     "metadata": {},
     "output_type": "execute_result"
    }
   ],
   "source": [
    "documents[1]"
   ]
  },
  {
   "cell_type": "code",
   "execution_count": 17,
   "metadata": {},
   "outputs": [
    {
     "name": "stdout",
     "output_type": "stream",
     "text": [
      "['alt.atheism', 'comp.graphics', 'comp.os.ms-windows.misc', 'comp.sys.ibm.pc.hardware', 'comp.sys.mac.hardware', 'comp.windows.x', 'misc.forsale', 'rec.autos', 'rec.motorcycles', 'rec.sport.baseball', 'rec.sport.hockey', 'sci.crypt', 'sci.electronics', 'sci.med', 'sci.space', 'soc.religion.christian', 'talk.politics.guns', 'talk.politics.mideast', 'talk.politics.misc', 'talk.religion.misc']\n"
     ]
    }
   ],
   "source": [
    "print(dataset.target_names)"
   ]
  },
  {
   "cell_type": "markdown",
   "metadata": {},
   "source": [
    "#### 2) 텍스트 전처리"
   ]
  },
  {
   "cell_type": "code",
   "execution_count": 18,
   "metadata": {},
   "outputs": [],
   "source": [
    "news_df = pd.DataFrame({'document':documents})\n",
    "# 특수 문자 제거\n",
    "news_df['clean_doc'] = news_df['document'].str.replace(\"[^a-zA-Z]\", \" \")\n",
    "# 길이가 3이하인 단어는 제거 (길이가 짧은 단어 제거)\n",
    "news_df['clean_doc'] = news_df['clean_doc'].apply(lambda x: ' '.join([w for w in x.split() if len(w)>3]))\n",
    "# 전체 단어에 대한 소문자 변환\n",
    "news_df['clean_doc'] = news_df['clean_doc'].apply(lambda x: x.lower())"
   ]
  },
  {
   "cell_type": "code",
   "execution_count": 19,
   "metadata": {},
   "outputs": [
    {
     "data": {
      "text/plain": [
       "'yeah expect people read actually accept hard atheism need little leap faith jimmy your logic runs steam sorry pity sorry that have these feelings denial about faith need well just pretend that will happily ever after anyway maybe start newsgroup atheist hard bummin much forget your flintstone chewables bake timmons'"
      ]
     },
     "execution_count": 19,
     "metadata": {},
     "output_type": "execute_result"
    }
   ],
   "source": [
    "news_df['clean_doc'][1]"
   ]
  },
  {
   "cell_type": "code",
   "execution_count": 20,
   "metadata": {},
   "outputs": [],
   "source": [
    "from nltk.corpus import stopwords\n",
    "stop_words = stopwords.words('english') # NLTK로부터 불용어를 받아옵니다.\n",
    "tokenized_doc = news_df['clean_doc'].apply(lambda x: x.split()) # 토큰화\n",
    "tokenized_doc = tokenized_doc.apply(lambda x: [item for item in x if item not in stop_words])\n",
    "# 불용어를 제거합니다."
   ]
  },
  {
   "cell_type": "code",
   "execution_count": 21,
   "metadata": {},
   "outputs": [
    {
     "name": "stdout",
     "output_type": "stream",
     "text": [
      "['yeah', 'expect', 'people', 'read', 'actually', 'accept', 'hard', 'atheism', 'need', 'little', 'leap', 'faith', 'jimmy', 'logic', 'runs', 'steam', 'sorry', 'pity', 'sorry', 'feelings', 'denial', 'faith', 'need', 'well', 'pretend', 'happily', 'ever', 'anyway', 'maybe', 'start', 'newsgroup', 'atheist', 'hard', 'bummin', 'much', 'forget', 'flintstone', 'chewables', 'bake', 'timmons']\n"
     ]
    }
   ],
   "source": [
    "print(tokenized_doc[1])"
   ]
  },
  {
   "cell_type": "markdown",
   "metadata": {},
   "source": [
    "#### 3) TF-IDF 행렬 만들기"
   ]
  },
  {
   "cell_type": "code",
   "execution_count": 22,
   "metadata": {},
   "outputs": [],
   "source": [
    "# 역토큰화 (토큰화 작업을 역으로 되돌림)\n",
    "detokenized_doc = []\n",
    "for i in range(len(news_df)):\n",
    "    t = ' '.join(tokenized_doc[i])\n",
    "    detokenized_doc.append(t)\n",
    "\n",
    "news_df['clean_doc'] = detokenized_doc"
   ]
  },
  {
   "cell_type": "code",
   "execution_count": 23,
   "metadata": {},
   "outputs": [
    {
     "data": {
      "text/plain": [
       "'yeah expect people read actually accept hard atheism need little leap faith jimmy logic runs steam sorry pity sorry feelings denial faith need well pretend happily ever anyway maybe start newsgroup atheist hard bummin much forget flintstone chewables bake timmons'"
      ]
     },
     "execution_count": 23,
     "metadata": {},
     "output_type": "execute_result"
    }
   ],
   "source": [
    "news_df['clean_doc'][1]"
   ]
  },
  {
   "cell_type": "code",
   "execution_count": 24,
   "metadata": {},
   "outputs": [
    {
     "data": {
      "text/plain": [
       "(11314, 1000)"
      ]
     },
     "execution_count": 24,
     "metadata": {},
     "output_type": "execute_result"
    }
   ],
   "source": [
    "from sklearn.feature_extraction.text import TfidfVectorizer\n",
    "\n",
    "vectorizer = TfidfVectorizer(stop_words='english', \n",
    "max_features= 1000, # 상위 1,000개의 단어를 보존 \n",
    "max_df = 0.5, \n",
    "smooth_idf=True)\n",
    "\n",
    "X = vectorizer.fit_transform(news_df['clean_doc'])\n",
    "X.shape # TF-IDF 행렬의 크기 확인"
   ]
  },
  {
   "cell_type": "markdown",
   "metadata": {},
   "source": [
    "#### 4) 토픽 모델링(Topic Modeling)"
   ]
  },
  {
   "cell_type": "code",
   "execution_count": 25,
   "metadata": {},
   "outputs": [
    {
     "data": {
      "text/plain": [
       "20"
      ]
     },
     "execution_count": 25,
     "metadata": {},
     "output_type": "execute_result"
    }
   ],
   "source": [
    "from sklearn.decomposition import TruncatedSVD\n",
    "svd_model = TruncatedSVD(n_components=20, algorithm='randomized', n_iter=100, random_state=122)\n",
    "svd_model.fit(X)\n",
    "len(svd_model.components_)"
   ]
  },
  {
   "cell_type": "code",
   "execution_count": 26,
   "metadata": {},
   "outputs": [
    {
     "data": {
      "text/plain": [
       "(20, 1000)"
      ]
     },
     "execution_count": 26,
     "metadata": {},
     "output_type": "execute_result"
    }
   ],
   "source": [
    "np.shape(svd_model.components_)"
   ]
  },
  {
   "cell_type": "code",
   "execution_count": 27,
   "metadata": {},
   "outputs": [
    {
     "name": "stdout",
     "output_type": "stream",
     "text": [
      "Topic 1: [('like', 0.21386), ('know', 0.20046), ('people', 0.19293), ('think', 0.17805), ('good', 0.15128)]\n",
      "Topic 2: [('thanks', 0.32888), ('windows', 0.29088), ('card', 0.18069), ('drive', 0.17455), ('mail', 0.15111)]\n",
      "Topic 3: [('game', 0.37064), ('team', 0.32443), ('year', 0.28154), ('games', 0.2537), ('season', 0.18419)]\n",
      "Topic 4: [('drive', 0.53324), ('scsi', 0.20165), ('hard', 0.15628), ('disk', 0.15578), ('card', 0.13994)]\n",
      "Topic 5: [('windows', 0.40399), ('file', 0.25436), ('window', 0.18044), ('files', 0.16078), ('program', 0.13894)]\n",
      "Topic 6: [('chip', 0.16114), ('government', 0.16009), ('mail', 0.15625), ('space', 0.1507), ('information', 0.13562)]\n",
      "Topic 7: [('like', 0.67086), ('bike', 0.14236), ('chip', 0.11169), ('know', 0.11139), ('sounds', 0.10371)]\n",
      "Topic 8: [('card', 0.46633), ('video', 0.22137), ('sale', 0.21266), ('monitor', 0.15463), ('offer', 0.14643)]\n",
      "Topic 9: [('know', 0.46047), ('card', 0.33605), ('chip', 0.17558), ('government', 0.1522), ('video', 0.14356)]\n",
      "Topic 10: [('good', 0.42756), ('know', 0.23039), ('time', 0.1882), ('bike', 0.11406), ('jesus', 0.09027)]\n",
      "Topic 11: [('think', 0.78469), ('chip', 0.10899), ('good', 0.10635), ('thanks', 0.09123), ('clipper', 0.07946)]\n",
      "Topic 12: [('thanks', 0.36824), ('good', 0.22729), ('right', 0.21559), ('bike', 0.21037), ('problem', 0.20894)]\n",
      "Topic 13: [('good', 0.36212), ('people', 0.33985), ('windows', 0.28385), ('know', 0.26232), ('file', 0.18422)]\n",
      "Topic 14: [('space', 0.39946), ('think', 0.23258), ('know', 0.18074), ('nasa', 0.15174), ('problem', 0.12957)]\n",
      "Topic 15: [('space', 0.31613), ('good', 0.3094), ('card', 0.22603), ('people', 0.17476), ('time', 0.14496)]\n",
      "Topic 16: [('people', 0.48156), ('problem', 0.19961), ('window', 0.15281), ('time', 0.14664), ('game', 0.12871)]\n",
      "Topic 17: [('time', 0.34465), ('bike', 0.27303), ('right', 0.25557), ('windows', 0.1997), ('file', 0.19118)]\n",
      "Topic 18: [('time', 0.5973), ('problem', 0.15504), ('file', 0.14956), ('think', 0.12847), ('israel', 0.10903)]\n",
      "Topic 19: [('file', 0.44163), ('need', 0.26633), ('card', 0.18388), ('files', 0.17453), ('right', 0.15448)]\n",
      "Topic 20: [('problem', 0.33006), ('file', 0.27651), ('thanks', 0.23578), ('used', 0.19206), ('space', 0.13185)]\n"
     ]
    }
   ],
   "source": [
    "terms = vectorizer.get_feature_names() # 단어 집합. 1,000개의 단어가 저장됨.\n",
    "\n",
    "def get_topics(components, feature_names, n=5):\n",
    "    for idx, topic in enumerate(components):\n",
    "        print(\"Topic %d:\" % (idx+1), [(feature_names[i], topic[i].round(5)) for i in topic.argsort()[:-n - 1:-1]])\n",
    "get_topics(svd_model.components_,terms)"
   ]
  },
  {
   "cell_type": "markdown",
   "metadata": {},
   "source": [
    "## 2) 잠재 디리클레 할당(Latent Dirichlet Allocation, LDA)"
   ]
  },
  {
   "cell_type": "markdown",
   "metadata": {},
   "source": [
    "### 1. 잠재 디리클레 할당(Latent Dirichlet Allocation, LDA) 개요"
   ]
  },
  {
   "cell_type": "markdown",
   "metadata": {},
   "source": [
    "### 2. LDA의 가정"
   ]
  },
  {
   "cell_type": "markdown",
   "metadata": {},
   "source": [
    "### 3. LDA의 수행하기"
   ]
  },
  {
   "cell_type": "markdown",
   "metadata": {},
   "source": [
    "### 4. 잠재 디리클레 할당과 잠재 의미 분석의 차이"
   ]
  },
  {
   "cell_type": "markdown",
   "metadata": {},
   "source": [
    "#### 1) 정수 인코딩과 단어 집합 만들기"
   ]
  },
  {
   "cell_type": "code",
   "execution_count": 28,
   "metadata": {},
   "outputs": [
    {
     "data": {
      "text/plain": [
       "0    [well, sure, story, seem, biased, disagree, st...\n",
       "1    [yeah, expect, people, read, actually, accept,...\n",
       "2    [although, realize, principle, strongest, poin...\n",
       "3    [notwithstanding, legitimate, fuss, proposal, ...\n",
       "4    [well, change, scoring, playoff, pool, unfortu...\n",
       "Name: clean_doc, dtype: object"
      ]
     },
     "execution_count": 28,
     "metadata": {},
     "output_type": "execute_result"
    }
   ],
   "source": [
    "tokenized_doc[:5]"
   ]
  },
  {
   "cell_type": "code",
   "execution_count": 29,
   "metadata": {},
   "outputs": [
    {
     "name": "stdout",
     "output_type": "stream",
     "text": [
      "[(52, 1), (55, 1), (56, 1), (57, 1), (58, 1), (59, 1), (60, 1), (61, 1), (62, 1), (63, 1), (64, 1), (65, 1), (66, 2), (67, 1), (68, 1), (69, 1), (70, 1), (71, 2), (72, 1), (73, 1), (74, 1), (75, 1), (76, 1), (77, 1), (78, 2), (79, 1), (80, 1), (81, 1), (82, 1), (83, 1), (84, 1), (85, 2), (86, 1), (87, 1), (88, 1), (89, 1)]\n"
     ]
    }
   ],
   "source": [
    "from gensim import corpora\n",
    "dictionary = corpora.Dictionary(tokenized_doc)\n",
    "corpus = [dictionary.doc2bow(text) for text in tokenized_doc]\n",
    "print(corpus[1]) # 수행된 결과에서 두번째 뉴스 출력. 첫번째 문서의 인덱스는 0"
   ]
  },
  {
   "cell_type": "code",
   "execution_count": 30,
   "metadata": {},
   "outputs": [
    {
     "name": "stdout",
     "output_type": "stream",
     "text": [
      "faith\n"
     ]
    }
   ],
   "source": [
    "print(dictionary[66])"
   ]
  },
  {
   "cell_type": "code",
   "execution_count": 31,
   "metadata": {},
   "outputs": [
    {
     "data": {
      "text/plain": [
       "64281"
      ]
     },
     "execution_count": 31,
     "metadata": {},
     "output_type": "execute_result"
    }
   ],
   "source": [
    "len(dictionary)"
   ]
  },
  {
   "cell_type": "markdown",
   "metadata": {},
   "source": [
    "#### 2) LDA 모델 훈련시키기"
   ]
  },
  {
   "cell_type": "code",
   "execution_count": 32,
   "metadata": {},
   "outputs": [
    {
     "name": "stdout",
     "output_type": "stream",
     "text": [
      "(0, '0.007*\"year\" + 0.006*\"good\" + 0.006*\"much\" + 0.006*\"like\"')\n",
      "(1, '0.013*\"would\" + 0.012*\"people\" + 0.008*\"think\" + 0.006*\"believe\"')\n",
      "(2, '0.024*\"entries\" + 0.011*\"quebec\" + 0.010*\"jersey\" + 0.007*\"winner\"')\n",
      "(3, '0.020*\"jesus\" + 0.010*\"church\" + 0.008*\"christ\" + 0.007*\"said\"')\n",
      "(4, '0.036*\"file\" + 0.027*\"output\" + 0.025*\"entry\" + 0.018*\"program\"')\n",
      "(5, '0.019*\"ground\" + 0.019*\"wire\" + 0.015*\"panel\" + 0.013*\"wiring\"')\n",
      "(6, '0.006*\"time\" + 0.004*\"problem\" + 0.004*\"test\" + 0.004*\"cause\"')\n",
      "(7, '0.024*\"game\" + 0.022*\"team\" + 0.015*\"play\" + 0.015*\"games\"')\n",
      "(8, '0.020*\"would\" + 0.016*\"like\" + 0.016*\"know\" + 0.012*\"think\"')\n",
      "(9, '0.021*\"encryption\" + 0.018*\"public\" + 0.018*\"security\" + 0.016*\"privacy\"')\n",
      "(10, '0.014*\"university\" + 0.012*\"information\" + 0.011*\"research\" + 0.011*\"april\"')\n",
      "(11, '0.025*\"chip\" + 0.012*\"used\" + 0.010*\"clipper\" + 0.010*\"phone\"')\n",
      "(12, '0.051*\"space\" + 0.025*\"scsi\" + 0.019*\"nasa\" + 0.010*\"launch\"')\n",
      "(13, '0.066*\"drive\" + 0.023*\"card\" + 0.022*\"hard\" + 0.022*\"drives\"')\n",
      "(14, '0.015*\"president\" + 0.010*\"government\" + 0.007*\"people\" + 0.007*\"clinton\"')\n",
      "(15, '0.048*\"israel\" + 0.030*\"israeli\" + 0.023*\"jews\" + 0.020*\"arab\"')\n",
      "(16, '0.014*\"cubs\" + 0.014*\"braves\" + 0.011*\"scores\" + 0.009*\"francisco\"')\n",
      "(17, '0.010*\"windows\" + 0.008*\"also\" + 0.008*\"software\" + 0.008*\"available\"')\n",
      "(18, '0.020*\"price\" + 0.018*\"sale\" + 0.015*\"shipping\" + 0.014*\"offer\"')\n",
      "(19, '0.011*\"people\" + 0.011*\"armenian\" + 0.009*\"armenians\" + 0.009*\"government\"')\n"
     ]
    }
   ],
   "source": [
    "import gensim\n",
    "NUM_TOPICS = 20 #20개의 토픽, k=20\n",
    "ldamodel = gensim.models.ldamodel.LdaModel(corpus, num_topics = NUM_TOPICS, id2word=dictionary, passes=15)\n",
    "topics = ldamodel.print_topics(num_words=4)\n",
    "for topic in topics:\n",
    "    print(topic)"
   ]
  },
  {
   "cell_type": "markdown",
   "metadata": {},
   "source": [
    "#### 3) LDA 시각화 하기"
   ]
  },
  {
   "cell_type": "code",
   "execution_count": 33,
   "metadata": {},
   "outputs": [
    {
     "data": {
      "text/html": [
       "\n",
       "<link rel=\"stylesheet\" type=\"text/css\" href=\"https://cdn.rawgit.com/bmabey/pyLDAvis/files/ldavis.v1.0.0.css\">\n",
       "\n",
       "\n",
       "<div id=\"ldavis_el99002131255114312487438778\"></div>\n",
       "<script type=\"text/javascript\">\n",
       "\n",
       "var ldavis_el99002131255114312487438778_data = {\"mdsDat\": {\"x\": [0.2617880992129883, 0.26963975888343544, 0.19467446378952294, 0.17030942612719643, 0.09607127404794125, 0.15895012209868273, 0.08307337864300675, 0.0868828589678946, 0.01963184888811728, -0.08907625272410691, 0.021377941064366177, -0.07092904069125908, -0.05978970169639168, -0.011270597443055835, -0.0697631256141893, -0.16430613711685593, -0.1887900896005586, -0.22376844400878432, -0.23880425826297924, -0.2459015245649707], \"y\": [0.03335209482306089, 0.08219613211561769, -0.1979733421842414, 0.004596142406026555, 0.18829305788841588, -0.04059630033394464, 0.19970349930218956, 0.07262418435462743, -0.06158436394149222, 0.13814813574525422, -0.1507592082949589, -0.06651640698616236, -0.12662349622575847, -0.15095872499354512, -0.0364693848437129, -0.07795948341919787, 0.10915381361810853, -0.00014781237756799433, 0.04802993790705767, 0.03349152544022282], \"topics\": [1, 2, 3, 4, 5, 6, 7, 8, 9, 10, 11, 12, 13, 14, 15, 16, 17, 18, 19, 20], \"cluster\": [1, 1, 1, 1, 1, 1, 1, 1, 1, 1, 1, 1, 1, 1, 1, 1, 1, 1, 1, 1], \"Freq\": [16.03154945373535, 14.702341079711914, 13.84886360168457, 7.492116928100586, 6.974757671356201, 6.302436351776123, 4.956114768981934, 4.4148759841918945, 4.3543877601623535, 3.5573806762695312, 2.7373268604278564, 2.6867284774780273, 2.6528327465057373, 2.6509616374969482, 1.924757719039917, 1.409643292427063, 1.1184778213500977, 0.8660569787025452, 0.7542653679847717, 0.5641331076622009]}, \"tinfo\": {\"Term\": [\"file\", \"space\", \"drive\", \"program\", \"people\", \"jesus\", \"would\", \"good\", \"game\", \"hard\", \"card\", \"think\", \"system\", \"windows\", \"team\", \"mail\", \"output\", \"know\", \"power\", \"please\", \"government\", \"scsi\", \"chip\", \"israel\", \"public\", \"like\", \"information\", \"entry\", \"year\", \"need\", \"belief\", \"atheism\", \"atheists\", \"universe\", \"morality\", \"argument\", \"religions\", \"reasoning\", \"islam\", \"secular\", \"contrary\", \"moral\", \"imply\", \"sabbath\", \"phrase\", \"reject\", \"philosophy\", \"homosexuality\", \"easter\", \"homosexual\", \"gods\", \"religion\", \"believing\", \"prophecy\", \"beings\", \"fallacy\", \"criticism\", \"implies\", \"beliefs\", \"arrogant\", \"interpret\", \"claim\", \"disagree\", \"atheist\", \"absolute\", \"truth\", \"evidence\", \"conclusion\", \"objective\", \"religious\", \"existence\", \"context\", \"christianity\", \"merely\", \"statements\", \"exist\", \"statement\", \"accept\", \"believe\", \"true\", \"agree\", \"sense\", \"arguments\", \"question\", \"people\", \"cannot\", \"fact\", \"life\", \"would\", \"reason\", \"point\", \"think\", \"many\", \"must\", \"mean\", \"example\", \"even\", \"others\", \"world\", \"however\", \"whether\", \"make\", \"well\", \"rather\", \"know\", \"much\", \"like\", \"things\", \"good\", \"also\", \"could\", \"something\", \"find\", \"might\", \"guys\", \"henrik\", \"listening\", \"lucky\", \"surprise\", \"outlets\", \"forgot\", \"throwing\", \"lane\", \"lately\", \"steal\", \"hang\", \"loud\", \"idiot\", \"upset\", \"breaker\", \"wrist\", \"ugly\", \"coat\", \"isles\", \"transfers\", \"sizes\", \"bone\", \"sticking\", \"clinic\", \"boots\", \"bicycle\", \"seal\", \"warned\", \"homers\", \"watching\", \"yeah\", \"beating\", \"maybe\", \"seemed\", \"went\", \"hear\", \"wait\", \"back\", \"going\", \"somebody\", \"folks\", \"started\", \"looked\", \"heard\", \"remember\", \"took\", \"told\", \"gone\", \"know\", \"getting\", \"really\", \"thing\", \"like\", \"guess\", \"something\", \"think\", \"time\", \"around\", \"would\", \"right\", \"thought\", \"could\", \"someone\", \"want\", \"take\", \"sure\", \"good\", \"well\", \"tell\", \"even\", \"said\", \"still\", \"anyone\", \"people\", \"much\", \"never\", \"anything\", \"since\", \"first\", \"make\", \"server\", \"graphics\", \"motif\", \"mouse\", \"jpeg\", \"contrib\", \"printer\", \"xterm\", \"client\", \"font\", \"fonts\", \"bios\", \"microsoft\", \"xlib\", \"widgets\", \"formats\", \"amiga\", \"clients\", \"routines\", \"macintosh\", \"toolkit\", \"displays\", \"keyboard\", \"binaries\", \"desktop\", \"shareware\", \"menu\", \"gateway\", \"openwindows\", \"vesa\", \"windows\", \"display\", \"interface\", \"screen\", \"software\", \"window\", \"color\", \"disk\", \"image\", \"version\", \"widget\", \"unix\", \"files\", \"format\", \"directory\", \"memory\", \"thanks\", \"export\", \"available\", \"modem\", \"hardware\", \"user\", \"application\", \"using\", \"system\", \"mail\", \"file\", \"please\", \"program\", \"also\", \"info\", \"data\", \"help\", \"anyone\", \"problem\", \"information\", \"need\", \"like\", \"know\", \"would\", \"used\", \"engine\", \"insurance\", \"plastic\", \"honda\", \"rear\", \"compass\", \"ford\", \"tires\", \"autos\", \"tube\", \"hitter\", \"tire\", \"outlet\", \"gear\", \"engines\", \"cars\", \"electric\", \"pounds\", \"dodgers\", \"conductor\", \"aerospace\", \"mileage\", \"dollar\", \"smoking\", \"modems\", \"estimates\", \"automobile\", \"clutch\", \"grass\", \"civic\", \"illness\", \"afford\", \"trigger\", \"auto\", \"bike\", \"homicide\", \"snow\", \"cheaper\", \"miles\", \"motor\", \"owners\", \"costs\", \"cost\", \"average\", \"tank\", \"safety\", \"base\", \"expensive\", \"dealer\", \"market\", \"road\", \"year\", \"power\", \"rate\", \"front\", \"high\", \"extra\", \"small\", \"years\", \"much\", \"good\", \"less\", \"speed\", \"used\", \"better\", \"also\", \"like\", \"large\", \"make\", \"would\", \"well\", \"still\", \"many\", \"last\", \"little\", \"work\", \"armenian\", \"armenians\", \"turkish\", \"turkey\", \"weapons\", \"armenia\", \"turks\", \"firearms\", \"genocide\", \"azerbaijan\", \"criminal\", \"nazi\", \"constitution\", \"weapon\", \"militia\", \"armed\", \"greece\", \"karabakh\", \"batf\", \"nazis\", \"argic\", \"victims\", \"ottoman\", \"serdar\", \"massacre\", \"azeri\", \"violent\", \"deaths\", \"assault\", \"firearm\", \"guns\", \"killed\", \"amendment\", \"crime\", \"arms\", \"police\", \"military\", \"soviet\", \"muslim\", \"rights\", \"population\", \"army\", \"government\", \"greek\", \"children\", \"people\", \"russian\", \"court\", \"state\", \"jews\", \"said\", \"control\", \"right\", \"anti\", \"first\", \"world\", \"filename\", \"patients\", \"gordon\", \"skepticism\", \"prog\", \"patient\", \"diet\", \"intellect\", \"symptoms\", \"shameful\", \"cadre\", \"chastity\", \"syndrome\", \"exhaust\", \"inherent\", \"brake\", \"cure\", \"ciphertext\", \"therapy\", \"foods\", \"cryptanalysis\", \"apologize\", \"chronic\", \"alomar\", \"static\", \"designated\", \"balloon\", \"kidney\", \"yeast\", \"sockets\", \"tests\", \"symbol\", \"disease\", \"pitt\", \"genetic\", \"diseases\", \"pain\", \"treatment\", \"banks\", \"test\", \"medicine\", \"medical\", \"levels\", \"results\", \"surrender\", \"cause\", \"theory\", \"weight\", \"normal\", \"cases\", \"food\", \"time\", \"problems\", \"usually\", \"problem\", \"sometimes\", \"study\", \"level\", \"doctor\", \"also\", \"using\", \"common\", \"since\", \"less\", \"much\", \"work\", \"number\", \"first\", \"case\", \"used\", \"many\", \"high\", \"jesus\", \"christ\", \"father\", \"spirit\", \"lord\", \"holy\", \"matthew\", \"church\", \"judas\", \"catholic\", \"sumgait\", \"karina\", \"pope\", \"mamma\", \"resurrection\", \"candida\", \"marriage\", \"gospel\", \"orthodox\", \"testament\", \"heaven\", \"married\", \"luke\", \"prophet\", \"salvation\", \"sins\", \"verse\", \"messiah\", \"temple\", \"lyuda\", \"passage\", \"apartment\", \"scripture\", \"satan\", \"eternal\", \"bible\", \"woman\", \"christian\", \"paul\", \"mother\", \"saved\", \"john\", \"death\", \"faith\", \"born\", \"hell\", \"died\", \"says\", \"said\", \"children\", \"love\", \"came\", \"name\", \"later\", \"also\", \"called\", \"come\", \"word\", \"life\", \"people\", \"jobs\", \"myers\", \"bush\", \"senate\", \"taxes\", \"smokeless\", \"fund\", \"adaptec\", \"income\", \"senator\", \"iran\", \"republicans\", \"stimulus\", \"idaho\", \"intake\", \"president\", \"reagan\", \"freeware\", \"dole\", \"briefing\", \"republican\", \"hong\", \"reich\", \"nixon\", \"brady\", \"marijuana\", \"restraint\", \"riley\", \"editorial\", \"democrats\", \"clinton\", \"congress\", \"funds\", \"deficit\", \"investment\", \"reform\", \"secretary\", \"budget\", \"african\", \"administration\", \"bill\", \"americans\", \"economy\", \"economic\", \"george\", \"america\", \"drug\", \"drugs\", \"house\", \"billion\", \"government\", \"private\", \"states\", \"american\", \"money\", \"white\", \"federal\", \"health\", \"support\", \"public\", \"going\", \"package\", \"state\", \"people\", \"working\", \"today\", \"work\", \"said\", \"would\", \"year\", \"program\", \"newsletter\", \"liar\", \"hicnet\", \"homeland\", \"telecommunications\", \"rows\", \"laptop\", \"prof\", \"sensing\", \"presentations\", \"hospitals\", \"objectives\", \"enhancement\", \"frontier\", \"bethesda\", \"capitalist\", \"seminar\", \"regional\", \"mobile\", \"mime\", \"invading\", \"cabinet\", \"uranium\", \"universities\", \"harddisk\", \"desperate\", \"providers\", \"worldwide\", \"electronically\", \"scholarly\", \"tobacco\", \"networks\", \"centers\", \"university\", \"institute\", \"france\", \"educational\", \"research\", \"naval\", \"navy\", \"sciences\", \"maryland\", \"april\", \"center\", \"technology\", \"contacts\", \"department\", \"proceedings\", \"conference\", \"professor\", \"columbia\", \"national\", \"journal\", \"page\", \"foundation\", \"washington\", \"volume\", \"information\", \"review\", \"health\", \"international\", \"california\", \"among\", \"service\", \"organization\", \"medical\", \"report\", \"contact\", \"science\", \"available\", \"general\", \"program\", \"news\", \"data\", \"number\", \"press\", \"also\", \"season\", \"teams\", \"baseball\", \"detroit\", \"montreal\", \"minnesota\", \"puck\", \"rangers\", \"calgary\", \"scorer\", \"scoring\", \"pitching\", \"playoffs\", \"scored\", \"flyers\", \"leafs\", \"islanders\", \"hartford\", \"pens\", \"espn\", \"playoff\", \"winnipeg\", \"devils\", \"sharks\", \"lemieux\", \"hockey\", \"bruins\", \"francis\", \"lindros\", \"tampa\", \"players\", \"philadelphia\", \"team\", \"game\", \"league\", \"games\", \"play\", \"chicago\", \"boston\", \"player\", \"kings\", \"louis\", \"toronto\", \"pittsburgh\", \"period\", \"played\", \"fans\", \"year\", \"goal\", \"division\", \"first\", \"second\", \"power\", \"last\", \"third\", \"points\", \"runs\", \"chip\", \"phones\", \"motorola\", \"macs\", \"cellular\", \"terminals\", \"financial\", \"vitamin\", \"cooling\", \"males\", \"neck\", \"cycles\", \"glutamate\", \"transmit\", \"offset\", \"toshiba\", \"skipjack\", \"loan\", \"electricity\", \"auth\", \"panasonic\", \"bronx\", \"steam\", \"mounting\", \"nissan\", \"paranoia\", \"czech\", \"pairs\", \"doses\", \"programmed\", \"kent\", \"chips\", \"sells\", \"channel\", \"wiretap\", \"clipper\", \"switches\", \"device\", \"escrow\", \"bits\", \"byte\", \"phone\", \"unit\", \"devices\", \"voice\", \"encrypted\", \"equipment\", \"serial\", \"audio\", \"block\", \"enforcement\", \"keys\", \"water\", \"number\", \"used\", \"system\", \"data\", \"algorithm\", \"using\", \"need\", \"could\", \"line\", \"would\", \"standard\", \"scsi\", \"launch\", \"shuttle\", \"orbit\", \"lunar\", \"satellite\", \"cache\", \"satellites\", \"spacecraft\", \"nasa\", \"mars\", \"missions\", \"planetary\", \"telescope\", \"astronomy\", \"ames\", \"propulsion\", \"orbital\", \"payload\", \"venus\", \"integration\", \"observatory\", \"astro\", \"launches\", \"exploration\", \"titan\", \"quicktime\", \"orbiter\", \"esdi\", \"astronomical\", \"space\", \"moon\", \"solar\", \"launched\", \"flight\", \"slave\", \"mission\", \"earth\", \"rocket\", \"station\", \"probe\", \"master\", \"data\", \"system\", \"first\", \"privacy\", \"ripem\", \"cryptography\", \"crypto\", \"nist\", \"crypt\", \"cipher\", \"ncsl\", \"cryptographic\", \"anon\", \"cryptology\", \"ieee\", \"patent\", \"init\", \"cryptosystem\", \"hellman\", \"authentication\", \"cpsr\", \"patented\", \"disclosure\", \"crowley\", \"liturgy\", \"smtp\", \"verlag\", \"diffie\", \"assess\", \"buffers\", \"entropy\", \"champaign\", \"protestant\", \"encryption\", \"plaintext\", \"security\", \"messages\", \"secure\", \"usenet\", \"karl\", \"anonymous\", \"secrecy\", \"hash\", \"keys\", \"algorithm\", \"public\", \"internet\", \"newsgroups\", \"message\", \"request\", \"private\", \"secret\", \"requests\", \"mail\", \"posting\", \"access\", \"mailing\", \"government\", \"list\", \"send\", \"part\", \"information\", \"computer\", \"users\", \"system\", \"printf\", \"char\", \"null\", \"entry\", \"uuencode\", \"colormap\", \"pixmap\", \"cursor\", \"argv\", \"maine\", \"printers\", \"networking\", \"digit\", \"accelerators\", \"argc\", \"ingr\", \"pyramid\", \"icons\", \"programmers\", \"wordperfect\", \"amps\", \"packard\", \"processors\", \"catbyte\", \"dtmedin\", \"grayscale\", \"toplevel\", \"allocated\", \"cape\", \"intrinsics\", \"contest\", \"string\", \"output\", \"remark\", \"winners\", \"stream\", \"exit\", \"section\", \"guidelines\", \"title\", \"file\", \"build\", \"rules\", \"define\", \"count\", \"input\", \"remarks\", \"check\", \"return\", \"program\", \"line\", \"info\", \"size\", \"author\", \"name\", \"open\", \"date\", \"number\", \"include\", \"read\", \"year\", \"must\", \"source\", \"sale\", \"sleeve\", \"phillies\", \"forsale\", \"riders\", \"hulk\", \"vpic\", \"harley\", \"expos\", \"wolverine\", \"comics\", \"leather\", \"joystick\", \"shipping\", \"bounced\", \"comic\", \"dealership\", \"mint\", \"volvo\", \"viola\", \"nintendo\", \"hawk\", \"flash\", \"ninja\", \"sega\", \"udel\", \"moto\", \"batman\", \"kirlian\", \"punisher\", \"helmet\", \"bikes\", \"habs\", \"ghost\", \"stereo\", \"motorcycle\", \"condition\", \"offer\", \"price\", \"rider\", \"asking\", \"buyer\", \"manuals\", \"mask\", \"sell\", \"motorcycles\", \"excellent\", \"selling\", \"picture\", \"cover\", \"copies\", \"interested\", \"original\", \"brand\", \"best\", \"please\", \"email\", \"unit\", \"good\", \"book\", \"mail\", \"games\", \"included\", \"thanks\", \"looking\", \"drives\", \"motherboard\", \"controller\", \"simms\", \"adapter\", \"voltage\", \"quadra\", \"connector\", \"slots\", \"circuits\", \"wires\", \"jumper\", \"detector\", \"centris\", \"pins\", \"simm\", \"connectors\", \"dram\", \"meter\", \"losses\", \"capitol\", \"volts\", \"resistor\", \"resolutions\", \"wrench\", \"vram\", \"interleave\", \"shade\", \"someplace\", \"blaster\", \"drive\", \"cable\", \"sync\", \"monitor\", \"floppy\", \"radar\", \"port\", \"circuit\", \"switch\", \"apple\", \"card\", \"board\", \"hard\", \"external\", \"supply\", \"power\", \"speed\", \"video\", \"slot\", \"sound\", \"serial\", \"need\", \"ports\", \"input\", \"israel\", \"israeli\", \"palestinian\", \"arabs\", \"arab\", \"lebanon\", \"palestinians\", \"israelis\", \"rockefeller\", \"lebanese\", \"retail\", \"immune\", \"athens\", \"stalin\", \"lyme\", \"outline\", \"physicians\", \"hemisphere\", \"couples\", \"dreams\", \"palestine\", \"gangs\", \"withdraw\", \"quack\", \"flaws\", \"syrian\", \"smokers\", \"occupying\", \"illnesses\", \"accusing\", \"aids\", \"syria\", \"casualties\", \"jewish\", \"jews\", \"subjective\", \"occupied\", \"infections\", \"peace\", \"jerusalem\", \"adam\", \"land\", \"civilians\", \"west\", \"attacks\", \"south\", \"east\", \"anti\", \"state\", \"none\", \"human\", \"wiring\", \"patents\", \"dialog\", \"sequences\", \"grounded\", \"cluster\", \"cica\", \"detectors\", \"ctrl\", \"intentional\", \"separated\", \"tail\", \"targa\", \"lens\", \"popup\", \"tvtwm\", \"transformer\", \"obfuscation\", \"tuning\", \"saab\", \"gauge\", \"transform\", \"bass\", \"grenades\", \"notify\", \"lenses\", \"attending\", \"lamps\", \"adapt\", \"advisory\", \"panel\", \"wire\", \"passive\", \"tapes\", \"consortium\", \"managing\", \"doug\", \"neutral\", \"flexible\", \"electrical\", \"ground\", \"protected\", \"panels\", \"locks\", \"echo\", \"current\", \"boxes\", \"circuit\", \"connected\", \"house\", \"subject\", \"lock\", \"button\", \"quebec\", \"jersey\", \"winner\", \"allah\", \"finals\", \"arena\", \"stewart\", \"stadium\", \"fame\", \"forwards\", \"nolan\", \"cincinnati\", \"spots\", \"yassin\", \"lineup\", \"profile\", \"prisoners\", \"gainey\", \"schism\", \"sandberg\", \"evans\", \"starters\", \"scanned\", \"echl\", \"finnish\", \"praying\", \"fever\", \"quran\", \"flavor\", \"mystical\", \"stanley\", \"hawks\", \"entries\", \"obfuscate\", \"campbell\", \"dean\", \"coach\", \"roger\", \"pitcher\", \"hall\", \"creative\", \"sports\", \"cleveland\", \"round\", \"expansion\", \"wings\", \"ryan\", \"pool\", \"cubs\", \"braves\", \"scores\", \"yankees\", \"suck\", \"arafat\", \"psychological\", \"austria\", \"confidential\", \"muscles\", \"theist\", \"rockies\", \"harry\", \"acids\", \"gates\", \"disorder\", \"flood\", \"marlins\", \"nail\", \"lasted\", \"visa\", \"hypotheses\", \"lemon\", \"amino\", \"depression\", \"vnet\", \"uchicago\", \"dealy\", \"ross\", \"projector\", \"crashes\", \"netcom\", \"francisco\", \"friday\", \"andrew\", \"wednesday\", \"thursday\", \"gene\", \"baltimore\", \"texas\", \"june\", \"switzerland\", \"berkeley\", \"angels\", \"richard\"], \"Freq\": [1798.0, 1332.0, 994.0, 1598.0, 4380.0, 942.0, 6474.0, 2612.0, 867.0, 809.0, 756.0, 3216.0, 2099.0, 1336.0, 800.0, 1276.0, 763.0, 3686.0, 1123.0, 1538.0, 1295.0, 652.0, 656.0, 517.0, 979.0, 4210.0, 1603.0, 625.0, 1575.0, 1732.0, 228.7889404296875, 186.57089233398438, 176.44143676757812, 171.928466796875, 168.7044677734375, 416.0286865234375, 144.42755126953125, 106.2836685180664, 204.62435913085938, 100.75983428955078, 93.71188354492188, 273.53472900390625, 84.22185516357422, 81.82637786865234, 80.52494812011719, 79.71939849853516, 78.48181915283203, 78.2739028930664, 77.66551971435547, 76.9618911743164, 76.76306915283203, 439.388671875, 73.9106216430664, 72.58834075927734, 69.9052963256836, 65.96756744384766, 62.91575622558594, 60.788124084472656, 193.27076721191406, 59.67362976074219, 60.008636474609375, 421.58251953125, 139.11106872558594, 122.69603729248047, 143.24917602539062, 408.31756591796875, 504.47698974609375, 182.5924835205078, 221.22789001464844, 292.4382019042969, 229.1525115966797, 219.64300537109375, 231.28472900390625, 136.06243896484375, 142.26296997070312, 348.10736083984375, 289.9228210449219, 251.77865600585938, 956.6018676757812, 711.46630859375, 382.41851806640625, 295.480712890625, 165.3568878173828, 688.35888671875, 1879.5181884765625, 435.16455078125, 620.10302734375, 516.69482421875, 2041.2342529296875, 472.525634765625, 705.8134155273438, 1208.700439453125, 950.5573120117188, 664.4480590820312, 477.2156066894531, 477.6517639160156, 872.5509033203125, 435.1221923828125, 553.8820190429688, 546.6985473632812, 394.17755126953125, 707.9534301757812, 735.8754272460938, 442.36456298828125, 673.4370727539062, 565.638916015625, 659.5751342773438, 481.3702087402344, 541.0617065429688, 567.9061889648438, 531.9296875, 474.20489501953125, 465.9224548339844, 454.378662109375, 199.34515380859375, 160.2038116455078, 76.39617156982422, 87.37569427490234, 69.52705383300781, 66.56446838378906, 66.82142639160156, 59.981571197509766, 57.556739807128906, 54.77442932128906, 50.003570556640625, 44.519752502441406, 43.05941390991211, 40.77468490600586, 43.42161560058594, 37.961692810058594, 37.36969757080078, 37.14914321899414, 36.769962310791016, 35.76661682128906, 35.61747360229492, 35.6069221496582, 35.53199005126953, 35.11335372924805, 34.136634826660156, 34.384986877441406, 33.075584411621094, 30.628803253173828, 30.46919059753418, 28.73090362548828, 113.15437316894531, 181.2913360595703, 69.42534637451172, 638.515380859375, 121.55856323242188, 528.0245361328125, 282.3356018066406, 192.4860076904297, 1192.3125, 1099.9556884765625, 170.90708923339844, 184.93296813964844, 394.11541748046875, 236.4362030029297, 505.1063537597656, 493.8575134277344, 390.7892150878906, 469.63775634765625, 170.60003662109375, 2223.509521484375, 481.2745666503906, 990.4896850585938, 694.484130859375, 2260.60888671875, 314.032958984375, 990.3160400390625, 1658.5865478515625, 1628.949951171875, 685.956787109375, 2841.5703125, 1069.728515625, 472.15374755859375, 1333.0880126953125, 643.7142333984375, 953.8145751953125, 768.385009765625, 693.3887329101562, 1159.62646484375, 1153.806396484375, 548.1708374023438, 1030.8333740234375, 842.5089721679688, 729.4337158203125, 760.1571044921875, 1123.4141845703125, 807.294189453125, 614.7539672851562, 569.8495483398438, 615.9300537109375, 658.9174194335938, 598.8668212890625, 667.15966796875, 649.7332763671875, 476.8093566894531, 338.7904357910156, 286.57879638671875, 264.1405029296875, 234.80599975585938, 213.68482971191406, 193.53016662597656, 192.518798828125, 183.46493530273438, 171.20115661621094, 162.21241760253906, 149.44090270996094, 143.82447814941406, 141.4822235107422, 137.70066833496094, 127.85253143310547, 122.8749771118164, 122.70010375976562, 117.5549087524414, 114.31326293945312, 371.412109375, 112.62226867675781, 111.9081802368164, 107.8535385131836, 104.4378433227539, 103.67236328125, 97.98162841796875, 97.13429260253906, 1317.15869140625, 607.1618041992188, 353.3190002441406, 441.2840576171875, 1032.482177734375, 838.1637573242188, 546.7061157226562, 664.3335571289062, 667.5977172851562, 894.7489624023438, 392.9468688964844, 355.35546875, 800.6737060546875, 367.8055114746094, 342.24444580078125, 499.4878845214844, 974.5403442382812, 298.4892578125, 1022.27880859375, 266.708251953125, 416.9047546386719, 413.8040466308594, 382.2110290527344, 906.5099487304688, 1008.7747802734375, 717.9002685546875, 846.8250732421875, 758.0072021484375, 747.9130859375, 1061.7532958984375, 513.6521606445312, 629.6155395507812, 579.8504028320312, 648.6136474609375, 618.282958984375, 586.1254272460938, 557.5985107421875, 685.8329467773438, 607.8776245117188, 603.0204467773438, 540.2731323242188, 270.6202087402344, 184.5140838623047, 113.67438507080078, 99.45664978027344, 101.7144546508789, 91.24606323242188, 90.53831481933594, 80.19610595703125, 80.08760833740234, 79.05262756347656, 66.55451202392578, 64.29432678222656, 63.42180633544922, 73.55516815185547, 61.88517379760742, 290.4313049316406, 59.656646728515625, 59.86845397949219, 56.36008834838867, 53.637386322021484, 51.975677490234375, 48.51025390625, 47.96294403076172, 47.65944290161133, 44.01795959472656, 43.8570442199707, 43.14154815673828, 42.219032287597656, 41.859588623046875, 40.51805877685547, 59.541473388671875, 78.58673858642578, 48.740745544433594, 145.4785919189453, 287.9597473144531, 66.98900604248047, 68.60708618164062, 115.70454406738281, 175.31863403320312, 89.10610961914062, 116.70415496826172, 152.04556274414062, 295.2504577636719, 190.953125, 97.325927734375, 164.61215209960938, 175.82325744628906, 128.29782104492188, 104.9568099975586, 175.15528869628906, 172.42166137695312, 473.48974609375, 349.67034912109375, 181.0043182373047, 168.74005126953125, 288.2767028808594, 150.0227508544922, 235.0389404296875, 373.7754211425781, 416.9775390625, 450.5595397949219, 231.53846740722656, 194.9077911376953, 329.3170166015625, 264.0155029296875, 389.3587646484375, 396.4007263183594, 196.1342315673828, 282.2140197753906, 370.60308837890625, 253.67689514160156, 225.1300811767578, 233.36865234375, 215.9091796875, 205.22911071777344, 198.62030029296875, 702.5554809570312, 619.1094360351562, 495.3251953125, 311.9742736816406, 299.0635681152344, 240.9664306640625, 231.87548828125, 208.95481872558594, 207.8534698486328, 184.42881774902344, 180.70567321777344, 178.6779327392578, 175.6917724609375, 159.5340118408203, 156.45989990234375, 134.2583465576172, 114.93489837646484, 107.6535415649414, 107.57926940917969, 107.35648345947266, 102.44542694091797, 100.30916595458984, 99.34920501708984, 98.16995239257812, 95.9285659790039, 94.79862213134766, 92.34765625, 90.75498962402344, 87.88224792480469, 88.63299560546875, 365.6346130371094, 361.0391540527344, 179.6111602783203, 277.2479248046875, 204.9602508544922, 311.3301086425781, 313.2330627441406, 185.4838104248047, 183.3058319091797, 328.5143127441406, 222.08306884765625, 182.3443145751953, 575.419677734375, 233.6155242919922, 292.0254821777344, 756.9187622070312, 214.8681182861328, 205.43727111816406, 290.19915771484375, 237.2869873046875, 309.0380859375, 245.33773803710938, 236.81951904296875, 195.96290588378906, 234.20376586914062, 213.70294189453125, 162.6959991455078, 180.4398651123047, 127.8912582397461, 91.69779205322266, 88.15365600585938, 86.41752624511719, 85.37354278564453, 83.82508850097656, 82.08187103271484, 80.44103240966797, 79.66545104980469, 78.10819244384766, 71.82299041748047, 60.56351089477539, 57.43869400024414, 57.362525939941406, 57.16340637207031, 56.29305648803711, 54.3851432800293, 51.88136291503906, 51.803009033203125, 51.294857025146484, 50.69303512573242, 50.401153564453125, 47.936710357666016, 47.69143295288086, 47.018856048583984, 47.01814270019531, 45.063697814941406, 42.16489791870117, 113.54483032226562, 71.15047454833984, 203.74844360351562, 116.52362060546875, 59.08694076538086, 107.62364196777344, 208.2392120361328, 132.1643524169922, 111.52088165283203, 226.29734802246094, 106.71772766113281, 199.71234130859375, 102.95514678955078, 164.4746856689453, 85.31997680664062, 215.8217315673828, 149.4700164794922, 101.28834533691406, 146.86463928222656, 160.21128845214844, 143.1710205078125, 382.2143249511719, 211.65057373046875, 162.25950622558594, 248.1858367919922, 132.3498077392578, 129.37088012695312, 134.9313507080078, 109.59564208984375, 214.1008758544922, 175.00531005859375, 125.8030014038086, 161.3646697998047, 141.33135986328125, 170.7878875732422, 161.02793884277344, 154.7869110107422, 156.47911071777344, 144.094970703125, 142.99349975585938, 138.06832885742188, 132.50482177734375, 941.6521606445312, 389.7176208496094, 314.421875, 206.81007385253906, 204.97447204589844, 193.72866821289062, 191.86790466308594, 470.5337829589844, 143.5769500732422, 137.8938446044922, 125.93182373046875, 125.42255401611328, 97.06645965576172, 90.89950561523438, 88.25296020507812, 85.98690795898438, 78.9023666381836, 77.79708862304688, 77.19937896728516, 81.89231872558594, 158.72364807128906, 70.18295288085938, 70.051025390625, 69.41365814208984, 66.03054809570312, 65.5894546508789, 62.4306526184082, 60.247840881347656, 58.80619812011719, 58.49787139892578, 93.1954116821289, 164.3666229248047, 123.93598175048828, 87.9186019897461, 120.45433807373047, 333.2937316894531, 160.58352661132812, 345.4920349121094, 201.8599853515625, 135.45921325683594, 99.63741302490234, 244.81838989257812, 198.07861328125, 194.4001922607422, 115.32254791259766, 176.07122802734375, 136.25747680664062, 230.5179443359375, 354.2534484863281, 178.31427001953125, 154.8596954345703, 172.52401733398438, 191.23770141601562, 164.7615966796875, 214.9347686767578, 171.16415405273438, 172.09637451171875, 158.5901641845703, 160.7869110107422, 163.54803466796875, 254.04718017578125, 169.43646240234375, 108.03154754638672, 106.97286987304688, 106.279296875, 97.13997650146484, 95.69637298583984, 92.1886978149414, 80.6376953125, 64.73328399658203, 62.43644332885742, 62.361114501953125, 45.585269927978516, 43.39683151245117, 42.87149429321289, 638.4345703125, 40.200958251953125, 39.1535530090332, 38.3465690612793, 38.189369201660156, 36.34789276123047, 35.25757598876953, 33.27202606201172, 32.39338684082031, 31.488494873046875, 31.395753860473633, 31.367786407470703, 31.300779342651367, 30.799448013305664, 29.24529266357422, 280.0349426269531, 264.2784729003906, 116.45194244384766, 52.631080627441406, 73.2012710571289, 53.78256607055664, 135.28854370117188, 109.49059295654297, 52.7786750793457, 250.48045349121094, 273.894287109375, 153.7409210205078, 91.56914520263672, 109.60325622558594, 111.30810546875, 158.79635620117188, 147.7263946533203, 123.8094482421875, 218.1573486328125, 106.87548828125, 400.7196350097656, 186.08201599121094, 238.88192749023438, 232.3450469970703, 215.12254333496094, 173.75106811523438, 149.59292602539062, 175.16604614257812, 208.804443359375, 211.13156127929688, 237.29989624023438, 169.59689331054688, 200.2729034423828, 313.19915771484375, 169.51699829101562, 162.49453735351562, 189.4808807373047, 184.9977264404297, 223.66648864746094, 159.34014892578125, 158.5361328125, 121.47285461425781, 69.84955596923828, 69.43688201904297, 58.486228942871094, 49.047794342041016, 47.381534576416016, 47.265411376953125, 46.7829475402832, 42.239341735839844, 41.9586296081543, 36.31989669799805, 35.906551361083984, 34.14223861694336, 33.44845962524414, 32.08038330078125, 31.7337589263916, 31.69165802001953, 31.631166458129883, 30.09646987915039, 29.82706642150879, 29.726327896118164, 29.03173828125, 28.19019317626953, 24.999176025390625, 24.831390380859375, 24.807960510253906, 24.571449279785156, 24.219301223754883, 23.345857620239258, 23.007015228271484, 154.1321258544922, 92.79727935791016, 82.29520416259766, 585.5438232421875, 162.785888671875, 74.55339050292969, 68.08294677734375, 475.12237548828125, 88.35729217529297, 101.09642028808594, 46.18526077270508, 54.54097366333008, 438.78887939453125, 384.8960266113281, 362.1379699707031, 55.23527145385742, 200.23580932617188, 74.76332092285156, 180.78858947753906, 97.54044342041016, 72.18907165527344, 375.05242919921875, 111.42887115478516, 176.8909454345703, 110.70691680908203, 234.0919647216797, 164.7177734375, 499.63604736328125, 111.17224884033203, 197.20040893554688, 160.63775634765625, 130.03497314453125, 170.52903747558594, 151.7790069580078, 116.95587158203125, 129.39791870117188, 124.19085693359375, 142.81143188476562, 139.13999938964844, 184.5950927734375, 152.5506134033203, 183.0996856689453, 148.50372314453125, 167.99282836914062, 155.57400512695312, 129.08920288085938, 156.87496948242188, 451.6086120605469, 277.1643371582031, 204.3000946044922, 183.5602264404297, 150.91668701171875, 139.1982879638672, 137.4366455078125, 133.3831787109375, 127.28178405761719, 121.44641876220703, 118.0790023803711, 110.714599609375, 110.30645751953125, 103.67996215820312, 97.42817687988281, 95.48922729492188, 94.49183654785156, 89.76416778564453, 86.79422760009766, 84.81853485107422, 84.67459106445312, 81.49334716796875, 79.5989990234375, 77.95345306396484, 76.83712005615234, 370.0154724121094, 68.33432006835938, 67.91478729248047, 62.59550094604492, 61.34064483642578, 376.5771789550781, 159.66061401367188, 761.674072265625, 804.8944702148438, 353.2622985839844, 508.35577392578125, 515.251953125, 210.43539428710938, 177.77334594726562, 241.37997436523438, 150.62403869628906, 128.82322692871094, 175.69686889648438, 192.0970458984375, 329.0198669433594, 160.67568969726562, 125.5657730102539, 406.95867919921875, 165.13836669921875, 160.07318115234375, 251.8479461669922, 192.88723754882812, 196.12930297851562, 196.6605682373047, 161.35073852539062, 153.4989013671875, 150.72763061523438, 655.3544311523438, 93.97827911376953, 86.30919647216797, 80.88844299316406, 68.37400817871094, 62.680110931396484, 58.02837371826172, 46.82487869262695, 42.96930694580078, 40.81837844848633, 39.87950134277344, 38.79153060913086, 38.5039176940918, 34.29423522949219, 52.46207809448242, 33.49561309814453, 32.25383377075195, 28.766372680664062, 28.729747772216797, 28.708843231201172, 28.610952377319336, 28.506763458251953, 27.659320831298828, 27.07072639465332, 26.23980140686035, 26.07110023498535, 25.85284423828125, 25.562326431274414, 25.31747817993164, 25.145780563354492, 85.62861633300781, 228.99571228027344, 67.90414428710938, 112.55900573730469, 82.28705596923828, 272.6607666015625, 51.61497497558594, 182.25331115722656, 136.1831817626953, 172.85214233398438, 98.51354217529297, 263.572265625, 167.59408569335938, 125.7296142578125, 143.88645935058594, 95.6524429321289, 109.2208480834961, 151.9840545654297, 87.38874053955078, 115.78190612792969, 111.93404388427734, 179.94522094726562, 127.66755676269531, 263.19476318359375, 308.29156494140625, 246.04574584960938, 204.83876037597656, 103.18231201171875, 154.24136352539062, 140.8388671875, 142.52069091796875, 110.20875549316406, 131.0962677001953, 105.36114501953125, 651.9934692382812, 264.96856689453125, 195.40142822265625, 187.54771423339844, 170.3605194091797, 222.77284240722656, 125.8541030883789, 114.98634338378906, 110.96466827392578, 476.00531005859375, 88.6551284790039, 83.777587890625, 80.67137145996094, 80.66221618652344, 76.47096252441406, 73.4413070678711, 67.29769897460938, 67.06768035888672, 63.390907287597656, 54.03392791748047, 51.938968658447266, 50.38983917236328, 49.23150634765625, 48.129947662353516, 48.08183670043945, 46.062381744384766, 44.30411911010742, 43.69068908691406, 43.429447174072266, 42.74405288696289, 1298.856201171875, 163.7477569580078, 125.78294372558594, 90.4149169921875, 148.11904907226562, 86.92174530029297, 157.61228942871094, 228.05128479003906, 98.5701904296875, 134.8671417236328, 67.83442687988281, 93.37047576904297, 198.94708251953125, 141.2122039794922, 102.39993286132812, 399.16473388671875, 279.3975830078125, 213.1194610595703, 175.89804077148438, 155.6277313232422, 120.85950469970703, 103.98103332519531, 94.09939575195312, 85.96183776855469, 78.92568969726562, 67.53038787841797, 59.41767120361328, 59.12579345703125, 49.97517013549805, 48.617027282714844, 47.62605285644531, 46.77462387084961, 32.520164489746094, 31.720624923706055, 31.538358688354492, 30.981487274169922, 26.028179168701172, 25.745859146118164, 25.36532211303711, 24.792760848999023, 24.088720321655273, 23.319561004638672, 21.663516998291016, 20.620046615600586, 19.683578491210938, 533.0572509765625, 74.01837921142578, 462.6072082519531, 173.85865783691406, 213.39784240722656, 188.2233428955078, 50.24290466308594, 293.8712463378906, 36.81045913696289, 61.15789794921875, 279.5492858886719, 192.20877075195312, 464.5973205566406, 266.83489990234375, 104.6385498046875, 284.5963439941406, 193.13800048828125, 176.63723754882812, 140.7125701904297, 104.05171203613281, 306.8617858886719, 183.12611389160156, 187.18731689453125, 110.32054138183594, 252.1947479248047, 222.89971923828125, 181.01516723632812, 197.38307189941406, 211.7760467529297, 171.97125244140625, 141.1873779296875, 182.8899688720703, 216.02769470214844, 212.5826873779297, 198.97116088867188, 622.7376098632812, 130.47117614746094, 75.38288116455078, 71.4315185546875, 68.57017517089844, 55.650028228759766, 52.65107345581055, 39.613861083984375, 37.64916229248047, 37.5867919921875, 36.9084587097168, 36.70543670654297, 34.08494186401367, 31.473114013671875, 31.43639373779297, 31.193193435668945, 31.191417694091797, 30.91918182373047, 30.823453903198242, 30.449600219726562, 29.665847778320312, 29.665847778320312, 29.019062042236328, 28.967065811157227, 28.659351348876953, 28.391401290893555, 28.382070541381836, 160.71823120117188, 149.89443969726562, 694.9901123046875, 139.09121704101562, 80.12354278564453, 190.86521911621094, 72.7880859375, 317.2249450683594, 79.2063217163086, 206.2738494873047, 903.2850952148438, 288.27203369140625, 238.5099639892578, 164.79193115234375, 127.21888732910156, 180.54124450683594, 69.46394348144531, 251.49525451660156, 190.81092834472656, 449.4189453125, 311.0525207519531, 264.2416076660156, 197.5094451904297, 137.48226928710938, 249.1925811767578, 187.09815979003906, 129.9829559326172, 196.6891632080078, 142.71827697753906, 161.2814178466797, 157.96063232421875, 147.66429138183594, 138.17733764648438, 324.2920227050781, 74.71630859375, 58.61936569213867, 46.75203323364258, 42.83209991455078, 38.28752899169922, 36.167503356933594, 35.93629455566406, 35.029354095458984, 34.5838508605957, 34.35700988769531, 32.09546661376953, 31.771814346313477, 269.0543518066406, 29.795860290527344, 27.67949867248535, 27.358259201049805, 26.684255599975586, 25.683542251586914, 25.11761474609375, 24.949758529663086, 24.860475540161133, 26.788270950317383, 24.167213439941406, 23.307912826538086, 22.517690658569336, 22.490949630737305, 22.316017150878906, 21.934032440185547, 21.45949363708496, 81.2984390258789, 87.70721435546875, 43.74751281738281, 39.809200286865234, 74.99034881591797, 86.33777618408203, 229.96607971191406, 255.10862731933594, 361.6583557128906, 78.82714080810547, 192.58074951171875, 37.25251388549805, 72.1756362915039, 63.062931060791016, 191.2120361328125, 50.54465103149414, 141.14013671875, 94.22725677490234, 124.71949768066406, 124.29443359375, 89.1999282836914, 149.50643920898438, 132.7545928955078, 64.32475280761719, 157.5543975830078, 187.56436157226562, 128.48828125, 81.75080871582031, 157.26976013183594, 97.39786529541016, 112.18984985351562, 85.97334289550781, 75.24302673339844, 78.91722869873047, 74.79357147216797, 293.4385070800781, 152.66812133789062, 275.29052734375, 130.30943298339844, 99.07389068603516, 95.50822448730469, 77.19124603271484, 75.32252502441406, 70.41923522949219, 67.43168640136719, 66.13517761230469, 65.72676849365234, 70.24866485595703, 63.75678634643555, 60.984840393066406, 49.58717346191406, 38.31862258911133, 38.14692687988281, 32.268131256103516, 29.600627899169922, 28.557994842529297, 26.070629119873047, 25.931554794311523, 24.77317237854004, 21.258298873901367, 68.22765350341797, 19.199499130249023, 18.89354133605957, 17.829133987426758, 15.822308540344238, 893.343505859375, 210.9993133544922, 43.089012145996094, 261.0705871582031, 166.2911834716797, 97.212890625, 168.23892211914062, 91.18228149414062, 118.7136459350586, 204.95782470703125, 311.12042236328125, 178.47344970703125, 301.87921142578125, 95.66490173339844, 111.6510238647461, 224.77574157714844, 153.4832763671875, 143.45596313476562, 77.02114868164062, 112.06269836425781, 90.75035095214844, 109.03518676757812, 71.76576232910156, 74.86624145507812, 516.60107421875, 315.7781677246094, 109.26367950439453, 99.13360595703125, 208.55453491210938, 71.82456970214844, 66.66674041748047, 65.13318634033203, 63.92140579223633, 60.29988479614258, 35.177738189697266, 33.27387619018555, 28.57128143310547, 28.489919662475586, 28.13347053527832, 27.98024559020996, 27.9156551361084, 24.522912979125977, 23.982927322387695, 23.543935775756836, 68.39425659179688, 22.15831184387207, 21.71933364868164, 21.608867645263672, 21.123416900634766, 20.76384925842285, 20.74178695678711, 20.03418731689453, 17.81241226196289, 16.850297927856445, 70.2542724609375, 49.06953811645508, 27.70433235168457, 171.7562713623047, 246.24986267089844, 40.290283203125, 53.24907684326172, 43.77839279174805, 119.04556274414062, 46.27264404296875, 61.02941131591797, 89.8255844116211, 43.886104583740234, 55.99663543701172, 49.403621673583984, 56.32036209106445, 47.34518814086914, 52.37881088256836, 62.52836608886719, 38.57849884033203, 39.306026458740234, 105.43831634521484, 45.18180847167969, 44.96229553222656, 44.48191833496094, 43.39127731323242, 41.71443557739258, 40.87723922729492, 37.83852005004883, 36.36426544189453, 30.609058380126953, 27.796300888061523, 25.81531524658203, 22.877782821655273, 21.33896255493164, 21.0435848236084, 20.312793731689453, 19.535057067871094, 19.370328903198242, 18.994401931762695, 18.101497650146484, 17.41390037536621, 17.097673416137695, 17.0340633392334, 16.877174377441406, 16.424556732177734, 16.270280838012695, 15.869272232055664, 15.769461631774902, 15.650825500488281, 15.519163131713867, 122.67652130126953, 153.9000244140625, 19.331998825073242, 59.14942169189453, 29.86138916015625, 24.974225997924805, 80.32767486572266, 84.30109405517578, 27.589685440063477, 70.91856384277344, 161.06346130371094, 41.70296096801758, 22.349483489990234, 23.927860260009766, 36.57284164428711, 68.80884552001953, 35.53736877441406, 36.42435073852539, 35.88328170776367, 47.99989700317383, 49.88116455078125, 34.21455764770508, 29.814359664916992, 75.98908996582031, 70.49555969238281, 53.906551361083984, 46.466758728027344, 44.176170349121094, 41.51692199707031, 36.35403823852539, 33.909297943115234, 32.007774353027344, 31.508506774902344, 31.23540496826172, 30.817716598510742, 27.87133026123047, 27.528404235839844, 27.037450790405273, 26.15292739868164, 25.0039119720459, 24.7935848236084, 24.40338134765625, 24.26131248474121, 23.05870819091797, 22.807798385620117, 22.34360122680664, 21.429784774780273, 20.889026641845703, 20.4898681640625, 19.647178649902344, 18.97085952758789, 16.839391708374023, 16.638763427734375, 52.4235725402832, 47.407100677490234, 175.55557250976562, 37.09928512573242, 29.42991065979004, 30.14737319946289, 49.82810974121094, 50.836158752441406, 38.105308532714844, 48.59947967529297, 34.198299407958984, 37.43790054321289, 31.365169525146484, 43.630977630615234, 38.0210075378418, 34.743385314941406, 29.826948165893555, 29.870147705078125, 76.84618377685547, 73.89395904541016, 60.157318115234375, 45.82649612426758, 29.292951583862305, 25.851499557495117, 25.79669189453125, 24.958541870117188, 21.813190460205078, 20.653810501098633, 20.183382034301758, 19.253372192382812, 17.884986877441406, 16.365352630615234, 16.180627822875977, 16.110326766967773, 16.07253074645996, 15.342866897583008, 15.142990112304688, 14.202422142028809, 13.7828369140625, 13.77967643737793, 13.129880905151367, 13.08663272857666, 12.78389835357666, 12.759461402893066, 12.432129859924316, 12.421225547790527, 11.925127029418945, 11.59460163116455, 24.852815628051758, 35.8828125, 49.385833740234375, 46.90457534790039, 36.918296813964844, 24.31728172302246, 25.675914764404297, 17.92454719543457, 21.647920608520508, 27.663543701171875, 22.9782657623291, 19.158954620361328, 22.376291275024414, 17.649389266967773, 18.225831985473633], \"Total\": [1798.0, 1332.0, 994.0, 1598.0, 4380.0, 942.0, 6474.0, 2612.0, 867.0, 809.0, 756.0, 3216.0, 2099.0, 1336.0, 800.0, 1276.0, 763.0, 3686.0, 1123.0, 1538.0, 1295.0, 652.0, 656.0, 517.0, 979.0, 4210.0, 1603.0, 625.0, 1575.0, 1732.0, 229.7340850830078, 187.51602172851562, 177.38656616210938, 172.87388610839844, 169.64959716796875, 418.69403076171875, 145.3726806640625, 107.22876739501953, 206.48158264160156, 101.7049331665039, 94.65845489501953, 276.3346862792969, 85.16696166992188, 82.77147674560547, 81.47234344482422, 80.66450500488281, 79.42691802978516, 79.21900177001953, 78.61063385009766, 77.90702056884766, 77.70816802978516, 444.8936767578125, 74.85572052001953, 73.53343963623047, 70.85276794433594, 66.91266632080078, 63.860862731933594, 61.73323059082031, 196.29405212402344, 60.618736267089844, 60.96012878417969, 438.4606018066406, 144.13143920898438, 126.6823959350586, 149.52366638183594, 449.96612548828125, 563.8097534179688, 194.44219970703125, 240.44009399414062, 325.1439208984375, 250.33547973632812, 241.47926330566406, 258.2810363769531, 144.57373046875, 152.13369750976562, 408.9615173339844, 344.6686096191406, 295.2135925292969, 1429.3673095703125, 1035.404296875, 494.5159912109375, 380.6779479980469, 184.4329376220703, 1149.232421875, 4380.56103515625, 650.0281372070312, 1070.87255859375, 841.957275390625, 6474.41552734375, 757.1107788085938, 1376.2908935546875, 3216.323486328125, 2292.0048828125, 1405.097412109375, 824.4332885742188, 872.8648071289062, 2434.302734375, 771.7406616210938, 1193.3497314453125, 1193.8309326171875, 653.8970947265625, 2153.85400390625, 2659.420654296875, 879.33642578125, 3686.227294921875, 2218.815673828125, 4210.6953125, 1313.711669921875, 2612.86865234375, 3603.659912109375, 2667.73583984375, 1694.1202392578125, 1427.5072021484375, 1297.6767578125, 200.4385223388672, 161.2388458251953, 77.34603118896484, 88.49083709716797, 70.4731674194336, 67.51058197021484, 67.78729248046875, 60.93317413330078, 58.50284957885742, 55.722782135009766, 50.94970703125, 45.467185974121094, 44.005523681640625, 41.720794677734375, 44.45391082763672, 38.907833099365234, 38.3158073425293, 38.095252990722656, 37.71657943725586, 36.71272659301758, 36.56358337402344, 36.553855895996094, 36.47809982299805, 36.05946350097656, 35.08274459838867, 35.34571838378906, 34.02169418334961, 31.574913024902344, 31.41529655456543, 29.67700958251953, 116.92365264892578, 196.24978637695312, 74.02784729003906, 753.3327026367188, 132.7836456298828, 626.74267578125, 328.4250183105469, 219.0377197265625, 1562.3985595703125, 1459.080078125, 198.95779418945312, 217.12405395507812, 502.5775451660156, 288.20550537109375, 667.6255493164062, 651.943115234375, 508.8335876464844, 634.6817626953125, 204.93350219726562, 3686.227294921875, 673.7784423828125, 1544.7950439453125, 1052.5322265625, 4210.6953125, 419.2445068359375, 1694.1202392578125, 3216.323486328125, 3163.400390625, 1116.752197265625, 6474.41552734375, 1940.7740478515625, 716.59033203125, 2667.73583984375, 1063.601318359375, 1878.4693603515625, 1422.9244384765625, 1251.652587890625, 2612.86865234375, 2659.420654296875, 919.1143188476562, 2434.302734375, 1904.102783203125, 1498.6884765625, 1689.423583984375, 4380.56103515625, 2218.815673828125, 1232.94970703125, 1035.835205078125, 1605.7904052734375, 2310.60791015625, 2153.85400390625, 668.1060180664062, 650.6796264648438, 477.7558288574219, 339.7369079589844, 287.5252685546875, 265.08697509765625, 235.7528533935547, 214.63131713867188, 194.47665405273438, 193.4652862548828, 184.4114227294922, 172.1632843017578, 163.15890502929688, 150.3954315185547, 144.77096557617188, 142.4287109375, 138.64715576171875, 128.79901123046875, 123.82144165039062, 123.64656829833984, 118.50137329101562, 115.25972747802734, 374.50274658203125, 113.56873321533203, 112.85464477539062, 108.80000305175781, 105.38430786132812, 104.61882781982422, 98.92809295654297, 98.08075714111328, 1336.486572265625, 620.1527709960938, 358.9774475097656, 451.05908203125, 1088.3675537109375, 888.6517944335938, 578.0595092773438, 711.8499755859375, 716.8484497070312, 987.8421630859375, 416.4930114746094, 382.5746154785156, 935.32080078125, 410.01019287109375, 379.1688232421875, 581.640380859375, 1309.1700439453125, 330.8350830078125, 1513.1630859375, 293.003662109375, 523.4788208007812, 521.2936401367188, 472.74993896484375, 1581.4541015625, 2099.315673828125, 1276.16552734375, 1798.948974609375, 1538.8128662109375, 1598.14306640625, 3603.659912109375, 824.7612915039062, 1323.1451416015625, 1261.9412841796875, 1689.423583984375, 1685.997314453125, 1603.193603515625, 1732.3448486328125, 4210.6953125, 3686.227294921875, 6474.41552734375, 2020.8634033203125, 271.5657043457031, 185.45907592773438, 114.61935424804688, 100.40191650390625, 102.71623229980469, 92.19103240966797, 91.4833755493164, 81.14107513427734, 81.03257751464844, 79.99759674072266, 67.49948120117188, 65.23929595947266, 64.36677551269531, 74.66507720947266, 62.830142974853516, 294.887451171875, 60.60161590576172, 60.818275451660156, 57.305057525634766, 54.58235549926758, 52.92064666748047, 49.455223083496094, 48.90791320800781, 48.60587692260742, 44.962928771972656, 44.80210876464844, 44.086517333984375, 43.1680908203125, 42.80455780029297, 41.46302795410156, 61.196773529052734, 84.03243255615234, 50.45716857910156, 167.6195831298828, 356.0159912109375, 71.61997985839844, 73.57281494140625, 133.4363250732422, 218.94541931152344, 102.0719223022461, 142.8437042236328, 201.61398315429688, 488.70123291015625, 285.10693359375, 119.33760833740234, 251.45069885253906, 281.1918029785156, 184.52008056640625, 138.01666259765625, 296.9466857910156, 309.5849304199219, 1575.8438720703125, 1123.9713134765625, 363.6558837890625, 322.37158203125, 881.5714111328125, 265.37127685546875, 616.3131713867188, 1488.8743896484375, 2218.815673828125, 2612.86865234375, 773.6538696289062, 519.3073120117188, 2020.8634033203125, 1257.4346923828125, 3603.659912109375, 4210.6953125, 608.5162353515625, 2153.85400390625, 6474.41552734375, 2659.420654296875, 1498.6884765625, 2292.0048828125, 1419.9541015625, 1059.190673828125, 1757.62060546875, 703.500732421875, 620.0546875, 496.27056884765625, 312.9196472167969, 300.0089416503906, 241.91180419921875, 232.82086181640625, 209.90049743652344, 208.79884338378906, 185.3741912841797, 181.6510772705078, 179.62330627441406, 176.63714599609375, 160.48536682128906, 157.4052734375, 135.20372009277344, 115.88026428222656, 108.59890747070312, 108.52497100830078, 108.30184936523438, 103.39079284667969, 101.25453186035156, 100.29457092285156, 99.11531829833984, 96.87393188476562, 95.74398803710938, 93.29431915283203, 91.70035552978516, 88.82793426513672, 89.61797332763672, 381.388427734375, 401.9403381347656, 195.50901794433594, 321.3510437011719, 235.70028686523438, 401.3888244628906, 405.4499206542969, 215.14341735839844, 217.97421264648438, 482.7220458984375, 288.6123962402344, 228.80958557128906, 1295.4725341796875, 342.765869140625, 632.7680053710938, 4380.56103515625, 357.54364013671875, 325.51007080078125, 945.6143798828125, 571.2711181640625, 1904.102783203125, 767.482421875, 1940.7740478515625, 360.4751281738281, 2310.60791015625, 1193.3497314453125, 163.6416778564453, 181.69923400878906, 128.83694458007812, 92.6434555053711, 89.09931945800781, 87.36319732666016, 86.31920623779297, 84.770751953125, 83.02753448486328, 81.3866958618164, 80.61111450195312, 79.0538558959961, 72.7686538696289, 61.50917434692383, 58.38435745239258, 58.308189392089844, 58.10906982421875, 57.23871994018555, 55.330806732177734, 52.8270263671875, 52.74867248535156, 52.24052047729492, 51.63869857788086, 51.34681701660156, 48.88237380981445, 48.6370964050293, 47.96451950073242, 47.96380615234375, 46.00937271118164, 43.11056137084961, 116.3515396118164, 73.44896697998047, 219.32586669921875, 122.89470672607422, 60.87041473388672, 114.6539077758789, 268.6444091796875, 162.54493713378906, 138.7026824951172, 370.4112854003906, 141.24948120117188, 340.83453369140625, 136.78367614746094, 284.69952392578125, 109.58668518066406, 495.655517578125, 286.9615478515625, 150.81178283691406, 311.10455322265625, 375.63787841796875, 312.67327880859375, 3163.400390625, 811.8968505859375, 445.5784912109375, 1685.997314453125, 358.5088806152344, 351.47021484375, 448.1482849121094, 217.8110809326172, 3603.659912109375, 1581.4541015625, 412.7582092285156, 1605.7904052734375, 773.6538696289062, 2218.815673828125, 1757.62060546875, 1392.15771484375, 2310.60791015625, 1183.29052734375, 2020.8634033203125, 2292.0048828125, 881.5714111328125, 942.616455078125, 390.6688232421875, 315.369384765625, 207.75765991210938, 205.95484924316406, 194.67617797851562, 192.81541442871094, 473.09246826171875, 144.5244903564453, 138.84165954589844, 126.87933349609375, 126.37006378173828, 98.01397705078125, 91.84701538085938, 89.20049285888672, 86.93441772460938, 79.8498764038086, 78.7446060180664, 78.14688873291016, 82.9819107055664, 160.84783935546875, 71.13046264648438, 70.99853515625, 70.36116790771484, 66.97805786132812, 66.5369644165039, 63.37815475463867, 61.195350646972656, 59.753700256347656, 59.44537353515625, 95.38919067382812, 178.35610961914062, 133.80714416503906, 93.67440795898438, 145.21095275878906, 552.3746337890625, 216.2571563720703, 609.9146118164062, 330.78887939453125, 192.625732421875, 118.45214080810547, 555.098876953125, 411.6960144042969, 400.7615966796875, 156.0641326904297, 373.7409973144531, 228.8771514892578, 725.1406860351562, 1904.102783203125, 632.7680053710938, 413.5439147949219, 619.4303588867188, 1137.42578125, 579.5672607421875, 3603.659912109375, 938.3294067382812, 1070.65771484375, 653.2300415039062, 841.957275390625, 4380.56103515625, 254.9933624267578, 170.3826446533203, 108.97771453857422, 107.9190444946289, 107.2254638671875, 98.08614349365234, 96.65779876708984, 93.1348648071289, 81.5838623046875, 65.67945098876953, 63.38261032104492, 63.307281494140625, 46.531436920166016, 44.343017578125, 43.81766128540039, 653.1111450195312, 41.147125244140625, 40.0997200012207, 39.2927360534668, 39.135536193847656, 37.29405975341797, 36.20374298095703, 34.21819305419922, 33.33955383300781, 32.434661865234375, 32.341922760009766, 32.3139533996582, 32.246944427490234, 31.7456111907959, 30.19145393371582, 290.39666748046875, 279.9356994628906, 127.02031707763672, 55.819976806640625, 79.43917083740234, 57.57666778564453, 159.72569274902344, 127.98619079589844, 57.086585998535156, 345.6985168457031, 410.046630859375, 217.0077667236328, 114.76515197753906, 146.8269500732422, 154.7984161376953, 249.61302185058594, 233.36566162109375, 191.74087524414062, 435.3586730957031, 161.03982543945312, 1295.4725341796875, 395.9569396972656, 620.8176879882812, 607.6314697265625, 592.5364379882812, 400.61181640625, 315.1638488769531, 468.1539001464844, 873.0979614257812, 979.7344360351562, 1459.080078125, 545.6305541992188, 945.6143798828125, 4380.56103515625, 563.660400390625, 620.5988159179688, 1757.62060546875, 1904.102783203125, 6474.41552734375, 1575.8438720703125, 1598.14306640625, 122.41798400878906, 70.79468536376953, 70.38201141357422, 59.43135452270508, 49.992919921875, 48.32666015625, 48.21053695678711, 47.72807312011719, 43.18446731567383, 42.90375518798828, 37.26502227783203, 36.85167694091797, 35.087364196777344, 34.393585205078125, 33.025508880615234, 32.67888641357422, 32.636783599853516, 32.5762939453125, 31.04159164428711, 30.772188186645508, 30.671449661254883, 29.97686004638672, 29.13531494140625, 25.944297790527344, 25.776512145996094, 25.753082275390625, 25.516571044921875, 25.1644229888916, 24.290979385375977, 23.9521427154541, 161.55972290039062, 96.9606704711914, 86.43612670898438, 634.4495239257812, 173.85183715820312, 79.85247802734375, 73.07630157470703, 562.5001220703125, 99.1368637084961, 115.566162109375, 49.38750076293945, 59.268394470214844, 587.4783935546875, 512.7350463867188, 492.4434509277344, 60.86452865600586, 273.2847900390625, 87.0990219116211, 249.8634033203125, 120.55635070800781, 84.51331329345703, 641.0149536132812, 144.49478149414062, 260.4820556640625, 151.2796630859375, 410.90411376953125, 278.86907958984375, 1603.193603515625, 174.2198486328125, 468.1539001464844, 332.98773193359375, 248.42970275878906, 502.203369140625, 479.0834045410156, 259.7742919921875, 340.83453369140625, 316.90765380859375, 511.70953369140625, 502.4192199707031, 1513.1630859375, 743.4032592773438, 1598.14306640625, 676.7896728515625, 1323.1451416015625, 1392.15771484375, 407.35919189453125, 3603.659912109375, 452.5567321777344, 278.113037109375, 205.26358032226562, 184.50885009765625, 151.9192352294922, 140.1464385986328, 138.38479614257812, 134.33132934570312, 128.22991943359375, 122.39454650878906, 119.02713012695312, 111.66273498535156, 111.25458526611328, 104.62808990478516, 98.37630462646484, 96.4373550415039, 95.4399642944336, 90.71229553222656, 87.74235534667969, 85.76666259765625, 85.62271881103516, 82.44148254394531, 80.5471420288086, 78.90158081054688, 77.78524780273438, 374.9206237792969, 69.28245544433594, 68.86295318603516, 63.54362869262695, 62.28877258300781, 386.38922119140625, 162.5590057373047, 800.9241333007812, 867.2763061523438, 384.2451171875, 595.2296752929688, 632.739013671875, 237.97047424316406, 198.28428649902344, 281.0273132324219, 168.4925079345703, 140.08602905273438, 206.38143920898438, 230.80386352539062, 524.95458984375, 203.7931671142578, 141.0852813720703, 1575.8438720703125, 265.99896240234375, 270.37286376953125, 2310.60791015625, 1018.5802612304688, 1123.9713134765625, 1419.9541015625, 470.20465087890625, 363.5522766113281, 414.4799499511719, 656.3031005859375, 94.92696380615234, 87.25788116455078, 81.83712768554688, 69.32269287109375, 63.62880325317383, 58.97706604003906, 47.7735710144043, 43.917999267578125, 41.76707077026367, 40.82819366455078, 39.7402229309082, 39.45261001586914, 35.24292755126953, 53.9267463684082, 34.444305419921875, 33.2025260925293, 29.715057373046875, 29.67843246459961, 29.657529830932617, 29.55963706970215, 29.455448150634766, 28.60800552368164, 28.019411087036133, 27.188486099243164, 27.019784927368164, 26.801530838012695, 26.511011123657227, 26.266162872314453, 26.094465255737305, 90.59484100341797, 255.1245574951172, 73.52550506591797, 133.6266632080078, 100.93826293945312, 409.6612243652344, 60.04191970825195, 282.8441467285156, 201.0048370361328, 279.2112731933594, 138.38104248046875, 493.21978759765625, 289.0854187011719, 200.56277465820312, 259.9186096191406, 155.12767028808594, 189.8035125732422, 313.8947448730469, 141.7088623046875, 222.13787841796875, 214.87786865234375, 482.3439025878906, 284.0531311035156, 1392.15771484375, 2020.8634033203125, 2099.315673828125, 1323.1451416015625, 310.8536071777344, 1581.4541015625, 1732.3448486328125, 2667.73583984375, 1015.9461059570312, 6474.41552734375, 651.7605590820312, 652.9374389648438, 265.9126281738281, 196.34552001953125, 188.49180603027344, 171.3046112060547, 224.32029724121094, 126.79820251464844, 115.93041229248047, 111.90873718261719, 480.84033203125, 89.59919738769531, 84.7216567993164, 81.61544036865234, 81.60628509521484, 77.41503143310547, 74.38538360595703, 68.24176788330078, 68.01174926757812, 64.33497619628906, 54.977996826171875, 52.88303756713867, 51.33390808105469, 50.17557907104492, 49.07401657104492, 49.02590560913086, 47.00645065307617, 45.24818801879883, 44.63475799560547, 44.37351608276367, 43.6881217956543, 1332.5994873046875, 168.24395751953125, 132.2316436767578, 94.19612121582031, 170.81387329101562, 96.02600860595703, 188.91229248046875, 396.6749572753906, 132.55809020996094, 249.0376434326172, 81.61333465576172, 162.3753204345703, 1323.1451416015625, 2099.315673828125, 2310.60791015625, 400.10137939453125, 280.334228515625, 214.0561065673828, 176.83668518066406, 156.5643768310547, 121.79615020751953, 104.91767883300781, 95.03604125976562, 86.89848327636719, 79.86260223388672, 68.46703338623047, 60.354312896728516, 60.062435150146484, 50.91181182861328, 49.55366897583008, 48.56269454956055, 47.711265563964844, 33.45680618286133, 32.65726852416992, 32.47500228881836, 31.91812515258789, 26.964815139770508, 26.68250846862793, 26.301958084106445, 25.72939682006836, 25.02535629272461, 24.256196975708008, 22.60015296936035, 21.556682586669922, 20.620214462280273, 614.1419067382812, 81.1724624633789, 572.0926513671875, 212.55145263671875, 267.3848571777344, 246.0828399658203, 56.7984733581543, 470.3634033203125, 40.7048225402832, 75.08502960205078, 482.3439025878906, 310.8536071777344, 979.7344360351562, 491.78997802734375, 152.49851989746094, 661.9204711914062, 428.3891296386719, 395.9569396972656, 294.4892578125, 176.9438934326172, 1276.16552734375, 535.5974731445312, 565.6043701171875, 198.61058044433594, 1295.4725341796875, 1032.8330078125, 897.2742309570312, 1221.0458984375, 1603.193603515625, 822.6768188476562, 419.9129638671875, 2099.315673828125, 216.98243713378906, 213.5374298095703, 199.9259033203125, 625.91357421875, 131.42591857910156, 76.33761596679688, 72.3862533569336, 69.55543518066406, 56.60476303100586, 53.60580825805664, 40.56859588623047, 38.60389709472656, 38.541526794433594, 37.86319351196289, 37.66017150878906, 35.039676666259766, 32.42784881591797, 32.39112854003906, 32.147926330566406, 32.14615249633789, 31.873912811279297, 31.77818489074707, 31.40433120727539, 30.62057876586914, 30.62057876586914, 29.973793029785156, 29.921796798706055, 29.61408233642578, 29.346132278442383, 29.336801528930664, 168.18377685546875, 157.2814483642578, 763.5510864257812, 149.403564453125, 89.0050277709961, 232.94056701660156, 82.60747528076172, 441.1585693359375, 93.07098388671875, 286.95928955078125, 1798.948974609375, 470.3831787109375, 375.36090087890625, 246.2124786376953, 215.48976135253906, 358.9727478027344, 94.21955108642578, 610.2239379882812, 408.5904541015625, 1598.14306640625, 1015.9461059570312, 824.7612915039062, 522.6631469726562, 290.048583984375, 1137.42578125, 661.8541259765625, 359.00604248046875, 1392.15771484375, 611.2384643554688, 1199.5699462890625, 1575.8438720703125, 1405.097412109375, 734.6659545898438, 327.83087158203125, 75.66767883300781, 59.570743560791016, 47.70341110229492, 43.783477783203125, 39.23890686035156, 37.11888122558594, 36.887672424316406, 35.98073196411133, 35.53522872924805, 35.308387756347656, 33.047515869140625, 32.72319030761719, 277.3491516113281, 30.747230529785156, 28.630868911743164, 28.309629440307617, 27.6356258392334, 26.634912490844727, 26.068984985351562, 25.9011287689209, 25.811845779418945, 27.816495895385742, 25.11858367919922, 24.2592830657959, 23.46906089782715, 23.442319869995117, 23.26738739013672, 22.88540267944336, 22.410863876342773, 86.28626251220703, 99.38433074951172, 47.50190353393555, 43.328975677490234, 86.77367401123047, 105.91187286376953, 323.4540710449219, 368.00732421875, 596.1934814453125, 99.61615753173828, 318.9131774902344, 42.37059783935547, 99.03575134277344, 83.83309173583984, 356.3478088378906, 63.123836517333984, 261.09295654296875, 150.0487060546875, 250.4197540283203, 290.3332824707031, 180.14186096191406, 538.1864013671875, 572.8016967773438, 125.77233123779297, 1005.1224365234375, 1538.8128662109375, 791.764404296875, 289.0854187011719, 2612.86865234375, 673.9038696289062, 1276.16552734375, 595.2296752929688, 337.5779724121094, 1309.1700439453125, 716.8167724609375, 294.65966796875, 153.62049865722656, 277.0705871582031, 131.26181030273438, 100.02625274658203, 96.46058654785156, 78.16607666015625, 76.27488708496094, 71.37159729003906, 68.39850616455078, 67.08753967285156, 66.67913055419922, 71.27936553955078, 64.70915222167969, 61.93720626831055, 50.5395393371582, 39.27098846435547, 39.09930419921875, 33.220497131347656, 30.55299186706543, 29.510358810424805, 27.022993087768555, 26.88391876220703, 25.725536346435547, 22.210662841796875, 71.45453643798828, 20.151865005493164, 19.845905303955078, 18.781497955322266, 16.77467155456543, 994.7734985351562, 241.1973419189453, 47.86304473876953, 345.2799377441406, 226.7106475830078, 128.82180786132812, 258.2237243652344, 128.51693725585938, 188.40057373046875, 411.9411926269531, 756.6936645507812, 359.10943603515625, 809.2108764648438, 149.9488525390625, 209.1544952392578, 1123.9713134765625, 519.3073120117188, 468.4319763183594, 111.26787567138672, 395.4151916503906, 313.8947448730469, 1732.3448486328125, 103.44574737548828, 358.9727478027344, 517.5562133789062, 318.00067138671875, 110.21884155273438, 100.08876037597656, 210.73489379882812, 72.77972412109375, 67.62189483642578, 66.08834075927734, 64.87655639648438, 61.255043029785156, 36.132896423339844, 34.229034423828125, 29.52644157409668, 29.44507598876953, 29.088626861572266, 28.935401916503906, 28.870811462402344, 25.478069305419922, 24.93808364868164, 24.49909210205078, 71.2579116821289, 23.113468170166016, 22.674489974975586, 22.564023971557617, 22.07857322692871, 21.719005584716797, 21.696943283081055, 20.989343643188477, 18.767568588256836, 17.80545425415039, 75.62362670898438, 54.43531799316406, 30.177671432495117, 347.2107238769531, 571.2711181640625, 52.25979995727539, 77.1733627319336, 59.95389938354492, 253.16445922851562, 68.04440307617188, 109.34935760498047, 256.5420227050781, 93.11811065673828, 203.734375, 153.07095336914062, 237.82339477539062, 220.31857299804688, 360.4751281738281, 945.6143798828125, 278.6208801269531, 594.8701782226562, 106.39385986328125, 46.13735580444336, 45.917842864990234, 45.43746566772461, 44.346824645996094, 42.66998291015625, 41.832786560058594, 38.7940673828125, 37.3198127746582, 31.56460189819336, 28.75184440612793, 26.770858764648438, 23.83332633972168, 22.294506072998047, 21.999128341674805, 21.26833724975586, 20.4906005859375, 20.32587242126465, 19.9499454498291, 19.05704116821289, 18.369443893432617, 18.0532169342041, 17.989606857299805, 17.832717895507812, 17.38010025024414, 17.2258243560791, 16.82481575012207, 16.725006103515625, 16.606369018554688, 16.474706649780273, 136.2554473876953, 186.43861389160156, 20.841691970825195, 71.42210388183594, 34.46495056152344, 28.070878982543945, 109.0613021850586, 123.30721282958984, 32.41287612915039, 109.46070861816406, 321.9151306152344, 95.91717529296875, 28.001710891723633, 35.030723571777344, 108.57748413085938, 691.0540771484375, 108.86164093017578, 128.51693725585938, 137.16197204589844, 435.3586730957031, 836.3344116210938, 148.65512084960938, 127.8622817993164, 76.94844055175781, 71.45612335205078, 54.865901947021484, 47.426109313964844, 45.135520935058594, 42.476280212402344, 37.31338882446289, 34.868648529052734, 32.967124938964844, 32.46887969970703, 32.19475555419922, 31.77706527709961, 28.830678939819336, 28.48775291442871, 27.99679946899414, 27.112276077270508, 25.963260650634766, 25.752933502197266, 25.362730026245117, 25.220661163330078, 24.018056869506836, 23.767147064208984, 23.302949905395508, 22.38913345336914, 21.84837532043457, 21.449216842651367, 20.60652732849121, 19.930784225463867, 17.79874038696289, 17.598112106323242, 55.78640365600586, 50.7490119934082, 202.7388916015625, 43.176631927490234, 33.44565963745117, 35.455223083496094, 69.568115234375, 86.62718200683594, 54.957462310791016, 92.96661376953125, 49.64622116088867, 94.54536437988281, 57.37389373779297, 190.34841918945312, 119.74299621582031, 108.4864501953125, 61.07444381713867, 77.12910461425781, 77.80655670166016, 74.85478210449219, 61.117706298828125, 46.78687286376953, 30.253326416015625, 26.811874389648438, 26.75706672668457, 25.92015266418457, 22.7735652923584, 21.614185333251953, 21.143756866455078, 20.213747024536133, 18.845361709594727, 17.325727462768555, 17.141002655029297, 17.070701599121094, 17.03290557861328, 16.303241729736328, 16.103364944458008, 15.162797927856445, 14.743212699890137, 14.740052223205566, 14.090256690979004, 14.047008514404297, 13.744274139404297, 13.719837188720703, 13.392505645751953, 13.381601333618164, 12.885502815246582, 12.554977416992188, 28.989492416381836, 69.65681457519531, 122.48675537109375, 113.81594848632812, 157.09165954589844, 61.90135192871094, 71.00175476074219, 33.568748474121094, 63.06117248535156, 146.76837158203125, 138.2873077392578, 59.47540283203125, 143.6558074951172, 60.782875061035156, 105.86089324951172], \"Category\": [\"Default\", \"Default\", \"Default\", \"Default\", \"Default\", \"Default\", \"Default\", \"Default\", \"Default\", \"Default\", \"Default\", \"Default\", \"Default\", \"Default\", \"Default\", \"Default\", \"Default\", \"Default\", \"Default\", \"Default\", \"Default\", \"Default\", \"Default\", \"Default\", \"Default\", \"Default\", \"Default\", \"Default\", \"Default\", \"Default\", \"Topic1\", \"Topic1\", \"Topic1\", \"Topic1\", \"Topic1\", \"Topic1\", \"Topic1\", \"Topic1\", \"Topic1\", \"Topic1\", \"Topic1\", \"Topic1\", \"Topic1\", \"Topic1\", \"Topic1\", \"Topic1\", \"Topic1\", \"Topic1\", \"Topic1\", \"Topic1\", \"Topic1\", \"Topic1\", \"Topic1\", \"Topic1\", \"Topic1\", \"Topic1\", \"Topic1\", \"Topic1\", \"Topic1\", \"Topic1\", \"Topic1\", \"Topic1\", \"Topic1\", \"Topic1\", \"Topic1\", \"Topic1\", \"Topic1\", \"Topic1\", \"Topic1\", \"Topic1\", \"Topic1\", \"Topic1\", \"Topic1\", \"Topic1\", \"Topic1\", \"Topic1\", \"Topic1\", \"Topic1\", \"Topic1\", \"Topic1\", \"Topic1\", \"Topic1\", \"Topic1\", \"Topic1\", \"Topic1\", \"Topic1\", \"Topic1\", \"Topic1\", \"Topic1\", \"Topic1\", \"Topic1\", \"Topic1\", \"Topic1\", \"Topic1\", \"Topic1\", \"Topic1\", \"Topic1\", \"Topic1\", \"Topic1\", \"Topic1\", \"Topic1\", \"Topic1\", \"Topic1\", \"Topic1\", \"Topic1\", \"Topic1\", \"Topic1\", \"Topic1\", \"Topic1\", \"Topic1\", \"Topic1\", \"Topic1\", \"Topic1\", \"Topic1\", \"Topic2\", \"Topic2\", \"Topic2\", \"Topic2\", \"Topic2\", \"Topic2\", \"Topic2\", \"Topic2\", \"Topic2\", \"Topic2\", \"Topic2\", \"Topic2\", \"Topic2\", \"Topic2\", \"Topic2\", \"Topic2\", \"Topic2\", \"Topic2\", \"Topic2\", \"Topic2\", \"Topic2\", \"Topic2\", \"Topic2\", \"Topic2\", \"Topic2\", \"Topic2\", \"Topic2\", \"Topic2\", \"Topic2\", \"Topic2\", \"Topic2\", \"Topic2\", \"Topic2\", \"Topic2\", \"Topic2\", \"Topic2\", \"Topic2\", \"Topic2\", \"Topic2\", \"Topic2\", \"Topic2\", \"Topic2\", \"Topic2\", \"Topic2\", \"Topic2\", \"Topic2\", \"Topic2\", \"Topic2\", \"Topic2\", \"Topic2\", \"Topic2\", \"Topic2\", \"Topic2\", \"Topic2\", \"Topic2\", \"Topic2\", \"Topic2\", \"Topic2\", \"Topic2\", \"Topic2\", \"Topic2\", \"Topic2\", \"Topic2\", \"Topic2\", \"Topic2\", \"Topic2\", \"Topic2\", \"Topic2\", \"Topic2\", \"Topic2\", \"Topic2\", \"Topic2\", \"Topic2\", \"Topic2\", \"Topic2\", \"Topic2\", \"Topic2\", \"Topic2\", \"Topic2\", \"Topic2\", \"Topic2\", \"Topic3\", \"Topic3\", \"Topic3\", \"Topic3\", \"Topic3\", \"Topic3\", \"Topic3\", \"Topic3\", \"Topic3\", \"Topic3\", \"Topic3\", \"Topic3\", \"Topic3\", \"Topic3\", \"Topic3\", \"Topic3\", \"Topic3\", \"Topic3\", \"Topic3\", \"Topic3\", \"Topic3\", \"Topic3\", \"Topic3\", \"Topic3\", \"Topic3\", \"Topic3\", \"Topic3\", \"Topic3\", \"Topic3\", \"Topic3\", \"Topic3\", \"Topic3\", \"Topic3\", \"Topic3\", \"Topic3\", \"Topic3\", \"Topic3\", \"Topic3\", \"Topic3\", \"Topic3\", \"Topic3\", \"Topic3\", \"Topic3\", \"Topic3\", \"Topic3\", \"Topic3\", \"Topic3\", \"Topic3\", \"Topic3\", \"Topic3\", \"Topic3\", \"Topic3\", \"Topic3\", \"Topic3\", \"Topic3\", \"Topic3\", \"Topic3\", \"Topic3\", \"Topic3\", \"Topic3\", \"Topic3\", \"Topic3\", \"Topic3\", \"Topic3\", \"Topic3\", \"Topic3\", \"Topic3\", \"Topic3\", \"Topic3\", \"Topic3\", \"Topic3\", \"Topic4\", \"Topic4\", \"Topic4\", \"Topic4\", \"Topic4\", \"Topic4\", \"Topic4\", \"Topic4\", \"Topic4\", \"Topic4\", \"Topic4\", \"Topic4\", \"Topic4\", \"Topic4\", \"Topic4\", \"Topic4\", \"Topic4\", \"Topic4\", \"Topic4\", \"Topic4\", \"Topic4\", \"Topic4\", \"Topic4\", \"Topic4\", \"Topic4\", \"Topic4\", \"Topic4\", \"Topic4\", \"Topic4\", \"Topic4\", \"Topic4\", \"Topic4\", \"Topic4\", \"Topic4\", \"Topic4\", \"Topic4\", \"Topic4\", \"Topic4\", \"Topic4\", \"Topic4\", \"Topic4\", \"Topic4\", \"Topic4\", \"Topic4\", \"Topic4\", \"Topic4\", \"Topic4\", \"Topic4\", \"Topic4\", \"Topic4\", \"Topic4\", \"Topic4\", \"Topic4\", \"Topic4\", \"Topic4\", \"Topic4\", \"Topic4\", \"Topic4\", \"Topic4\", \"Topic4\", \"Topic4\", \"Topic4\", \"Topic4\", \"Topic4\", \"Topic4\", \"Topic4\", \"Topic4\", \"Topic4\", \"Topic4\", \"Topic4\", \"Topic4\", \"Topic4\", \"Topic4\", \"Topic4\", \"Topic4\", \"Topic4\", \"Topic5\", \"Topic5\", \"Topic5\", \"Topic5\", \"Topic5\", \"Topic5\", \"Topic5\", \"Topic5\", \"Topic5\", \"Topic5\", \"Topic5\", \"Topic5\", \"Topic5\", \"Topic5\", \"Topic5\", \"Topic5\", \"Topic5\", \"Topic5\", \"Topic5\", \"Topic5\", \"Topic5\", \"Topic5\", \"Topic5\", \"Topic5\", \"Topic5\", \"Topic5\", \"Topic5\", \"Topic5\", \"Topic5\", \"Topic5\", \"Topic5\", \"Topic5\", \"Topic5\", \"Topic5\", \"Topic5\", \"Topic5\", \"Topic5\", \"Topic5\", \"Topic5\", \"Topic5\", \"Topic5\", \"Topic5\", \"Topic5\", \"Topic5\", \"Topic5\", \"Topic5\", \"Topic5\", \"Topic5\", \"Topic5\", \"Topic5\", \"Topic5\", \"Topic5\", \"Topic5\", \"Topic5\", \"Topic5\", \"Topic5\", \"Topic6\", \"Topic6\", \"Topic6\", \"Topic6\", \"Topic6\", \"Topic6\", \"Topic6\", \"Topic6\", \"Topic6\", \"Topic6\", \"Topic6\", \"Topic6\", \"Topic6\", \"Topic6\", \"Topic6\", \"Topic6\", \"Topic6\", \"Topic6\", \"Topic6\", \"Topic6\", \"Topic6\", \"Topic6\", \"Topic6\", \"Topic6\", \"Topic6\", \"Topic6\", \"Topic6\", \"Topic6\", \"Topic6\", \"Topic6\", \"Topic6\", \"Topic6\", \"Topic6\", \"Topic6\", \"Topic6\", \"Topic6\", \"Topic6\", \"Topic6\", \"Topic6\", \"Topic6\", \"Topic6\", \"Topic6\", \"Topic6\", \"Topic6\", \"Topic6\", \"Topic6\", \"Topic6\", \"Topic6\", \"Topic6\", \"Topic6\", \"Topic6\", \"Topic6\", \"Topic6\", \"Topic6\", \"Topic6\", \"Topic6\", \"Topic6\", \"Topic6\", \"Topic6\", \"Topic6\", \"Topic6\", \"Topic6\", \"Topic6\", \"Topic6\", \"Topic6\", \"Topic6\", \"Topic6\", \"Topic6\", \"Topic6\", \"Topic6\", \"Topic6\", \"Topic6\", \"Topic7\", \"Topic7\", \"Topic7\", \"Topic7\", \"Topic7\", \"Topic7\", \"Topic7\", \"Topic7\", \"Topic7\", \"Topic7\", \"Topic7\", \"Topic7\", \"Topic7\", \"Topic7\", \"Topic7\", \"Topic7\", \"Topic7\", \"Topic7\", \"Topic7\", \"Topic7\", \"Topic7\", \"Topic7\", \"Topic7\", \"Topic7\", \"Topic7\", \"Topic7\", \"Topic7\", \"Topic7\", \"Topic7\", \"Topic7\", \"Topic7\", \"Topic7\", \"Topic7\", \"Topic7\", \"Topic7\", \"Topic7\", \"Topic7\", \"Topic7\", \"Topic7\", \"Topic7\", \"Topic7\", \"Topic7\", \"Topic7\", \"Topic7\", \"Topic7\", \"Topic7\", \"Topic7\", \"Topic7\", \"Topic7\", \"Topic7\", \"Topic7\", \"Topic7\", \"Topic7\", \"Topic7\", \"Topic7\", \"Topic7\", \"Topic7\", \"Topic7\", \"Topic7\", \"Topic7\", \"Topic8\", \"Topic8\", \"Topic8\", \"Topic8\", \"Topic8\", \"Topic8\", \"Topic8\", \"Topic8\", \"Topic8\", \"Topic8\", \"Topic8\", \"Topic8\", \"Topic8\", \"Topic8\", \"Topic8\", \"Topic8\", \"Topic8\", \"Topic8\", \"Topic8\", \"Topic8\", \"Topic8\", \"Topic8\", \"Topic8\", \"Topic8\", \"Topic8\", \"Topic8\", \"Topic8\", \"Topic8\", \"Topic8\", \"Topic8\", \"Topic8\", \"Topic8\", \"Topic8\", \"Topic8\", \"Topic8\", \"Topic8\", \"Topic8\", \"Topic8\", \"Topic8\", \"Topic8\", \"Topic8\", \"Topic8\", \"Topic8\", \"Topic8\", \"Topic8\", \"Topic8\", \"Topic8\", \"Topic8\", \"Topic8\", \"Topic8\", \"Topic8\", \"Topic8\", \"Topic8\", \"Topic8\", \"Topic8\", \"Topic8\", \"Topic8\", \"Topic8\", \"Topic8\", \"Topic8\", \"Topic8\", \"Topic8\", \"Topic8\", \"Topic8\", \"Topic8\", \"Topic8\", \"Topic8\", \"Topic8\", \"Topic8\", \"Topic8\", \"Topic8\", \"Topic9\", \"Topic9\", \"Topic9\", \"Topic9\", \"Topic9\", \"Topic9\", \"Topic9\", \"Topic9\", \"Topic9\", \"Topic9\", \"Topic9\", \"Topic9\", \"Topic9\", \"Topic9\", \"Topic9\", \"Topic9\", \"Topic9\", \"Topic9\", \"Topic9\", \"Topic9\", \"Topic9\", \"Topic9\", \"Topic9\", \"Topic9\", \"Topic9\", \"Topic9\", \"Topic9\", \"Topic9\", \"Topic9\", \"Topic9\", \"Topic9\", \"Topic9\", \"Topic9\", \"Topic9\", \"Topic9\", \"Topic9\", \"Topic9\", \"Topic9\", \"Topic9\", \"Topic9\", \"Topic9\", \"Topic9\", \"Topic9\", \"Topic9\", \"Topic9\", \"Topic9\", \"Topic9\", \"Topic9\", \"Topic9\", \"Topic9\", \"Topic9\", \"Topic9\", \"Topic9\", \"Topic9\", \"Topic9\", \"Topic9\", \"Topic9\", \"Topic9\", \"Topic9\", \"Topic9\", \"Topic9\", \"Topic9\", \"Topic9\", \"Topic9\", \"Topic9\", \"Topic9\", \"Topic9\", \"Topic9\", \"Topic9\", \"Topic9\", \"Topic9\", \"Topic9\", \"Topic9\", \"Topic9\", \"Topic9\", \"Topic9\", \"Topic9\", \"Topic10\", \"Topic10\", \"Topic10\", \"Topic10\", \"Topic10\", \"Topic10\", \"Topic10\", \"Topic10\", \"Topic10\", \"Topic10\", \"Topic10\", \"Topic10\", \"Topic10\", \"Topic10\", \"Topic10\", \"Topic10\", \"Topic10\", \"Topic10\", \"Topic10\", \"Topic10\", \"Topic10\", \"Topic10\", \"Topic10\", \"Topic10\", \"Topic10\", \"Topic10\", \"Topic10\", \"Topic10\", \"Topic10\", \"Topic10\", \"Topic10\", \"Topic10\", \"Topic10\", \"Topic10\", \"Topic10\", \"Topic10\", \"Topic10\", \"Topic10\", \"Topic10\", \"Topic10\", \"Topic10\", \"Topic10\", \"Topic10\", \"Topic10\", \"Topic10\", \"Topic10\", \"Topic10\", \"Topic10\", \"Topic10\", \"Topic10\", \"Topic10\", \"Topic10\", \"Topic10\", \"Topic10\", \"Topic10\", \"Topic10\", \"Topic10\", \"Topic11\", \"Topic11\", \"Topic11\", \"Topic11\", \"Topic11\", \"Topic11\", \"Topic11\", \"Topic11\", \"Topic11\", \"Topic11\", \"Topic11\", \"Topic11\", \"Topic11\", \"Topic11\", \"Topic11\", \"Topic11\", \"Topic11\", \"Topic11\", \"Topic11\", \"Topic11\", \"Topic11\", \"Topic11\", \"Topic11\", \"Topic11\", \"Topic11\", \"Topic11\", \"Topic11\", \"Topic11\", \"Topic11\", \"Topic11\", \"Topic11\", \"Topic11\", \"Topic11\", \"Topic11\", \"Topic11\", \"Topic11\", \"Topic11\", \"Topic11\", \"Topic11\", \"Topic11\", \"Topic11\", \"Topic11\", \"Topic11\", \"Topic11\", \"Topic11\", \"Topic11\", \"Topic11\", \"Topic11\", \"Topic11\", \"Topic11\", \"Topic11\", \"Topic11\", \"Topic11\", \"Topic11\", \"Topic11\", \"Topic11\", \"Topic11\", \"Topic11\", \"Topic11\", \"Topic11\", \"Topic11\", \"Topic11\", \"Topic11\", \"Topic11\", \"Topic12\", \"Topic12\", \"Topic12\", \"Topic12\", \"Topic12\", \"Topic12\", \"Topic12\", \"Topic12\", \"Topic12\", \"Topic12\", \"Topic12\", \"Topic12\", \"Topic12\", \"Topic12\", \"Topic12\", \"Topic12\", \"Topic12\", \"Topic12\", \"Topic12\", \"Topic12\", \"Topic12\", \"Topic12\", \"Topic12\", \"Topic12\", \"Topic12\", \"Topic12\", \"Topic12\", \"Topic12\", \"Topic12\", \"Topic12\", \"Topic12\", \"Topic12\", \"Topic12\", \"Topic12\", \"Topic12\", \"Topic12\", \"Topic12\", \"Topic12\", \"Topic12\", \"Topic12\", \"Topic12\", \"Topic12\", \"Topic12\", \"Topic12\", \"Topic12\", \"Topic13\", \"Topic13\", \"Topic13\", \"Topic13\", \"Topic13\", \"Topic13\", \"Topic13\", \"Topic13\", \"Topic13\", \"Topic13\", \"Topic13\", \"Topic13\", \"Topic13\", \"Topic13\", \"Topic13\", \"Topic13\", \"Topic13\", \"Topic13\", \"Topic13\", \"Topic13\", \"Topic13\", \"Topic13\", \"Topic13\", \"Topic13\", \"Topic13\", \"Topic13\", \"Topic13\", \"Topic13\", \"Topic13\", \"Topic13\", \"Topic13\", \"Topic13\", \"Topic13\", \"Topic13\", \"Topic13\", \"Topic13\", \"Topic13\", \"Topic13\", \"Topic13\", \"Topic13\", \"Topic13\", \"Topic13\", \"Topic13\", \"Topic13\", \"Topic13\", \"Topic13\", \"Topic13\", \"Topic13\", \"Topic13\", \"Topic13\", \"Topic13\", \"Topic13\", \"Topic13\", \"Topic13\", \"Topic13\", \"Topic13\", \"Topic13\", \"Topic13\", \"Topic13\", \"Topic13\", \"Topic13\", \"Topic13\", \"Topic14\", \"Topic14\", \"Topic14\", \"Topic14\", \"Topic14\", \"Topic14\", \"Topic14\", \"Topic14\", \"Topic14\", \"Topic14\", \"Topic14\", \"Topic14\", \"Topic14\", \"Topic14\", \"Topic14\", \"Topic14\", \"Topic14\", \"Topic14\", \"Topic14\", \"Topic14\", \"Topic14\", \"Topic14\", \"Topic14\", \"Topic14\", \"Topic14\", \"Topic14\", \"Topic14\", \"Topic14\", \"Topic14\", \"Topic14\", \"Topic14\", \"Topic14\", \"Topic14\", \"Topic14\", \"Topic14\", \"Topic14\", \"Topic14\", \"Topic14\", \"Topic14\", \"Topic14\", \"Topic14\", \"Topic14\", \"Topic14\", \"Topic14\", \"Topic14\", \"Topic14\", \"Topic14\", \"Topic14\", \"Topic14\", \"Topic14\", \"Topic14\", \"Topic14\", \"Topic14\", \"Topic14\", \"Topic14\", \"Topic14\", \"Topic14\", \"Topic14\", \"Topic14\", \"Topic14\", \"Topic14\", \"Topic14\", \"Topic14\", \"Topic15\", \"Topic15\", \"Topic15\", \"Topic15\", \"Topic15\", \"Topic15\", \"Topic15\", \"Topic15\", \"Topic15\", \"Topic15\", \"Topic15\", \"Topic15\", \"Topic15\", \"Topic15\", \"Topic15\", \"Topic15\", \"Topic15\", \"Topic15\", \"Topic15\", \"Topic15\", \"Topic15\", \"Topic15\", \"Topic15\", \"Topic15\", \"Topic15\", \"Topic15\", \"Topic15\", \"Topic15\", \"Topic15\", \"Topic15\", \"Topic15\", \"Topic15\", \"Topic15\", \"Topic15\", \"Topic15\", \"Topic15\", \"Topic15\", \"Topic15\", \"Topic15\", \"Topic15\", \"Topic15\", \"Topic15\", \"Topic15\", \"Topic15\", \"Topic15\", \"Topic15\", \"Topic15\", \"Topic15\", \"Topic15\", \"Topic15\", \"Topic15\", \"Topic15\", \"Topic15\", \"Topic15\", \"Topic15\", \"Topic15\", \"Topic15\", \"Topic15\", \"Topic15\", \"Topic15\", \"Topic15\", \"Topic15\", \"Topic15\", \"Topic15\", \"Topic15\", \"Topic16\", \"Topic16\", \"Topic16\", \"Topic16\", \"Topic16\", \"Topic16\", \"Topic16\", \"Topic16\", \"Topic16\", \"Topic16\", \"Topic16\", \"Topic16\", \"Topic16\", \"Topic16\", \"Topic16\", \"Topic16\", \"Topic16\", \"Topic16\", \"Topic16\", \"Topic16\", \"Topic16\", \"Topic16\", \"Topic16\", \"Topic16\", \"Topic16\", \"Topic16\", \"Topic16\", \"Topic16\", \"Topic16\", \"Topic16\", \"Topic16\", \"Topic16\", \"Topic16\", \"Topic16\", \"Topic16\", \"Topic16\", \"Topic16\", \"Topic16\", \"Topic16\", \"Topic16\", \"Topic16\", \"Topic16\", \"Topic16\", \"Topic16\", \"Topic16\", \"Topic16\", \"Topic16\", \"Topic16\", \"Topic16\", \"Topic16\", \"Topic16\", \"Topic16\", \"Topic16\", \"Topic16\", \"Topic17\", \"Topic17\", \"Topic17\", \"Topic17\", \"Topic17\", \"Topic17\", \"Topic17\", \"Topic17\", \"Topic17\", \"Topic17\", \"Topic17\", \"Topic17\", \"Topic17\", \"Topic17\", \"Topic17\", \"Topic17\", \"Topic17\", \"Topic17\", \"Topic17\", \"Topic17\", \"Topic17\", \"Topic17\", \"Topic17\", \"Topic17\", \"Topic17\", \"Topic17\", \"Topic17\", \"Topic17\", \"Topic17\", \"Topic17\", \"Topic17\", \"Topic17\", \"Topic17\", \"Topic17\", \"Topic17\", \"Topic17\", \"Topic17\", \"Topic17\", \"Topic17\", \"Topic17\", \"Topic17\", \"Topic17\", \"Topic17\", \"Topic17\", \"Topic17\", \"Topic17\", \"Topic17\", \"Topic17\", \"Topic17\", \"Topic17\", \"Topic17\", \"Topic18\", \"Topic18\", \"Topic18\", \"Topic18\", \"Topic18\", \"Topic18\", \"Topic18\", \"Topic18\", \"Topic18\", \"Topic18\", \"Topic18\", \"Topic18\", \"Topic18\", \"Topic18\", \"Topic18\", \"Topic18\", \"Topic18\", \"Topic18\", \"Topic18\", \"Topic18\", \"Topic18\", \"Topic18\", \"Topic18\", \"Topic18\", \"Topic18\", \"Topic18\", \"Topic18\", \"Topic18\", \"Topic18\", \"Topic18\", \"Topic18\", \"Topic18\", \"Topic18\", \"Topic18\", \"Topic18\", \"Topic18\", \"Topic18\", \"Topic18\", \"Topic18\", \"Topic18\", \"Topic18\", \"Topic18\", \"Topic18\", \"Topic18\", \"Topic18\", \"Topic18\", \"Topic18\", \"Topic18\", \"Topic18\", \"Topic18\", \"Topic18\", \"Topic18\", \"Topic18\", \"Topic19\", \"Topic19\", \"Topic19\", \"Topic19\", \"Topic19\", \"Topic19\", \"Topic19\", \"Topic19\", \"Topic19\", \"Topic19\", \"Topic19\", \"Topic19\", \"Topic19\", \"Topic19\", \"Topic19\", \"Topic19\", \"Topic19\", \"Topic19\", \"Topic19\", \"Topic19\", \"Topic19\", \"Topic19\", \"Topic19\", \"Topic19\", \"Topic19\", \"Topic19\", \"Topic19\", \"Topic19\", \"Topic19\", \"Topic19\", \"Topic19\", \"Topic19\", \"Topic19\", \"Topic19\", \"Topic19\", \"Topic19\", \"Topic19\", \"Topic19\", \"Topic19\", \"Topic19\", \"Topic19\", \"Topic19\", \"Topic19\", \"Topic19\", \"Topic19\", \"Topic19\", \"Topic19\", \"Topic19\", \"Topic20\", \"Topic20\", \"Topic20\", \"Topic20\", \"Topic20\", \"Topic20\", \"Topic20\", \"Topic20\", \"Topic20\", \"Topic20\", \"Topic20\", \"Topic20\", \"Topic20\", \"Topic20\", \"Topic20\", \"Topic20\", \"Topic20\", \"Topic20\", \"Topic20\", \"Topic20\", \"Topic20\", \"Topic20\", \"Topic20\", \"Topic20\", \"Topic20\", \"Topic20\", \"Topic20\", \"Topic20\", \"Topic20\", \"Topic20\", \"Topic20\", \"Topic20\", \"Topic20\", \"Topic20\", \"Topic20\", \"Topic20\", \"Topic20\", \"Topic20\", \"Topic20\", \"Topic20\", \"Topic20\", \"Topic20\", \"Topic20\", \"Topic20\", \"Topic20\"], \"logprob\": [30.0, 29.0, 28.0, 27.0, 26.0, 25.0, 24.0, 23.0, 22.0, 21.0, 20.0, 19.0, 18.0, 17.0, 16.0, 15.0, 14.0, 13.0, 12.0, 11.0, 10.0, 9.0, 8.0, 7.0, 6.0, 5.0, 4.0, 3.0, 2.0, 1.0, -6.506100177764893, -6.710000038146973, -6.765900135040283, -6.791800022125244, -6.810699939727783, -5.908100128173828, -6.966100215911865, -7.27269983291626, -6.617700099945068, -7.326099872589111, -7.398600101470947, -6.327400207519531, -7.50540018081665, -7.534299850463867, -7.550300121307373, -7.560299873352051, -7.576000213623047, -7.57859992980957, -7.586400032043457, -7.5954999923706055, -7.598100185394287, -5.853499889373779, -7.636000156402588, -7.654099941253662, -7.691699981689453, -7.74970006942749, -7.797100067138672, -7.831500053405762, -6.674799919128418, -7.849999904632568, -7.844399929046631, -5.894800186157227, -7.003600120544434, -7.129199981689453, -6.974299907684326, -5.926799774169922, -5.7153000831604, -6.731599807739258, -6.539700031280518, -6.2606000900268555, -6.504499912261963, -6.546899795532227, -6.495200157165527, -7.025700092315674, -6.981200218200684, -6.086299896240234, -6.269199848175049, -6.410299777984619, -5.075500011444092, -5.371500015258789, -5.992300033569336, -6.25029993057251, -6.8308000564575195, -5.4045000076293945, -4.400100231170654, -5.863100051879883, -5.508999824523926, -5.691400051116943, -4.317500114440918, -5.780799865722656, -5.379499912261963, -4.841599941253662, -5.0817999839782715, -5.439899921417236, -5.770899772644043, -5.769999980926514, -5.167399883270264, -5.8632001876831055, -5.6219000816345215, -5.635000228881836, -5.962100028991699, -5.376500129699707, -5.337800025939941, -5.846700191497803, -5.426499843597412, -5.600900173187256, -5.447299957275391, -5.762199878692627, -5.645299911499023, -5.59689998626709, -5.662300109863281, -5.777200222015381, -5.7947998046875, -5.819900035858154, -6.557300090789795, -6.775899887084961, -7.51639986038208, -7.3821001052856445, -7.610599994659424, -7.654099941253662, -7.650300025939941, -7.758299827575684, -7.799499988555908, -7.849100112915039, -7.940199851989746, -8.056400299072266, -8.089699745178223, -8.144200325012207, -8.081399917602539, -8.215700149536133, -8.231399536132812, -8.23740005493164, -8.247599601745605, -8.275300025939941, -8.279500007629395, -8.279800415039062, -8.281900405883789, -8.293700218200684, -8.321900367736816, -8.31470012664795, -8.353500366210938, -8.430399894714355, -8.435600280761719, -8.49429988861084, -7.123600006103516, -6.652200222015381, -7.612100124359131, -5.393199920654297, -7.0518999099731445, -5.583199977874756, -6.209199905395508, -6.592299938201904, -4.768700122833252, -4.849299907684326, -6.71120023727417, -6.632299900054932, -5.875699996948242, -6.386600017547607, -5.627500057220459, -5.650100231170654, -5.884099960327148, -5.700300216674805, -6.7129998207092285, -4.145500183105469, -5.675899982452393, -4.954100131988525, -5.309100151062012, -4.128900051116943, -6.102799892425537, -4.9542999267578125, -4.438600063323975, -4.456600189208984, -5.321499824523926, -3.9001998901367188, -4.877099990844727, -5.695000171661377, -4.657100200653076, -5.3850998878479, -4.991799831390381, -5.208000183105469, -5.310699939727783, -4.796500205993652, -4.801499843597412, -5.5457000732421875, -4.9141998291015625, -5.115900039672852, -5.260000228881836, -5.218800067901611, -4.828199863433838, -5.158599853515625, -5.431099891662598, -5.506899833679199, -5.429200172424316, -5.361700057983398, -5.457300186157227, -5.2895002365112305, -5.315899848937988, -5.625400066375732, -5.967100143432617, -6.134500026702881, -6.216000080108643, -6.333700180053711, -6.427999973297119, -6.527100086212158, -6.532299995422363, -6.58050012588501, -6.649700164794922, -6.70359992980957, -6.785600185394287, -6.82390022277832, -6.8403000831604, -6.867400169372559, -6.9415998458862305, -6.981299877166748, -6.982800006866455, -7.025599956512451, -7.053599834442139, -5.875199794769287, -7.06850004196167, -7.07480001449585, -7.111700057983398, -7.143899917602539, -7.151299953460693, -7.207699775695801, -7.216400146484375, -4.609300136566162, -5.383699893951416, -5.925099849700928, -5.7027997970581055, -4.852799892425537, -5.061299800872803, -5.48859977722168, -5.293700218200684, -5.28879976272583, -4.995999813079834, -5.81879997253418, -5.919400215148926, -5.107100009918213, -5.885000228881836, -5.956999778747559, -5.57889986038208, -4.9105000495910645, -6.093800067901611, -4.86269998550415, -6.206299781799316, -5.7596001625061035, -5.767099857330322, -5.846499919891357, -4.982900142669678, -4.875999927520752, -5.21619987487793, -5.051000118255615, -5.161799907684326, -5.17519998550415, -4.82480001449585, -5.551000118255615, -5.347400188446045, -5.429699897766113, -5.317699909210205, -5.365600109100342, -5.419000148773193, -5.468900203704834, -5.261899948120117, -5.382500171661377, -5.390600204467773, -5.500400066375732, -5.577400207519531, -5.960400104522705, -6.444799900054932, -6.578400135040283, -6.556000232696533, -6.664599895477295, -6.672399997711182, -6.793700218200684, -6.795000076293945, -6.808000087738037, -6.980100154876709, -7.014699935913086, -7.028299808502197, -6.880099773406982, -7.0528998374938965, -5.506800174713135, -7.0894999504089355, -7.085999965667725, -7.146399974822998, -7.195899963378906, -7.227399826049805, -7.29640007019043, -7.307700157165527, -7.3140997886657715, -7.393599987030029, -7.397200107574463, -7.413700103759766, -7.435299873352051, -7.44379997253418, -7.476399898529053, -7.0914998054504395, -6.813899993896484, -7.291600227355957, -6.1981000900268555, -5.5152997970581055, -6.973599910736084, -6.94980001449585, -6.42710018157959, -6.011499881744385, -6.688300132751465, -6.418499946594238, -6.1539998054504395, -5.490300178527832, -5.92609977722168, -6.600100040435791, -6.0746002197265625, -6.008699893951416, -6.323800086975098, -6.524600028991699, -6.012499809265137, -6.028200149536133, -5.01800012588501, -5.321199893951416, -5.979599952697754, -6.049799919128418, -5.514200210571289, -6.167399883270264, -5.718400001525879, -5.254499912261963, -5.145100116729736, -5.067699909210205, -5.733399868011475, -5.905600070953369, -5.381100177764893, -5.602099895477295, -5.213699817657471, -5.195700168609619, -5.899400234222412, -5.5355000495910645, -5.263000011444092, -5.642099857330322, -5.761499881744385, -5.725500106811523, -5.803299903869629, -5.854000091552734, -5.8867998123168945, -4.5518999099731445, -4.678299903869629, -4.901400089263916, -5.363699913024902, -5.405900001525879, -5.6219000816345215, -5.660399913787842, -5.764500141143799, -5.769800186157227, -5.8892998695373535, -5.9096999168396, -5.921000003814697, -5.937900066375732, -6.034299850463867, -6.053800106048584, -6.2067999839782715, -6.362199783325195, -6.427700042724609, -6.428400039672852, -6.4303998947143555, -6.47730016708374, -6.498300075531006, -6.507999897003174, -6.519899845123291, -6.543000221252441, -6.554800033569336, -6.580999851226807, -6.598400115966797, -6.6305999755859375, -6.622099876403809, -5.204999923706055, -5.217599868774414, -5.915800094604492, -5.4816999435424805, -5.78380012512207, -5.365699768066406, -5.3597002029418945, -5.883600234985352, -5.895400047302246, -5.311999797821045, -5.703499794006348, -5.900700092315674, -4.751500129699707, -5.652900218963623, -5.429800033569336, -4.47730016708374, -5.736599922180176, -5.781499862670898, -5.435999870300293, -5.63730001449585, -5.3730998039245605, -5.604000091552734, -5.6392998695373535, -5.828700065612793, -5.650400161743164, -5.742000102996826, -5.913400173187256, -5.809800148010254, -6.154099941253662, -6.486700057983398, -6.526199817657471, -6.546000003814697, -6.558199882507324, -6.576499938964844, -6.597499847412109, -6.617700099945068, -6.627399921417236, -6.64709997177124, -6.730999946594238, -6.901500225067139, -6.954500198364258, -6.9558000564575195, -6.9593000411987305, -6.974699974060059, -7.009099960327148, -7.056300163269043, -7.057799816131592, -7.067599773406982, -7.079400062561035, -7.08519983291626, -7.13539981842041, -7.140500068664551, -7.154699802398682, -7.154699802398682, -7.197199821472168, -7.263599872589111, -6.2729997634887695, -6.7403998374938965, -5.688399791717529, -6.247099876403809, -6.926199913024902, -6.326600074768066, -5.666600227355957, -6.121200084686279, -6.290999889373779, -5.583399772644043, -6.335000038146973, -5.708399772644043, -6.3709001541137695, -5.902500152587891, -6.558800220489502, -5.630799770355225, -5.9980998039245605, -6.38730001449585, -6.015699863433838, -5.928699970245361, -6.041200160980225, -5.059299945831299, -5.650300025939941, -5.915999889373779, -5.491099834442139, -6.119800090789795, -6.142600059509277, -6.100500106811523, -6.3084001541137695, -5.638800144195557, -5.840400218963623, -6.170499801635742, -5.921599864959717, -6.054100036621094, -5.864799976348877, -5.923699855804443, -5.963200092315674, -5.952300071716309, -6.034800052642822, -6.042399883270264, -6.077499866485596, -6.118599891662598, -3.91729998588562, -4.799499988555908, -5.014200210571289, -5.43310022354126, -5.441999912261963, -5.498499870300293, -5.5081000328063965, -4.611100196838379, -5.798099994659424, -5.838399887084961, -5.929200172424316, -5.933199882507324, -6.189499855041504, -6.255199909210205, -6.2846999168396, -6.310699939727783, -6.396699905395508, -6.410799980163574, -6.418499946594238, -6.359499931335449, -5.697800159454346, -6.513800144195557, -6.515699863433838, -6.524799823760986, -6.57480001449585, -6.581500053405762, -6.630899906158447, -6.666500091552734, -6.690700054168701, -6.695899963378906, -6.230199813842773, -5.662799835205078, -5.945199966430664, -6.28849983215332, -5.973700046539307, -4.955900192260742, -5.686100006103516, -4.920000076293945, -5.457300186157227, -5.856299877166748, -6.163400173187256, -5.264400005340576, -5.47629976272583, -5.494999885559082, -6.017199993133545, -5.593999862670898, -5.850399971008301, -5.3246002197265625, -4.894899845123291, -5.581399917602539, -5.722400188446045, -5.6143999099731445, -5.51140022277832, -5.660399913787842, -5.394599914550781, -5.622300148010254, -5.6168999671936035, -5.698599815368652, -5.684800148010254, -5.667799949645996, -5.111800193786621, -5.5167999267578125, -5.966899871826172, -5.9766998291015625, -5.9832000732421875, -6.0731000900268555, -6.088099956512451, -6.125400066375732, -6.259300231933594, -6.479000091552734, -6.515100002288818, -6.516300201416016, -6.829699993133545, -6.878900051116943, -6.89109992980957, -4.190299987792969, -6.955399990081787, -6.981800079345703, -7.002600193023682, -7.006700038909912, -7.056099891662598, -7.086599826812744, -7.144599914550781, -7.171299934387207, -7.199699878692627, -7.202600002288818, -7.203499794006348, -7.205599784851074, -7.221799850463867, -7.273600101470947, -5.014400005340576, -5.072299957275391, -5.8917999267578125, -6.685999870300293, -6.356100082397461, -6.664299964904785, -5.7418999671936035, -5.953400135040283, -6.683199882507324, -5.125899791717529, -5.036499977111816, -5.613999843597412, -6.132199764251709, -5.952400207519531, -5.936999797821045, -5.581699848175049, -5.653900146484375, -5.83050012588501, -5.264100074768066, -5.97760009765625, -4.656000137329102, -5.423099994659424, -5.173299789428711, -5.201099872589111, -5.27810001373291, -5.491700172424316, -5.64139986038208, -5.483500003814697, -5.3078999519348145, -5.296800136566162, -5.179999828338623, -5.515900135040283, -5.349599838256836, -4.902400016784668, -5.516300201416016, -5.558599948883057, -5.40500020980835, -5.428899765014648, -5.239099979400635, -5.578199863433838, -5.5833001136779785, -5.8358001708984375, -6.389100074768066, -6.395100116729736, -6.566699981689453, -6.742700099945068, -6.777299880981445, -6.779699802398682, -6.789999961853027, -6.892099857330322, -6.898799896240234, -7.043099880218506, -7.054599761962891, -7.105000019073486, -7.125500202178955, -7.167200088500977, -7.178100109100342, -7.1793999671936035, -7.181300163269043, -7.231100082397461, -7.240099906921387, -7.243500232696533, -7.267099857330322, -7.296500205993652, -7.416600227355957, -7.423399925231934, -7.424300193786621, -7.433899879455566, -7.448299884796143, -7.485099792480469, -7.49970006942749, -5.597700119018555, -6.105100154876709, -6.225200176239014, -4.262899875640869, -5.543000221252441, -6.323999881744385, -6.41480016708374, -4.47189998626709, -6.154099941253662, -6.019400119781494, -6.802800178527832, -6.636499881744385, -4.551499843597412, -4.682499885559082, -4.743500232696533, -6.623899936676025, -5.335999965667725, -6.321199893951416, -5.438199996948242, -6.055200099945068, -6.356200218200684, -4.708399772644043, -5.922100067138672, -5.460000038146973, -5.928599834442139, -5.179800033569336, -5.531300067901611, -4.421599864959717, -5.9243998527526855, -5.35129976272583, -5.556300163269043, -5.7677001953125, -5.496600151062012, -5.613100051879883, -5.873700141906738, -5.772600173950195, -5.813700199127197, -5.673999786376953, -5.699999809265137, -5.417300224304199, -5.607999801635742, -5.42549991607666, -5.634900093078613, -5.511600017547607, -5.588399887084961, -5.775000095367432, -5.579999923706055, -4.320499897003174, -4.808700084686279, -5.113699913024902, -5.220799922943115, -5.416600227355957, -5.497399806976318, -5.510200023651123, -5.54010009765625, -5.586900234222412, -5.633900165557861, -5.6620001792907715, -5.726399898529053, -5.730100154876709, -5.791999816894531, -5.8541998863220215, -5.874300003051758, -5.884799957275391, -5.936100006103516, -5.969799995422363, -5.992800235748291, -5.994500160217285, -6.032800197601318, -6.056300163269043, -6.077199935913086, -6.091599941253662, -4.519800186157227, -6.208899974822998, -6.215099811553955, -6.296599864959717, -6.31689977645874, -4.502200126647949, -5.360300064086914, -3.797800064086914, -3.7425999641418457, -4.566100120544434, -4.202099800109863, -4.188700199127197, -5.084099769592285, -5.252799987792969, -4.947000026702881, -5.418499946594238, -5.574900150299072, -5.264599800109863, -5.175300121307373, -4.637199878692627, -5.353899955749512, -5.600500106811523, -4.424600124359131, -5.326499938964844, -5.357699871063232, -4.9045000076293945, -5.171199798583984, -5.154600143432617, -5.151800155639648, -5.349699974060059, -5.399600028991699, -5.417900085449219, -3.6861000061035156, -5.628200054168701, -5.7133002281188965, -5.778200149536133, -5.946300029754639, -6.033199787139893, -6.110400199890137, -6.324900150299072, -6.410799980163574, -6.462200164794922, -6.485400199890137, -6.5131001472473145, -6.520500183105469, -6.636300086975098, -6.21120023727417, -6.659900188446045, -6.6975998878479, -6.812099933624268, -6.813399791717529, -6.8140997886657715, -6.817500114440918, -6.821100234985352, -6.85129976272583, -6.872799873352051, -6.9039998054504395, -6.9105000495910645, -6.918900012969971, -6.930200099945068, -6.939799785614014, -6.946599960327148, -5.72130012512207, -4.737599849700928, -5.953199863433838, -5.447800159454346, -5.761099815368652, -4.5630998611450195, -6.227499961853027, -4.96589994430542, -5.257299900054932, -5.018799781799316, -5.581099987030029, -4.5970001220703125, -5.049699783325195, -5.337100028991699, -5.202300071716309, -5.610599994659424, -5.47790002822876, -5.147500038146973, -5.700900077819824, -5.419600009918213, -5.453400135040283, -4.978600025177002, -5.321899890899658, -4.598400115966797, -4.440199851989746, -4.665800094604492, -4.849100112915039, -5.534800052642822, -5.132800102233887, -5.223700046539307, -5.2118000984191895, -5.468900203704834, -5.295400142669678, -5.513899803161621, -3.672600030899048, -4.572999954223633, -4.877600193023682, -4.918600082397461, -5.014699935913086, -4.746500015258789, -5.317500114440918, -5.407800197601318, -5.443399906158447, -3.9872000217437744, -5.667900085449219, -5.7245001792907715, -5.762199878692627, -5.762400150299072, -5.815700054168701, -5.856100082397461, -5.94350004196167, -5.946899890899658, -6.003300189971924, -6.163000106811523, -6.202600002288818, -6.232800006866455, -6.256100177764893, -6.27869987487793, -6.279699802398682, -6.3225998878479, -6.361499786376953, -6.375500202178955, -6.381499767303467, -6.39739990234375, -2.9834001064300537, -5.054299831390381, -5.3180999755859375, -5.648200035095215, -5.154600143432617, -5.687600135803223, -5.09250020980835, -4.723100185394287, -5.5619001388549805, -5.248300075531006, -5.9355998039245605, -5.616099834442139, -4.859600067138672, -5.202400207519531, -5.52370023727417, -4.150599956512451, -4.507299900054932, -4.77810001373291, -4.96999979019165, -5.09250020980835, -5.345300197601318, -5.495699882507324, -5.595600128173828, -5.685999870300293, -5.771399974822998, -5.9274001121521, -6.055300235748291, -6.060299873352051, -6.228400230407715, -6.25600004196167, -6.276500225067139, -6.294600009918213, -6.658100128173828, -6.683000087738037, -6.688700199127197, -6.706500053405762, -6.88070011138916, -6.89169979095459, -6.906499862670898, -6.9293999671936035, -6.958199977874756, -6.990600109100342, -7.064300060272217, -7.113699913024902, -7.160099983215332, -3.861299991607666, -5.835599899291992, -4.0030999183654785, -4.9816999435424805, -4.776800155639648, -4.902299880981445, -6.223100185394287, -4.4567999839782715, -6.53410005569458, -6.026500225067139, -4.506800174713135, -4.88129997253418, -3.998800039291382, -4.553299903869629, -5.4893999099731445, -4.488900184631348, -4.876500129699707, -4.965799808502197, -5.19320011138916, -5.494999885559082, -4.41349983215332, -4.929800033569336, -4.907800197601318, -5.436500072479248, -4.6097002029418945, -4.7332000732421875, -4.941299915313721, -4.854800224304199, -4.78439998626709, -4.992599964141846, -5.189799785614014, -4.931000232696533, -4.763800144195557, -4.779900074005127, -4.846099853515625, -3.7051000595092773, -5.268099784851074, -5.8165998458862305, -5.870500087738037, -5.911399841308594, -6.120100021362305, -6.17549991607666, -6.460000038146973, -6.510900020599365, -6.512599945068359, -6.530799865722656, -6.536300182342529, -6.610400199890137, -6.690100193023682, -6.691299915313721, -6.698999881744385, -6.699100017547607, -6.707799911499023, -6.710899829864502, -6.723199844360352, -6.749199867248535, -6.749199867248535, -6.771299839019775, -6.773099899291992, -6.783699989318848, -6.793099880218506, -6.793499946594238, -5.059599876403809, -5.129300117492676, -3.5952999591827393, -5.204100131988525, -5.75570011138916, -4.887700080871582, -5.8516998291015625, -4.3796000480651855, -5.767199993133545, -4.809999942779541, -3.333199977874756, -4.475299835205078, -4.66480016708374, -5.0345001220703125, -5.293300151824951, -4.943299770355225, -5.898399829864502, -4.611800193786621, -4.887899875640869, -4.031300067901611, -4.3993000984191895, -4.562399864196777, -4.853400230407715, -5.215700149536133, -4.620999813079834, -4.907599925994873, -5.2718000411987305, -4.857600212097168, -5.178400039672852, -5.056099891662598, -5.076900005340576, -5.1442999839782715, -5.210700035095215, -4.037499904632568, -5.50540018081665, -5.748000144958496, -5.9741997718811035, -6.061800003051758, -6.173999786376953, -6.230899810791016, -6.237400054931641, -6.262899875640869, -6.275700092315674, -6.282299995422363, -6.350399971008301, -6.360499858856201, -4.2241997718811035, -6.424699783325195, -6.4984002113342285, -6.5100998878479, -6.534999847412109, -6.573299884796143, -6.5954999923706055, -6.602200031280518, -6.605800151824951, -6.531099796295166, -6.634099960327148, -6.670300006866455, -6.704800128936768, -6.705999851226807, -6.713799953460693, -6.731100082397461, -6.752900123596191, -5.421000003814697, -5.345099925994873, -6.0406999588012695, -6.135000228881836, -5.501699924468994, -5.360799789428711, -4.381199836730957, -4.277400016784668, -3.9284000396728516, -5.4517998695373535, -4.558599948883057, -6.201399803161621, -5.539999961853027, -5.675000190734863, -4.565700054168701, -5.896200180053711, -4.86929988861084, -5.273399829864502, -4.993000030517578, -4.996399879455566, -5.328199863433838, -4.811800003051758, -4.930600166320801, -5.655200004577637, -4.759300231933594, -4.585000038146973, -4.9633002281188965, -5.41540002822876, -4.761099815368652, -5.240300178527832, -5.098899841308594, -5.365099906921387, -5.4984002113342285, -5.450699806213379, -5.50439977645874, -3.8259999752044678, -4.479400157928467, -3.8898000717163086, -4.637700080871582, -4.911799907684326, -4.948400020599365, -5.161399841308594, -5.1859002113342285, -5.253200054168701, -5.296500205993652, -5.315899848937988, -5.3221001625061035, -5.2555999755859375, -5.35260009765625, -5.396999835968018, -5.603899955749512, -5.861700057983398, -5.866199970245361, -6.033599853515625, -6.119800090789795, -6.155700206756592, -6.246799945831299, -6.252200126647949, -6.297900199890137, -6.450900077819824, -5.284800052642822, -6.552800178527832, -6.56879997253418, -6.626800060272217, -6.746200084686279, -2.7126998901367188, -4.155799865722656, -5.7444000244140625, -3.9428000450134277, -4.393899917602539, -4.930699825286865, -4.382299900054932, -4.994800090789795, -4.730899810791016, -4.184800148010254, -3.7674999237060547, -4.323200225830078, -3.797600030899048, -4.946800231933594, -4.792300224304199, -4.09250020980835, -4.473999977111816, -4.541600227355957, -5.163599967956543, -4.788599967956543, -4.999499797821045, -4.815999984741211, -5.2342000007629395, -5.19189977645874, -3.0290000438690186, -3.521199941635132, -4.582499980926514, -4.679800033569336, -3.9361000061035156, -5.001999855041504, -5.076600074768066, -5.099800109863281, -5.118599891662598, -5.1768999099731445, -5.71589994430542, -5.771500110626221, -5.923900127410889, -5.926700115203857, -5.939300060272217, -5.944799900054932, -5.9471001625061035, -6.076700210571289, -6.098899841308594, -6.117400169372559, -5.051000118255615, -6.178100109100342, -6.1981000900268555, -6.203199863433838, -6.225900173187256, -6.243100166320801, -6.244100093841553, -6.278800010681152, -6.396399974822998, -6.451900005340576, -5.024099826812744, -5.382999897003174, -5.954699993133545, -4.130199909210205, -3.76990008354187, -5.5802001953125, -5.301300048828125, -5.497099876403809, -4.496799945831299, -5.441699981689453, -5.164899826049805, -4.77839994430542, -5.494699954986572, -5.250999927520752, -5.376200199127197, -5.245200157165527, -5.418799877166748, -5.317800045013428, -5.140600204467773, -5.623600006103516, -5.604899883270264, -4.362400054931641, -5.209799766540527, -5.214700222015381, -5.225399971008301, -5.250199794769287, -5.289599895477295, -5.309899806976318, -5.387199878692627, -5.4268999099731445, -5.5991997718811035, -5.6956000328063965, -5.769499778747559, -5.8902997970581055, -5.960000038146973, -5.973899841308594, -6.009200096130371, -6.048299789428711, -6.05679988861084, -6.076399803161621, -6.124499797821045, -6.1631999015808105, -6.181600093841553, -6.185299873352051, -6.194499969482422, -6.221700191497803, -6.231200218200684, -6.256100177764893, -6.262400150299072, -6.269999980926514, -6.27839994430542, -4.210899829864502, -3.9842000007629395, -6.058700084686279, -4.940400123596191, -5.623899936676025, -5.802700042724609, -4.634399890899658, -4.586100101470947, -5.703100204467773, -4.758999824523926, -3.938699960708618, -5.289899826049805, -5.913700103759766, -5.8454999923706055, -5.421199798583984, -4.7891998291015625, -5.449900150299072, -5.425300121307373, -5.440199851989746, -5.1493000984191895, -5.110899925231934, -5.487800121307373, -5.625500202178955, -4.551700115203857, -4.626699924468994, -4.894999980926514, -5.043600082397461, -5.094099998474121, -5.156199932098389, -5.289000034332275, -5.35860013961792, -5.416299819946289, -5.432000160217285, -5.440700054168701, -5.45419979095459, -5.554699897766113, -5.5671000480651855, -5.585100173950195, -5.618299961090088, -5.663300037384033, -5.6717000007629395, -5.687600135803223, -5.693399906158447, -5.744200229644775, -5.755199909210205, -5.7758002281188965, -5.817500114440918, -5.843100070953369, -5.862400054931641, -5.904399871826172, -5.9394001960754395, -6.058599948883057, -6.0706000328063965, -4.922900199890137, -5.023499965667725, -3.7142999172210693, -5.268700122833252, -5.50029993057251, -5.476200103759766, -4.973700046539307, -4.953700065612793, -5.2418999671936035, -4.998700141906738, -5.350100040435791, -5.2596001625061035, -5.436600208282471, -5.106500148773193, -5.244200229644775, -5.3343000411987305, -5.4868998527526855, -5.485400199890137, -4.25, -4.2891998291015625, -4.494900226593018, -4.767000198364258, -5.2144999504089355, -5.3394999504089355, -5.341599941253662, -5.374599933624268, -5.509300231933594, -5.563899993896484, -5.586999893188477, -5.634200096130371, -5.707900047302246, -5.7967000007629395, -5.808000087738037, -5.812399864196777, -5.814700126647949, -5.861199855804443, -5.874300003051758, -5.938399791717529, -5.968400001525879, -5.968599796295166, -6.016900062561035, -6.020199775695801, -6.043600082397461, -6.045599937438965, -6.071599960327148, -6.072400093078613, -6.1132001876831055, -6.141300201416016, -5.378900051116943, -5.011600017547607, -4.692200183868408, -4.74370002746582, -4.983099937438965, -5.400599956512451, -5.34630012512207, -5.705699920654297, -5.516900062561035, -5.271699905395508, -5.457300186157227, -5.639100074768066, -5.483799934387207, -5.721099853515625, -5.689000129699707], \"loglift\": [30.0, 29.0, 28.0, 27.0, 26.0, 25.0, 24.0, 23.0, 22.0, 21.0, 20.0, 19.0, 18.0, 17.0, 16.0, 15.0, 14.0, 13.0, 12.0, 11.0, 10.0, 9.0, 8.0, 7.0, 6.0, 5.0, 4.0, 3.0, 2.0, 1.0, 1.8265000581741333, 1.825600028038025, 1.8252999782562256, 1.8250999450683594, 1.8250000476837158, 1.8242000341415405, 1.8241000175476074, 1.8217999935150146, 1.8215999603271484, 1.8213000297546387, 1.8206000328063965, 1.8203999996185303, 1.8194999694824219, 1.819100022315979, 1.8188999891281128, 1.8187999725341797, 1.818600058555603, 1.818600058555603, 1.81850004196167, 1.8184000253677368, 1.8184000253677368, 1.8181999921798706, 1.8178999423980713, 1.8177000284194946, 1.8171000480651855, 1.8164000511169434, 1.8157000541687012, 1.8151999711990356, 1.8150999546051025, 1.8149000406265259, 1.8149000406265259, 1.7913999557495117, 1.795199990272522, 1.7985999584197998, 1.7877000570297241, 1.7335000038146973, 1.7194000482559204, 1.767699956893921, 1.7473000288009644, 1.7245999574661255, 1.7422000169754028, 1.73580002784729, 1.7201999425888062, 1.7698999643325806, 1.7634999752044678, 1.6694999933242798, 1.6576000452041626, 1.6714999675750732, 1.4290000200271606, 1.455399990081787, 1.5735000371932983, 1.577299952507019, 1.7214000225067139, 1.3180999755859375, 0.984499990940094, 1.4292999505996704, 1.2842999696731567, 1.3423000574111938, 0.6762999892234802, 1.3592000007629395, 1.1627999544143677, 0.8518999814987183, 0.9505000114440918, 1.0816999673843384, 1.2839000225067139, 1.2276999950408936, 0.8046000003814697, 1.257599949836731, 1.062999963760376, 1.0496000051498413, 1.3244999647140503, 0.7179999947547913, 0.545799970626831, 1.1435999870300293, 0.1306000053882599, 0.46380001306533813, -0.02319999970495701, 0.8266000151634216, 0.25589999556541443, -0.017100000753998756, 0.21809999644756317, 0.5572999715805054, 0.7109000086784363, 0.7811999917030334, 1.9117000102996826, 1.9106999635696411, 1.9048000574111938, 1.9045000076293945, 1.9035999774932861, 1.902999997138977, 1.9027999639511108, 1.9013999700546265, 1.9009000062942505, 1.899999976158142, 1.8983999490737915, 1.8961000442504883, 1.895400047302246, 1.8941999673843384, 1.8937000036239624, 1.8925000429153442, 1.892199993133545, 1.8919999599456787, 1.891700029373169, 1.8911000490188599, 1.8909000158309937, 1.8909000158309937, 1.8909000158309937, 1.8905999660491943, 1.889799952507019, 1.8896000385284424, 1.8890000581741333, 1.8867000341415405, 1.8866000175476074, 1.8847999572753906, 1.8844000101089478, 1.8379000425338745, 1.8530000448226929, 1.7517999410629272, 1.8287999629974365, 1.7458000183105469, 1.7660000324249268, 1.7878999710083008, 1.6468000411987305, 1.634600043296814, 1.7652000188827515, 1.756700038909912, 1.6741000413894653, 1.7192000150680542, 1.638200044631958, 1.6395000219345093, 1.6532000303268433, 1.6160000562667847, 1.7338000535964966, 1.4115999937057495, 1.5807000398635864, 1.4726999998092651, 1.5013999938964844, 1.295199990272522, 1.6282000541687012, 1.3803000450134277, 1.2548999786376953, 1.253499984741211, 1.429800033569336, 1.0937000513076782, 1.3214999437332153, 1.5, 1.2233999967575073, 1.4149999618530273, 1.239400029182434, 1.3009999990463257, 1.3265000581741333, 1.1047999858856201, 1.0821000337600708, 1.4003000259399414, 1.0578999519348145, 1.1017999649047852, 1.197100043296814, 1.118499994277954, 0.5564000010490417, 0.9060999751091003, 1.2211999893188477, 1.319599986076355, 0.958899974822998, 0.6625000238418579, 0.6371999979019165, 1.9754999876022339, 1.9754999876022339, 1.975000023841858, 1.9742000102996826, 1.9737000465393066, 1.9733999967575073, 1.9729000329971313, 1.972499966621399, 1.972100019454956, 1.972100019454956, 1.9717999696731567, 1.9714000225067139, 1.9710999727249146, 1.9706000089645386, 1.9703999757766724, 1.9702999591827393, 1.9701000452041626, 1.969599962234497, 1.9693000316619873, 1.9693000316619873, 1.9688999652862549, 1.9687000513076782, 1.9687000513076782, 1.9686000347137451, 1.968500018119812, 1.9681999683380127, 1.967900037765503, 1.967900037765503, 1.9673999547958374, 1.9673000574111938, 1.962399959564209, 1.9558000564575195, 1.9610999822616577, 1.9551000595092773, 1.924299955368042, 1.9184999465942383, 1.9212000370025635, 1.9078999757766724, 1.9057999849319458, 1.878000020980835, 1.9187999963760376, 1.9032000303268433, 1.8214999437332153, 1.868299961090088, 1.874500036239624, 1.8246999979019165, 1.6818000078201294, 1.8740999698638916, 1.5848000049591064, 1.8828999996185303, 1.7493000030517578, 1.746000051498413, 1.7644000053405762, 1.4205000400543213, 1.2440999746322632, 1.4017000198364258, 1.2235000133514404, 1.2689000368118286, 1.2177000045776367, 0.7548999786376953, 1.5033999681472778, 1.2343000173568726, 1.1993000507354736, 1.019700050354004, 0.973800003528595, 0.9707000255584717, 0.8434000015258789, 0.16220000386238098, 0.1746000051498413, -0.396699994802475, 0.657800018787384, 2.5878000259399414, 2.586199998855591, 2.5829999446868896, 2.581899881362915, 2.5815000534057617, 2.5810000896453857, 2.580899953842163, 2.5796000957489014, 2.5796000957489014, 2.579400062561035, 2.577199935913086, 2.57669997215271, 2.5764999389648438, 2.5762999057769775, 2.576200008392334, 2.5761001110076904, 2.5755999088287354, 2.5755999088287354, 2.574700117111206, 2.573899984359741, 2.5732998847961426, 2.572000026702881, 2.5717999935150146, 2.571700096130371, 2.5701000690460205, 2.569999933242798, 2.569700002670288, 2.5690999031066895, 2.569000005722046, 2.5683000087738037, 2.5638999938964844, 2.5243000984191895, 2.5566999912261963, 2.449700117111206, 2.379199981689453, 2.5244998931884766, 2.521399974822998, 2.448699951171875, 2.3691000938415527, 2.4554998874664307, 2.38919997215271, 2.3090999126434326, 2.087399959564209, 2.190500020980835, 2.387399911880493, 2.1677000522613525, 2.121799945831299, 2.2279000282287598, 2.317500114440918, 2.0634000301361084, 2.00600004196167, 1.3889000415802002, 1.423699975013733, 1.8935999870300293, 1.944000005722046, 1.4735000133514404, 2.0209999084472656, 1.6273000240325928, 1.2092000246047974, 0.9196000099182129, 0.8335999846458435, 1.3848999738693237, 1.611299991607666, 0.7771000266075134, 1.030500054359436, 0.366100013256073, 0.22840000689029694, 1.4591000080108643, 0.5590000152587891, -0.26919999718666077, 0.24150000512599945, 0.6956999897956848, 0.3068000078201294, 0.7077999711036682, 0.9502000212669373, 0.41100001335144043, 2.6614999771118164, 2.66129994392395, 2.6610000133514404, 2.6598000526428223, 2.6596999168395996, 2.6589999198913574, 2.658799886703491, 2.658400058746338, 2.6582999229431152, 2.6577999591827393, 2.6577000617980957, 2.657599925994873, 2.6575000286102295, 2.656899929046631, 2.6568000316619873, 2.655900001525879, 2.6547000408172607, 2.654099941253662, 2.654099941253662, 2.654099941253662, 2.653700113296509, 2.6535000801086426, 2.65339994430542, 2.6533000469207764, 2.65310001373291, 2.652899980545044, 2.6526999473571777, 2.6524999141693115, 2.6521999835968018, 2.6517999172210693, 2.620699882507324, 2.5555999279022217, 2.5780999660491943, 2.5153000354766846, 2.523099899291992, 2.408799886703491, 2.4047999382019043, 2.5144999027252197, 2.4897000789642334, 2.2780001163482666, 2.4007999897003174, 2.4358999729156494, 1.8513000011444092, 2.2795000076293945, 1.8896000385284424, 0.9071999788284302, 2.153599977493286, 2.2026000022888184, 1.481600046157837, 1.7842999696731567, 0.8446000218391418, 1.5224000215530396, 0.5593000054359436, 2.0534000396728516, 0.37380000948905945, 0.9429000020027161, 2.7583999633789062, 2.7572999000549316, 2.7569000720977783, 2.753999948501587, 2.7535998821258545, 2.7534000873565674, 2.753200054168701, 2.753000020980835, 2.7527999877929688, 2.752500057220459, 2.7523999214172363, 2.75219988822937, 2.751199960708618, 2.748699903488159, 2.7479000091552734, 2.7479000091552734, 2.74780011177063, 2.7476000785827637, 2.746999979019165, 2.7462000846862793, 2.7460999488830566, 2.746000051498413, 2.745800018310547, 2.7455999851226807, 2.7446999549865723, 2.7446000576019287, 2.74429988861084, 2.74429988861084, 2.743499994277954, 2.7421000003814697, 2.739799976348877, 2.7323999404907227, 2.6905999183654785, 2.7109999656677246, 2.734499931335449, 2.7009999752044678, 2.509500026702881, 2.557300090789795, 2.546099901199341, 2.2715001106262207, 2.4839000701904297, 2.2297000885009766, 2.48009991645813, 2.21560001373291, 2.5139000415802, 1.932800054550171, 2.111999988555908, 2.3661999702453613, 2.0136001110076904, 1.9120999574661255, 1.9831000566482544, 0.6507999897003174, 1.419800043106079, 1.75409996509552, 0.8482999801635742, 1.767699956893921, 1.764799952507019, 1.5638999938964844, 2.077399969100952, -0.05900000035762787, 0.5630000233650208, 1.5760999917984009, 0.46650001406669617, 1.0642000436782837, 0.19990000128746033, 0.374099999666214, 0.5677000284194946, 0.07190000265836716, 0.6586999893188477, 0.11580000072717667, -0.04520000144839287, 0.8690999746322632, 3.003499984741211, 3.0020999908447266, 3.001499891281128, 3.0, 2.999799966812134, 2.9997000694274902, 2.9995999336242676, 2.9990999698638916, 2.997999906539917, 2.9976999759674072, 2.9971001148223877, 2.996999979019165, 2.994800090789795, 2.9941999912261963, 2.9939000606536865, 2.9935998916625977, 2.9925999641418457, 2.9923999309539795, 2.992300033569336, 2.991300106048584, 2.991300106048584, 2.9911000728607178, 2.9911000728607178, 2.990999937057495, 2.990299940109253, 2.9902000427246094, 2.989500045776367, 2.9888999462127686, 2.988600015640259, 2.9885001182556152, 2.981300115585327, 2.9228999614715576, 2.9279000759124756, 2.9410998821258545, 2.8176000118255615, 2.499300003051758, 2.706899881362915, 2.436199903488159, 2.5106000900268555, 2.6524999141693115, 2.8315999507904053, 2.1858999729156494, 2.272900104522705, 2.281100034713745, 2.7019999027252197, 2.2518999576568604, 2.4858999252319336, 1.8585000038146973, 1.3228000402450562, 1.7380000352859497, 2.0223000049591064, 1.7263000011444092, 1.221500039100647, 1.7467999458312988, 0.18520000576972961, 1.3030999898910522, 1.1765999794006348, 1.5888999700546265, 1.3488999605178833, -0.2833000123500824, 3.116499900817871, 3.1145999431610107, 3.1115000247955322, 3.1113998889923096, 3.111299991607666, 3.1105000972747803, 3.1101999282836914, 3.109999895095825, 3.1085000038146973, 3.1057000160217285, 3.1052000522613525, 3.10509991645813, 3.099600076675415, 3.098599910736084, 3.098400115966797, 3.0975000858306885, 3.09689998626709, 3.096299886703491, 3.0957999229431152, 3.0957000255584717, 3.0945000648498535, 3.0936999320983887, 3.0922000408172607, 3.091399908065796, 3.09060001373291, 3.0905001163482666, 3.0905001163482666, 3.090399980545044, 3.089900016784668, 3.088399887084961, 3.083899974822998, 3.0625998973846436, 3.0332999229431152, 3.0613999366760254, 3.0383999347686768, 3.052000045776367, 2.9540998935699463, 2.964099884033203, 3.0416998863220215, 2.7980000972747803, 2.7167000770568848, 2.7755000591278076, 2.894399881362915, 2.8278000354766846, 2.7904000282287598, 2.6679000854492188, 2.662899971008301, 2.682800054550171, 2.4291999340057373, 2.710200071334839, 1.9467999935150146, 2.3650999069213867, 2.16510009765625, 2.158799886703491, 2.1070001125335693, 2.2848000526428223, 2.375, 2.1370999813079834, 1.6894999742507935, 1.5853999853134155, 1.3040000200271606, 1.95169997215271, 1.5679999589920044, 0.4821000099182129, 1.9186999797821045, 1.7802000045776367, 0.892799973487854, 0.7888000011444092, -0.24529999494552612, 0.8287000060081482, 0.8095999956130981, 3.126199960708618, 3.120500087738037, 3.120500087738037, 3.118000030517578, 3.1149001121520996, 3.1142001152038574, 3.1142001152038574, 3.114000082015991, 3.1119000911712646, 3.1117000579833984, 3.108299970626831, 3.1080000400543213, 3.1066999435424805, 3.106100082397461, 3.1050000190734863, 3.104599952697754, 3.104599952697754, 3.1045000553131104, 3.103100061416626, 3.102799892425537, 3.1026999950408936, 3.1019999980926514, 3.1010000705718994, 3.09689998626709, 3.09660005569458, 3.09660005569458, 3.0961999893188477, 3.0957000255584717, 3.0943000316619873, 3.0936999320983887, 3.086899995803833, 3.090100049972534, 3.08489990234375, 3.053800106048584, 3.06820011138916, 3.0652999877929688, 3.063199996948242, 2.9651999473571777, 3.018899917602539, 3.000200033187866, 3.0669000148773193, 3.0508999824523926, 2.8422000408172607, 2.8471999168395996, 2.8266000747680664, 3.036900043487549, 2.822999954223633, 2.981300115585327, 2.8104000091552734, 2.922100067138672, 2.9763998985290527, 2.5980000495910645, 2.8740999698638916, 2.746999979019165, 2.821700096130371, 2.5713000297546387, 2.6075000762939453, 1.9680999517440796, 2.6847000122070312, 2.269399881362915, 2.4049999713897705, 2.486599922180176, 2.0539000034332275, 1.9845000505447388, 2.3359999656677246, 2.1654999256134033, 2.197200059890747, 1.857800006866455, 1.850000023841858, 1.0302000045776367, 1.5501999855041504, 0.9674000144004822, 1.6172000169754028, 1.070099949836731, 0.9424999952316284, 1.9847999811172485, -0.0003000000142492354, 3.3340001106262207, 3.33270001411438, 3.331399917602539, 3.3310000896453857, 3.3294999599456787, 3.329400062561035, 3.3292999267578125, 3.3290998935699463, 3.328700065612793, 3.328399896621704, 3.3280999660491943, 3.3276000022888184, 3.3276000022888184, 3.3269999027252197, 3.3264999389648438, 3.3262999057769775, 3.326200008392334, 3.3255999088287354, 3.3252999782562256, 3.325000047683716, 3.325000047683716, 3.3245999813079834, 3.3243000507354736, 3.3241000175476074, 3.323899984359741, 3.322999954223633, 3.3224000930786133, 3.3222999572753906, 3.3210999965667725, 3.3208000659942627, 3.3104000091552734, 3.31820011138916, 3.285900115966797, 3.2614998817443848, 3.2520999908447266, 3.1784000396728516, 3.13070011138916, 3.213200092315674, 3.2269999980926514, 3.1840999126434326, 3.2239999771118164, 3.2523000240325928, 3.1751999855041504, 3.152600049972534, 2.86899995803833, 3.098400115966797, 3.219599962234497, 1.982300043106079, 2.8594000339508057, 2.812000036239624, 1.1196999549865723, 1.6720999479293823, 1.5902999639511108, 1.3592000007629395, 2.2665998935699463, 2.473900079727173, 2.3245999813079834, 3.5966999530792236, 3.588099956512451, 3.5873000621795654, 3.5864999294281006, 3.584399938583374, 3.583199977874756, 3.5820000171661377, 3.5780999660491943, 3.5764000415802, 3.575200080871582, 3.574700117111206, 3.5739998817443848, 3.5738000869750977, 3.5708999633789062, 3.57069993019104, 3.5703001022338867, 3.569200038909912, 3.565700054168701, 3.565700054168701, 3.565700054168701, 3.5655999183654785, 3.565500020980835, 3.564500093460083, 3.563699960708618, 3.562700033187866, 3.5624001026153564, 3.5622000694274902, 3.5617001056671143, 3.5613999366760254, 3.561199903488159, 3.541800022125244, 3.4900999069213867, 3.518699884414673, 3.4265999794006348, 3.393899917602539, 3.1910998821258545, 3.447000026702881, 3.1586999893188477, 3.208899974822998, 3.1187000274658203, 3.2583999633789062, 2.97160005569458, 3.052999973297119, 3.131200075149536, 3.0067999362945557, 3.1147000789642334, 3.045599937438965, 2.8729000091552734, 3.114799976348877, 2.9465999603271484, 2.946000099182129, 2.6122000217437744, 2.7985000610351562, 1.9325000047683716, 1.718000054359436, 1.454300045967102, 1.7325999736785889, 2.4953999519348145, 1.2705999612808228, 1.0886000394821167, 0.6686999797821045, 1.3769999742507935, -0.30149999260902405, 1.7759000062942505, 3.6154000759124756, 3.613300085067749, 3.611999988555908, 3.611799955368042, 3.611299991607666, 3.6098999977111816, 3.6094000339508057, 3.6087000370025635, 3.6084001064300537, 3.6066999435424805, 3.606300115585327, 3.605600118637085, 3.6052000522613525, 3.6052000522613525, 3.604599952697754, 3.604099988937378, 3.6029000282287598, 3.6029000282287598, 3.602099895477295, 3.5994999408721924, 3.59879994392395, 3.598299980163574, 3.597899913787842, 3.597399950027466, 3.597399950027466, 3.59660005569458, 3.5957999229431152, 3.5954999923706055, 3.5952999591827393, 3.5950000286102295, 3.591200113296509, 3.5897998809814453, 3.566800117492676, 3.575900077819824, 3.474299907684326, 3.517199993133545, 3.435699939727783, 3.0632998943328857, 3.3206000328063965, 3.003499984741211, 3.4319000244140625, 3.063499927520752, 1.722100019454956, 0.9176999926567078, 0.5005000233650208, 3.62719988822937, 3.626199960708618, 3.625200033187866, 3.6242001056671143, 3.623500108718872, 3.621799945831299, 3.6205999851226807, 3.6196000576019287, 3.6187000274658203, 3.6177000999450684, 3.615799903869629, 3.6138999462127686, 3.613800048828125, 3.6110000610351562, 3.6105000972747803, 3.610100030899048, 3.6096999645233154, 3.601099967956543, 3.600399971008301, 3.6003000736236572, 3.5998001098632812, 3.5941998958587646, 3.5938000679016113, 3.5933001041412354, 3.5924999713897705, 3.591399908065796, 3.5901999473571777, 3.5871999263763428, 3.585099935531616, 3.5831000804901123, 3.4879000186920166, 3.5373001098632812, 3.417099952697754, 3.4286000728607178, 3.4040000438690186, 3.3615000247955322, 3.5069000720977783, 3.1591999530792236, 3.5290000438690186, 3.4244000911712646, 3.0841000080108643, 3.1487998962402344, 2.8833999633789062, 3.0181000232696533, 3.2528998851776123, 2.7855000495910645, 2.832900047302246, 2.8222999572753906, 2.8910000324249268, 3.098599910736084, 2.2042999267578125, 2.556299924850464, 2.5237998962402344, 3.041599988937378, 1.9931000471115112, 2.0961999893188477, 2.0288000106811523, 1.8071999549865723, 1.605299949645996, 2.064300060272217, 2.539599895477295, 1.1891000270843506, 3.6257998943328857, 3.6257998943328857, 3.625499963760376, 3.625200033187866, 3.622999906539917, 3.6177000999450684, 3.617000102996826, 3.615999937057495, 3.6131999492645264, 3.612299919128418, 3.6064000129699707, 3.6052000522613525, 3.6052000522613525, 3.6047000885009766, 3.604599952697754, 3.60260009765625, 3.600399971008301, 3.6003000736236572, 3.600100040435791, 3.600100040435791, 3.5998001098632812, 3.5996999740600586, 3.599400043487549, 3.598599910736084, 3.598599910736084, 3.597899913787842, 3.5978000164031982, 3.5975000858306885, 3.5971999168395996, 3.5971999168395996, 3.5848000049591064, 3.5820999145507812, 3.5362000465393066, 3.5587000846862793, 3.525099992752075, 3.430999994277954, 3.503700017929077, 3.30049991607666, 3.468899965286255, 3.300100088119507, 2.9412999153137207, 3.1405999660491943, 3.176800012588501, 3.2286999225616455, 3.1031999588012695, 2.943000078201294, 3.3254001140594482, 2.743799924850464, 2.868799924850464, 2.361599922180176, 2.4465999603271484, 2.492000102996826, 2.657099962234497, 2.883699893951416, 2.111999988555908, 2.36680006980896, 2.614300012588501, 1.67330002784729, 2.175600051879883, 1.6237000226974487, 1.3300000429153442, 1.3773000240325928, 1.9594000577926636, 3.939500093460083, 3.937700033187866, 3.934299945831299, 3.9302000999450684, 3.9284000396728516, 3.925800085067749, 3.9244000911712646, 3.9242000579833984, 3.9235999584198, 3.9231998920440674, 3.923099994659424, 3.921099901199341, 3.9209001064300537, 3.9200000762939453, 3.9189000129699707, 3.916599988937378, 3.9161999225616455, 3.915299892425537, 3.9140000343322754, 3.9131999015808105, 3.912899971008301, 3.9128000736236572, 3.9126999378204346, 3.911799907684326, 3.910399913787842, 3.9089999198913574, 3.908900022506714, 3.908600091934204, 3.907900094985962, 3.9070000648498535, 3.8907999992370605, 3.8254001140594482, 3.868000030517578, 3.865600109100342, 3.8043999671936035, 3.746000051498413, 3.6092000007629395, 3.5840001106262207, 3.450500011444092, 3.7163000106811523, 3.446000099182129, 3.8215999603271484, 3.634000062942505, 3.6656999588012695, 3.3278000354766846, 3.728100061416626, 3.335200071334839, 3.485100030899048, 3.2532999515533447, 3.1019999980926514, 3.247499942779541, 2.6695001125335693, 2.488300085067749, 3.2797999382019043, 2.0973000526428223, 1.8457000255584717, 2.1319000720977783, 2.687299966812134, 1.1401000022888184, 2.0160999298095703, 1.5189000368118286, 2.015500068664551, 2.4493000507354736, 1.1416000127792358, 1.6902999877929688, 4.257699966430664, 4.2555999755859375, 4.25540018081665, 4.2546000480651855, 4.252299785614014, 4.2519001960754395, 4.249300003051758, 4.249300003051758, 4.2484002113342285, 4.247600078582764, 4.247499942779541, 4.247399806976318, 4.247300148010254, 4.247000217437744, 4.246300220489502, 4.242800235748291, 4.237299919128418, 4.237199783325195, 4.232699871063232, 4.230199813842773, 4.229000091552734, 4.22599983215332, 4.225800037384033, 4.224100112915039, 4.2179999351501465, 4.21560001373291, 4.213399887084961, 4.212699890136719, 4.209799766540527, 4.203400135040283, 4.154300212860107, 4.1280999183654785, 4.156799793243408, 3.982300043106079, 3.951900005340576, 3.980299949645996, 3.833400011062622, 3.918600082397461, 3.799999952316284, 3.563800096511841, 3.3731000423431396, 3.5625998973846436, 3.2757999897003174, 3.8124001026153564, 3.6340999603271484, 2.6522998809814453, 3.0429000854492188, 3.0785000324249268, 3.8940000534057617, 3.000999927520752, 3.020900011062622, 1.4962999820709229, 3.896199941635132, 2.6942999362945557, 4.491399765014648, 4.486199855804443, 4.484499931335449, 4.48360013961792, 4.482800006866455, 4.480000019073486, 4.479000091552734, 4.478600025177002, 4.478400230407715, 4.477499961853027, 4.466400146484375, 4.464900016784668, 4.460299968719482, 4.46019983291626, 4.459799766540527, 4.45959997177124, 4.45959997177124, 4.454999923706055, 4.454100131988525, 4.453400135040283, 4.452199935913086, 4.451000213623047, 4.450200080871582, 4.449900150299072, 4.448999881744385, 4.448200225830078, 4.448200225830078, 4.446599960327148, 4.440999984741211, 4.4380998611450195, 4.419600009918213, 4.389400005340576, 4.407700061798096, 3.789299964904785, 3.651700019836426, 4.233099937438965, 4.122099876403809, 4.178800106048584, 3.7386999130249023, 4.107600212097168, 3.9100000858306885, 3.4437999725341797, 3.7409000396728516, 3.20169997215271, 3.362299919128418, 3.0527000427246094, 2.9556000232696533, 2.564300060272217, 1.7769999504089355, 2.5160000324249268, 1.7762000560760498, 4.739999771118164, 4.728000164031982, 4.72790002822876, 4.727700233459473, 4.727200031280518, 4.72629976272583, 4.725900173187256, 4.723999977111816, 4.7230000495910645, 4.718200206756592, 4.715199947357178, 4.712600231170654, 4.708099842071533, 4.7052001953125, 4.704599857330322, 4.703000068664551, 4.701200008392334, 4.700799942016602, 4.699900150299072, 4.697500228881836, 4.6956000328063965, 4.6946001052856445, 4.694399833679199, 4.693900108337402, 4.692399978637695, 4.69189977645874, 4.690499782562256, 4.690100193023682, 4.689700126647949, 4.689199924468994, 4.644000053405762, 4.557199954986572, 4.673799991607666, 4.560400009155273, 4.605599880218506, 4.6321001052856445, 4.44320011138916, 4.36870002746582, 4.587900161743164, 4.314899921417236, 4.05649995803833, 3.916100025177002, 4.523499965667725, 4.367800235748291, 3.660799980163574, 2.4421000480651855, 3.629499912261963, 3.4881999492645264, 3.408099889755249, 2.5439999103546143, 1.9296000003814697, 3.2799999713897705, 3.2929999828338623, 4.874599933624268, 4.873600006103516, 4.869500160217285, 4.866700172424316, 4.865699768066406, 4.864299774169922, 4.861100196838379, 4.859300136566162, 4.857600212097168, 4.8572001457214355, 4.856900215148926, 4.856500148773193, 4.853300094604492, 4.85290002822876, 4.85230016708374, 4.851200103759766, 4.8495001792907715, 4.8491997718811035, 4.848599910736084, 4.848400115966797, 4.846399784088135, 4.8460001945495605, 4.845099925994873, 4.843400001525879, 4.842299938201904, 4.841400146484375, 4.8394999504089355, 4.837800025939941, 4.8317999839782715, 4.831099987030029, 4.824999809265137, 4.8190999031066895, 4.743199825286865, 4.735499858856201, 4.759300231933594, 4.724999904632568, 4.553500175476074, 4.3541998863220215, 4.520999908447266, 4.23859977722168, 4.514400005340576, 3.9607999324798584, 4.283299922943115, 3.414099931716919, 3.740000009536743, 3.748500108718872, 4.170499801635742, 3.9386000633239746, 5.165200233459473, 5.164700031280518, 5.161799907684326, 5.156899929046631, 5.145400047302246, 5.141200065612793, 5.14109992980957, 5.139800071716309, 5.134500026702881, 5.132199764251709, 5.131199836730957, 5.129000186920166, 5.12529993057251, 5.12060022354126, 5.119999885559082, 5.119699954986572, 5.11959981918335, 5.1168999671936035, 5.116099834442139, 5.112199783325195, 5.110300064086914, 5.110300064086914, 5.10699987411499, 5.106800079345703, 5.105199813842773, 5.105100154876709, 5.1031999588012695, 5.1031999588012695, 5.100200176239014, 5.098100185394287, 5.02370023727417, 4.5142998695373535, 4.2692999839782715, 4.291200160980225, 3.7295000553131104, 4.243299961090088, 4.1605000495910645, 4.55019998550415, 4.108399868011475, 3.5088999271392822, 3.3828999996185303, 4.0447998046875, 3.31820011138916, 3.940999984741211, 3.418299913406372]}, \"token.table\": {\"Topic\": [1, 6, 14, 1, 3, 15, 17, 2, 3, 6, 8, 9, 11, 13, 17, 20, 1, 7, 10, 17, 18, 8, 16, 2, 8, 9, 18, 4, 4, 6, 1, 8, 1, 2, 4, 11, 17, 8, 17, 11, 13, 14, 19, 14, 6, 1, 2, 3, 4, 5, 6, 7, 8, 9, 10, 11, 12, 13, 14, 15, 5, 8, 1, 4, 5, 8, 15, 1, 4, 5, 8, 9, 10, 2, 5, 8, 9, 14, 12, 3, 20, 1, 2, 3, 5, 6, 7, 8, 9, 14, 1, 3, 7, 10, 20, 7, 20, 13, 3, 13, 14, 1, 5, 6, 17, 1, 2, 3, 4, 6, 1, 2, 3, 4, 6, 8, 11, 2, 7, 6, 3, 14, 16, 3, 4, 6, 9, 11, 14, 4, 5, 8, 9, 10, 12, 5, 17, 17, 20, 19, 14, 5, 1, 8, 1, 3, 6, 14, 14, 5, 5, 5, 5, 2, 5, 8, 3, 5, 9, 17, 1, 2, 3, 4, 5, 6, 7, 12, 14, 15, 1, 1, 2, 3, 8, 15, 5, 13, 12, 12, 12, 1, 1, 18, 1, 17, 5, 6, 13, 17, 18, 3, 4, 11, 20, 11, 13, 1, 3, 5, 7, 9, 14, 3, 4, 11, 4, 4, 3, 4, 6, 8, 9, 11, 12, 13, 1, 2, 4, 6, 10, 12, 5, 5, 1, 2, 3, 4, 5, 6, 7, 8, 11, 14, 15, 16, 6, 4, 14, 20, 2, 6, 9, 1, 3, 4, 9, 11, 12, 16, 10, 18, 5, 15, 2, 5, 1, 1, 1, 7, 1, 2, 3, 4, 6, 7, 8, 1, 3, 5, 6, 10, 13, 20, 1, 2, 3, 4, 6, 10, 11, 14, 15, 19, 9, 1, 2, 3, 4, 6, 10, 11, 1, 7, 2, 2, 4, 6, 15, 6, 15, 1, 2, 3, 8, 10, 13, 4, 8, 3, 3, 3, 11, 14, 16, 2, 3, 5, 6, 8, 11, 13, 2, 3, 8, 9, 16, 2, 1, 3, 5, 6, 7, 12, 15, 2, 1, 7, 19, 5, 8, 10, 15, 3, 7, 11, 15, 18, 8, 6, 3, 4, 11, 15, 20, 2, 8, 11, 10, 4, 8, 12, 13, 3, 4, 8, 11, 12, 14, 8, 3, 6, 18, 12, 13, 15, 3, 11, 9, 15, 16, 12, 6, 10, 4, 8, 9, 10, 15, 19, 1, 2, 3, 4, 5, 6, 7, 8, 11, 12, 13, 17, 1, 2, 3, 5, 7, 10, 15, 8, 19, 7, 1, 2, 3, 5, 6, 7, 14, 14, 9, 16, 3, 15, 16, 2, 4, 1, 2, 3, 4, 5, 6, 8, 9, 11, 14, 15, 16, 1, 3, 4, 5, 6, 14, 7, 17, 14, 7, 1, 2, 3, 4, 5, 6, 11, 2, 4, 9, 10, 12, 17, 9, 10, 16, 13, 10, 11, 12, 15, 14, 6, 4, 6, 12, 1, 2, 3, 4, 6, 11, 14, 4, 8, 10, 1, 5, 7, 8, 9, 17, 11, 3, 11, 7, 1, 7, 10, 1, 7, 6, 1, 7, 18, 19, 13, 6, 16, 18, 16, 4, 5, 17, 1, 4, 5, 9, 19, 3, 3, 2, 8, 13, 11, 13, 18, 4, 2, 19, 2, 3, 4, 6, 14, 3, 5, 9, 1, 2, 3, 4, 5, 7, 8, 15, 15, 15, 1, 3, 4, 5, 6, 7, 11, 16, 18, 4, 2, 3, 6, 9, 11, 13, 15, 16, 1, 5, 1, 4, 5, 7, 15, 4, 3, 8, 9, 10, 19, 20, 5, 8, 9, 5, 6, 7, 13, 16, 18, 16, 16, 18, 20, 5, 2, 3, 6, 7, 8, 9, 10, 12, 13, 14, 15, 18, 8, 9, 4, 14, 1, 3, 6, 8, 1, 3, 1, 2, 3, 4, 5, 6, 8, 9, 11, 12, 15, 16, 17, 12, 16, 11, 1, 3, 5, 9, 14, 15, 1, 3, 4, 6, 8, 9, 11, 12, 15, 3, 4, 8, 12, 15, 1, 2, 3, 4, 5, 6, 7, 8, 11, 1, 4, 5, 14, 15, 17, 1, 2, 5, 8, 11, 13, 1, 2, 4, 5, 6, 8, 9, 15, 13, 9, 20, 2, 6, 19, 1, 5, 8, 5, 1, 13, 13, 6, 13, 13, 13, 13, 13, 18, 20, 6, 1, 2, 3, 4, 6, 7, 8, 9, 11, 13, 14, 15, 16, 17, 18, 14, 11, 11, 3, 6, 9, 11, 12, 13, 2, 3, 4, 5, 8, 9, 12, 14, 2, 4, 11, 15, 15, 20, 2, 8, 19, 1, 5, 7, 5, 8, 10, 1, 3, 6, 14, 8, 2, 3, 5, 6, 8, 9, 20, 6, 3, 9, 16, 18, 10, 3, 11, 16, 3, 9, 11, 12, 16, 10, 18, 2, 5, 7, 6, 13, 14, 3, 9, 14, 1, 4, 5, 13, 6, 17, 6, 17, 3, 11, 20, 3, 6, 3, 4, 5, 9, 10, 19, 2, 6, 4, 8, 4, 11, 10, 18, 16, 17, 2, 3, 4, 12, 16, 16, 5, 6, 8, 9, 11, 1, 2, 5, 6, 8, 14, 1, 7, 8, 12, 1, 3, 4, 5, 7, 8, 9, 10, 11, 12, 17, 1, 19, 14, 18, 1, 4, 5, 8, 9, 4, 8, 8, 3, 9, 4, 6, 18, 11, 9, 3, 9, 13, 14, 15, 11, 13, 11, 13, 5, 8, 9, 11, 13, 4, 4, 9, 3, 19, 13, 10, 14, 4, 5, 9, 11, 18, 11, 13, 12, 10, 4, 1, 7, 19, 1, 2, 3, 4, 5, 6, 7, 11, 13, 1, 5, 6, 17, 1, 2, 3, 4, 5, 6, 7, 8, 13, 14, 1, 3, 4, 10, 12, 15, 6, 1, 3, 14, 15, 1, 5, 6, 14, 2, 11, 12, 14, 19, 3, 4, 11, 16, 12, 3, 9, 11, 15, 3, 12, 15, 16, 1, 3, 4, 6, 8, 15, 20, 1, 2, 4, 5, 6, 7, 8, 9, 13, 1, 7, 1, 19, 4, 10, 19, 20, 7, 5, 8, 9, 13, 19, 3, 5, 9, 14, 6, 3, 5, 9, 14, 19, 11, 1, 2, 3, 4, 5, 6, 7, 11, 13, 19, 5, 5, 1, 2, 3, 4, 5, 6, 7, 8, 9, 10, 11, 12, 13, 14, 15, 15, 19, 17, 16, 18, 5, 6, 12, 15, 20, 3, 11, 16, 10, 1, 2, 3, 4, 8, 3, 3, 1, 2, 4, 5, 6, 7, 8, 6, 4, 2, 3, 14, 3, 15, 19, 1, 6, 7, 8, 9, 7, 9, 10, 3, 5, 8, 10, 20, 8, 2, 3, 5, 7, 20, 2, 3, 4, 5, 11, 9, 8, 8, 9, 19, 10, 14, 15, 10, 15, 17, 20, 3, 18, 4, 1, 4, 20, 1, 2, 3, 4, 5, 6, 7, 8, 9, 12, 13, 1, 6, 5, 2, 3, 8, 9, 10, 1, 2, 3, 4, 6, 13, 15, 11, 1, 5, 8, 10, 11, 12, 1, 1, 2, 3, 4, 6, 7, 8, 11, 1, 2, 4, 5, 7, 1, 2, 3, 4, 6, 7, 10, 15, 6, 7, 5, 8, 9, 11, 13, 3, 4, 14, 5, 5, 7, 18, 1, 4, 5, 7, 12, 16, 18, 18, 1, 2, 3, 4, 11, 9, 14, 4, 5, 2, 6, 13, 15, 3, 7, 8, 9, 19, 2, 1, 2, 3, 4, 6, 7, 11, 12, 15, 16, 9, 3, 9, 11, 12, 15, 20, 10, 6, 13, 15, 14, 19, 6, 8, 9, 1, 2, 4, 7, 11, 15, 1, 2, 3, 4, 5, 7, 1, 7, 1, 2, 4, 7, 13, 2, 15, 1, 2, 3, 5, 6, 8, 9, 15, 17, 2, 9, 1, 2, 3, 4, 5, 6, 7, 8, 9, 10, 11, 12, 15, 16, 4, 10, 19, 7, 9, 2, 4, 8, 1, 1, 4, 8, 9, 2, 4, 5, 7, 8, 9, 13, 18, 1, 2, 3, 4, 5, 6, 7, 8, 9, 11, 15, 1, 5, 6, 7, 9, 17, 20, 14, 8, 2, 13, 4, 7, 17, 1, 3, 7, 12, 17, 1, 1, 1, 3, 6, 9, 12, 14, 15, 19, 1, 3, 4, 5, 6, 7, 8, 9, 12, 14, 15, 8, 4, 17, 3, 4, 6, 11, 12, 14, 15, 1, 3, 5, 6, 7, 8, 9, 11, 12, 13, 14, 15, 17, 14, 6, 13, 3, 11, 14, 16, 8, 9, 14, 4, 8, 12, 6, 18, 1, 2, 3, 6, 9, 11, 15, 3, 12, 16, 5, 8, 9, 12, 14, 3, 9, 13, 14, 15, 1, 14, 9, 4, 8, 8, 1, 6, 10, 2, 17, 5, 17, 17, 19, 7, 17, 7, 5, 7, 17, 1, 5, 7, 17, 8, 1, 3, 4, 5, 7, 9, 10, 11, 13, 14, 15, 3, 5, 6, 9, 15, 15, 3, 7, 16, 3, 4, 5, 7, 9, 12, 20, 5, 7, 3, 13, 9, 11, 3, 15, 2, 3, 11, 13, 6, 2, 5, 7, 7, 10, 15, 1, 2, 3, 4, 6, 7, 8, 11, 15, 18, 1, 4, 5, 12, 17, 2, 9, 1, 3, 4, 5, 6, 7, 11, 12, 13, 15, 1, 2, 3, 4, 5, 6, 7, 8, 10, 12, 13, 14, 15, 20, 2, 1, 2, 3, 4, 5, 7, 10, 14, 12, 5, 12, 12, 10, 5, 10, 15, 15, 17, 17, 10, 20, 18, 18, 1, 2, 3, 4, 6, 8, 11, 15, 1, 2, 3, 4, 6, 8, 11, 12, 16, 3, 6, 8, 9, 9, 1, 2, 4, 5, 7, 12, 1, 2, 3, 4, 5, 6, 7, 8, 11, 15, 10, 1, 2, 3, 4, 5, 6, 10, 11, 14, 19, 1, 2, 3, 4, 5, 7, 8, 9, 10, 12, 13, 14, 15, 2, 1, 2, 3, 4, 5, 6, 7, 11, 15, 13, 11, 2, 4, 18, 3, 18, 2, 3, 4, 7, 1, 2, 3, 4, 6, 7, 8, 15, 7, 16, 2, 5, 10, 12, 20, 1, 2, 4, 7, 15, 2, 7, 12, 17, 7, 3, 11, 2, 3, 7, 9, 10, 13, 15, 3, 10, 12, 13, 14, 1, 2, 3, 4, 5, 6, 8, 11, 14, 15, 16, 11, 7, 10, 18, 3, 15, 16, 1, 2, 3, 4, 5, 6, 7, 8, 9, 13, 15, 17, 8, 1, 3, 4, 8, 9, 11, 12, 20, 7, 7, 12, 8, 9, 3, 13, 15, 5, 1, 4, 11, 12, 7, 1, 2, 3, 4, 11, 15, 1, 2, 3, 4, 6, 7, 8, 2, 6, 9, 17, 6, 8, 1, 2, 3, 5, 11, 12, 3, 1, 4, 1, 3, 7, 11, 13, 3, 7, 11, 13, 7, 16, 3, 1, 2, 3, 4, 5, 6, 8, 11, 14, 4, 4, 5, 15, 4, 5, 8, 9, 13, 5, 9, 10, 15, 1, 9, 12, 12, 9, 3, 11, 4, 1, 2, 4, 8, 12, 3, 16, 10, 7, 12, 1, 17, 1, 2, 5, 7, 16, 16, 3, 15, 4, 6, 4, 6, 15, 4, 15, 11, 11, 3, 1, 2, 3, 4, 6, 8, 11, 20, 1, 5, 1, 2, 3, 4, 5, 6, 7, 8, 9, 11, 13, 14, 15, 16, 8, 19, 20, 1, 2, 3, 4, 5, 7, 12, 13, 14, 3, 12, 4, 5, 8, 9, 10, 13, 5, 9, 4, 9, 18, 5, 5, 13, 11, 1, 2, 3, 4, 6, 7, 8, 9, 11, 16, 1, 3, 12, 20, 14, 4, 9, 1, 5, 10, 17, 18, 1, 2, 3, 4, 5, 6, 7, 15, 1, 2, 3, 5, 8, 9, 10, 12, 13, 1, 3, 13, 9, 15, 15, 11, 13, 8, 19, 1, 2, 3, 4, 5, 6, 7, 8, 10, 12, 15, 17, 1, 2, 3, 4, 6, 7, 11, 16, 18, 14, 1, 2, 3, 4, 5, 6, 8, 9, 10, 11, 14, 1, 19, 18, 1, 4, 9, 12, 5, 17, 17, 1, 3, 4, 12, 15, 3, 11, 1, 2, 3, 4, 5, 6, 7, 8, 13, 14, 16, 3, 12, 12, 12, 1, 2, 3, 4, 5, 6, 7, 8, 9, 1, 3, 4, 6, 7, 11, 14, 15, 7, 1, 2, 3, 4, 5, 6, 7, 9, 13, 17, 5, 4, 2, 17, 11, 14, 16, 4, 5, 8, 10, 3, 8, 14, 3, 4, 5, 9, 14, 2, 6, 7, 11, 5, 17, 17, 17, 11, 9, 18, 12, 18, 11, 1, 2, 3, 4, 5, 6, 7, 8, 9, 11, 12, 13, 14, 7, 12, 7, 18, 13, 13, 18, 6, 6, 1, 3, 5, 7, 9, 10, 11, 15, 12, 1, 5, 7, 17, 10, 1, 2, 3, 4, 5, 6, 7, 8, 13, 1, 2, 5, 6, 8, 10, 12, 14, 17, 10, 12, 15, 1, 2, 3, 9, 11, 14, 15, 11, 1, 17, 1, 2, 3, 4, 6, 15, 16, 19, 20, 10, 2, 6, 9, 8, 9, 10, 14, 11, 13, 12, 4, 1, 2, 8, 9, 10, 11, 1, 2, 5, 10, 2, 10, 11, 15, 10, 19, 10, 10, 1, 2, 3, 4, 6, 9, 14, 15, 1, 2, 3, 4, 6, 7, 8, 9, 10, 11, 1, 3, 6, 10, 11, 2, 5, 8, 11, 2, 4, 9, 19, 7, 1, 5, 8, 9, 18, 3, 16, 3, 16, 1, 2, 3, 6, 12, 13, 14, 15, 4, 1, 2, 3, 4, 5, 7, 10, 11, 12, 16, 19, 9, 8, 9, 2, 3, 5, 8, 9, 18, 2, 3, 4, 7, 11, 15, 17, 3, 14, 14, 19, 13, 1, 2, 4, 5, 8, 13, 4, 12, 16, 1, 2, 3, 4, 5, 6, 7, 8, 15, 16, 1, 2, 3, 4, 6, 7, 8, 3, 9, 13, 14, 9, 5, 9, 19, 6, 3, 8, 9, 12, 14, 11, 14, 20, 1, 7, 12, 1, 5, 7, 11, 18, 13, 9, 20, 3, 5, 8, 9, 13, 10, 15, 14, 17, 16, 19, 1, 2, 3, 6, 8, 11, 12, 19, 12, 16, 10, 3, 4, 5, 6, 8, 9, 11, 12, 16, 1, 2, 3, 4, 6, 7, 8, 13, 1, 2, 3, 6, 7, 10, 11, 13, 14, 8, 1, 2, 3, 4, 6, 7, 11, 4, 1, 2, 3, 4, 6, 14, 1, 5, 8, 9, 8, 1, 1, 5, 1, 1, 5, 7, 14, 8, 14, 1, 2, 3, 4, 5, 6, 7, 2, 3, 4, 5, 6, 8, 9, 12, 14, 8, 8, 3, 4, 7, 8, 12, 13, 14, 3, 5, 13, 1, 6, 9, 12, 17, 16, 16, 8, 1, 3, 6, 10, 12, 14, 7, 17, 1, 2, 3, 4, 5, 6, 7, 8, 12, 14, 15, 17, 1, 2, 3, 4, 6, 8, 9, 11, 3, 4, 5, 8, 10, 12, 20, 6, 15, 15, 1, 2, 3, 4, 5, 6, 7, 8, 10, 11, 14, 1, 5, 8, 13, 14, 8, 13, 2, 3, 4, 5, 6, 9, 15, 17, 4, 5, 12, 17, 20, 10, 15, 19, 20, 1, 2, 4, 5, 6, 14, 19, 3, 9, 1, 14, 2, 3, 4, 10, 11, 5, 8, 9, 12, 10, 19, 18, 1, 4, 5, 8, 9, 1, 2, 4, 5, 7, 8, 9, 8, 15, 7, 19, 1, 7, 9, 12, 12, 1, 3, 7, 10, 1, 2, 3, 4, 6, 7, 8, 19, 19, 9, 1, 6, 9, 12, 9, 20, 10, 10, 20, 10, 3, 7, 16, 1, 7, 12, 2, 10, 1, 2, 3, 4, 5, 6, 7, 8, 10, 11, 12, 11, 13, 5, 11, 13, 2, 7, 8, 3, 4, 5, 8, 14, 1, 5, 11, 13, 5, 8, 9, 13, 17, 1, 2, 15, 4, 8, 10, 11, 15, 4, 8, 15, 7, 11, 9, 8, 8, 1, 2, 3, 4, 5, 7, 9, 10, 12, 13, 14, 15, 19, 1, 2, 6, 8, 11, 16, 9, 18, 18, 5, 3, 11, 16, 3, 2, 3, 4, 5, 7, 9, 11, 13, 18, 16, 6, 3, 10, 14, 15, 12, 16, 16, 1, 2, 3, 4, 5, 6, 7, 9, 10, 11, 12, 13, 14, 15, 7, 3, 4, 6, 11, 14, 15, 2, 6, 11, 5, 12, 15, 10, 16, 16, 1, 2, 3, 4, 5, 6, 7, 8, 11, 12, 14, 8, 17, 4, 13, 4, 5, 6, 3, 9, 12, 4, 12, 1, 2, 4, 6, 1, 2, 3, 4, 6, 7, 11, 16, 1, 2, 3, 4, 6, 7, 8, 14, 1, 2, 3, 4, 6, 9, 14, 1, 2, 3, 4, 6, 11, 15, 16, 1, 3, 5, 6, 7, 9, 14, 2, 4, 5, 9, 17, 20, 5, 12, 3, 12, 14, 12, 2, 3, 4, 6, 11, 12, 16, 7, 4, 15, 17, 19, 19, 19, 17, 1, 3, 4, 11, 13, 12, 19, 2, 3, 5, 6, 7, 19, 1, 2, 3, 4, 5, 8, 9, 11, 14, 17, 1, 5, 8, 9, 1, 5, 8, 1, 4, 5, 6, 8, 9, 11, 17, 6, 2, 4, 8, 12, 17, 2, 11, 3, 15, 19, 2, 1, 2, 3, 4, 5, 6, 7, 8, 12, 15, 8, 5, 11, 14, 3, 14, 1, 5, 6, 7, 9, 12, 1, 2, 3, 4, 5, 6, 9, 14, 18, 7, 17, 19, 20, 7, 4, 5, 11, 16, 1, 2, 3, 4, 5, 6, 8, 12, 1, 2, 3, 4, 6, 8, 11, 14, 16, 2, 5, 6, 8, 2, 3, 14, 16, 4, 11, 3, 4, 11, 20, 6, 7, 6, 14, 16, 6, 7, 17, 17, 1, 3, 4, 6, 8, 9, 11, 12, 13, 18, 1, 2, 3, 4, 5, 6, 7, 8, 11, 15, 10, 4, 5, 12, 15, 18, 18, 8, 5, 10, 12, 10, 3, 9, 11, 12, 13, 9, 12, 1, 2, 3, 4, 6, 7, 8, 16, 7, 11, 1, 3, 4, 6, 12, 14, 7, 4, 6, 2, 3, 4, 5, 8, 9, 10, 20, 1, 2, 3, 4, 9, 15, 20, 1, 6, 13, 6, 1, 2, 3, 4, 6, 15, 1, 2, 3, 4, 6, 7, 8, 1, 2, 3, 4, 6, 7, 8, 11, 1, 2, 3, 4, 5, 7, 8, 10, 11, 12, 1, 2, 3, 4, 5, 7, 11, 2, 2, 5, 9, 20, 1, 2, 3, 4, 5, 6, 7, 8, 9, 11, 12, 14, 4, 4, 12, 1, 3, 5, 7, 10, 14, 15, 2, 9, 1, 2, 4, 5, 7, 8, 9, 11, 1, 2, 5, 7, 1, 2, 4, 5, 7, 10, 12, 3, 14, 3, 4, 10, 11, 2, 18, 18, 11, 5, 6, 17, 4, 15, 1, 2, 3, 4, 6, 7, 11, 14, 17, 1, 7, 4, 18, 5, 5, 5, 18, 20, 15, 2, 3, 7, 11, 12, 15, 1, 9, 3, 9, 14, 3, 13, 2, 9, 1, 2, 3, 4, 5, 6, 7, 8, 9, 11, 12, 13, 14, 15, 16, 17, 18, 1, 3, 13, 14, 3, 13, 14, 3, 6, 9, 13, 1, 3, 4, 5, 6, 8, 9, 11, 12, 13, 1, 2, 3, 4, 6, 16, 14, 12, 13, 7, 1, 3, 4, 5, 12, 3, 5, 2, 3, 5, 9, 16, 15, 5, 20, 11, 20, 2, 7, 9, 11, 16, 16, 2, 3, 4, 7, 9, 15, 15, 15, 3, 16, 2, 4, 5, 18, 1, 2, 3, 4, 6, 7, 8, 11, 15, 2, 5, 8, 9, 10, 1, 2, 8, 1, 2, 4, 6, 7, 8, 11, 5, 5, 2, 5, 20, 4, 6, 10, 1, 2, 3, 4, 5, 6, 7, 8, 9, 10, 11, 14, 2, 5, 7, 12, 1, 5, 7, 9, 10, 12, 15, 17, 20, 1, 2, 3, 4, 6, 8, 1, 2, 3, 4, 6, 7, 8, 10, 15, 18, 3, 14, 3, 2, 3, 5, 7, 2, 3, 10, 11, 19, 19, 4, 14, 10, 16, 18, 16, 11, 13, 18, 17, 15, 2, 5, 7, 15, 1, 2, 3, 7, 8, 12, 14, 14, 1, 2, 3, 4, 6, 7, 8, 9, 11, 16, 2, 3, 4, 6, 7, 8, 9, 11, 1, 2, 3, 4, 5, 7, 8, 9, 10, 12, 14, 19, 9, 1, 2, 3, 4, 5, 6, 7, 8, 11, 14, 15, 17, 16, 2, 3, 3, 20, 19, 2, 4, 2, 4, 5, 6, 8, 9, 10, 12, 14, 15, 1, 2, 4, 5, 6, 7, 8, 9, 11, 12, 15, 6], \"Freq\": [0.9563703536987305, 0.0334395207464695, 0.977202296257019, 0.8536192178726196, 0.057585425674915314, 0.057585425674915314, 0.030486401170492172, 0.028288325294852257, 0.48266953229904175, 0.008840101771056652, 0.01591218262910843, 0.12199340015649796, 0.010608121752738953, 0.33061978220939636, 0.954763650894165, 0.9234821200370789, 0.12803001701831818, 0.2194800227880478, 0.09145001322031021, 0.5578450560569763, 0.9634857773780823, 0.9878148436546326, 0.9897401928901672, 0.017356162890791893, 0.7231734991073608, 0.257449746131897, 0.9711857438087463, 0.9826032519340515, 0.9401131868362427, 0.059500835835933685, 0.0525517500936985, 0.9284142255783081, 0.7724725008010864, 0.17795178294181824, 0.02022179216146469, 0.010110896080732346, 0.016177434474229813, 0.05289352312684059, 0.9256366491317749, 0.33134567737579346, 0.6176540851593018, 0.04825422540307045, 0.9699298739433289, 0.9792638421058655, 0.9737702012062073, 0.15761753916740417, 0.16205747425556183, 0.29470038414001465, 0.10794581472873688, 0.035241950303316116, 0.059384070336818695, 0.05966156721115112, 0.03302198275923729, 0.04356681928038597, 0.0011099826078861952, 0.017204731702804565, 0.019424697384238243, 0.00277495663613081, 0.0008324870141223073, 0.0052724177949130535, 0.920673668384552, 0.07672280073165894, 0.08012402802705765, 0.06009301915764809, 0.15223564207553864, 0.6369860172271729, 0.06810542196035385, 0.06747511029243469, 0.05266350135207176, 0.22052840888500214, 0.38181036710739136, 0.21229973435401917, 0.06253790855407715, 0.05990568920969963, 0.05529756098985672, 0.7096520066261292, 0.16128455102443695, 0.01382439024746418, 0.9813755750656128, 0.9953323602676392, 0.9254639744758606, 0.09159635752439499, 0.03584205359220505, 0.045798178762197495, 0.12146473675966263, 0.11150860786437988, 0.161289244890213, 0.09159635752439499, 0.34049952030181885, 0.972582221031189, 0.06365710496902466, 0.36921119689941406, 0.05729139223694801, 0.26735982298851013, 0.235531285405159, 0.6909840703010559, 0.2961360514163971, 0.9891989231109619, 0.3146503269672394, 0.6250486373901367, 0.05952844023704529, 0.158124640583992, 0.5437268614768982, 0.1498022973537445, 0.14425405859947205, 0.1361411064863205, 0.44985756278038025, 0.38415470719337463, 0.009470685385167599, 0.02012520655989647, 0.3079640567302704, 0.5502805709838867, 0.09557504951953888, 0.014481067657470703, 0.027031326666474342, 0.0019308091141283512, 0.0019308091141283512, 0.07288789004087448, 0.9195087552070618, 0.9762536883354187, 0.47579607367515564, 0.024275310337543488, 0.4976438581943512, 0.8080381751060486, 0.006345849484205246, 0.052882079035043716, 0.04442094638943672, 0.019037548452615738, 0.069804348051548, 0.013617522083222866, 0.05106570944190025, 0.07830075174570084, 0.7472615242004395, 0.08681170642375946, 0.022128473967313766, 0.004745298530906439, 0.991767406463623, 0.9891220331192017, 0.9697195887565613, 0.9887871742248535, 0.9824702739715576, 0.9865481853485107, 0.9935656189918518, 0.004776757676154375, 0.8946341276168823, 0.07048632204532623, 0.005422024987637997, 0.027110125869512558, 0.9893160462379456, 0.9910969734191895, 0.9962308406829834, 0.9992882013320923, 0.9982990622520447, 0.05515478923916817, 0.8697486519813538, 0.07212549448013306, 0.06118624657392502, 0.7954212427139282, 0.09614981710910797, 0.04370446130633354, 0.04208632931113243, 0.6142812967300415, 0.09670901298522949, 0.13521352410316467, 0.01701362244784832, 0.024177253246307373, 0.04298178106546402, 0.0044772690162062645, 0.01701362244784832, 0.0053727226331830025, 0.9897930026054382, 0.14737553894519806, 0.16305378079414368, 0.03449214622378349, 0.05017039552330971, 0.6051803827285767, 0.9906793236732483, 0.9590272903442383, 0.9765706658363342, 0.9842492341995239, 0.9817214608192444, 0.997248113155365, 0.9709320664405823, 0.023681269958615303, 0.9921833872795105, 0.9821705222129822, 0.3201129734516144, 0.130658358335495, 0.22865213453769684, 0.3201129734516144, 0.9509762525558472, 0.18347476422786713, 0.19758820533752441, 0.6139348149299622, 0.9645004868507385, 0.9778292179107666, 0.985092282295227, 0.14135563373565674, 0.22754809260368347, 0.027581585571169853, 0.041372377425432205, 0.08964015543460846, 0.4723346531391144, 0.07755657285451889, 0.8650540709495544, 0.04772711917757988, 0.9753549098968506, 0.9872572422027588, 0.6754063963890076, 0.0535302497446537, 0.03106076270341873, 0.012556478381156921, 0.1222604513168335, 0.025112956762313843, 0.025112956762313843, 0.05485198646783829, 0.03507455810904503, 0.02455219067633152, 0.6699240803718567, 0.066641665995121, 0.18940262496471405, 0.010522367432713509, 0.9925869107246399, 0.9922294020652771, 0.028801869601011276, 0.7629295587539673, 0.024321578443050385, 0.09536619484424591, 0.0051203323528170586, 0.008320540189743042, 0.019841287285089493, 0.007040456868708134, 0.03648236766457558, 0.007040456868708134, 0.0032002078369259834, 0.0006400415441021323, 0.9798910021781921, 0.23786427080631256, 0.4122980833053589, 0.34886759519577026, 0.06488699465990067, 0.8074826002120972, 0.12977398931980133, 0.18137086927890778, 0.03200662136077881, 0.625907301902771, 0.035562913864851, 0.035562913864851, 0.04267549887299538, 0.04267549887299538, 0.9938440918922424, 0.9449900984764099, 0.9951626658439636, 0.9455294609069824, 0.9320816993713379, 0.05403371900320053, 0.9879642128944397, 0.9968046545982361, 0.983218789100647, 0.010188795626163483, 0.669526994228363, 0.16720685362815857, 0.025185968726873398, 0.0244863573461771, 0.007695712614804506, 0.048273105174303055, 0.05736804008483887, 0.9885684251785278, 0.5499255657196045, 0.08353299647569656, 0.02088324911892414, 0.02784433215856552, 0.1601049154996872, 0.15314382314682007, 0.19798582792282104, 0.21688899397850037, 0.12436296045780182, 0.09551075100898743, 0.04576556757092476, 0.10446488857269287, 0.007959228940308094, 0.043775759637355804, 0.15719477832317352, 0.004974518436938524, 0.9689479470252991, 0.1916600465774536, 0.4095640182495117, 0.10099928081035614, 0.2099512666463852, 0.050102006644010544, 0.03578714653849602, 0.0015905398176982999, 0.39465969800949097, 0.6028517484664917, 0.9699693322181702, 0.03370635211467743, 0.8089524507522583, 0.014044312760233879, 0.14325198531150818, 0.1106814295053482, 0.8854514360427856, 0.026826217770576477, 0.1243760958313942, 0.012193734757602215, 0.6682167053222656, 0.1268148422241211, 0.03658120706677437, 0.32911112904548645, 0.6644319295883179, 0.994992196559906, 0.9932431578636169, 0.23279862105846405, 0.6196025013923645, 0.14684221148490906, 0.9538189768791199, 0.2385905534029007, 0.05402050167322159, 0.027010250836610794, 0.004501708783209324, 0.07652904838323593, 0.5221982002258301, 0.08103075623512268, 0.07518599182367325, 0.2534046471118927, 0.022277330979704857, 0.1503719836473465, 0.4956706166267395, 0.9868935346603394, 0.3650372326374054, 0.14987300336360931, 0.050452299416065216, 0.05193619057536125, 0.18548639118671417, 0.050452299416065216, 0.14393743872642517, 0.9619269967079163, 0.2306744009256363, 0.7368765473365784, 0.025630488991737366, 0.05043264105916023, 0.04538937658071518, 0.8977009654045105, 0.9756976366043091, 0.20209138095378876, 0.01837194338440895, 0.2204633355140686, 0.22964930534362793, 0.3306950032711029, 0.9557676315307617, 0.9775642156600952, 0.23852622509002686, 0.1510666161775589, 0.08745961636304855, 0.508855938911438, 0.9885808229446411, 0.9766671061515808, 0.9709845185279846, 0.9845377206802368, 0.9814894795417786, 0.09376011788845062, 0.8516543507575989, 0.04688005894422531, 0.9482113122940063, 0.0977926105260849, 0.1296815127134323, 0.05740001052618027, 0.09354075789451599, 0.008503705263137817, 0.6122667789459229, 0.9910283088684082, 0.7117032408714294, 0.05474640429019928, 0.23462744057178497, 0.047202542424201965, 0.047202542424201965, 0.8732470870018005, 0.2818305194377899, 0.715415894985199, 0.9674128890037537, 0.12023349851369858, 0.8748023509979248, 0.9937049150466919, 0.9924190044403076, 0.9904084801673889, 0.1569860577583313, 0.18516305088996887, 0.5232868790626526, 0.06037925183773041, 0.0523286871612072, 0.02012641727924347, 0.06820632517337799, 0.20781613886356354, 0.24191930890083313, 0.045826125890016556, 0.058614809066057205, 0.08952080458402634, 0.18223877251148224, 0.007460066583007574, 0.018117304891347885, 0.02770881913602352, 0.04049750417470932, 0.010657237842679024, 0.01775825209915638, 0.5924798250198364, 0.027444569393992424, 0.04681720957159996, 0.2792888581752777, 0.009686319157481194, 0.027444569393992424, 0.08969774097204208, 0.8670781254768372, 0.989251434803009, 0.6692017912864685, 0.03845987468957901, 0.18306900560855865, 0.021537529304623604, 0.0261527132242918, 0.003076789900660515, 0.0569206140935421, 0.954129159450531, 0.9792255163192749, 0.9827057719230652, 0.5391877889633179, 0.04889693483710289, 0.41099855303764343, 0.013564497232437134, 0.983426034450531, 0.36423853039741516, 0.14113186299800873, 0.05915706977248192, 0.07521399110555649, 0.05915706977248192, 0.12169454246759415, 0.015211817808449268, 0.006760808173567057, 0.034649141132831573, 0.06422767788171768, 0.018592221662402153, 0.040564846247434616, 0.2422545850276947, 0.0026621383149176836, 0.08252628892660141, 0.18634968996047974, 0.4259421229362488, 0.05856704339385033, 0.06627416610717773, 0.9278383255004883, 0.9797332882881165, 0.9939379692077637, 0.2764016389846802, 0.15333229303359985, 0.03228048235177994, 0.03228048235177994, 0.06859602779150009, 0.43578654527664185, 0.9809197783470154, 0.05460910126566887, 0.02535422518849373, 0.7508751153945923, 0.08971495181322098, 0.046807799488306046, 0.02925487607717514, 0.9486774206161499, 0.03470771014690399, 0.9890409111976624, 0.9741758704185486, 0.07483536750078201, 0.8456395864486694, 0.04490121826529503, 0.029934145510196686, 0.9974831938743591, 0.98666912317276, 0.869328498840332, 0.08243632316589355, 0.03747105598449707, 0.014748684130609035, 0.17042922973632812, 0.20156534016132355, 0.1425706148147583, 0.050801023840904236, 0.006554970517754555, 0.4113244116306305, 0.07143743336200714, 0.04202201962471008, 0.8824624419212341, 0.07743754237890244, 0.4614645540714264, 0.281303733587265, 0.08059825748205185, 0.0932411253452301, 0.0031607160344719887, 0.998014509677887, 0.09799134731292725, 0.8976007699966431, 0.9982879757881165, 0.4262891709804535, 0.5656529664993286, 0.006558294873684645, 0.8943746089935303, 0.10066553950309753, 0.9876313805580139, 0.004227503202855587, 0.9955770373344421, 0.980092465877533, 0.9755463600158691, 0.9912533164024353, 0.9783586859703064, 0.7080778479576111, 0.2801187336444855, 0.9795535802841187, 0.9888327717781067, 0.5154743790626526, 0.4725181758403778, 0.9624581933021545, 0.03421059995889664, 0.002280706539750099, 0.4357382357120514, 0.5403154492378235, 0.9975490570068359, 0.9937964677810669, 0.96913743019104, 0.9641984105110168, 0.030992090702056885, 0.6664043068885803, 0.3319816291332245, 0.9842984676361084, 0.9729408621788025, 0.2731136083602905, 0.7187200784683228, 0.9810009598731995, 0.9462693333625793, 0.025948885828256607, 0.02767881192266941, 0.982477605342865, 0.05916227772831917, 0.08282718807458878, 0.8519367575645447, 0.22976531088352203, 0.5109009146690369, 0.04389825090765953, 0.014010080136358738, 0.008406047709286213, 0.160648912191391, 0.024284137412905693, 0.006538037210702896, 0.9779654145240784, 0.962943971157074, 0.3440270721912384, 0.1332499235868454, 0.041186340153217316, 0.08237268030643463, 0.3052634596824646, 0.0048454515635967255, 0.05572269484400749, 0.029072711244225502, 0.0048454515635967255, 0.9870808124542236, 0.02187979407608509, 0.49229538440704346, 0.0036466324236243963, 0.1130456030368805, 0.05469948798418045, 0.20907358825206757, 0.0364663228392601, 0.06807047128677368, 0.9411537051200867, 0.0565720833837986, 0.04946606606245041, 0.11748190224170685, 0.04637443646788597, 0.07419909536838531, 0.7110746502876282, 0.9893307089805603, 0.004002186935395002, 0.04402405396103859, 0.7243958115577698, 0.1961071491241455, 0.02801530808210373, 0.9660323262214661, 0.042866986244916916, 0.9430736899375916, 0.010716746561229229, 0.029162602499127388, 0.058325204998254776, 0.007290650624781847, 0.17497561872005463, 0.4666016399860382, 0.26246342062950134, 0.9832856059074402, 0.967635452747345, 0.8704495429992676, 0.11605993658304214, 0.9963929057121277, 0.023450804874300957, 0.4494737386703491, 0.06644394248723984, 0.011725402437150478, 0.011725402437150478, 0.27945542335510254, 0.01367963571101427, 0.009771168231964111, 0.007816934958100319, 0.007816934958100319, 0.11725401878356934, 0.0019542337395250797, 0.08214965462684631, 0.9036461710929871, 0.0416211374104023, 0.9572861194610596, 0.911051332950592, 0.07039941847324371, 0.004141142126172781, 0.01242342684417963, 0.9930438995361328, 0.9958995580673218, 0.03517995774745941, 0.0156355369836092, 0.17459683120250702, 0.12117541581392288, 0.319225549697876, 0.0938132256269455, 0.042997729033231735, 0.07426880300045013, 0.0416947677731514, 0.027362190186977386, 0.0039088842459023, 0.04430069029331207, 0.0078177684918046, 0.003609188599511981, 0.9925268888473511, 0.9790974259376526, 0.09992124885320663, 0.2553543150424957, 0.005551180802285671, 0.10547243058681488, 0.03330708295106888, 0.4940550625324249, 0.02864735946059227, 0.09412703663110733, 0.6036407947540283, 0.012277440167963505, 0.03683232143521309, 0.0102311996743083, 0.04501727968454361, 0.14937551319599152, 0.018416160717606544, 0.059519682079553604, 0.7539159655570984, 0.10911941528320312, 0.05455970764160156, 0.019839894026517868, 0.1994200497865677, 0.49967464804649353, 0.10645731538534164, 0.050229862332344055, 0.040858618915081024, 0.026989178732037544, 0.01274489052593708, 0.010120942257344723, 0.053603507578372955, 0.14849893748760223, 0.1299365609884262, 0.09281183779239655, 0.5893551707267761, 0.03248414024710655, 0.962383508682251, 0.12595616281032562, 0.0030721016228199005, 0.6297808289527893, 0.03993732109665871, 0.19047029316425323, 0.006144203245639801, 0.14121702313423157, 0.01377726998180151, 0.1618829220533371, 0.12399543076753616, 0.05166476219892502, 0.01377726998180151, 0.0654420331120491, 0.42709535360336304, 0.9863463640213013, 0.10348577052354813, 0.8623814582824707, 0.22156772017478943, 0.06042756140232086, 0.6848456859588623, 0.018671169877052307, 0.8619856834411621, 0.11513888090848923, 0.9964157938957214, 0.9865196943283081, 0.9712349772453308, 0.9934632778167725, 0.9858068227767944, 0.9952685832977295, 0.9896605610847473, 0.995066225528717, 0.9931787252426147, 0.9888268709182739, 0.9646350741386414, 0.9896337985992432, 0.9809139966964722, 0.06945911049842834, 0.0752473697066307, 0.2460010051727295, 0.05643552541732788, 0.08827094733715057, 0.005788259208202362, 0.02749423123896122, 0.09405920654535294, 0.041964877396821976, 0.007235324010252953, 0.12300050258636475, 0.007235324010252953, 0.046306073665618896, 0.013023583218455315, 0.0998474657535553, 0.992014467716217, 0.9813734292984009, 0.970093846321106, 0.47613823413848877, 0.04156762361526489, 0.12697020173072815, 0.1549338698387146, 0.15039922297000885, 0.04988114908337593, 0.18384091556072235, 0.13370248675346375, 0.008356405422091484, 0.033425621688365936, 0.033425621688365936, 0.1615571677684784, 0.08356405049562454, 0.3621108829975128, 0.2101195603609085, 0.7607777118682861, 0.014491003938019276, 0.007245501969009638, 0.9537391066551208, 0.8967536687850952, 0.11281835287809372, 0.02820458821952343, 0.8461377024650574, 0.1457386016845703, 0.3716334104537964, 0.4809373617172241, 0.9923625588417053, 0.9494808912277222, 0.035829465836286545, 0.26806116104125977, 0.056861456483602524, 0.00406153267249465, 0.6701529026031494, 0.9605367183685303, 0.029273491352796555, 0.05854698270559311, 0.062206171452999115, 0.03659186512231827, 0.08050210028886795, 0.731837272644043, 0.9458484053611755, 0.986901044845581, 0.9924270510673523, 0.9707576036453247, 0.9820513725280762, 0.9795312285423279, 0.9972421526908875, 0.25455716252326965, 0.6434639096260071, 0.09899444878101349, 0.10969134420156479, 0.024929851293563843, 0.6282322406768799, 0.03988775983452797, 0.19943881034851074, 0.9932071566581726, 0.9800111651420593, 0.07864481210708618, 0.3233175575733185, 0.5942052006721497, 0.9847171306610107, 0.9716512560844421, 0.9859495162963867, 0.9019728899002075, 0.042197562754154205, 0.05274695158004761, 0.9643974900245667, 0.013876223005354404, 0.013876223005354404, 0.985373318195343, 0.9301228523254395, 0.06839138269424438, 0.9419652819633484, 0.05233140289783478, 0.9327808022499084, 0.06462036073207855, 0.9372783899307251, 0.9787910580635071, 0.019350070506334305, 0.9890705347061157, 0.05547894164919853, 0.04808174818754196, 0.2921890914440155, 0.5917753577232361, 0.011095788329839706, 0.4912514090538025, 0.505024790763855, 0.9772261381149292, 0.9670998454093933, 0.9814362525939941, 0.9517949223518372, 0.2567363381385803, 0.7335324287414551, 0.9718843102455139, 0.9796281456947327, 0.00502626970410347, 0.02312084101140499, 0.07237828522920609, 0.0010052539873868227, 0.8976917862892151, 0.9943674802780151, 0.008570240810513496, 0.2056857943534851, 0.6341978311538696, 0.07284705340862274, 0.07284705340862274, 0.020861487835645676, 0.04172297567129135, 0.11995355784893036, 0.1616765260696411, 0.6467061042785645, 0.9797332882881165, 0.2168021947145462, 0.18402977287769318, 0.022688601166009903, 0.5747779011726379, 0.018155528232455254, 0.031772173941135406, 0.19063304364681244, 0.11801093071699142, 0.07262211292982101, 0.013616645708680153, 0.04992770031094551, 0.25417739152908325, 0.022694410756230354, 0.004538882058113813, 0.21332745254039764, 0.9922321438789368, 0.9379550218582153, 0.6539108753204346, 0.3407704532146454, 0.09535034000873566, 0.03405369445681572, 0.061296649277210236, 0.7491812705993652, 0.05448590964078903, 0.19169582426548004, 0.8016370534896851, 0.9765129089355469, 0.054737307131290436, 0.9305342435836792, 0.9900726079940796, 0.3471565246582031, 0.6486345529556274, 0.9771405458450317, 0.946853518486023, 0.48246675729751587, 0.08209513127803802, 0.14903423190116882, 0.12377419322729111, 0.16166424751281738, 0.6188451051712036, 0.3803319036960602, 0.1302630603313446, 0.8678776025772095, 0.09307612478733063, 0.26526695489883423, 0.013961419463157654, 0.5212262868881226, 0.10238374024629593, 0.9979168772697449, 0.9867874979972839, 0.9690098166465759, 0.12824377417564392, 0.8681116700172424, 0.9734447598457336, 0.003195329336449504, 0.9953450560569763, 0.23181867599487305, 0.02107442542910576, 0.04741745814681053, 0.5742781162261963, 0.12117794901132584, 0.6766006350517273, 0.3184002935886383, 0.9690464735031128, 0.9910610914230347, 0.9820966124534607, 0.16527679562568665, 0.8263839483261108, 0.9576128721237183, 0.35862424969673157, 0.42352989315986633, 0.03614998236298561, 0.06654883176088333, 0.02464771457016468, 0.0365607775747776, 0.03614998236298561, 0.011502266861498356, 0.00616192864254117, 0.8939185738563538, 0.07271956652402878, 0.021283775568008423, 0.00886823982000351, 0.54762202501297, 0.0011456528445705771, 0.1867414116859436, 0.0297869723290205, 0.0034369584172964096, 0.12373050302267075, 0.016039138659834862, 0.018330445513129234, 0.04582611098885536, 0.027495667338371277, 0.12639176845550537, 0.04979069530963898, 0.22597315907478333, 0.04596064239740372, 0.01149016059935093, 0.5400375723838806, 0.9917219877243042, 0.8509358167648315, 0.0929182767868042, 0.0464591383934021, 0.007335653528571129, 0.9147724509239197, 0.07989279180765152, 0.1089489758014679, 0.8836972713470459, 0.25053656101226807, 0.18372681736946106, 0.2004292607307434, 0.041756097227334976, 0.31734633445739746, 0.05961410701274872, 0.6936914324760437, 0.11380875110626221, 0.1300671398639679, 0.979074239730835, 0.9007508754730225, 0.051385119557380676, 0.045339811593294144, 0.9727428555488586, 0.17339245975017548, 0.10003411024808884, 0.08669622987508774, 0.6402183175086975, 0.048987969756126404, 0.19595187902450562, 0.5652458071708679, 0.06782949715852737, 0.03391474857926369, 0.05275627598166466, 0.03391474857926369, 0.5789670944213867, 0.14847704768180847, 0.004669089801609516, 0.09524942934513092, 0.05976434797048569, 0.04669089615345001, 0.028014538809657097, 0.0018676358740776777, 0.03641889989376068, 0.5115260481834412, 0.4840783178806305, 0.9863603115081787, 0.9706639647483826, 0.07087911665439606, 0.8930768370628357, 0.028351645916700363, 0.007087911479175091, 0.9956578612327576, 0.3553707003593445, 0.4759429097175598, 0.09518858045339584, 0.06980495899915695, 0.9705662727355957, 0.4708304703235626, 0.01000584289431572, 0.0166764035820961, 0.5019597411155701, 0.9960787892341614, 0.856390655040741, 0.0064149112440645695, 0.039558619260787964, 0.09729281812906265, 0.9748419523239136, 0.9834331274032593, 0.3264431953430176, 0.23607586324214935, 0.2851124107837677, 0.03782818093895912, 0.0077057406306266785, 0.030822962522506714, 0.03572661429643631, 0.023117221891880035, 0.016112003475427628, 0.9611698389053345, 0.9931043386459351, 0.9957098960876465, 0.10603269934654236, 0.28520631790161133, 0.05799339711666107, 0.06145568937063217, 0.10127204656600952, 0.06751470267772675, 0.05756061151623726, 0.01558031514286995, 0.0103868767619133, 0.10906220972537994, 0.028563911095261574, 0.04414422810077667, 0.02120654098689556, 0.02250489965081215, 0.011252449825406075, 0.9706470370292664, 0.955123782157898, 0.9511483907699585, 0.123407743871212, 0.8638542294502258, 0.04098027944564819, 0.04098027944564819, 0.8664401769638062, 0.04683460295200348, 0.9393582344055176, 0.22495634853839874, 0.035287272185087204, 0.7322108745574951, 0.9860097765922546, 0.04605662077665329, 0.8520474433898926, 0.05066228285431862, 0.023028310388326645, 0.023028310388326645, 0.9975950121879578, 0.9923463463783264, 0.031982265412807465, 0.23666876554489136, 0.057568080723285675, 0.041576944291591644, 0.4573464095592499, 0.031982265412807465, 0.14072197675704956, 0.9843446612358093, 0.994716227054596, 0.9883858561515808, 0.8975386619567871, 0.09999751299619675, 0.9899689555168152, 0.9852544665336609, 0.9855591058731079, 0.07271301001310349, 0.006610273849219084, 0.09915410727262497, 0.07932328432798386, 0.7337403893470764, 0.05009237304329872, 0.9392319917678833, 0.9874685406684875, 0.12246222048997879, 0.13879051804542542, 0.20410369336605072, 0.12246222048997879, 0.400043249130249, 0.9725753664970398, 0.3075140118598938, 0.07028891891241074, 0.16693618893623352, 0.03514445945620537, 0.4129473865032196, 0.35052716732025146, 0.012408041395246983, 0.5242397785186768, 0.09926433116197586, 0.00930603127926588, 0.9594812393188477, 0.993194580078125, 0.9132397174835205, 0.07872756570577621, 0.9707632064819336, 0.928193211555481, 0.010377315804362297, 0.059957824647426605, 0.8534520864486694, 0.14448204636573792, 0.9518259763717651, 0.9334343075752258, 0.9940849542617798, 0.9254499077796936, 0.9910925030708313, 0.02978961169719696, 0.41705456376075745, 0.5362130403518677, 0.1910134255886078, 0.02555813454091549, 0.1398971527814865, 0.024212969467043877, 0.0645679160952568, 0.10761319845914841, 0.0026903299149125814, 0.10357770323753357, 0.20581023395061493, 0.024212969467043877, 0.10895836353302002, 0.01642834208905697, 0.9692721962928772, 0.9961740970611572, 0.07106015831232071, 0.03230007365345955, 0.7170615792274475, 0.0646001473069191, 0.10336022824048996, 0.05194585770368576, 0.7138845324516296, 0.1098283901810646, 0.11279672384262085, 0.010389171540737152, 0.06923773139715195, 0.923169732093811, 0.988527774810791, 0.1766924113035202, 0.018797066062688828, 0.12782004475593567, 0.6203031539916992, 0.037594132125377655, 0.015037653036415577, 0.9908868074417114, 0.05208761245012283, 0.7538996934890747, 0.007538996636867523, 0.012336540035903454, 0.002741453470662236, 0.006853633560240269, 0.16243110597133636, 0.001370726735331118, 0.07807410508394241, 0.8344169855117798, 0.004879631567746401, 0.03415742143988609, 0.048796314746141434, 0.20705212652683258, 0.44395649433135986, 0.08764313161373138, 0.17260722815990448, 0.019136056303977966, 0.0038272112142294645, 0.005358095746487379, 0.06008721515536308, 0.9935038685798645, 0.9905440211296082, 0.443853497505188, 0.3095395565032959, 0.017754139378666878, 0.03396444022655487, 0.1945236176252365, 0.998955488204956, 0.9812039136886597, 0.9675118327140808, 0.9924036860466003, 0.6826817393302917, 0.31508389115333557, 0.9533039331436157, 0.03727690503001213, 0.24540629982948303, 0.06212817505002022, 0.04038331285119057, 0.049702540040016174, 0.06523458659648895, 0.5001318454742432, 0.9696297645568848, 0.1884341984987259, 0.7489662766456604, 0.007155728992074728, 0.05009010061621666, 0.0023852428421378136, 0.13967832922935486, 0.8488144874572754, 0.03932998329401016, 0.9596515893936157, 0.9928231239318848, 0.04210357740521431, 0.021051788702607155, 0.9262786507606506, 0.08605239540338516, 0.12907859683036804, 0.1075654998421669, 0.1398351490497589, 0.527070939540863, 0.9897247552871704, 0.15941455960273743, 0.33118686079978943, 0.05437396094202995, 0.05066664516925812, 0.0037073155399411917, 0.0012357718078419566, 0.0049430872313678265, 0.0024715436156839132, 0.018536577001214027, 0.3732030987739563, 0.9698752164840698, 0.7965938448905945, 0.001910296967253089, 0.12990018725395203, 0.07068099081516266, 0.9759358167648315, 0.9551421999931335, 0.9921477437019348, 0.17313703894615173, 0.8124122619628906, 0.968547523021698, 0.03940963372588158, 0.9261264204978943, 0.200788676738739, 0.37380871176719666, 0.4208017885684967, 0.015224175527691841, 0.8586434721946716, 0.006089670117944479, 0.08525538444519043, 0.021313846111297607, 0.012179340235888958, 0.03145475685596466, 0.7564120292663574, 0.08537720143795013, 0.013480610214173794, 0.03744614124298096, 0.07339443266391754, 0.006217055954039097, 0.988511860370636, 0.2327815294265747, 0.2541867196559906, 0.040134746581315994, 0.470914363861084, 0.9884130358695984, 0.04635732248425484, 0.9387357831001282, 0.04041392356157303, 0.35025399923324585, 0.45960932970046997, 0.03090476617217064, 0.06735654175281525, 0.034074485301971436, 0.011094018816947937, 0.0055470094084739685, 0.9812360405921936, 0.992316722869873, 0.9803641438484192, 0.019283747300505638, 0.02382109872996807, 0.08280667662620544, 0.32668936252593994, 0.0045373523607850075, 0.15086695551872253, 0.03062712773680687, 0.07259763777256012, 0.052179548889398575, 0.038567494601011276, 0.07486630976200104, 0.0487765371799469, 0.011343380436301231, 0.06125425547361374, 0.9926002025604248, 0.9868755340576172, 0.010668925009667873, 0.9965266585350037, 0.9759158492088318, 0.9771873950958252, 0.9354931712150574, 0.05585033819079399, 0.988357663154602, 0.984612226486206, 0.9860369563102722, 0.9667508602142334, 0.9660533666610718, 0.1033630520105362, 0.0574239157140255, 0.14011435210704803, 0.07809652388095856, 0.5007365345954895, 0.0022969567216932774, 0.004593913443386555, 0.11025392264127731, 0.45818883180618286, 0.08041339367628098, 0.19852057099342346, 0.10470494627952576, 0.025966826826334, 0.09632854908704758, 0.0008376395562663674, 0.0016752791125327349, 0.028479743748903275, 0.005025837104767561, 0.9684265851974487, 0.5900446772575378, 0.1546555906534195, 0.09581922739744186, 0.06051740422844887, 0.03193974122405052, 0.06556051969528198, 0.9497931003570557, 0.9570521712303162, 0.9697129726409912, 0.9827233552932739, 0.9775606393814087, 0.9804438352584839, 0.01634073071181774, 0.9591013193130493, 0.0251099094748497, 0.931856632232666, 0.022319920361042023, 0.020924925804138184, 0.964093804359436, 0.9881225824356079, 0.9862979650497437, 0.107977494597435, 0.3926454484462738, 0.03435647487640381, 0.1685103327035904, 0.016360227018594742, 0.23395124077796936, 0.03926454484462738, 0.0049080681055784225, 0.10664203017950058, 0.2636427879333496, 0.02369822934269905, 0.05332101508975029, 0.0473964586853981, 0.017773671075701714, 0.01481139287352562, 0.13626481592655182, 0.02369822934269905, 0.08886835724115372, 0.222170889377594, 0.9928433895111084, 0.25019222497940063, 0.7338972091674805, 0.623210608959198, 0.002424943959340453, 0.019399551674723625, 0.0036374160554260015, 0.025461912155151367, 0.3200926184654236, 0.004849887918680906, 0.03368276730179787, 0.3655204176902771, 0.011227590031921864, 0.039920318871736526, 0.0006237549823708832, 0.009980079717934132, 0.3118774890899658, 0.019336404278874397, 0.0031187748536467552, 0.1322360634803772, 0.06362301111221313, 0.0062375497072935104, 0.002495019929483533, 0.9703285694122314, 0.976288914680481, 0.9820903539657593, 0.1894294172525406, 0.09750043600797653, 0.5042165517807007, 0.20892950892448425, 0.04026417061686516, 0.9375799894332886, 0.02300809696316719, 0.9975246787071228, 0.9813394546508789, 0.9833020567893982, 0.9909077882766724, 0.9821128249168396, 0.11520171910524368, 0.1319245547056198, 0.3474632501602173, 0.0055742766708135605, 0.11148553341627121, 0.009290461428463459, 0.2787138521671295, 0.9833486676216125, 0.01392845157533884, 0.9428407549858093, 0.22223040461540222, 0.08108406513929367, 0.48350128531455994, 0.0750778391957283, 0.13814322650432587, 0.16877123713493347, 0.20740561187267303, 0.5429146885871887, 0.028467437252402306, 0.05083470791578293, 0.9842498898506165, 0.9544326066970825, 0.9781083464622498, 0.06294123828411102, 0.9189420938491821, 0.978186309337616, 0.9928246140480042, 0.004843046888709068, 0.9849123358726501, 0.9805864095687866, 0.9989253282546997, 0.0031446474604308605, 0.993708610534668, 0.9835320115089417, 0.9796221256256104, 0.30862200260162354, 0.6760291457176208, 0.9993460178375244, 0.19008629024028778, 0.3139303922653198, 0.4953764081001282, 0.007001929450780153, 0.41486430168151855, 0.14353954792022705, 0.43061864376068115, 0.99610435962677, 0.06485331058502197, 0.04503701999783516, 0.005404442548751831, 0.003602961776778102, 0.44136279821395874, 0.09367700666189194, 0.20356734097003937, 0.019816288724541664, 0.04503701999783516, 0.05944886803627014, 0.016213327646255493, 0.020761994644999504, 0.055365320295095444, 0.11073064059019089, 0.7681938409805298, 0.03460332751274109, 0.9778997898101807, 0.9981731176376343, 0.9963709115982056, 0.9898149371147156, 0.0795445367693901, 0.014462643302977085, 0.0795445367693901, 0.021693965420126915, 0.6001996994018555, 0.02892528660595417, 0.16632039844989777, 0.9944851398468018, 0.9891583323478699, 0.10563664138317108, 0.8803053498268127, 0.044152624905109406, 0.9492814540863037, 0.9906469583511353, 0.005340414587408304, 0.008292837999761105, 0.03731777146458626, 0.37317773699760437, 0.5804986953735352, 0.9799055457115173, 0.07961380481719971, 0.8981432318687439, 0.019903451204299927, 0.10089469701051712, 0.8961822986602783, 0.9613114595413208, 0.18257148563861847, 0.6033268570899963, 0.164938285946846, 0.007324561942368746, 0.005968161392956972, 0.013021443039178848, 0.01654808409512043, 0.004340481013059616, 0.001627680379897356, 0.9566513895988464, 0.07406193763017654, 0.1598178744316101, 0.3469217121601105, 0.06626594811677933, 0.3508197069168091, 0.9914047122001648, 0.9748905897140503, 0.10024383664131165, 0.2021310031414032, 0.32209494709968567, 0.09695714712142944, 0.16269081830978394, 0.008216707967221737, 0.016433415934443474, 0.059160295873880386, 0.02793680690228939, 0.00328668300062418, 0.016197707504034042, 0.39578744769096375, 0.04859311878681183, 0.15211759507656097, 0.07605879753828049, 0.03098691627383232, 0.047184623777866364, 0.03662090376019478, 0.13873687386512756, 0.009859473444521427, 0.028169924393296242, 0.009155225940048695, 0.011972217820584774, 0.9233124256134033, 0.987028956413269, 0.0431356318295002, 0.38131898641586304, 0.0862712636590004, 0.08109498769044876, 0.08454583585262299, 0.28469517827033997, 0.01897967793047428, 0.020705103874206543, 0.996567964553833, 0.031848445534706116, 0.9554533362388611, 0.9781143665313721, 0.9850954413414001, 0.06766513735055923, 0.9186844229698181, 0.010410021990537643, 0.9683027267456055, 0.9795112013816833, 0.9892865419387817, 0.9899049401283264, 0.922623336315155, 0.9419360756874084, 0.9288380146026611, 0.27531692385673523, 0.1124533861875534, 0.07755406200885773, 0.2998757064342499, 0.18225204944610596, 0.007755406200885773, 0.03102162480354309, 0.012925677001476288, 0.14280986785888672, 0.1740495264530182, 0.2253718376159668, 0.020082637667655945, 0.30123957991600037, 0.05578510835766792, 0.02231404185295105, 0.024545447900891304, 0.03570246696472168, 0.05848651006817818, 0.7530138492584229, 0.1462162733078003, 0.03655406832695007, 0.9887747764587402, 0.6140453815460205, 0.1152077466249466, 0.06057314574718475, 0.019003339111804962, 0.19122110307216644, 0.0011877086944878101, 0.15674370527267456, 0.5369659662246704, 0.16291846334934235, 0.0940462276339531, 0.009499618783593178, 0.01757429540157318, 0.0042748283594846725, 0.000474980945000425, 0.009737108834087849, 0.0075996951200068, 0.9914447665214539, 0.07283850759267807, 0.12106941640377045, 0.2460760474205017, 0.036419253796339035, 0.02165469154715538, 0.03346634283661842, 0.0541367307305336, 0.1082734614610672, 0.30611860752105713, 0.9643959403038025, 0.018396003171801567, 0.03776021674275398, 0.3495240807533264, 0.029046321287751198, 0.030014531686902046, 0.058092642575502396, 0.035823795944452286, 0.01355495024472475, 0.03776021674275398, 0.053251590579748154, 0.21591098606586456, 0.07552043348550797, 0.04550590366125107, 0.982597291469574, 0.17749400436878204, 0.5258731842041016, 0.03021174669265747, 0.19354400038719177, 0.003776468336582184, 0.021714692935347557, 0.03209998086094856, 0.010385287925601006, 0.003776468336582184, 0.9642194509506226, 0.9759361743927002, 0.2892601191997528, 0.4776155650615692, 0.22871731221675873, 0.28546369075775146, 0.6851128935813904, 0.8188601136207581, 0.08674366027116776, 0.04510670155286789, 0.04510670155286789, 0.022320905700325966, 0.28319650888442993, 0.3850356340408325, 0.12695015966892242, 0.00837033987045288, 0.01395056676119566, 0.054407209157943726, 0.10462924838066101, 0.9953637719154358, 0.9819005727767944, 0.9771500825881958, 0.014276941306889057, 0.9208627343177795, 0.042830824851989746, 0.021415412425994873, 0.32402846217155457, 0.24423040449619293, 0.012090614065527916, 0.37480905652046204, 0.04352620989084244, 0.9831526279449463, 0.9859358072280884, 0.9923842549324036, 0.9625754952430725, 0.9756856560707092, 0.9947708249092102, 0.9897708296775818, 0.052501026540994644, 0.5626229643821716, 0.003917986992746592, 0.0376126766204834, 0.01488835085183382, 0.24056440591812134, 0.08776290714740753, 0.38265836238861084, 0.055384762585163116, 0.005034978501498699, 0.55384761095047, 0.9886988401412964, 0.3287130892276764, 0.27810612320899963, 0.12117812782526016, 0.13092809915542603, 0.0009285680716857314, 0.016249941661953926, 0.06639261543750763, 0.019035644829273224, 0.016249941661953926, 0.01996421255171299, 0.0018571361433714628, 0.9816345572471619, 0.9907779693603516, 0.07124821096658707, 0.890602707862854, 0.20194727182388306, 0.727010190486908, 0.060584183782339096, 0.4149205684661865, 0.10645701736211777, 0.13307127356529236, 0.10165772587060928, 0.05410110577940941, 0.06020929664373398, 0.05279221013188362, 0.045375119894742966, 0.0008725984953343868, 0.027486853301525116, 0.002181496238335967, 0.0004362992476671934, 0.9585082530975342, 0.03704368695616722, 0.09092541038990021, 0.5893313884735107, 0.05724933370947838, 0.0235732551664114, 0.17511561512947083, 0.0235732551664114, 0.9200624227523804, 0.9893565773963928, 0.9841071963310242, 0.9933124780654907, 0.06748959422111511, 0.927981972694397, 0.19085541367530823, 0.04771385341882706, 0.7514932155609131, 0.9909786581993103, 0.2525014281272888, 0.08621999621391296, 0.0800614282488823, 0.5727471113204956, 0.9957709908485413, 0.09690273553133011, 0.84823077917099, 0.014601781964302063, 0.03053099848330021, 0.005309739150106907, 0.0039823041297495365, 0.5785792469978333, 0.24744270741939545, 0.03760158643126488, 0.03274976834654808, 0.03274976834654808, 0.002425908809527755, 0.06792544573545456, 0.029339749366044998, 0.5867949724197388, 0.37848278880119324, 0.002933975076302886, 0.7575249075889587, 0.2407088428735733, 0.0034385507460683584, 0.10487580299377441, 0.8579184412956238, 0.005157826002687216, 0.010315652005374432, 0.015473478473722935, 0.9868642091751099, 0.9406964778900146, 0.05533508583903313, 0.14201101660728455, 0.3459630012512207, 0.0513656884431839, 0.030215110629796982, 0.43056532740592957, 0.1364375501871109, 0.028228459879755974, 0.014114229939877987, 0.8186253309249878, 0.9804666638374329, 0.9632607102394104, 0.992897093296051, 0.3498559892177582, 0.39223942160606384, 0.07937261462211609, 0.08476687222719193, 0.008476687595248222, 0.044695258140563965, 0.0015412158099934459, 0.033136140555143356, 0.0053942552767694, 0.9907952547073364, 0.7992859482765198, 0.10961636155843735, 0.08677961677312851, 0.03206314519047737, 0.7719818949699402, 0.14798374474048615, 0.03946233168244362, 0.007399187423288822, 0.9910722374916077, 0.974906325340271, 0.9918196797370911, 0.9769997596740723, 0.06352154165506363, 0.09528230875730515, 0.8363669514656067, 0.9914820194244385, 0.96644526720047, 0.911251425743103, 0.08532316237688065, 0.9785839319229126, 0.008438299410045147, 0.37128517031669617, 0.24977366626262665, 0.36284688115119934, 0.005062979646027088, 0.24038465321063995, 0.7559083700180054, 0.9939491748809814, 0.023775000125169754, 0.974774956703186, 0.9915512204170227, 0.007237600162625313, 0.9961709380149841, 0.16093385219573975, 0.08306263387203217, 0.700840950012207, 0.051914144307374954, 0.9959608316421509, 0.9984179735183716, 0.938473641872406, 0.871934175491333, 0.11756416410207748, 0.1605108082294464, 0.01888362504541874, 0.8119958639144897, 0.19010251760482788, 0.8079356551170349, 0.9855843186378479, 0.9636176824569702, 0.9978309273719788, 0.2550910413265228, 0.3637075424194336, 0.11086995899677277, 0.18793809413909912, 0.07706814259290695, 0.0013520726934075356, 0.0036055271048098803, 0.971584141254425, 0.15598174929618835, 0.8395488262176514, 0.4725651144981384, 0.11244771629571915, 0.05053030326962471, 0.022062527015805244, 0.01708066649734974, 0.06832266598939896, 0.038431499153375626, 0.009252027608454227, 0.03985488787293434, 0.0021350833121687174, 0.010675416328012943, 0.10533077269792557, 0.012810499407351017, 0.03771980479359627, 0.9918850660324097, 0.966012716293335, 0.9314823150634766, 0.08615946769714355, 0.18990249931812286, 0.18902331590652466, 0.028133703395724297, 0.03516713157296181, 0.16792304813861847, 0.014066851697862148, 0.07033426314592361, 0.21891538798809052, 0.008318769745528698, 0.9899336099624634, 0.04212070256471634, 0.13416223227977753, 0.17160286009311676, 0.585009753704071, 0.04524075612425804, 0.02028033882379532, 0.10087065398693085, 0.8876617550849915, 0.04326526075601578, 0.8739582300186157, 0.0778774693608284, 0.9965299367904663, 0.9879794120788574, 0.9890984296798706, 0.9797151684761047, 0.15008558332920074, 0.2563000023365021, 0.3221067786216736, 0.05830248072743416, 0.025976352393627167, 0.001731756841763854, 0.03232612833380699, 0.008658784441649914, 0.0813925713300705, 0.06292049586772919, 0.2296975553035736, 0.2153414636850357, 0.01435609720647335, 0.5168194770812988, 0.9843565821647644, 0.030940379947423935, 0.9591518044471741, 0.06487860530614853, 0.016219651326537132, 0.11353755742311478, 0.12164738774299622, 0.6812253594398499, 0.2733282744884491, 0.4988037943840027, 0.025954019278287888, 0.06812930107116699, 0.03649783879518509, 0.011354883201420307, 0.05596335232257843, 0.02919827215373516, 0.07092306762933731, 0.2703942060470581, 0.15514421463012695, 0.09160896390676498, 0.004432691726833582, 0.22015702724456787, 0.02511858567595482, 0.014775639399886131, 0.14627882838249207, 0.11803393065929413, 0.19016577303409576, 0.6885312795639038, 0.988416850566864, 0.9554678797721863, 0.965208888053894, 0.956287145614624, 0.9963952302932739, 0.9598208665847778, 0.9628897309303284, 0.1471533626317978, 0.21175728738307953, 0.15433157980442047, 0.02512374520301819, 0.03589106351137161, 0.043069276958703995, 0.11126229912042618, 0.03230195865035057, 0.05024749040603638, 0.02512374520301819, 0.017945531755685806, 0.1399751454591751, 0.03857224062085152, 0.13500285148620605, 0.19928991794586182, 0.11250237375497818, 0.4725099503993988, 0.0064287069253623486, 0.022500474005937576, 0.012857413850724697, 0.9205930829048157, 0.9953687787055969, 0.08404219895601273, 0.06536615639925003, 0.1587463766336441, 0.0028732377104461193, 0.07757741957902908, 0.11133795976638794, 0.04597180336713791, 0.11205627024173737, 0.011492950841784477, 0.18891537189483643, 0.14150695502758026, 0.11580338329076767, 0.8569450378417969, 0.9347692131996155, 0.9191478490829468, 0.07486272603273392, 0.9768890738487244, 0.9740150570869446, 0.298030287027359, 0.6867654323577881, 0.9528644680976868, 0.1059761494398117, 0.15217088162899017, 0.03804272040724754, 0.008152011781930923, 0.692920982837677, 0.018543673679232597, 0.964271068572998, 0.08612169325351715, 0.23267966508865356, 0.2054833471775055, 0.010576348751783371, 0.06496899574995041, 0.004532720893621445, 0.01813088357448578, 0.025685418397188187, 0.040794488042593, 0.28253960609436035, 0.03021813929080963, 0.9906185269355774, 0.9973908066749573, 0.9851239323616028, 0.9857788681983948, 0.07698991149663925, 0.053892940282821655, 0.026946470141410828, 0.09238789230585098, 0.18092629313468933, 0.09238789230585098, 0.00384949566796422, 0.01539798267185688, 0.4503909945487976, 0.3543983995914459, 0.2287004441022873, 0.027932878583669662, 0.06284897774457932, 0.02269546315073967, 0.02269546315073967, 0.05062834173440933, 0.2321920543909073, 0.985323965549469, 0.5636608600616455, 0.13087297976016998, 0.11661949008703232, 0.03369007259607315, 0.05442242696881294, 0.012957721017301083, 0.02461966872215271, 0.011661948636174202, 0.04664779454469681, 0.0025915440637618303, 0.9870923161506653, 0.9787658452987671, 0.9924370050430298, 0.9676727652549744, 0.05107713118195534, 0.9102206826210022, 0.03667076304554939, 0.8190770745277405, 0.09100855886936188, 0.014001317322254181, 0.0700065866112709, 0.6872782111167908, 0.31156614422798157, 0.9755119681358337, 0.23034216463565826, 0.03071228787302971, 0.03455132618546486, 0.6795094013214111, 0.023034216836094856, 0.19728681445121765, 0.7742577195167542, 0.022334355860948563, 0.980724573135376, 0.028067057952284813, 0.9542800188064575, 0.9889416098594666, 0.9908033609390259, 0.9810675382614136, 0.09540902823209763, 0.9027162194252014, 0.1785605251789093, 0.785666286945343, 0.9622578620910645, 0.27271702885627747, 0.17525959014892578, 0.13267314434051514, 0.02620704099535942, 0.04012953117489815, 0.038491591811180115, 0.03767262026667595, 0.04340540990233421, 0.021293221041560173, 0.027844980359077454, 0.007370730396360159, 0.16133709251880646, 0.01310352049767971, 0.9749532341957092, 0.010483368299901485, 0.04798074811697006, 0.9116342663764954, 0.9823111295700073, 0.9798737168312073, 0.9753484725952148, 0.98439621925354, 0.990648090839386, 0.06046152487397194, 0.09673844277858734, 0.012092305347323418, 0.6106613874435425, 0.054415371268987656, 0.13906151056289673, 0.015115381218492985, 0.015115381218492985, 0.9792495965957642, 0.17380006611347198, 0.20145007967948914, 0.15010005235671997, 0.470050185918808, 0.9915393590927124, 0.4291687607765198, 0.25635984539985657, 0.010272656567394733, 0.0027393752243369818, 0.1728089153766632, 0.012783750891685486, 0.037438128143548965, 0.07145203649997711, 0.007076719310134649, 0.0666724368929863, 0.0323837548494339, 0.0742921382188797, 0.0685773566365242, 0.0857217013835907, 0.6267208456993103, 0.02095419354736805, 0.011429560370743275, 0.009524633176624775, 0.9842579960823059, 0.012303224764764309, 0.9904190897941589, 0.9820348024368286, 0.08515473455190659, 0.14597953855991364, 0.18044693768024445, 0.5352583527565002, 0.02027493715286255, 0.03243989869952202, 0.9902349710464478, 0.9942024350166321, 0.9698376655578613, 0.13577203452587128, 0.0918457880616188, 0.19966475665569305, 0.019966475665569305, 0.051912836730480194, 0.49916189908981323, 0.9848684668540955, 0.6914438605308533, 0.2911342680454254, 0.9940648674964905, 0.03254818916320801, 0.9520344734191895, 0.008137047290802002, 0.08665366470813751, 0.07798829674720764, 0.8318751454353333, 0.9808492064476013, 0.07391669601202011, 0.9116392135620117, 0.992459237575531, 0.9945964217185974, 0.03002817928791046, 0.09482582658529282, 0.009482583031058311, 0.0015804304275661707, 0.8139216899871826, 0.048993345350027084, 0.01962774433195591, 0.10795258730649948, 0.07851097732782364, 0.7900166511535645, 0.010675119236111641, 0.8575679063796997, 0.0177918653935194, 0.11030956357717514, 0.9757000803947449, 0.023292575031518936, 0.9927271604537964, 0.9887232780456543, 0.1800088882446289, 0.12217210233211517, 0.49258750677108765, 0.0006498515722341835, 0.0019495547749102116, 0.04224035516381264, 0.0376913920044899, 0.12217210233211517, 0.5129729509353638, 0.1896401345729828, 0.07919837534427643, 0.029790213331580162, 0.0959099531173706, 0.007265905849635601, 0.029063623398542404, 0.008719086647033691, 0.017438173294067383, 0.03051680512726307, 0.253058522939682, 0.07976844906806946, 0.14853434264659882, 0.4208473265171051, 0.09627225995063782, 0.03487889841198921, 0.7748098373413086, 0.10712804645299911, 0.07723184674978256, 0.388958215713501, 0.1685485690832138, 0.05186109617352486, 0.388958215713501, 0.9896547794342041, 0.16977787017822266, 0.7691977024078369, 0.031183691695332527, 0.027718836441636086, 0.9545832872390747, 0.3446623682975769, 0.6505986452102661, 0.29967400431632996, 0.6960170269012451, 0.371547669172287, 0.0653475821018219, 0.12322686612606049, 0.01306951604783535, 0.016803663223981857, 0.3416745066642761, 0.02800610661506653, 0.03734147548675537, 0.9865455627441406, 0.13612447679042816, 0.0035588096361607313, 0.0035588096361607313, 0.3113958537578583, 0.1138819083571434, 0.018683750182390213, 0.17438167333602905, 0.012455834075808525, 0.026691073551774025, 0.20018304884433746, 0.9324349761009216, 0.9789353013038635, 0.9768628478050232, 0.02143586054444313, 0.027003195136785507, 0.08346442133188248, 0.23811909556388855, 0.3068544864654541, 0.3166738450527191, 0.022093523293733597, 0.0016773078823462129, 0.09728385508060455, 0.259982705116272, 0.020127693191170692, 0.008386539295315742, 0.607185423374176, 0.005031923297792673, 0.9968066215515137, 0.9859843254089355, 0.995472252368927, 0.9628990888595581, 0.9972472786903381, 0.007576581556349993, 0.027780799195170403, 0.03030632622539997, 0.012627636082470417, 0.46974804997444153, 0.4470182955265045, 0.12252900004386902, 0.8331971764564514, 0.036758698523044586, 0.1625150889158249, 0.22657212615013123, 0.366548627614975, 0.04685654118657112, 0.0011862415121868253, 0.14709395170211792, 0.0005931207560934126, 0.010676173493266106, 0.001779362210072577, 0.03499412536621094, 0.04557229205965996, 0.21061788499355316, 0.3337862491607666, 0.13425350189208984, 0.2611169219017029, 0.0036950507201254368, 0.011085151694715023, 0.057405926287174225, 0.8610888719558716, 0.06888711452484131, 0.9552822709083557, 0.9847453832626343, 0.18248727917671204, 0.8128978610038757, 0.9589751958847046, 0.9876618385314941, 0.4680432081222534, 0.0994904637336731, 0.11450789868831635, 0.036292120814323425, 0.28095105290412903, 0.9580575823783875, 0.9642923474311829, 0.9557962417602539, 0.9927456378936768, 0.9806545376777649, 0.9818034172058105, 0.03127698600292206, 0.3753238022327423, 0.020851323381066322, 0.13553360104560852, 0.4378777742385864, 0.9699220061302185, 0.9797554612159729, 0.9717059135437012, 0.07348930090665817, 0.11737874895334244, 0.2153644859790802, 0.11839943379163742, 0.47461840510368347, 0.989993155002594, 0.9370455145835876, 0.95596843957901, 0.9750034213066101, 0.9850820899009705, 0.987674355506897, 0.5986604690551758, 0.1766396462917328, 0.12530101835727692, 0.0400267168879509, 0.04698788374662399, 0.013052189722657204, 0.9724146127700806, 0.9532991647720337, 0.2406424880027771, 0.7529780864715576, 0.9900892376899719, 0.008249557577073574, 0.4977232813835144, 0.01924896612763405, 0.13474276661872864, 0.12924306094646454, 0.030248375609517097, 0.0054997047409415245, 0.01924896612763405, 0.1539917290210724, 0.5026517510414124, 0.1592109650373459, 0.05117495357990265, 0.0989382416009903, 0.09438935667276382, 0.03070497140288353, 0.0034116634633392096, 0.059135500341653824, 0.3559609055519104, 0.2050734907388687, 0.2042398601770401, 0.03084438666701317, 0.03501254692673683, 0.000833632075227797, 0.002500896342098713, 0.030010756105184555, 0.13421475887298584, 0.9721213579177856, 0.2343352884054184, 0.6408616900444031, 0.01942005194723606, 0.08544822782278061, 0.011004695668816566, 0.006473350804299116, 0.0012946701608598232, 0.9930270910263062, 0.6247434616088867, 0.2668037712574005, 0.03962431848049164, 0.040945131331682205, 0.014528917148709297, 0.013208107091486454, 0.9885407090187073, 0.052104439586400986, 0.9378799200057983, 0.9823094010353088, 0.9643992781639099, 0.991762101650238, 0.9867526292800903, 0.011238640174269676, 0.9905574917793274, 0.8980638384819031, 0.09841795265674591, 0.060239527374506, 0.930366039276123, 0.2547242045402527, 0.7323321104049683, 0.09510032087564468, 0.7577348351478577, 0.013804885558784008, 0.029143646359443665, 0.004601628519594669, 0.018406514078378677, 0.0812954381108284, 0.06626535952091217, 0.05048789456486702, 0.03471042588353157, 0.19564059376716614, 0.04733240231871605, 0.09782029688358307, 0.3912811875343323, 0.07573184370994568, 0.04102141410112381, 0.9653011560440063, 0.979350209236145, 0.31046539545059204, 0.021008936688303947, 0.018674610182642937, 0.016340283676981926, 0.02567758969962597, 0.4505249559879303, 0.15406553447246552, 0.3729995787143707, 0.03390905261039734, 0.5877569317817688, 0.062222208827733994, 0.05155554413795471, 0.8444442749023438, 0.014222219586372375, 0.026666661724448204, 0.967120885848999, 0.9717970490455627, 0.9593378901481628, 0.14049901068210602, 0.18616117537021637, 0.5760459303855896, 0.04214970022439957, 0.038637228310108185, 0.007024950347840786, 0.9865416288375854, 0.9686464071273804, 0.012237192131578922, 0.1811104416847229, 0.061185963451862335, 0.004894876852631569, 0.11502961069345474, 0.014684630557894707, 0.029369261115789413, 0.012237192131578922, 0.04894876852631569, 0.4674607515335083, 0.022026946768164635, 0.03181669861078262, 0.022959496825933456, 0.040179118514060974, 0.189415842294693, 0.034439243376255035, 0.034439243376255035, 0.005739874206483364, 0.6371260285377502, 0.040179118514060974, 0.28339076042175293, 0.04723179340362549, 0.056678153574466705, 0.2172662615776062, 0.13224902749061584, 0.07557087391614914, 0.1700344681739807, 0.20077064633369446, 0.7930440306663513, 0.9821056127548218, 0.19992023706436157, 0.5513263940811157, 0.02267136611044407, 0.018549300730228424, 0.12211622297763824, 0.026793433353304863, 0.0010305166942998767, 0.03143075853586197, 0.0036068083718419075, 0.021125592291355133, 0.0020610333885997534, 0.03936012461781502, 0.6815516352653503, 0.1491541564464569, 0.10357927531003952, 0.024859026074409485, 0.9613313674926758, 0.9952405691146851, 0.1615065634250641, 0.019380787387490273, 0.555582582950592, 0.12274499237537384, 0.048451971262693405, 0.048451971262693405, 0.038761574774980545, 0.9864888787269592, 0.12070179730653763, 0.08298248797655106, 0.7468423843383789, 0.045263174921274185, 0.939954400062561, 0.2655055820941925, 0.13852465152740479, 0.588729739189148, 0.9312791228294373, 0.010507048107683659, 0.3047043979167938, 0.17336629331111908, 0.02626761980354786, 0.05253523960709572, 0.20488743484020233, 0.23115505278110504, 0.9933659434318542, 0.9725480675697327, 0.3623179793357849, 0.6367205381393433, 0.016888633370399475, 0.40773987770080566, 0.19301295280456543, 0.36431196331977844, 0.016888633370399475, 0.6013252139091492, 0.3216390609741211, 0.008390584029257298, 0.06712467223405838, 0.49120381474494934, 0.49120381474494934, 0.9445327520370483, 0.9906794428825378, 0.6561922430992126, 0.027838459238409996, 0.13919229805469513, 0.17498460412025452, 0.10713707655668259, 0.442728191614151, 0.0005251817055977881, 0.16228115558624268, 0.18591433763504028, 0.09715861827135086, 0.004201453644782305, 0.00915106013417244, 0.9883145093917847, 0.9853973388671875, 0.9516007304191589, 0.053376372903585434, 0.9394241571426392, 0.004457911476492882, 0.9941142201423645, 0.991974413394928, 0.0337689109146595, 0.0506533682346344, 0.8442228436470032, 0.067537821829319, 0.1530737429857254, 0.4302613437175751, 0.04688745364546776, 0.011032341979444027, 0.011032341979444027, 0.31855887174606323, 0.027580855414271355, 0.944086492061615, 0.9462703466415405, 0.9602481126785278, 0.529438316822052, 0.08160515874624252, 0.27666139602661133, 0.10947033762931824, 0.9314097762107849, 0.04049607738852501, 0.9939969182014465, 0.9886061549186707, 0.9817122220993042, 0.9913706183433533, 0.9776989817619324, 0.006651013623923063, 0.013302027247846127, 0.0672609806060791, 0.926706850528717, 0.9985643029212952, 0.9817920923233032, 0.9987698197364807, 0.06970486789941788, 0.272928923368454, 0.07952245324850082, 0.03141627833247185, 0.16395369172096252, 0.04417914152145386, 0.048106174916028976, 0.011781103909015656, 0.18947942554950714, 0.060869038105010986, 0.026507483795285225, 0.07370134443044662, 0.9089832305908203, 0.3463623821735382, 0.1731811910867691, 0.47879505157470703, 0.14399686455726624, 0.006260733585804701, 0.8451990485191345, 0.06573600322008133, 0.083870068192482, 0.12693847715854645, 0.0022667585872113705, 0.7185624837875366, 0.9930688142776489, 0.037399277091026306, 0.16081689298152924, 0.796604573726654, 0.11186999082565308, 0.03670734167098999, 0.005243905819952488, 0.8093094825744629, 0.034959372133016586, 0.07531047612428665, 0.9187878370285034, 0.948090672492981, 0.27220597863197327, 0.09260615706443787, 0.002806246979162097, 0.09260615706443787, 0.535993218421936, 0.3332251310348511, 0.03332251310348511, 0.6264632344245911, 0.06800360977649689, 0.9248491525650024, 0.9804887771606445, 0.9914839267730713, 0.9896550178527832, 0.003343459451571107, 0.016717297956347466, 0.4524815082550049, 0.006686918903142214, 0.026747675612568855, 0.01783178374171257, 0.05795329809188843, 0.015602810308337212, 0.028976649045944214, 0.20172205567359924, 0.09250237792730331, 0.07801405340433121, 0.0011144864838570356, 0.7749332785606384, 0.0919412299990654, 0.04465717077255249, 0.02626892365515232, 0.010507569648325443, 0.04728406295180321, 0.9725719094276428, 0.9738505482673645, 0.968363881111145, 0.988747239112854, 0.22300468385219574, 0.48423874378204346, 0.2899060845375061, 0.9983445405960083, 0.05427030101418495, 0.04800834134221077, 0.22960510849952698, 0.020873192697763443, 0.012523915618658066, 0.31727251410484314, 0.012523915618658066, 0.26717686653137207, 0.035484425723552704, 0.9573763012886047, 0.9829616546630859, 0.9926470518112183, 0.9885733723640442, 0.025238944217562675, 0.9698966145515442, 0.9931471943855286, 0.9893243908882141, 0.9903870820999146, 0.2708946168422699, 0.3836117088794708, 0.09341194480657578, 0.06663385033607483, 0.013700418174266815, 0.10026215016841888, 0.004359223879873753, 0.021796120330691338, 0.00498197041451931, 0.03238280490040779, 0.003736477578058839, 0.0006227463018149137, 0.0018682387890294194, 0.0012454926036298275, 0.991929829120636, 0.28316518664360046, 0.22002698481082916, 0.059311624616384506, 0.028699172660708427, 0.37882909178733826, 0.03061245195567608, 0.9848482012748718, 0.9930545091629028, 0.9637820720672607, 0.08331076055765152, 0.9060045480728149, 0.991176187992096, 0.29658156633377075, 0.6920236349105835, 0.9807823300361633, 0.04543145000934601, 0.11844627559185028, 0.15414240956306458, 0.3812996447086334, 0.09897565841674805, 0.14602965116500854, 0.0146029656752944, 0.011357862502336502, 0.004867655225098133, 0.0146029656752944, 0.009735310450196266, 0.9889266490936279, 0.9678782820701599, 0.9875348806381226, 0.9744211435317993, 0.9378464221954346, 0.05436790734529495, 0.9742392301559448, 0.9482091069221497, 0.046859171241521835, 0.0036752289161086082, 0.04537491872906685, 0.9528732895851135, 0.11057621240615845, 0.859478771686554, 0.02010476589202881, 0.005026191473007202, 0.23599068820476532, 0.6054900288581848, 0.13726948201656342, 0.0009402019204571843, 0.0009402019204571843, 0.017863836139440536, 0.0018804038409143686, 0.9583899974822998, 0.2797912359237671, 0.5843741297721863, 0.08086793124675751, 0.0041319383308291435, 0.016527753323316574, 0.0005902768461965024, 0.023020798340439796, 0.010624983347952366, 0.301247775554657, 0.11436257511377335, 0.09762658923864365, 0.05857595428824425, 0.3681917190551758, 0.0223146490752697, 0.0334719754755497, 0.15679721534252167, 0.21496392786502838, 0.1264493614435196, 0.015173924155533314, 0.01011594943702221, 0.10874645411968231, 0.08345658332109451, 0.28324657678604126, 0.13339395821094513, 0.4178769886493683, 0.10208721458911896, 0.10753186792135239, 0.00136116286739707, 0.050363026559352875, 0.18784047663211823, 0.07568641752004623, 0.09250561892986298, 0.23546884953975677, 0.3237696588039398, 0.23546884953975677, 0.029433606192469597, 0.8598915338516235, 0.13479380309581757, 0.011256195604801178, 0.9747865200042725, 0.012757021002471447, 0.9918796420097351, 0.011553851887583733, 0.18678727746009827, 0.3755002021789551, 0.05199233442544937, 0.05199233442544937, 0.02503334730863571, 0.2946232259273529, 0.9963531494140625, 0.4230773150920868, 0.03173080086708069, 0.13750013709068298, 0.3913465142250061, 0.9711876511573792, 0.9750880002975464, 0.9509230256080627, 0.18871961534023285, 0.46949756145477295, 0.08745542913675308, 0.16110210120677948, 0.09052404016256332, 0.03585102781653404, 0.9321267604827881, 0.7839586138725281, 0.03979485481977463, 0.1074461042881012, 0.033825624734163284, 0.033825624734163284, 0.9677223563194275, 0.1670871376991272, 0.02220778353512287, 0.05287567526102066, 0.039128001779317856, 0.3066789209842682, 0.21150270104408264, 0.11526897549629211, 0.012690162286162376, 0.0052875676192343235, 0.06662335246801376, 0.841387927532196, 0.04061872512102127, 0.08123745024204254, 0.03481605276465416, 0.9333895444869995, 0.03286582976579666, 0.02629266306757927, 0.08859283477067947, 0.00966467335820198, 0.2931617498397827, 0.0032215577084571123, 0.3849761486053467, 0.16429944336414337, 0.011275451630353928, 0.04510180652141571, 0.9819490313529968, 0.24092742800712585, 0.024092743173241615, 0.17668011784553528, 0.5420867204666138, 0.012046371586620808, 0.9813598990440369, 0.9787470102310181, 0.12676656246185303, 0.8643174171447754, 0.9648011326789856, 0.9706189632415771, 0.19150076806545258, 0.4864253103733063, 0.07072851061820984, 0.15013127028942108, 0.03870050609111786, 0.020017502829432487, 0.027357252314686775, 0.0006672500749118626, 0.0006672500749118626, 0.01267775148153305, 0.9885789752006531, 0.012878821231424809, 0.1631317436695099, 0.8199516534805298, 0.038148172199726105, 0.9537043571472168, 0.1507951319217682, 0.054058633744716644, 0.36702966690063477, 0.06543940305709839, 0.33004218339920044, 0.028451913967728615, 0.3120761215686798, 0.043044980615377426, 0.42447134852409363, 0.001195693970657885, 0.03347942978143692, 0.03347942978143692, 0.045436371117830276, 0.045436371117830276, 0.059784699231386185, 0.1148110032081604, 0.7654066681861877, 0.09567583352327347, 0.958572268486023, 0.9930695295333862, 0.34902429580688477, 0.10518540441989899, 0.004781154915690422, 0.5354893207550049, 0.1614939123392105, 0.025197630748152733, 0.5005165934562683, 0.006872081197798252, 0.037796445190906525, 0.002290693810209632, 0.23937749862670898, 0.025197630748152733, 0.17337079346179962, 0.5536680221557617, 0.09347641468048096, 0.04793662577867508, 0.03755035623908043, 0.03195774927735329, 0.009587325155735016, 0.05113239958882332, 0.0015978874871507287, 0.9932858347892761, 0.1460031419992447, 0.775641679763794, 0.07300157099962234, 0.164543017745018, 0.13800382614135742, 0.0636940747499466, 0.631632924079895, 0.1332402378320694, 0.8660615682601929, 0.10088203847408295, 0.4203418493270874, 0.15132306516170502, 0.31945979595184326, 0.9666575789451599, 0.01361489575356245, 0.9876241683959961, 0.08357178419828415, 0.8983966708183289, 0.9894370436668396, 0.07348170876502991, 0.9001508951187134, 0.9668951034545898, 0.12003912031650543, 0.48063281178474426, 0.02286459319293499, 0.060495905578136444, 0.023340938612818718, 0.020959211513400078, 0.11718104034662247, 0.06716474145650864, 0.08717126399278641, 0.9712052941322327, 0.253702849149704, 0.5397335290908813, 0.05481668561697006, 0.07238613814115524, 0.00913611426949501, 0.026002787053585052, 0.016163894906640053, 0.015461116097867489, 0.010541670024394989, 0.0007027779938653111, 0.9793097376823425, 0.8128200173377991, 0.14245299994945526, 0.03351835161447525, 0.15401394665241241, 0.8260747790336609, 0.9650352597236633, 0.9885711669921875, 0.009988461621105671, 0.9514009952545166, 0.038705289363861084, 0.9959979057312012, 0.018276210874319077, 0.735109806060791, 0.17667002975940704, 0.0020306899677962065, 0.06701277196407318, 0.9801387786865234, 0.9925705790519714, 0.2165127843618393, 0.596226155757904, 0.13926450908184052, 0.001088003977201879, 0.002176007954403758, 0.008704031817615032, 0.02720009908080101, 0.008704031817615032, 0.9873865246772766, 0.990117609500885, 0.021597614511847496, 0.1835797131061554, 0.05129433423280716, 0.6101325750350952, 0.0728919506072998, 0.053994033485651016, 0.9881671667098999, 0.017189286649227142, 0.9797893762588501, 0.013626914471387863, 0.020440371707081795, 0.3406728506088257, 0.16352297365665436, 0.04769419878721237, 0.19759026169776917, 0.020440371707081795, 0.1907767951488495, 0.003819213481619954, 0.18103072047233582, 0.7447466254234314, 0.0015276854392141104, 0.007638426963239908, 0.06034357473254204, 0.9459056854248047, 0.397265762090683, 0.5192333459854126, 0.08015011250972748, 0.9759481549263, 0.23657232522964478, 0.659362256526947, 0.03325313702225685, 0.05035475268959999, 0.010450986213982105, 0.008550806902348995, 0.36613819003105164, 0.40572068095207214, 0.0745977982878685, 0.06089616194367409, 0.0175076462328434, 0.06850818544626236, 0.006089616101235151, 0.37589502334594727, 0.5158063173294067, 0.011192903853952885, 0.047880757600069046, 0.0043527958914637566, 0.0012436560355126858, 0.043527960777282715, 0.0006218280177563429, 0.0404079370200634, 0.14674460887908936, 0.06167527288198471, 0.06380200386047363, 0.1212238147854805, 0.14461788535118103, 0.004253467079252005, 0.3424040973186493, 0.04466140270233154, 0.031901001930236816, 0.22886158525943756, 0.6586748361587524, 0.002790994942188263, 0.01814146712422371, 0.005581989884376526, 0.08233435451984406, 0.0013954974710941315, 0.9846853017807007, 0.08450495451688766, 0.2535148561000824, 0.28168317675590515, 0.3661881387233734, 0.12897513806819916, 0.5149521827697754, 0.08060946315526962, 0.03698551654815674, 0.013592967763543129, 0.120756134390831, 0.043623942881822586, 0.012960736639797688, 0.009167350828647614, 0.012960736639797688, 0.0069545418955385685, 0.018018584698438644, 0.9810038208961487, 0.9859371185302734, 0.9785891175270081, 0.020908888429403305, 0.010454444214701653, 0.08015073835849762, 0.06272666901350021, 0.03833296522498131, 0.7178718447685242, 0.06969629973173141, 0.04332762956619263, 0.9532078504562378, 0.21753183007240295, 0.18852758407592773, 0.040283672511577606, 0.1836935579776764, 0.02900424413383007, 0.261038213968277, 0.07412195950746536, 0.004834040999412537, 0.04726778343319893, 0.7405285835266113, 0.06932608038187027, 0.14180335402488708, 0.029479186981916428, 0.7684240937232971, 0.0019652789924293756, 0.09040283411741257, 0.08843755722045898, 0.0019652789924293756, 0.01965279132127762, 0.9957690238952637, 0.969193160533905, 0.06783555448055267, 0.07752635329961777, 0.8527898788452148, 0.9580683708190918, 0.984586238861084, 0.9416604042053223, 0.9760572910308838, 0.9647325873374939, 0.141499325633049, 0.8120831251144409, 0.043065015226602554, 0.9711206555366516, 0.01981879025697708, 0.6866883039474487, 0.14004191756248474, 0.0753328949213028, 0.0009658063063398004, 0.016418706625699997, 0.024145158007740974, 0.0009658063063398004, 0.045392896980047226, 0.00965806283056736, 0.9067349433898926, 0.0911179706454277, 0.9875296950340271, 0.9523835778236389, 0.9970610737800598, 0.9974397420883179, 0.9964742660522461, 0.9403650164604187, 0.8960235118865967, 0.9800136685371399, 0.9712496399879456, 0.006918370258063078, 0.02767348103225231, 0.5811431407928467, 0.10377555340528488, 0.283653199672699, 0.9949449300765991, 0.9636029005050659, 0.06935145705938339, 0.9236353635787964, 0.006304678041487932, 0.9279235601425171, 0.06796059757471085, 0.9672939777374268, 0.961033046245575, 0.1811107099056244, 0.05690636858344078, 0.26721251010894775, 0.16280169785022736, 0.01286578830331564, 0.07076183706521988, 0.01286578830331564, 0.008907084353268147, 0.0034638659562915564, 0.1524101048707962, 0.0009896759875118732, 0.006927731912583113, 0.010886436328291893, 0.037112850695848465, 0.011381274089217186, 0.002474189968779683, 0.0009896759875118732, 0.04063672199845314, 0.14629219472408295, 0.7639703750610352, 0.044700395315885544, 0.7941781282424927, 0.14962776005268097, 0.05563083291053772, 0.40484580397605896, 0.007144337520003319, 0.24767036736011505, 0.33578386902809143, 0.07714419066905975, 0.5735228061676025, 0.07271789014339447, 0.024028519168496132, 0.11065765470266342, 0.011381929740309715, 0.004426306113600731, 0.09737873822450638, 0.01074960082769394, 0.017072895541787148, 0.17280906438827515, 0.11670222133398056, 0.12119077146053314, 0.20647315680980682, 0.36357229948043823, 0.01570991426706314, 0.9891504049301147, 0.9822111129760742, 0.9504995942115784, 0.978255033493042, 0.08098459988832474, 0.906015157699585, 0.0010123074753209949, 0.008098459802567959, 0.0030369223095476627, 0.9889809489250183, 0.9876101016998291, 0.04269563406705856, 0.6212214827537537, 0.002134781563654542, 0.027752161026000977, 0.30527377128601074, 0.9589939713478088, 0.9861264824867249, 0.9495894908905029, 0.9838075637817383, 0.947533130645752, 0.18467319011688232, 0.09618395566940308, 0.16158904135227203, 0.554019570350647, 0.9952251315116882, 0.96214359998703, 0.04303094372153282, 0.25818565487861633, 0.07889006286859512, 0.02151547186076641, 0.5916755199432373, 0.007171824108809233, 0.9761623740196228, 0.9698567986488342, 0.0279898252338171, 0.9516540765762329, 0.8765613436698914, 0.07304678112268448, 0.027392541989684105, 0.01826169528067112, 0.17194850742816925, 0.5078603029251099, 0.2044217586517334, 0.04578195512294769, 0.0031940899789333344, 0.0031940899789333344, 0.04099082201719284, 0.012776359915733337, 0.009582269936800003, 0.9549487829208374, 0.07544339448213577, 0.17522336542606354, 0.5694759488105774, 0.17765702307224274, 0.00855258945375681, 0.9664425849914551, 0.00855258945375681, 0.0035204682499170303, 0.045766085386276245, 0.22883042693138123, 0.08801170438528061, 0.09857311099767685, 0.08801170438528061, 0.4506199359893799, 0.9969756603240967, 0.9966369867324829, 0.4361778795719147, 0.16154736280441284, 0.3877136707305908, 0.2917543947696686, 0.6697089672088623, 0.03315390646457672, 0.2767519950866699, 0.43392908573150635, 0.07370026409626007, 0.09550952166318893, 0.03534604236483574, 0.04399454593658447, 0.00037602175143547356, 0.031585827469825745, 0.00564032606780529, 0.00037602175143547356, 0.0015040870057418942, 0.0015040870057418942, 0.8424510359764099, 0.017551062628626823, 0.13721740245819092, 0.001595551148056984, 0.004908351693302393, 0.06380857527256012, 0.04908351972699165, 0.2208758294582367, 0.2503259479999542, 0.0883503332734108, 0.03435846418142319, 0.2748677134513855, 0.014725055545568466, 0.6025412678718567, 0.11163835972547531, 0.10857977718114853, 0.01376363355666399, 0.09481614083051682, 0.06728887557983398, 0.05741218477487564, 0.059908367693424225, 0.03494654968380928, 0.16225183010101318, 0.09235873073339462, 0.03993891179561615, 0.4343356788158417, 0.029954183846712112, 0.03993891179561615, 0.0474274568259716, 0.9435932636260986, 0.0552230142056942, 0.994674563407898, 0.028132503852248192, 0.9430015087127686, 0.0033759004436433315, 0.024756602942943573, 0.013468149118125439, 0.9854195713996887, 0.6636773347854614, 0.009217740967869759, 0.3226209282875061, 0.9842178225517273, 0.08988256007432938, 0.8988256454467773, 0.9825150966644287, 0.17163826525211334, 0.8260091543197632, 0.9837892651557922, 0.8123777508735657, 0.1783268302679062, 0.9868990778923035, 0.9702533483505249, 0.9849380850791931, 0.18496498465538025, 0.06011361628770828, 0.744484007358551, 0.013872372917830944, 0.49293506145477295, 0.01837025210261345, 0.18676422536373138, 0.24340583384037018, 0.019901106134057045, 0.03367879241704941, 0.004592563025653362, 0.9643455743789673, 0.06998097151517868, 0.203684464097023, 0.30381983518600464, 0.11322125047445297, 0.09160111099481583, 0.03072335384786129, 0.10753174126148224, 0.016499578952789307, 0.028447549790143967, 0.0341370590031147, 0.2856329679489136, 0.3140188753604889, 0.044352948665618896, 0.005322353448718786, 0.0035482358653098345, 0.30160003900527954, 0.01774117909371853, 0.028385886922478676, 0.4642394185066223, 0.06452425569295883, 0.06368627399206161, 0.009217750281095505, 0.17932714521884918, 0.062848299741745, 0.005865841172635555, 0.05446852371096611, 0.04189886525273323, 0.04776470735669136, 0.0041898866184055805, 0.002513931831344962, 0.9537274241447449, 0.3152408003807068, 0.4389585554599762, 0.09313581883907318, 0.05730247125029564, 0.011429603211581707, 0.01776222139596939, 0.008494975045323372, 0.034597717225551605, 0.020233485847711563, 0.0003089082019869238, 0.001390086836181581, 0.0012356328079476953, 0.9454917907714844, 0.9656589031219482, 0.990721583366394, 0.9970585703849792, 0.9831817746162415, 0.9828785061836243, 0.922294020652771, 0.07133765518665314, 0.13580025732517242, 0.3001566529273987, 0.04251690208911896, 0.005711225792765617, 0.10089831799268723, 0.03617109730839729, 0.2582743167877197, 0.001903741853311658, 0.10026373714208603, 0.01776825822889805, 0.0335824154317379, 0.3270927369594574, 0.2511964738368988, 0.11216527223587036, 0.062463294714689255, 0.05373186618089676, 0.07253801822662354, 0.06917978078126907, 0.0013432966079562902, 0.006716483272612095, 0.01007472537457943, 0.9780615568161011], \"Term\": [\"absolute\", \"absolute\", \"accelerators\", \"accept\", \"accept\", \"accept\", \"accept\", \"access\", \"access\", \"access\", \"access\", \"access\", \"access\", \"access\", \"accusing\", \"acids\", \"adam\", \"adam\", \"adam\", \"adam\", \"adapt\", \"adaptec\", \"adapter\", \"administration\", \"administration\", \"administration\", \"advisory\", \"aerospace\", \"afford\", \"afford\", \"african\", \"african\", \"agree\", \"agree\", \"agree\", \"agree\", \"agree\", \"aids\", \"aids\", \"algorithm\", \"algorithm\", \"algorithm\", \"allah\", \"allocated\", \"alomar\", \"also\", \"also\", \"also\", \"also\", \"also\", \"also\", \"also\", \"also\", \"also\", \"also\", \"also\", \"also\", \"also\", \"also\", \"also\", \"amendment\", \"amendment\", \"america\", \"america\", \"america\", \"america\", \"america\", \"american\", \"american\", \"american\", \"american\", \"american\", \"american\", \"americans\", \"americans\", \"americans\", \"americans\", \"americans\", \"ames\", \"amiga\", \"amino\", \"among\", \"among\", \"among\", \"among\", \"among\", \"among\", \"among\", \"among\", \"amps\", \"andrew\", \"andrew\", \"andrew\", \"andrew\", \"andrew\", \"angels\", \"angels\", \"anon\", \"anonymous\", \"anonymous\", \"anonymous\", \"anti\", \"anti\", \"anti\", \"anti\", \"anyone\", \"anyone\", \"anyone\", \"anyone\", \"anyone\", \"anything\", \"anything\", \"anything\", \"anything\", \"anything\", \"anything\", \"anything\", \"apartment\", \"apartment\", \"apologize\", \"apple\", \"apple\", \"apple\", \"application\", \"application\", \"application\", \"application\", \"application\", \"application\", \"april\", \"april\", \"april\", \"april\", \"april\", \"april\", \"arab\", \"arab\", \"arabs\", \"arafat\", \"arena\", \"argc\", \"argic\", \"argument\", \"argument\", \"arguments\", \"arguments\", \"arguments\", \"arguments\", \"argv\", \"armed\", \"armenia\", \"armenian\", \"armenians\", \"arms\", \"arms\", \"arms\", \"army\", \"army\", \"army\", \"army\", \"around\", \"around\", \"around\", \"around\", \"around\", \"around\", \"around\", \"around\", \"around\", \"around\", \"arrogant\", \"asking\", \"asking\", \"asking\", \"asking\", \"asking\", \"assault\", \"assess\", \"astro\", \"astronomical\", \"astronomy\", \"atheism\", \"atheist\", \"atheist\", \"atheists\", \"athens\", \"attacks\", \"attacks\", \"attacks\", \"attacks\", \"attending\", \"audio\", \"audio\", \"audio\", \"austria\", \"auth\", \"authentication\", \"author\", \"author\", \"author\", \"author\", \"author\", \"author\", \"auto\", \"auto\", \"auto\", \"automobile\", \"autos\", \"available\", \"available\", \"available\", \"available\", \"available\", \"available\", \"available\", \"available\", \"average\", \"average\", \"average\", \"average\", \"average\", \"average\", \"azerbaijan\", \"azeri\", \"back\", \"back\", \"back\", \"back\", \"back\", \"back\", \"back\", \"back\", \"back\", \"back\", \"back\", \"back\", \"balloon\", \"baltimore\", \"baltimore\", \"baltimore\", \"banks\", \"banks\", \"banks\", \"base\", \"base\", \"base\", \"base\", \"base\", \"base\", \"base\", \"baseball\", \"bass\", \"batf\", \"batman\", \"beating\", \"beating\", \"beings\", \"belief\", \"beliefs\", \"beliefs\", \"believe\", \"believe\", \"believe\", \"believe\", \"believe\", \"believe\", \"believe\", \"believing\", \"berkeley\", \"berkeley\", \"berkeley\", \"berkeley\", \"berkeley\", \"berkeley\", \"best\", \"best\", \"best\", \"best\", \"best\", \"best\", \"best\", \"best\", \"best\", \"best\", \"bethesda\", \"better\", \"better\", \"better\", \"better\", \"better\", \"better\", \"better\", \"bible\", \"bible\", \"bicycle\", \"bike\", \"bike\", \"bike\", \"bike\", \"bikes\", \"bikes\", \"bill\", \"bill\", \"bill\", \"bill\", \"bill\", \"bill\", \"billion\", \"billion\", \"binaries\", \"bios\", \"bits\", \"bits\", \"bits\", \"blaster\", \"block\", \"block\", \"block\", \"block\", \"block\", \"block\", \"block\", \"board\", \"board\", \"board\", \"board\", \"board\", \"bone\", \"book\", \"book\", \"book\", \"book\", \"book\", \"book\", \"book\", \"boots\", \"born\", \"born\", \"born\", \"boston\", \"boston\", \"boston\", \"bounced\", \"boxes\", \"boxes\", \"boxes\", \"boxes\", \"boxes\", \"brady\", \"brake\", \"brand\", \"brand\", \"brand\", \"brand\", \"braves\", \"breaker\", \"briefing\", \"bronx\", \"bruins\", \"budget\", \"budget\", \"budget\", \"buffers\", \"build\", \"build\", \"build\", \"build\", \"build\", \"build\", \"bush\", \"button\", \"button\", \"button\", \"buyer\", \"buyer\", \"buyer\", \"byte\", \"byte\", \"cabinet\", \"cable\", \"cable\", \"cache\", \"cadre\", \"calgary\", \"california\", \"california\", \"california\", \"california\", \"california\", \"california\", \"called\", \"called\", \"called\", \"called\", \"called\", \"called\", \"called\", \"called\", \"called\", \"called\", \"called\", \"called\", \"came\", \"came\", \"came\", \"came\", \"came\", \"came\", \"came\", \"campbell\", \"campbell\", \"candida\", \"cannot\", \"cannot\", \"cannot\", \"cannot\", \"cannot\", \"cannot\", \"cannot\", \"cape\", \"capitalist\", \"capitol\", \"card\", \"card\", \"card\", \"cars\", \"cars\", \"case\", \"case\", \"case\", \"case\", \"case\", \"case\", \"case\", \"case\", \"case\", \"case\", \"case\", \"case\", \"cases\", \"cases\", \"cases\", \"cases\", \"cases\", \"cases\", \"casualties\", \"casualties\", \"catbyte\", \"catholic\", \"cause\", \"cause\", \"cause\", \"cause\", \"cause\", \"cause\", \"cellular\", \"center\", \"center\", \"center\", \"center\", \"center\", \"center\", \"centers\", \"centers\", \"centris\", \"champaign\", \"channel\", \"channel\", \"channel\", \"channel\", \"char\", \"chastity\", \"cheaper\", \"cheaper\", \"cheaper\", \"check\", \"check\", \"check\", \"check\", \"check\", \"check\", \"check\", \"chicago\", \"chicago\", \"chicago\", \"children\", \"children\", \"children\", \"children\", \"children\", \"children\", \"chip\", \"chips\", \"chips\", \"christ\", \"christian\", \"christian\", \"christian\", \"christianity\", \"christianity\", \"chronic\", \"church\", \"church\", \"cica\", \"cincinnati\", \"cipher\", \"ciphertext\", \"circuit\", \"circuit\", \"circuits\", \"civic\", \"civilians\", \"civilians\", \"claim\", \"claim\", \"claim\", \"cleveland\", \"cleveland\", \"client\", \"clients\", \"clinic\", \"clinton\", \"clinton\", \"clipper\", \"clipper\", \"cluster\", \"clutch\", \"coach\", \"coach\", \"coat\", \"color\", \"color\", \"color\", \"colormap\", \"columbia\", \"columbia\", \"columbia\", \"come\", \"come\", \"come\", \"come\", \"come\", \"come\", \"come\", \"come\", \"comic\", \"comics\", \"common\", \"common\", \"common\", \"common\", \"common\", \"common\", \"common\", \"common\", \"common\", \"compass\", \"computer\", \"computer\", \"computer\", \"computer\", \"computer\", \"computer\", \"computer\", \"computer\", \"conclusion\", \"conclusion\", \"condition\", \"condition\", \"condition\", \"condition\", \"condition\", \"conductor\", \"conference\", \"conference\", \"conference\", \"conference\", \"conference\", \"confidential\", \"congress\", \"congress\", \"congress\", \"connected\", \"connected\", \"connected\", \"connected\", \"connected\", \"connected\", \"connector\", \"connectors\", \"consortium\", \"consortium\", \"constitution\", \"contact\", \"contact\", \"contact\", \"contact\", \"contact\", \"contact\", \"contact\", \"contact\", \"contact\", \"contact\", \"contact\", \"contact\", \"contacts\", \"contacts\", \"contest\", \"contest\", \"context\", \"context\", \"context\", \"context\", \"contrary\", \"contrib\", \"control\", \"control\", \"control\", \"control\", \"control\", \"control\", \"control\", \"control\", \"control\", \"control\", \"control\", \"control\", \"control\", \"controller\", \"controller\", \"cooling\", \"copies\", \"copies\", \"copies\", \"copies\", \"copies\", \"copies\", \"cost\", \"cost\", \"cost\", \"cost\", \"cost\", \"cost\", \"cost\", \"cost\", \"cost\", \"costs\", \"costs\", \"costs\", \"costs\", \"costs\", \"could\", \"could\", \"could\", \"could\", \"could\", \"could\", \"could\", \"could\", \"could\", \"count\", \"count\", \"count\", \"count\", \"count\", \"couples\", \"court\", \"court\", \"court\", \"court\", \"court\", \"court\", \"cover\", \"cover\", \"cover\", \"cover\", \"cover\", \"cover\", \"cover\", \"cover\", \"cpsr\", \"crashes\", \"crashes\", \"creative\", \"creative\", \"creative\", \"crime\", \"crime\", \"crime\", \"criminal\", \"criticism\", \"crowley\", \"crypt\", \"cryptanalysis\", \"crypto\", \"cryptographic\", \"cryptography\", \"cryptology\", \"cryptosystem\", \"ctrl\", \"cubs\", \"cure\", \"current\", \"current\", \"current\", \"current\", \"current\", \"current\", \"current\", \"current\", \"current\", \"current\", \"current\", \"current\", \"current\", \"current\", \"current\", \"cursor\", \"cycles\", \"czech\", \"data\", \"data\", \"data\", \"data\", \"data\", \"data\", \"date\", \"date\", \"date\", \"date\", \"date\", \"date\", \"date\", \"date\", \"dealer\", \"dealer\", \"dealer\", \"dealer\", \"dealership\", \"dealy\", \"dean\", \"dean\", \"dean\", \"death\", \"death\", \"death\", \"deaths\", \"deficit\", \"deficit\", \"define\", \"define\", \"define\", \"define\", \"democrats\", \"department\", \"department\", \"department\", \"department\", \"department\", \"department\", \"depression\", \"designated\", \"desktop\", \"desperate\", \"detector\", \"detectors\", \"detroit\", \"device\", \"device\", \"device\", \"devices\", \"devices\", \"devices\", \"devices\", \"devices\", \"devils\", \"dialog\", \"died\", \"died\", \"died\", \"diet\", \"diffie\", \"digit\", \"directory\", \"directory\", \"directory\", \"disagree\", \"disagree\", \"disagree\", \"disclosure\", \"disease\", \"disease\", \"diseases\", \"diseases\", \"disk\", \"disk\", \"disorder\", \"display\", \"display\", \"displays\", \"division\", \"division\", \"division\", \"division\", \"division\", \"doctor\", \"doctor\", \"dodgers\", \"dole\", \"dollar\", \"doses\", \"doug\", \"doug\", \"dram\", \"dreams\", \"drive\", \"drive\", \"drive\", \"drive\", \"drive\", \"drives\", \"drug\", \"drug\", \"drug\", \"drug\", \"drug\", \"drugs\", \"drugs\", \"drugs\", \"drugs\", \"drugs\", \"dtmedin\", \"earth\", \"earth\", \"earth\", \"earth\", \"east\", \"east\", \"east\", \"east\", \"east\", \"east\", \"east\", \"east\", \"east\", \"east\", \"east\", \"easter\", \"echl\", \"echo\", \"echo\", \"economic\", \"economic\", \"economic\", \"economic\", \"economic\", \"economy\", \"economy\", \"editorial\", \"educational\", \"educational\", \"electric\", \"electrical\", \"electrical\", \"electricity\", \"electronically\", \"email\", \"email\", \"email\", \"email\", \"email\", \"encrypted\", \"encrypted\", \"encryption\", \"encryption\", \"enforcement\", \"enforcement\", \"enforcement\", \"enforcement\", \"enforcement\", \"engine\", \"engines\", \"enhancement\", \"entries\", \"entries\", \"entropy\", \"entry\", \"entry\", \"equipment\", \"equipment\", \"equipment\", \"equipment\", \"equipment\", \"escrow\", \"escrow\", \"esdi\", \"espn\", \"estimates\", \"eternal\", \"eternal\", \"evans\", \"even\", \"even\", \"even\", \"even\", \"even\", \"even\", \"even\", \"even\", \"even\", \"evidence\", \"evidence\", \"evidence\", \"evidence\", \"example\", \"example\", \"example\", \"example\", \"example\", \"example\", \"example\", \"example\", \"example\", \"example\", \"excellent\", \"excellent\", \"excellent\", \"excellent\", \"excellent\", \"excellent\", \"exhaust\", \"exist\", \"exist\", \"exist\", \"exist\", \"existence\", \"existence\", \"exit\", \"exit\", \"expansion\", \"expansion\", \"expansion\", \"expansion\", \"expansion\", \"expensive\", \"expensive\", \"expensive\", \"expensive\", \"exploration\", \"export\", \"export\", \"export\", \"expos\", \"external\", \"external\", \"external\", \"external\", \"extra\", \"extra\", \"extra\", \"extra\", \"extra\", \"extra\", \"extra\", \"fact\", \"fact\", \"fact\", \"fact\", \"fact\", \"fact\", \"fact\", \"fact\", \"fact\", \"faith\", \"faith\", \"fallacy\", \"fame\", \"fans\", \"fans\", \"fans\", \"fans\", \"father\", \"federal\", \"federal\", \"federal\", \"federal\", \"fever\", \"file\", \"file\", \"file\", \"file\", \"filename\", \"files\", \"files\", \"files\", \"files\", \"finals\", \"financial\", \"find\", \"find\", \"find\", \"find\", \"find\", \"find\", \"find\", \"find\", \"find\", \"finnish\", \"firearm\", \"firearms\", \"first\", \"first\", \"first\", \"first\", \"first\", \"first\", \"first\", \"first\", \"first\", \"first\", \"first\", \"first\", \"first\", \"first\", \"first\", \"flash\", \"flavor\", \"flaws\", \"flexible\", \"flexible\", \"flight\", \"flight\", \"flight\", \"flight\", \"flood\", \"floppy\", \"floppy\", \"floppy\", \"flyers\", \"folks\", \"folks\", \"folks\", \"folks\", \"folks\", \"font\", \"fonts\", \"food\", \"food\", \"food\", \"food\", \"food\", \"food\", \"food\", \"foods\", \"ford\", \"forgot\", \"format\", \"format\", \"formats\", \"forsale\", \"forwards\", \"foundation\", \"foundation\", \"foundation\", \"foundation\", \"foundation\", \"france\", \"france\", \"francis\", \"francisco\", \"francisco\", \"francisco\", \"francisco\", \"francisco\", \"freeware\", \"friday\", \"friday\", \"friday\", \"friday\", \"friday\", \"front\", \"front\", \"front\", \"front\", \"front\", \"frontier\", \"fund\", \"funds\", \"funds\", \"gainey\", \"game\", \"game\", \"game\", \"games\", \"games\", \"gangs\", \"gates\", \"gateway\", \"gauge\", \"gear\", \"gene\", \"gene\", \"gene\", \"general\", \"general\", \"general\", \"general\", \"general\", \"general\", \"general\", \"general\", \"general\", \"general\", \"general\", \"genetic\", \"genetic\", \"genocide\", \"george\", \"george\", \"george\", \"george\", \"george\", \"getting\", \"getting\", \"getting\", \"getting\", \"getting\", \"ghost\", \"ghost\", \"glutamate\", \"goal\", \"goal\", \"goal\", \"goal\", \"goal\", \"goal\", \"gods\", \"going\", \"going\", \"going\", \"going\", \"going\", \"going\", \"going\", \"going\", \"gone\", \"gone\", \"gone\", \"gone\", \"gone\", \"good\", \"good\", \"good\", \"good\", \"good\", \"good\", \"good\", \"good\", \"gordon\", \"gospel\", \"government\", \"government\", \"government\", \"government\", \"government\", \"graphics\", \"grass\", \"grayscale\", \"greece\", \"greek\", \"greek\", \"grenades\", \"ground\", \"ground\", \"ground\", \"ground\", \"ground\", \"ground\", \"ground\", \"grounded\", \"guess\", \"guess\", \"guess\", \"guess\", \"guess\", \"guidelines\", \"guidelines\", \"guns\", \"guns\", \"guys\", \"habs\", \"habs\", \"habs\", \"hall\", \"hall\", \"hall\", \"hall\", \"hall\", \"hang\", \"hard\", \"hard\", \"hard\", \"hard\", \"hard\", \"hard\", \"hard\", \"hard\", \"hard\", \"hard\", \"harddisk\", \"hardware\", \"hardware\", \"hardware\", \"hardware\", \"harley\", \"harry\", \"hartford\", \"hash\", \"hash\", \"hawk\", \"hawks\", \"hawks\", \"health\", \"health\", \"health\", \"hear\", \"hear\", \"hear\", \"hear\", \"hear\", \"hear\", \"heard\", \"heard\", \"heard\", \"heard\", \"heard\", \"heard\", \"heaven\", \"heaven\", \"hell\", \"hell\", \"hell\", \"hell\", \"hellman\", \"helmet\", \"helmet\", \"help\", \"help\", \"help\", \"help\", \"help\", \"help\", \"help\", \"help\", \"hemisphere\", \"henrik\", \"hicnet\", \"high\", \"high\", \"high\", \"high\", \"high\", \"high\", \"high\", \"high\", \"high\", \"high\", \"high\", \"high\", \"high\", \"high\", \"hitter\", \"hockey\", \"hockey\", \"holy\", \"homeland\", \"homers\", \"homicide\", \"homicide\", \"homosexual\", \"homosexuality\", \"honda\", \"hong\", \"hospitals\", \"house\", \"house\", \"house\", \"house\", \"house\", \"house\", \"house\", \"house\", \"however\", \"however\", \"however\", \"however\", \"however\", \"however\", \"however\", \"however\", \"however\", \"however\", \"hulk\", \"human\", \"human\", \"human\", \"human\", \"human\", \"human\", \"hypotheses\", \"icons\", \"idaho\", \"idiot\", \"ieee\", \"illness\", \"illness\", \"illnesses\", \"image\", \"image\", \"image\", \"image\", \"immune\", \"implies\", \"imply\", \"include\", \"include\", \"include\", \"include\", \"include\", \"include\", \"include\", \"include\", \"included\", \"included\", \"included\", \"included\", \"included\", \"included\", \"included\", \"included\", \"included\", \"included\", \"included\", \"income\", \"infections\", \"infections\", \"info\", \"info\", \"info\", \"info\", \"info\", \"info\", \"info\", \"information\", \"information\", \"information\", \"information\", \"information\", \"information\", \"information\", \"information\", \"information\", \"information\", \"information\", \"information\", \"information\", \"ingr\", \"inherent\", \"init\", \"input\", \"input\", \"input\", \"input\", \"institute\", \"institute\", \"institute\", \"insurance\", \"intake\", \"integration\", \"intellect\", \"intentional\", \"interested\", \"interested\", \"interested\", \"interested\", \"interested\", \"interested\", \"interested\", \"interface\", \"interface\", \"interleave\", \"international\", \"international\", \"international\", \"international\", \"international\", \"internet\", \"internet\", \"internet\", \"internet\", \"internet\", \"interpret\", \"intrinsics\", \"invading\", \"investment\", \"investment\", \"iran\", \"islam\", \"islam\", \"islanders\", \"isles\", \"israel\", \"israeli\", \"israeli\", \"israelis\", \"jersey\", \"jerusalem\", \"jerusalem\", \"jesus\", \"jewish\", \"jewish\", \"jewish\", \"jews\", \"jews\", \"jews\", \"jews\", \"jobs\", \"john\", \"john\", \"john\", \"john\", \"john\", \"john\", \"john\", \"john\", \"john\", \"john\", \"john\", \"journal\", \"journal\", \"journal\", \"journal\", \"journal\", \"joystick\", \"jpeg\", \"judas\", \"jumper\", \"june\", \"june\", \"june\", \"june\", \"june\", \"june\", \"june\", \"karabakh\", \"karina\", \"karl\", \"karl\", \"kent\", \"kent\", \"keyboard\", \"keyboard\", \"keys\", \"keys\", \"keys\", \"keys\", \"kidney\", \"killed\", \"killed\", \"killed\", \"kings\", \"kings\", \"kirlian\", \"know\", \"know\", \"know\", \"know\", \"know\", \"know\", \"know\", \"know\", \"know\", \"lamps\", \"land\", \"land\", \"land\", \"land\", \"land\", \"lane\", \"laptop\", \"large\", \"large\", \"large\", \"large\", \"large\", \"large\", \"large\", \"large\", \"large\", \"large\", \"last\", \"last\", \"last\", \"last\", \"last\", \"last\", \"last\", \"last\", \"last\", \"last\", \"last\", \"last\", \"last\", \"lasted\", \"lately\", \"later\", \"later\", \"later\", \"later\", \"later\", \"later\", \"later\", \"later\", \"launch\", \"launched\", \"launched\", \"launches\", \"leafs\", \"league\", \"league\", \"league\", \"leather\", \"lebanese\", \"lebanon\", \"lemieux\", \"lemon\", \"lens\", \"lenses\", \"less\", \"less\", \"less\", \"less\", \"less\", \"less\", \"less\", \"less\", \"level\", \"level\", \"level\", \"level\", \"level\", \"level\", \"level\", \"level\", \"level\", \"levels\", \"levels\", \"levels\", \"levels\", \"liar\", \"life\", \"life\", \"life\", \"life\", \"life\", \"life\", \"like\", \"like\", \"like\", \"like\", \"like\", \"like\", \"like\", \"like\", \"like\", \"like\", \"lindros\", \"line\", \"line\", \"line\", \"line\", \"line\", \"line\", \"line\", \"line\", \"line\", \"lineup\", \"list\", \"list\", \"list\", \"list\", \"list\", \"list\", \"list\", \"list\", \"list\", \"list\", \"list\", \"list\", \"list\", \"listening\", \"little\", \"little\", \"little\", \"little\", \"little\", \"little\", \"little\", \"little\", \"little\", \"liturgy\", \"loan\", \"lock\", \"lock\", \"lock\", \"locks\", \"locks\", \"looked\", \"looked\", \"looked\", \"looked\", \"looking\", \"looking\", \"looking\", \"looking\", \"looking\", \"looking\", \"looking\", \"looking\", \"lord\", \"losses\", \"loud\", \"louis\", \"louis\", \"louis\", \"louis\", \"love\", \"love\", \"love\", \"love\", \"love\", \"lucky\", \"luke\", \"lunar\", \"lyme\", \"lyuda\", \"macintosh\", \"macs\", \"mail\", \"mail\", \"mail\", \"mail\", \"mail\", \"mail\", \"mail\", \"mailing\", \"mailing\", \"mailing\", \"mailing\", \"maine\", \"make\", \"make\", \"make\", \"make\", \"make\", \"make\", \"make\", \"make\", \"make\", \"make\", \"make\", \"males\", \"mamma\", \"managing\", \"managing\", \"manuals\", \"manuals\", \"manuals\", \"many\", \"many\", \"many\", \"many\", \"many\", \"many\", \"many\", \"many\", \"many\", \"many\", \"many\", \"many\", \"marijuana\", \"market\", \"market\", \"market\", \"market\", \"market\", \"market\", \"market\", \"marlins\", \"marriage\", \"married\", \"mars\", \"maryland\", \"maryland\", \"mask\", \"mask\", \"mask\", \"massacre\", \"master\", \"master\", \"master\", \"master\", \"matthew\", \"maybe\", \"maybe\", \"maybe\", \"maybe\", \"maybe\", \"maybe\", \"mean\", \"mean\", \"mean\", \"mean\", \"mean\", \"mean\", \"mean\", \"medical\", \"medical\", \"medical\", \"medical\", \"medicine\", \"medicine\", \"memory\", \"memory\", \"memory\", \"memory\", \"memory\", \"memory\", \"menu\", \"merely\", \"merely\", \"message\", \"message\", \"message\", \"message\", \"message\", \"messages\", \"messages\", \"messages\", \"messages\", \"messiah\", \"meter\", \"microsoft\", \"might\", \"might\", \"might\", \"might\", \"might\", \"might\", \"might\", \"might\", \"might\", \"mileage\", \"miles\", \"miles\", \"miles\", \"military\", \"military\", \"military\", \"military\", \"military\", \"militia\", \"mime\", \"minnesota\", \"mint\", \"mission\", \"mission\", \"mission\", \"missions\", \"mobile\", \"modem\", \"modem\", \"modems\", \"money\", \"money\", \"money\", \"money\", \"money\", \"monitor\", \"monitor\", \"montreal\", \"moon\", \"moon\", \"moral\", \"moral\", \"morality\", \"mother\", \"mother\", \"mother\", \"mother\", \"motherboard\", \"motif\", \"moto\", \"motor\", \"motor\", \"motorcycle\", \"motorcycle\", \"motorcycle\", \"motorcycles\", \"motorcycles\", \"motorola\", \"mounting\", \"mouse\", \"much\", \"much\", \"much\", \"much\", \"much\", \"much\", \"much\", \"muscles\", \"muslim\", \"muslim\", \"must\", \"must\", \"must\", \"must\", \"must\", \"must\", \"must\", \"must\", \"must\", \"must\", \"must\", \"must\", \"must\", \"must\", \"myers\", \"mystical\", \"nail\", \"name\", \"name\", \"name\", \"name\", \"name\", \"name\", \"name\", \"name\", \"name\", \"nasa\", \"nasa\", \"national\", \"national\", \"national\", \"national\", \"national\", \"national\", \"naval\", \"naval\", \"navy\", \"navy\", \"navy\", \"nazi\", \"nazis\", \"ncsl\", \"neck\", \"need\", \"need\", \"need\", \"need\", \"need\", \"need\", \"need\", \"need\", \"need\", \"need\", \"netcom\", \"netcom\", \"netcom\", \"netcom\", \"networking\", \"networks\", \"networks\", \"neutral\", \"neutral\", \"neutral\", \"neutral\", \"neutral\", \"never\", \"never\", \"never\", \"never\", \"never\", \"never\", \"never\", \"never\", \"news\", \"news\", \"news\", \"news\", \"news\", \"news\", \"news\", \"news\", \"news\", \"newsgroups\", \"newsgroups\", \"newsgroups\", \"newsletter\", \"ninja\", \"nintendo\", \"nissan\", \"nist\", \"nixon\", \"nolan\", \"none\", \"none\", \"none\", \"none\", \"none\", \"none\", \"none\", \"none\", \"none\", \"none\", \"none\", \"none\", \"normal\", \"normal\", \"normal\", \"normal\", \"normal\", \"normal\", \"normal\", \"normal\", \"notify\", \"null\", \"number\", \"number\", \"number\", \"number\", \"number\", \"number\", \"number\", \"number\", \"number\", \"number\", \"number\", \"obfuscate\", \"obfuscate\", \"obfuscation\", \"objective\", \"objective\", \"objectives\", \"observatory\", \"occupied\", \"occupied\", \"occupying\", \"offer\", \"offer\", \"offer\", \"offer\", \"offer\", \"offset\", \"offset\", \"open\", \"open\", \"open\", \"open\", \"open\", \"open\", \"open\", \"open\", \"open\", \"open\", \"open\", \"openwindows\", \"orbit\", \"orbital\", \"orbiter\", \"organization\", \"organization\", \"organization\", \"organization\", \"organization\", \"organization\", \"organization\", \"organization\", \"organization\", \"original\", \"original\", \"original\", \"original\", \"original\", \"original\", \"original\", \"original\", \"orthodox\", \"others\", \"others\", \"others\", \"others\", \"others\", \"others\", \"others\", \"others\", \"others\", \"others\", \"ottoman\", \"outlet\", \"outlets\", \"outline\", \"output\", \"output\", \"output\", \"owners\", \"owners\", \"owners\", \"owners\", \"package\", \"package\", \"packard\", \"page\", \"page\", \"page\", \"page\", \"page\", \"pain\", \"pain\", \"pain\", \"pairs\", \"palestine\", \"palestine\", \"palestinian\", \"palestinians\", \"panasonic\", \"panel\", \"panel\", \"panels\", \"panels\", \"paranoia\", \"part\", \"part\", \"part\", \"part\", \"part\", \"part\", \"part\", \"part\", \"part\", \"part\", \"part\", \"part\", \"part\", \"passage\", \"passage\", \"passive\", \"passive\", \"patent\", \"patented\", \"patents\", \"patient\", \"patients\", \"paul\", \"paul\", \"paul\", \"paul\", \"paul\", \"paul\", \"paul\", \"paul\", \"payload\", \"peace\", \"peace\", \"peace\", \"peace\", \"pens\", \"people\", \"people\", \"people\", \"people\", \"people\", \"people\", \"people\", \"people\", \"people\", \"period\", \"period\", \"period\", \"period\", \"period\", \"period\", \"period\", \"period\", \"period\", \"philadelphia\", \"philadelphia\", \"phillies\", \"philosophy\", \"phone\", \"phone\", \"phone\", \"phone\", \"phone\", \"phone\", \"phones\", \"phrase\", \"physicians\", \"picture\", \"picture\", \"picture\", \"picture\", \"picture\", \"picture\", \"pins\", \"pitcher\", \"pitcher\", \"pitching\", \"pitt\", \"pitt\", \"pitt\", \"pittsburgh\", \"pittsburgh\", \"pittsburgh\", \"pixmap\", \"plaintext\", \"plaintext\", \"planetary\", \"plastic\", \"play\", \"play\", \"play\", \"play\", \"play\", \"play\", \"played\", \"played\", \"played\", \"played\", \"player\", \"player\", \"player\", \"player\", \"players\", \"players\", \"playoff\", \"playoffs\", \"please\", \"please\", \"please\", \"please\", \"please\", \"please\", \"please\", \"please\", \"point\", \"point\", \"point\", \"point\", \"point\", \"point\", \"point\", \"point\", \"point\", \"point\", \"points\", \"points\", \"points\", \"points\", \"points\", \"police\", \"police\", \"police\", \"police\", \"pool\", \"pool\", \"pool\", \"pool\", \"pope\", \"population\", \"population\", \"population\", \"population\", \"popup\", \"port\", \"port\", \"ports\", \"ports\", \"posting\", \"posting\", \"posting\", \"posting\", \"posting\", \"posting\", \"posting\", \"posting\", \"pounds\", \"power\", \"power\", \"power\", \"power\", \"power\", \"power\", \"power\", \"power\", \"power\", \"power\", \"praying\", \"presentations\", \"president\", \"president\", \"press\", \"press\", \"press\", \"press\", \"press\", \"press\", \"price\", \"price\", \"price\", \"price\", \"price\", \"price\", \"price\", \"printer\", \"printers\", \"printf\", \"prisoners\", \"privacy\", \"private\", \"private\", \"private\", \"private\", \"private\", \"private\", \"probe\", \"probe\", \"probe\", \"problem\", \"problem\", \"problem\", \"problem\", \"problem\", \"problem\", \"problem\", \"problem\", \"problem\", \"problem\", \"problems\", \"problems\", \"problems\", \"problems\", \"problems\", \"problems\", \"problems\", \"proceedings\", \"proceedings\", \"proceedings\", \"processors\", \"prof\", \"professor\", \"professor\", \"profile\", \"prog\", \"program\", \"program\", \"program\", \"program\", \"program\", \"programmed\", \"programmers\", \"projector\", \"prophecy\", \"prophet\", \"propulsion\", \"protected\", \"protected\", \"protected\", \"protected\", \"protected\", \"protestant\", \"providers\", \"psychological\", \"public\", \"public\", \"public\", \"public\", \"public\", \"puck\", \"punisher\", \"pyramid\", \"quack\", \"quadra\", \"quebec\", \"question\", \"question\", \"question\", \"question\", \"question\", \"question\", \"quicktime\", \"quran\", \"radar\", \"radar\", \"rangers\", \"rate\", \"rate\", \"rate\", \"rate\", \"rate\", \"rate\", \"rate\", \"rate\", \"rate\", \"rather\", \"rather\", \"rather\", \"rather\", \"rather\", \"rather\", \"rather\", \"rather\", \"read\", \"read\", \"read\", \"read\", \"read\", \"read\", \"read\", \"read\", \"read\", \"reagan\", \"really\", \"really\", \"really\", \"really\", \"really\", \"really\", \"really\", \"rear\", \"reason\", \"reason\", \"reason\", \"reason\", \"reason\", \"reason\", \"reasoning\", \"reform\", \"reform\", \"regional\", \"reich\", \"reject\", \"religion\", \"religion\", \"religions\", \"religious\", \"religious\", \"remark\", \"remark\", \"remarks\", \"remarks\", \"remember\", \"remember\", \"remember\", \"remember\", \"remember\", \"remember\", \"remember\", \"report\", \"report\", \"report\", \"report\", \"report\", \"report\", \"report\", \"report\", \"report\", \"republican\", \"republicans\", \"request\", \"request\", \"request\", \"request\", \"request\", \"request\", \"request\", \"requests\", \"requests\", \"requests\", \"research\", \"research\", \"research\", \"research\", \"research\", \"resistor\", \"resolutions\", \"restraint\", \"results\", \"results\", \"results\", \"results\", \"results\", \"results\", \"resurrection\", \"retail\", \"return\", \"return\", \"return\", \"return\", \"return\", \"return\", \"return\", \"return\", \"return\", \"return\", \"return\", \"return\", \"review\", \"review\", \"review\", \"review\", \"review\", \"review\", \"review\", \"review\", \"richard\", \"richard\", \"richard\", \"richard\", \"richard\", \"richard\", \"richard\", \"rider\", \"rider\", \"riders\", \"right\", \"right\", \"right\", \"right\", \"right\", \"right\", \"right\", \"right\", \"right\", \"right\", \"right\", \"rights\", \"rights\", \"rights\", \"rights\", \"rights\", \"riley\", \"ripem\", \"road\", \"road\", \"road\", \"road\", \"road\", \"road\", \"road\", \"rockefeller\", \"rocket\", \"rocket\", \"rocket\", \"rocket\", \"rockies\", \"roger\", \"roger\", \"roger\", \"ross\", \"round\", \"round\", \"round\", \"round\", \"round\", \"round\", \"round\", \"routines\", \"rows\", \"rules\", \"rules\", \"runs\", \"runs\", \"runs\", \"runs\", \"runs\", \"russian\", \"russian\", \"russian\", \"russian\", \"ryan\", \"ryan\", \"saab\", \"sabbath\", \"safety\", \"safety\", \"safety\", \"safety\", \"said\", \"said\", \"said\", \"said\", \"said\", \"said\", \"said\", \"sale\", \"sale\", \"salvation\", \"sandberg\", \"satan\", \"satan\", \"satellite\", \"satellite\", \"satellites\", \"saved\", \"saved\", \"saved\", \"saved\", \"says\", \"says\", \"says\", \"says\", \"says\", \"says\", \"says\", \"scanned\", \"schism\", \"scholarly\", \"science\", \"science\", \"science\", \"science\", \"sciences\", \"sciences\", \"scored\", \"scorer\", \"scores\", \"scoring\", \"screen\", \"screen\", \"screen\", \"scripture\", \"scripture\", \"scsi\", \"seal\", \"season\", \"second\", \"second\", \"second\", \"second\", \"second\", \"second\", \"second\", \"second\", \"second\", \"second\", \"second\", \"secrecy\", \"secrecy\", \"secret\", \"secret\", \"secret\", \"secretary\", \"secretary\", \"secretary\", \"section\", \"section\", \"section\", \"section\", \"section\", \"secular\", \"secure\", \"secure\", \"secure\", \"security\", \"security\", \"security\", \"security\", \"security\", \"seemed\", \"seemed\", \"sega\", \"sell\", \"sell\", \"sell\", \"sell\", \"sell\", \"selling\", \"selling\", \"selling\", \"sells\", \"sells\", \"seminar\", \"senate\", \"senator\", \"send\", \"send\", \"send\", \"send\", \"send\", \"send\", \"send\", \"send\", \"send\", \"send\", \"send\", \"send\", \"send\", \"sense\", \"sense\", \"sense\", \"sense\", \"sense\", \"sense\", \"sensing\", \"separated\", \"sequences\", \"serdar\", \"serial\", \"serial\", \"serial\", \"server\", \"service\", \"service\", \"service\", \"service\", \"service\", \"service\", \"service\", \"service\", \"service\", \"shade\", \"shameful\", \"shareware\", \"sharks\", \"shipping\", \"shipping\", \"shuttle\", \"simm\", \"simms\", \"since\", \"since\", \"since\", \"since\", \"since\", \"since\", \"since\", \"since\", \"since\", \"since\", \"since\", \"since\", \"since\", \"since\", \"sins\", \"size\", \"size\", \"size\", \"size\", \"size\", \"size\", \"sizes\", \"skepticism\", \"skipjack\", \"slave\", \"slave\", \"sleeve\", \"slot\", \"slot\", \"slots\", \"small\", \"small\", \"small\", \"small\", \"small\", \"small\", \"small\", \"small\", \"small\", \"small\", \"small\", \"smokeless\", \"smokers\", \"smoking\", \"smtp\", \"snow\", \"snow\", \"sockets\", \"software\", \"software\", \"software\", \"solar\", \"solar\", \"somebody\", \"somebody\", \"somebody\", \"somebody\", \"someone\", \"someone\", \"someone\", \"someone\", \"someone\", \"someone\", \"someone\", \"someplace\", \"something\", \"something\", \"something\", \"something\", \"something\", \"something\", \"something\", \"something\", \"sometimes\", \"sometimes\", \"sometimes\", \"sometimes\", \"sometimes\", \"sometimes\", \"sometimes\", \"sound\", \"sound\", \"sound\", \"sound\", \"sound\", \"sound\", \"sound\", \"sound\", \"source\", \"source\", \"source\", \"source\", \"source\", \"source\", \"source\", \"south\", \"south\", \"south\", \"south\", \"south\", \"south\", \"soviet\", \"soviet\", \"space\", \"space\", \"space\", \"spacecraft\", \"speed\", \"speed\", \"speed\", \"speed\", \"speed\", \"speed\", \"speed\", \"spirit\", \"sports\", \"sports\", \"sports\", \"sports\", \"spots\", \"stadium\", \"stalin\", \"standard\", \"standard\", \"standard\", \"standard\", \"standard\", \"stanley\", \"stanley\", \"started\", \"started\", \"started\", \"started\", \"started\", \"starters\", \"state\", \"state\", \"state\", \"state\", \"state\", \"state\", \"state\", \"state\", \"state\", \"state\", \"statement\", \"statement\", \"statement\", \"statement\", \"statements\", \"statements\", \"statements\", \"states\", \"states\", \"states\", \"states\", \"states\", \"states\", \"states\", \"states\", \"static\", \"station\", \"station\", \"station\", \"station\", \"station\", \"steal\", \"steam\", \"stereo\", \"stereo\", \"stewart\", \"sticking\", \"still\", \"still\", \"still\", \"still\", \"still\", \"still\", \"still\", \"still\", \"still\", \"still\", \"stimulus\", \"stream\", \"stream\", \"stream\", \"string\", \"string\", \"study\", \"study\", \"study\", \"study\", \"study\", \"study\", \"subject\", \"subject\", \"subject\", \"subject\", \"subject\", \"subject\", \"subject\", \"subject\", \"subject\", \"subjective\", \"subjective\", \"subjective\", \"suck\", \"sumgait\", \"supply\", \"supply\", \"supply\", \"supply\", \"support\", \"support\", \"support\", \"support\", \"support\", \"support\", \"support\", \"support\", \"sure\", \"sure\", \"sure\", \"sure\", \"sure\", \"sure\", \"sure\", \"sure\", \"sure\", \"surprise\", \"surrender\", \"surrender\", \"surrender\", \"switch\", \"switch\", \"switch\", \"switch\", \"switches\", \"switches\", \"switzerland\", \"switzerland\", \"switzerland\", \"switzerland\", \"symbol\", \"symbol\", \"symptoms\", \"sync\", \"sync\", \"syndrome\", \"syria\", \"syria\", \"syrian\", \"system\", \"system\", \"system\", \"system\", \"system\", \"system\", \"system\", \"system\", \"system\", \"tail\", \"take\", \"take\", \"take\", \"take\", \"take\", \"take\", \"take\", \"take\", \"take\", \"take\", \"tampa\", \"tank\", \"tank\", \"tank\", \"tapes\", \"tapes\", \"targa\", \"taxes\", \"team\", \"team\", \"team\", \"teams\", \"technology\", \"technology\", \"technology\", \"technology\", \"technology\", \"telecommunications\", \"telescope\", \"tell\", \"tell\", \"tell\", \"tell\", \"tell\", \"tell\", \"tell\", \"tell\", \"temple\", \"terminals\", \"test\", \"test\", \"test\", \"test\", \"test\", \"test\", \"testament\", \"tests\", \"tests\", \"texas\", \"texas\", \"texas\", \"texas\", \"texas\", \"texas\", \"texas\", \"texas\", \"thanks\", \"thanks\", \"thanks\", \"thanks\", \"thanks\", \"thanks\", \"theist\", \"theory\", \"theory\", \"theory\", \"therapy\", \"thing\", \"thing\", \"thing\", \"thing\", \"thing\", \"thing\", \"things\", \"things\", \"things\", \"things\", \"things\", \"things\", \"things\", \"think\", \"think\", \"think\", \"think\", \"think\", \"think\", \"think\", \"think\", \"third\", \"third\", \"third\", \"third\", \"third\", \"third\", \"third\", \"third\", \"third\", \"third\", \"thought\", \"thought\", \"thought\", \"thought\", \"thought\", \"thought\", \"thought\", \"throwing\", \"thursday\", \"thursday\", \"thursday\", \"thursday\", \"time\", \"time\", \"time\", \"time\", \"time\", \"time\", \"time\", \"time\", \"time\", \"time\", \"time\", \"time\", \"tire\", \"tires\", \"titan\", \"title\", \"title\", \"title\", \"title\", \"title\", \"title\", \"title\", \"tobacco\", \"tobacco\", \"today\", \"today\", \"today\", \"today\", \"today\", \"today\", \"today\", \"today\", \"told\", \"told\", \"told\", \"told\", \"took\", \"took\", \"took\", \"took\", \"took\", \"took\", \"took\", \"toolkit\", \"toplevel\", \"toronto\", \"toronto\", \"toronto\", \"toshiba\", \"transfers\", \"transform\", \"transformer\", \"transmit\", \"treatment\", \"treatment\", \"treatment\", \"trigger\", \"trigger\", \"true\", \"true\", \"true\", \"true\", \"true\", \"true\", \"true\", \"true\", \"true\", \"truth\", \"truth\", \"tube\", \"tuning\", \"turkey\", \"turkish\", \"turks\", \"tvtwm\", \"uchicago\", \"udel\", \"ugly\", \"unit\", \"unit\", \"unit\", \"unit\", \"unit\", \"universe\", \"universities\", \"university\", \"university\", \"university\", \"unix\", \"unix\", \"upset\", \"uranium\", \"used\", \"used\", \"used\", \"used\", \"used\", \"used\", \"used\", \"used\", \"used\", \"used\", \"used\", \"used\", \"used\", \"used\", \"used\", \"used\", \"used\", \"usenet\", \"usenet\", \"usenet\", \"usenet\", \"user\", \"user\", \"user\", \"users\", \"users\", \"users\", \"users\", \"using\", \"using\", \"using\", \"using\", \"using\", \"using\", \"using\", \"using\", \"using\", \"using\", \"usually\", \"usually\", \"usually\", \"usually\", \"usually\", \"usually\", \"uuencode\", \"venus\", \"verlag\", \"verse\", \"version\", \"version\", \"version\", \"version\", \"version\", \"vesa\", \"victims\", \"video\", \"video\", \"video\", \"video\", \"video\", \"viola\", \"violent\", \"visa\", \"vitamin\", \"vnet\", \"voice\", \"voice\", \"voice\", \"voice\", \"voltage\", \"volts\", \"volume\", \"volume\", \"volume\", \"volume\", \"volume\", \"volume\", \"volvo\", \"vpic\", \"vram\", \"vram\", \"wait\", \"wait\", \"wait\", \"wait\", \"want\", \"want\", \"want\", \"want\", \"want\", \"want\", \"want\", \"want\", \"want\", \"warned\", \"washington\", \"washington\", \"washington\", \"washington\", \"watching\", \"watching\", \"watching\", \"water\", \"water\", \"water\", \"water\", \"water\", \"water\", \"water\", \"weapon\", \"weapons\", \"wednesday\", \"wednesday\", \"wednesday\", \"weight\", \"weight\", \"weight\", \"well\", \"well\", \"well\", \"well\", \"well\", \"well\", \"well\", \"well\", \"well\", \"well\", \"well\", \"well\", \"went\", \"went\", \"went\", \"went\", \"west\", \"west\", \"west\", \"west\", \"west\", \"west\", \"west\", \"west\", \"west\", \"whether\", \"whether\", \"whether\", \"whether\", \"whether\", \"whether\", \"white\", \"white\", \"white\", \"white\", \"white\", \"white\", \"white\", \"white\", \"white\", \"white\", \"widget\", \"widget\", \"widgets\", \"window\", \"window\", \"window\", \"window\", \"windows\", \"windows\", \"wings\", \"wings\", \"wings\", \"winner\", \"winners\", \"winners\", \"winnipeg\", \"wire\", \"wire\", \"wires\", \"wiretap\", \"wiretap\", \"wiring\", \"withdraw\", \"wolverine\", \"woman\", \"woman\", \"woman\", \"woman\", \"word\", \"word\", \"word\", \"word\", \"word\", \"word\", \"word\", \"wordperfect\", \"work\", \"work\", \"work\", \"work\", \"work\", \"work\", \"work\", \"work\", \"work\", \"work\", \"working\", \"working\", \"working\", \"working\", \"working\", \"working\", \"working\", \"working\", \"world\", \"world\", \"world\", \"world\", \"world\", \"world\", \"world\", \"world\", \"world\", \"world\", \"world\", \"world\", \"worldwide\", \"would\", \"would\", \"would\", \"would\", \"would\", \"would\", \"would\", \"would\", \"would\", \"would\", \"would\", \"would\", \"wrench\", \"wrist\", \"xlib\", \"xterm\", \"yankees\", \"yassin\", \"yeah\", \"yeah\", \"year\", \"year\", \"year\", \"year\", \"year\", \"year\", \"year\", \"year\", \"year\", \"year\", \"years\", \"years\", \"years\", \"years\", \"years\", \"years\", \"years\", \"years\", \"years\", \"years\", \"years\", \"yeast\"]}, \"R\": 30, \"lambda.step\": 0.01, \"plot.opts\": {\"xlab\": \"PC1\", \"ylab\": \"PC2\"}, \"topic.order\": [2, 9, 18, 1, 20, 7, 4, 15, 11, 8, 12, 13, 10, 5, 19, 14, 16, 6, 3, 17]};\n",
       "\n",
       "function LDAvis_load_lib(url, callback){\n",
       "  var s = document.createElement('script');\n",
       "  s.src = url;\n",
       "  s.async = true;\n",
       "  s.onreadystatechange = s.onload = callback;\n",
       "  s.onerror = function(){console.warn(\"failed to load library \" + url);};\n",
       "  document.getElementsByTagName(\"head\")[0].appendChild(s);\n",
       "}\n",
       "\n",
       "if(typeof(LDAvis) !== \"undefined\"){\n",
       "   // already loaded: just create the visualization\n",
       "   !function(LDAvis){\n",
       "       new LDAvis(\"#\" + \"ldavis_el99002131255114312487438778\", ldavis_el99002131255114312487438778_data);\n",
       "   }(LDAvis);\n",
       "}else if(typeof define === \"function\" && define.amd){\n",
       "   // require.js is available: use it to load d3/LDAvis\n",
       "   require.config({paths: {d3: \"https://cdnjs.cloudflare.com/ajax/libs/d3/3.5.5/d3.min\"}});\n",
       "   require([\"d3\"], function(d3){\n",
       "      window.d3 = d3;\n",
       "      LDAvis_load_lib(\"https://cdn.rawgit.com/bmabey/pyLDAvis/files/ldavis.v1.0.0.js\", function(){\n",
       "        new LDAvis(\"#\" + \"ldavis_el99002131255114312487438778\", ldavis_el99002131255114312487438778_data);\n",
       "      });\n",
       "    });\n",
       "}else{\n",
       "    // require.js not available: dynamically load d3 & LDAvis\n",
       "    LDAvis_load_lib(\"https://cdnjs.cloudflare.com/ajax/libs/d3/3.5.5/d3.min.js\", function(){\n",
       "         LDAvis_load_lib(\"https://cdn.rawgit.com/bmabey/pyLDAvis/files/ldavis.v1.0.0.js\", function(){\n",
       "                 new LDAvis(\"#\" + \"ldavis_el99002131255114312487438778\", ldavis_el99002131255114312487438778_data);\n",
       "            })\n",
       "         });\n",
       "}\n",
       "</script>"
      ],
      "text/plain": [
       "<IPython.core.display.HTML object>"
      ]
     },
     "execution_count": 33,
     "metadata": {},
     "output_type": "execute_result"
    }
   ],
   "source": [
    "import pyLDAvis.gensim\n",
    "pyLDAvis.enable_notebook()\n",
    "vis = pyLDAvis.gensim.prepare(ldamodel, corpus, dictionary)\n",
    "pyLDAvis.display(vis)"
   ]
  },
  {
   "cell_type": "markdown",
   "metadata": {},
   "source": [
    "#### 4) 문서 별 토픽 분포 보기"
   ]
  },
  {
   "cell_type": "code",
   "execution_count": 34,
   "metadata": {},
   "outputs": [
    {
     "name": "stdout",
     "output_type": "stream",
     "text": [
      "0 번째 문서의 topic 비율은 [(1, 0.3639343), (4, 0.020987296), (15, 0.054085936), (16, 0.017205827), (19, 0.5314663)]\n",
      "1 번째 문서의 topic 비율은 [(1, 0.43191984), (8, 0.41438589), (11, 0.077364966), (14, 0.028677387), (15, 0.0278784)]\n",
      "2 번째 문서의 topic 비율은 [(0, 0.04264201), (1, 0.16165225), (5, 0.082450174), (8, 0.38740495), (15, 0.28826082), (19, 0.026096405)]\n",
      "3 번째 문서의 topic 비율은 [(0, 0.26191723), (1, 0.15771663), (6, 0.112837575), (8, 0.11666662), (9, 0.119908), (11, 0.1760044), (12, 0.015530516), (13, 0.02985522)]\n",
      "4 번째 문서의 topic 비율은 [(4, 0.08373682), (7, 0.22983292), (8, 0.65493643)]\n"
     ]
    }
   ],
   "source": [
    "for i, topic_list in enumerate(ldamodel[corpus]):\n",
    "    if i==5:\n",
    "        break\n",
    "    print(i,'번째 문서의 topic 비율은',topic_list)"
   ]
  },
  {
   "cell_type": "code",
   "execution_count": 35,
   "metadata": {},
   "outputs": [],
   "source": [
    "def make_topictable_per_doc(ldamodel, corpus, texts):\n",
    "    topic_table = pd.DataFrame()\n",
    "\n",
    "    # 몇 번째 문서인지를 의미하는 문서 번호와 해당 문서의 토픽 비중을 한 줄씩 꺼내온다.\n",
    "    for i, topic_list in enumerate(ldamodel[corpus]):\n",
    "        doc = topic_list[0] if ldamodel.per_word_topics else topic_list            \n",
    "        doc = sorted(doc, key=lambda x: (x[1]), reverse=True)\n",
    "        # 각 문서에 대해서 비중이 높은 토픽순으로 토픽을 정렬한다.\n",
    "        # EX) 정렬 전 0번 문서 : (2번 토픽, 48.5%), (8번 토픽, 25%), (10번 토픽, 5%), (12번 토픽, 21.5%), \n",
    "        # Ex) 정렬 후 0번 문서 : (2번 토픽, 48.5%), (8번 토픽, 25%), (12번 토픽, 21.5%), (10번 토픽, 5%)\n",
    "        # 48 > 25 > 21 > 5 순으로 정렬이 된 것.\n",
    "\n",
    "        # 모든 문서에 대해서 각각 아래를 수행\n",
    "        for j, (topic_num, prop_topic) in enumerate(doc): #  몇 번 토픽인지와 비중을 나눠서 저장한다.\n",
    "            if j == 0:  # 정렬을 한 상태이므로 가장 앞에 있는 것이 가장 비중이 높은 토픽\n",
    "                topic_table = topic_table.append(pd.Series([int(topic_num), round(prop_topic,4), topic_list]), ignore_index=True)\n",
    "                # 가장 비중이 높은 토픽과, 가장 비중이 높은 토픽의 비중과, 전체 토픽의 비중을 저장한다.\n",
    "            else:\n",
    "                break\n",
    "    return(topic_table)"
   ]
  },
  {
   "cell_type": "code",
   "execution_count": 36,
   "metadata": {},
   "outputs": [
    {
     "data": {
      "text/html": [
       "<div>\n",
       "<style scoped>\n",
       "    .dataframe tbody tr th:only-of-type {\n",
       "        vertical-align: middle;\n",
       "    }\n",
       "\n",
       "    .dataframe tbody tr th {\n",
       "        vertical-align: top;\n",
       "    }\n",
       "\n",
       "    .dataframe thead th {\n",
       "        text-align: right;\n",
       "    }\n",
       "</style>\n",
       "<table border=\"1\" class=\"dataframe\">\n",
       "  <thead>\n",
       "    <tr style=\"text-align: right;\">\n",
       "      <th></th>\n",
       "      <th>문서 번호</th>\n",
       "      <th>가장 비중이 높은 토픽</th>\n",
       "      <th>가장 높은 토픽의 비중</th>\n",
       "      <th>각 토픽의 비중</th>\n",
       "    </tr>\n",
       "  </thead>\n",
       "  <tbody>\n",
       "    <tr>\n",
       "      <th>0</th>\n",
       "      <td>0</td>\n",
       "      <td>19.0</td>\n",
       "      <td>0.5315</td>\n",
       "      <td>[(1, 0.36393738), (4, 0.020987377), (15, 0.054...</td>\n",
       "    </tr>\n",
       "    <tr>\n",
       "      <th>1</th>\n",
       "      <td>1</td>\n",
       "      <td>1.0</td>\n",
       "      <td>0.4319</td>\n",
       "      <td>[(1, 0.43191677), (8, 0.41438958), (11, 0.0773...</td>\n",
       "    </tr>\n",
       "    <tr>\n",
       "      <th>2</th>\n",
       "      <td>2</td>\n",
       "      <td>8.0</td>\n",
       "      <td>0.3877</td>\n",
       "      <td>[(0, 0.042680185), (1, 0.16128872), (5, 0.0824...</td>\n",
       "    </tr>\n",
       "    <tr>\n",
       "      <th>3</th>\n",
       "      <td>3</td>\n",
       "      <td>0.0</td>\n",
       "      <td>0.2619</td>\n",
       "      <td>[(0, 0.2619265), (1, 0.1577665), (6, 0.1128210...</td>\n",
       "    </tr>\n",
       "    <tr>\n",
       "      <th>4</th>\n",
       "      <td>4</td>\n",
       "      <td>8.0</td>\n",
       "      <td>0.6549</td>\n",
       "      <td>[(4, 0.08373671), (7, 0.22983347), (8, 0.65493...</td>\n",
       "    </tr>\n",
       "    <tr>\n",
       "      <th>5</th>\n",
       "      <td>5</td>\n",
       "      <td>3.0</td>\n",
       "      <td>0.4209</td>\n",
       "      <td>[(3, 0.42087272), (6, 0.107683696), (8, 0.2977...</td>\n",
       "    </tr>\n",
       "    <tr>\n",
       "      <th>6</th>\n",
       "      <td>6</td>\n",
       "      <td>8.0</td>\n",
       "      <td>0.2508</td>\n",
       "      <td>[(0, 0.08295768), (2, 0.030500641), (5, 0.0147...</td>\n",
       "    </tr>\n",
       "    <tr>\n",
       "      <th>7</th>\n",
       "      <td>7</td>\n",
       "      <td>8.0</td>\n",
       "      <td>0.3984</td>\n",
       "      <td>[(1, 0.276093), (6, 0.14559564), (8, 0.3983997...</td>\n",
       "    </tr>\n",
       "    <tr>\n",
       "      <th>8</th>\n",
       "      <td>8</td>\n",
       "      <td>6.0</td>\n",
       "      <td>0.4971</td>\n",
       "      <td>[(6, 0.49706116), (8, 0.21869059), (14, 0.1254...</td>\n",
       "    </tr>\n",
       "    <tr>\n",
       "      <th>9</th>\n",
       "      <td>9</td>\n",
       "      <td>8.0</td>\n",
       "      <td>0.4647</td>\n",
       "      <td>[(0, 0.31379843), (8, 0.46470264), (9, 0.06696...</td>\n",
       "    </tr>\n",
       "  </tbody>\n",
       "</table>\n",
       "</div>"
      ],
      "text/plain": [
       "   문서 번호  가장 비중이 높은 토픽  가장 높은 토픽의 비중  \\\n",
       "0      0          19.0        0.5315   \n",
       "1      1           1.0        0.4319   \n",
       "2      2           8.0        0.3877   \n",
       "3      3           0.0        0.2619   \n",
       "4      4           8.0        0.6549   \n",
       "5      5           3.0        0.4209   \n",
       "6      6           8.0        0.2508   \n",
       "7      7           8.0        0.3984   \n",
       "8      8           6.0        0.4971   \n",
       "9      9           8.0        0.4647   \n",
       "\n",
       "                                            각 토픽의 비중  \n",
       "0  [(1, 0.36393738), (4, 0.020987377), (15, 0.054...  \n",
       "1  [(1, 0.43191677), (8, 0.41438958), (11, 0.0773...  \n",
       "2  [(0, 0.042680185), (1, 0.16128872), (5, 0.0824...  \n",
       "3  [(0, 0.2619265), (1, 0.1577665), (6, 0.1128210...  \n",
       "4  [(4, 0.08373671), (7, 0.22983347), (8, 0.65493...  \n",
       "5  [(3, 0.42087272), (6, 0.107683696), (8, 0.2977...  \n",
       "6  [(0, 0.08295768), (2, 0.030500641), (5, 0.0147...  \n",
       "7  [(1, 0.276093), (6, 0.14559564), (8, 0.3983997...  \n",
       "8  [(6, 0.49706116), (8, 0.21869059), (14, 0.1254...  \n",
       "9  [(0, 0.31379843), (8, 0.46470264), (9, 0.06696...  "
      ]
     },
     "execution_count": 36,
     "metadata": {},
     "output_type": "execute_result"
    }
   ],
   "source": [
    "topictable = make_topictable_per_doc(ldamodel, corpus, tokenized_doc)\n",
    "topictable = topictable.reset_index() # 문서 번호을 의미하는 열(column)로 사용하기 위해서 인덱스 열을 하나 더 만든다.\n",
    "topictable.columns = ['문서 번호', '가장 비중이 높은 토픽', '가장 높은 토픽의 비중', '각 토픽의 비중']\n",
    "topictable[:10]"
   ]
  },
  {
   "cell_type": "markdown",
   "metadata": {},
   "source": [
    "#### 1) 뉴스 기사 제목 데이터에 대한 이해"
   ]
  },
  {
   "cell_type": "code",
   "execution_count": 37,
   "metadata": {},
   "outputs": [],
   "source": [
    "import pandas as pd\n",
    "import urllib.request\n",
    "urllib.request.urlretrieve(\"https://raw.githubusercontent.com/franciscadias/data/master/abcnews-date-text.csv\", filename=\"abcnews-date-text.csv\")\n",
    "data = pd.read_csv('abcnews-date-text.csv', error_bad_lines=False)"
   ]
  },
  {
   "cell_type": "code",
   "execution_count": 38,
   "metadata": {},
   "outputs": [
    {
     "name": "stdout",
     "output_type": "stream",
     "text": [
      "1082168\n"
     ]
    }
   ],
   "source": [
    "print(len(data))"
   ]
  },
  {
   "cell_type": "code",
   "execution_count": 39,
   "metadata": {},
   "outputs": [
    {
     "name": "stdout",
     "output_type": "stream",
     "text": [
      "   publish_date                                      headline_text\n",
      "0      20030219  aba decides against community broadcasting lic...\n",
      "1      20030219     act fire witnesses must be aware of defamation\n",
      "2      20030219     a g calls for infrastructure protection summit\n",
      "3      20030219           air nz staff in aust strike for pay rise\n",
      "4      20030219      air nz strike to affect australian travellers\n"
     ]
    }
   ],
   "source": [
    "print(data.head(5))"
   ]
  },
  {
   "cell_type": "code",
   "execution_count": 40,
   "metadata": {},
   "outputs": [
    {
     "data": {
      "text/html": [
       "<div>\n",
       "<style scoped>\n",
       "    .dataframe tbody tr th:only-of-type {\n",
       "        vertical-align: middle;\n",
       "    }\n",
       "\n",
       "    .dataframe tbody tr th {\n",
       "        vertical-align: top;\n",
       "    }\n",
       "\n",
       "    .dataframe thead th {\n",
       "        text-align: right;\n",
       "    }\n",
       "</style>\n",
       "<table border=\"1\" class=\"dataframe\">\n",
       "  <thead>\n",
       "    <tr style=\"text-align: right;\">\n",
       "      <th></th>\n",
       "      <th>headline_text</th>\n",
       "    </tr>\n",
       "  </thead>\n",
       "  <tbody>\n",
       "    <tr>\n",
       "      <th>0</th>\n",
       "      <td>aba decides against community broadcasting lic...</td>\n",
       "    </tr>\n",
       "    <tr>\n",
       "      <th>1</th>\n",
       "      <td>act fire witnesses must be aware of defamation</td>\n",
       "    </tr>\n",
       "    <tr>\n",
       "      <th>2</th>\n",
       "      <td>a g calls for infrastructure protection summit</td>\n",
       "    </tr>\n",
       "    <tr>\n",
       "      <th>3</th>\n",
       "      <td>air nz staff in aust strike for pay rise</td>\n",
       "    </tr>\n",
       "    <tr>\n",
       "      <th>4</th>\n",
       "      <td>air nz strike to affect australian travellers</td>\n",
       "    </tr>\n",
       "  </tbody>\n",
       "</table>\n",
       "</div>"
      ],
      "text/plain": [
       "                                       headline_text\n",
       "0  aba decides against community broadcasting lic...\n",
       "1     act fire witnesses must be aware of defamation\n",
       "2     a g calls for infrastructure protection summit\n",
       "3           air nz staff in aust strike for pay rise\n",
       "4      air nz strike to affect australian travellers"
      ]
     },
     "execution_count": 40,
     "metadata": {},
     "output_type": "execute_result"
    }
   ],
   "source": [
    "text = data[['headline_text']]\n",
    "text.head(5)"
   ]
  },
  {
   "cell_type": "markdown",
   "metadata": {},
   "source": [
    "#### 2) 텍스트 전처리"
   ]
  },
  {
   "cell_type": "code",
   "execution_count": 41,
   "metadata": {},
   "outputs": [
    {
     "name": "stderr",
     "output_type": "stream",
     "text": [
      "d:\\Anaconda3\\envs\\nlp\\lib\\site-packages\\ipykernel_launcher.py:2: SettingWithCopyWarning: \n",
      "A value is trying to be set on a copy of a slice from a DataFrame.\n",
      "Try using .loc[row_indexer,col_indexer] = value instead\n",
      "\n",
      "See the caveats in the documentation: https://pandas.pydata.org/pandas-docs/stable/user_guide/indexing.html#returning-a-view-versus-a-copy\n",
      "  \n"
     ]
    }
   ],
   "source": [
    "import nltk\n",
    "text['headline_text'] = text.apply(lambda row: nltk.word_tokenize(row['headline_text']), axis=1)"
   ]
  },
  {
   "cell_type": "code",
   "execution_count": 42,
   "metadata": {},
   "outputs": [
    {
     "name": "stdout",
     "output_type": "stream",
     "text": [
      "                                       headline_text\n",
      "0  [aba, decides, against, community, broadcastin...\n",
      "1  [act, fire, witnesses, must, be, aware, of, de...\n",
      "2  [a, g, calls, for, infrastructure, protection,...\n",
      "3  [air, nz, staff, in, aust, strike, for, pay, r...\n",
      "4  [air, nz, strike, to, affect, australian, trav...\n"
     ]
    }
   ],
   "source": [
    "print(text.head(5))"
   ]
  },
  {
   "cell_type": "code",
   "execution_count": 43,
   "metadata": {},
   "outputs": [
    {
     "name": "stderr",
     "output_type": "stream",
     "text": [
      "d:\\Anaconda3\\envs\\nlp\\lib\\site-packages\\ipykernel_launcher.py:3: SettingWithCopyWarning: \n",
      "A value is trying to be set on a copy of a slice from a DataFrame.\n",
      "Try using .loc[row_indexer,col_indexer] = value instead\n",
      "\n",
      "See the caveats in the documentation: https://pandas.pydata.org/pandas-docs/stable/user_guide/indexing.html#returning-a-view-versus-a-copy\n",
      "  This is separate from the ipykernel package so we can avoid doing imports until\n"
     ]
    }
   ],
   "source": [
    "from nltk.corpus import stopwords\n",
    "stop = stopwords.words('english')\n",
    "text['headline_text'] = text['headline_text'].apply(lambda x: [word for word in x if word not in (stop)])"
   ]
  },
  {
   "cell_type": "code",
   "execution_count": 44,
   "metadata": {},
   "outputs": [
    {
     "name": "stdout",
     "output_type": "stream",
     "text": [
      "                                       headline_text\n",
      "0   [aba, decides, community, broadcasting, licence]\n",
      "1    [act, fire, witnesses, must, aware, defamation]\n",
      "2     [g, calls, infrastructure, protection, summit]\n",
      "3          [air, nz, staff, aust, strike, pay, rise]\n",
      "4  [air, nz, strike, affect, australian, travellers]\n"
     ]
    }
   ],
   "source": [
    "print(text.head(5))"
   ]
  },
  {
   "cell_type": "code",
   "execution_count": 45,
   "metadata": {},
   "outputs": [
    {
     "name": "stdout",
     "output_type": "stream",
     "text": [
      "                                       headline_text\n",
      "0       [aba, decide, community, broadcast, licence]\n",
      "1      [act, fire, witness, must, aware, defamation]\n",
      "2      [g, call, infrastructure, protection, summit]\n",
      "3          [air, nz, staff, aust, strike, pay, rise]\n",
      "4  [air, nz, strike, affect, australian, travellers]\n"
     ]
    },
    {
     "name": "stderr",
     "output_type": "stream",
     "text": [
      "d:\\Anaconda3\\envs\\nlp\\lib\\site-packages\\ipykernel_launcher.py:2: SettingWithCopyWarning: \n",
      "A value is trying to be set on a copy of a slice from a DataFrame.\n",
      "Try using .loc[row_indexer,col_indexer] = value instead\n",
      "\n",
      "See the caveats in the documentation: https://pandas.pydata.org/pandas-docs/stable/user_guide/indexing.html#returning-a-view-versus-a-copy\n",
      "  \n"
     ]
    }
   ],
   "source": [
    "from nltk.stem import WordNetLemmatizer\n",
    "text['headline_text'] = text['headline_text'].apply(lambda x: [WordNetLemmatizer().lemmatize(word, pos='v') for word in x])\n",
    "print(text.head(5))"
   ]
  },
  {
   "cell_type": "code",
   "execution_count": 46,
   "metadata": {},
   "outputs": [
    {
     "name": "stdout",
     "output_type": "stream",
     "text": [
      "0       [decide, community, broadcast, licence]\n",
      "1      [fire, witness, must, aware, defamation]\n",
      "2    [call, infrastructure, protection, summit]\n",
      "3                   [staff, aust, strike, rise]\n",
      "4      [strike, affect, australian, travellers]\n",
      "Name: headline_text, dtype: object\n"
     ]
    }
   ],
   "source": [
    "tokenized_doc = text['headline_text'].apply(lambda x: [word for word in x if len(word) > 3])\n",
    "print(tokenized_doc[:5])"
   ]
  },
  {
   "cell_type": "markdown",
   "metadata": {},
   "source": [
    "#### 3) TF-IDF 행렬 만들기"
   ]
  },
  {
   "cell_type": "code",
   "execution_count": 47,
   "metadata": {},
   "outputs": [
    {
     "name": "stderr",
     "output_type": "stream",
     "text": [
      "d:\\Anaconda3\\envs\\nlp\\lib\\site-packages\\ipykernel_launcher.py:7: SettingWithCopyWarning: \n",
      "A value is trying to be set on a copy of a slice from a DataFrame.\n",
      "Try using .loc[row_indexer,col_indexer] = value instead\n",
      "\n",
      "See the caveats in the documentation: https://pandas.pydata.org/pandas-docs/stable/user_guide/indexing.html#returning-a-view-versus-a-copy\n",
      "  import sys\n"
     ]
    }
   ],
   "source": [
    "# 역토큰화 (토큰화 작업을 되돌림)\n",
    "detokenized_doc = []\n",
    "for i in range(len(text)):\n",
    "    t = ' '.join(tokenized_doc[i])\n",
    "    detokenized_doc.append(t)\n",
    "\n",
    "text['headline_text'] = detokenized_doc # 다시 text['headline_text']에 재저장"
   ]
  },
  {
   "cell_type": "code",
   "execution_count": 48,
   "metadata": {},
   "outputs": [
    {
     "data": {
      "text/plain": [
       "0       decide community broadcast licence\n",
       "1       fire witness must aware defamation\n",
       "2    call infrastructure protection summit\n",
       "3                   staff aust strike rise\n",
       "4      strike affect australian travellers\n",
       "Name: headline_text, dtype: object"
      ]
     },
     "execution_count": 48,
     "metadata": {},
     "output_type": "execute_result"
    }
   ],
   "source": [
    "text['headline_text'][:5]"
   ]
  },
  {
   "cell_type": "code",
   "execution_count": 49,
   "metadata": {},
   "outputs": [
    {
     "data": {
      "text/plain": [
       "(1082168, 1000)"
      ]
     },
     "execution_count": 49,
     "metadata": {},
     "output_type": "execute_result"
    }
   ],
   "source": [
    "from sklearn.feature_extraction.text import TfidfVectorizer\n",
    "vectorizer = TfidfVectorizer(stop_words='english', \n",
    "max_features= 1000) # 상위 1,000개의 단어를 보존 \n",
    "X = vectorizer.fit_transform(text['headline_text'])\n",
    "X.shape # TF-IDF 행렬의 크기 확인"
   ]
  },
  {
   "cell_type": "markdown",
   "metadata": {},
   "source": [
    "#### 4) 토픽 모델링"
   ]
  },
  {
   "cell_type": "code",
   "execution_count": 50,
   "metadata": {},
   "outputs": [],
   "source": [
    "from sklearn.decomposition import LatentDirichletAllocation\n",
    "lda_model=LatentDirichletAllocation(n_components=10,learning_method='online',random_state=777,max_iter=1)"
   ]
  },
  {
   "cell_type": "code",
   "execution_count": 51,
   "metadata": {},
   "outputs": [],
   "source": [
    "lda_top=lda_model.fit_transform(X)"
   ]
  },
  {
   "cell_type": "code",
   "execution_count": 52,
   "metadata": {},
   "outputs": [
    {
     "name": "stdout",
     "output_type": "stream",
     "text": [
      "[[1.00001533e-01 1.00001269e-01 1.00004179e-01 ... 1.00006124e-01\n",
      "  1.00003111e-01 1.00003064e-01]\n",
      " [1.00001199e-01 1.13513398e+03 3.50170830e+03 ... 1.00009349e-01\n",
      "  1.00001896e-01 1.00002937e-01]\n",
      " [1.00001811e-01 1.00001151e-01 1.00003566e-01 ... 1.00002693e-01\n",
      "  1.00002061e-01 7.53381835e+02]\n",
      " ...\n",
      " [1.00001065e-01 1.00001689e-01 1.00003278e-01 ... 1.00006721e-01\n",
      "  1.00004902e-01 1.00004759e-01]\n",
      " [1.00002401e-01 1.00000732e-01 1.00002989e-01 ... 1.00003517e-01\n",
      "  1.00001428e-01 1.00005266e-01]\n",
      " [1.00003427e-01 1.00002313e-01 1.00007340e-01 ... 1.00003732e-01\n",
      "  1.00001207e-01 1.00005153e-01]]\n",
      "(10, 1000)\n"
     ]
    }
   ],
   "source": [
    "print(lda_model.components_)\n",
    "print(lda_model.components_.shape) "
   ]
  },
  {
   "cell_type": "code",
   "execution_count": 53,
   "metadata": {},
   "outputs": [
    {
     "name": "stdout",
     "output_type": "stream",
     "text": [
      "Topic 1: [('government', 8725.19), ('sydney', 8393.29), ('queensland', 7720.12), ('change', 5874.27), ('home', 5674.38)]\n",
      "Topic 2: [('australia', 13691.08), ('australian', 11088.95), ('melbourne', 7528.43), ('world', 6707.7), ('south', 6677.03)]\n",
      "Topic 3: [('death', 5935.06), ('interview', 5924.98), ('kill', 5851.6), ('jail', 4632.85), ('life', 4275.27)]\n",
      "Topic 4: [('house', 6113.49), ('2016', 5488.19), ('state', 4923.41), ('brisbane', 4857.21), ('tasmania', 4610.97)]\n",
      "Topic 5: [('court', 7542.74), ('attack', 6959.64), ('open', 5663.0), ('face', 5193.63), ('warn', 5115.01)]\n",
      "Topic 6: [('market', 5545.86), ('rural', 5502.89), ('plan', 4828.71), ('indigenous', 4223.4), ('power', 3968.26)]\n",
      "Topic 7: [('charge', 8428.8), ('election', 7561.63), ('adelaide', 6758.36), ('make', 5658.99), ('test', 5062.69)]\n",
      "Topic 8: [('police', 12092.44), ('crash', 5281.14), ('drug', 4290.87), ('beat', 3257.58), ('rise', 2934.92)]\n",
      "Topic 9: [('fund', 4693.03), ('labor', 4047.69), ('national', 4038.68), ('council', 4006.62), ('claim', 3604.75)]\n",
      "Topic 10: [('trump', 11966.41), ('perth', 6456.53), ('report', 5611.33), ('school', 5465.06), ('woman', 5456.76)]\n"
     ]
    }
   ],
   "source": [
    "terms = vectorizer.get_feature_names() # 단어 집합. 1,000개의 단어가 저장됨.\n",
    "\n",
    "def get_topics(components, feature_names, n=5):\n",
    "    for idx, topic in enumerate(components):\n",
    "        print(\"Topic %d:\" % (idx+1), [(feature_names[i], topic[i].round(2)) for i in topic.argsort()[:-n - 1:-1]])\n",
    "get_topics(lda_model.components_,terms)"
   ]
  },
  {
   "cell_type": "code",
   "execution_count": null,
   "metadata": {},
   "outputs": [],
   "source": []
  }
 ],
 "metadata": {
  "kernelspec": {
   "display_name": "Python 3",
   "language": "python",
   "name": "python3"
  },
  "language_info": {
   "codemirror_mode": {
    "name": "ipython",
    "version": 3
   },
   "file_extension": ".py",
   "mimetype": "text/x-python",
   "name": "python",
   "nbconvert_exporter": "python",
   "pygments_lexer": "ipython3",
   "version": "3.7.6"
  }
 },
 "nbformat": 4,
 "nbformat_minor": 4
}
