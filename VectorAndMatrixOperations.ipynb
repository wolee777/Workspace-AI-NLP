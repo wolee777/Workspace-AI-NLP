{
 "cells": [
  {
   "cell_type": "markdown",
   "metadata": {},
   "source": [
    "# 벡터와 행렬 연산\n",
    "\n",
    "- NumPy나 Tensorflow의 low-level의 머신 러닝 개발을 하게되면 각 변수들의 연산을 벡터와 행렬 연산으로 이해할 수 있어야 한다.\n",
    "- 사용자가 변수의 개수로부터 행렬의 크기, 더 나아 텐서의 크기를 산정할 수 있어야 한다."
   ]
  },
  {
   "cell_type": "markdown",
   "metadata": {},
   "source": [
    "## 1. 벡터와 행렬과 텐서\n",
    "\n",
    "- 벡터는 크기와 방향을 가진 양이다. 숫자가 나열된 형상이며 파이썬에서는 1차원 배열 또는 리스트로 표현\n",
    "- 행렬은 행과 열을 가진 2차원 형상을 가진 구조이다. 파이썬에서는 2차원 배열로 표현, 가로줄은 행( row ), 세로줄은 열( column )\n",
    "- 3차원 부터는 텐서라 부르고 파이썬에서는 3차원 이상의 배열로 표현"
   ]
  },
  {
   "cell_type": "markdown",
   "metadata": {},
   "source": [
    "## 2. 텐서( Tensor )\n",
    "\n",
    "- 인공 신경망은 복잡한 모델 내의 연산을 주로 행렬 연산을 통해 해결한다. \n",
    "- 여기서 말하는 행렬 연산은 2차원 배열을 통한 행렬 연산만을 의미하는 것은 아니다.\n",
    "- 머신 러닝의 입/출력이 복잡해지면 3차원 텐서에 대한 이해가 필수로 요구된다."
   ]
  },
  {
   "cell_type": "code",
   "execution_count": 1,
   "metadata": {},
   "outputs": [],
   "source": [
    "import numpy as np"
   ]
  },
  {
   "cell_type": "markdown",
   "metadata": {},
   "source": [
    "### 1) 0차원 텐서( 0D 텐서, 차원 : Dimensionality )\n",
    "\n",
    "- 스칼라는 하나의 실수값으로 이루어진 데이터를 말한다. 또한 스칼라값을 0차원 텐서라고 한다."
   ]
  },
  {
   "cell_type": "code",
   "execution_count": 2,
   "metadata": {},
   "outputs": [
    {
     "name": "stdout",
     "output_type": "stream",
     "text": [
      "0\n",
      "()\n"
     ]
    }
   ],
   "source": [
    "d = np.array( 5 )\n",
    "\n",
    "print( d.ndim ) # 축의 개수, 텐서의 차원수와 동일\n",
    "print( d.shape ) # 텐서 크기"
   ]
  },
  {
   "cell_type": "markdown",
   "metadata": {},
   "source": [
    "### 2) 1차원 텐서( 1D 텐서 )\n",
    "\n",
    "- 숫자를 특정 순서대로 배열한 것을 벡터라고 한다. 벡터를 1차원 텐서라고 한다.\n",
    "- 벡터의 차원과 텐서의 차원은 다른 개념이다.\n",
    "- 벡터의 차원과 텐서의 차원의 정의로 인해 혼동할 수 있으므로 벡터에서의 차원( Dimensionality )은 하나의 축에 차원들이 존재하는 것이고, 텐서에서의 차원( Dimensionality )은 축의 개수를 의미한다."
   ]
  },
  {
   "cell_type": "code",
   "execution_count": 4,
   "metadata": {},
   "outputs": [
    {
     "name": "stdout",
     "output_type": "stream",
     "text": [
      "1\n",
      "(4,)\n"
     ]
    }
   ],
   "source": [
    "# 4차원 벡터이지만 1차원 텐서이다.\n",
    "d = np.array( [ 1, 2, 3, 4 ] )\n",
    "\n",
    "print( d.ndim )\n",
    "print( d.shape )"
   ]
  },
  {
   "cell_type": "markdown",
   "metadata": {},
   "source": [
    "### 2) 2차원 텐서( 2D 텐서 )\n",
    "\n",
    "- 행과 열이 존재하는 벡터의 배열. 즉, 행렬( matrix )을 2차원 텐서라 한다.\n",
    "- 텐서의 크기를 미리 머리 속에 그릴 수 있으면 모델 설계 시에 유용하다.\n",
    "- 1차원 텐서를 벡터, 2차원 텐서를 행렬로 비유하는데 수학적으로 행렬의 열을 열벡터로 부르거나, 열벡터를 열행렬로 부르는 것과 혼동해서는 안된다.\n",
    "- 1차원 텐서와 2차원 텐서는 차원 자체가 달라야 한다."
   ]
  },
  {
   "cell_type": "code",
   "execution_count": 6,
   "metadata": {},
   "outputs": [
    {
     "name": "stdout",
     "output_type": "stream",
     "text": [
      "2\n",
      "(3, 4)\n"
     ]
    }
   ],
   "source": [
    "d = np.array( [ [ 1, 2, 3, 4 ], [ 5, 6, 7, 8 ], [ 9, 10, 11, 12 ] ] )\n",
    "\n",
    "print( d.ndim )\n",
    "print( d.shape )"
   ]
  },
  {
   "cell_type": "markdown",
   "metadata": {},
   "source": [
    "### 3) 3차원 텐서( 3D 텐서 )\n",
    "\n",
    "- 행렬 또는 2차원 텐서를 단위로 한 번 더 배열하면 3차원 텐서라 부른다.\n",
    "- 0차원 ~ 2차원 텐서는 각각 스칼라, 벡터, 행렬로 해도 무방한다.\n",
    "- 3차원 이상의 텐서부터 본격적으로 텐서라고 부른다.\n",
    "- 데이터 사이언스 분야 한정으로 주로 3차원 이상의 배열을 텐서라고 부른다.\n",
    "- 3차원 텐서의 구조를 이해하지 않으면, 복잡한 인공 신경망의 입/출력값을 이해하는 것이 쉽지 않다."
   ]
  },
  {
   "cell_type": "code",
   "execution_count": 7,
   "metadata": {},
   "outputs": [
    {
     "name": "stdout",
     "output_type": "stream",
     "text": [
      "3\n",
      "(2, 3, 5)\n"
     ]
    }
   ],
   "source": [
    "# 2개의 큰 데이터가 있는데, 그 각각은 3개의 더 작은 데이터로 구성되며, 그 3개의 데이터는 또한 더 작은 5개의 데이터로 구성\n",
    "d = np.array( [ \n",
    "                [ [ 1, 2, 3, 4, 5 ], [ 6, 7, 8, 9, 10 ], [ 11, 12, 13, 14, 15 ] ],\n",
    "                [ [ 16, 17, 18, 19, 20 ], [ 21, 22, 23, 24, 25 ], [ 26, 27, 28, 29, 30 ] ]\n",
    "              ] )\n",
    "\n",
    "print( d.ndim )\n",
    "print( d.shape )"
   ]
  },
  {
   "cell_type": "markdown",
   "metadata": {},
   "source": [
    "- 자연어 처리에서 특히 자주 보게 되는것이 3D 텐서이다.\n",
    "- 3D 텐서는 시퀀스 데이터( sequence data )를 표현할 때 자주 사용\n",
    "- 시퀀스 데이터는 주로 단어의 시퀀스를 의미하며, 시퀀스는 주로 문장이나 문서, 뉴스 기사 등의 텍스트가 될 수 있다.\n",
    "- 3D 텐서는 ( samples, timesteps, word_dim ), 일괄로 처리하기 위해 데이터를 묶는 단위는 배치의 개념의( batch_size, timesteps, word_dim ) 이라 볼수 있아.\n",
    "- samples/batch_size는 데이터의 개수, timesteps는 시퀀스의 길이, word_dim은 단어를 표현하는 벡터의 차원을 의미"
   ]
  },
  {
   "cell_type": "markdown",
   "metadata": {},
   "source": [
    "- 자연어 처리에서 왜 3D 텐서의 개념이 사용되는지 간단한 예\n",
    "\n",
    "훈련 데이터\n",
    "\n",
    "- 문서1 : I like NLP\n",
    "- 문서2 : I like DL\n",
    "- 문서3 : DL is AI\n",
    "\n",
    "이를 인공 신경망의 모델의 입력으로 사용하기 위해서는 각 단어를 벡터화해야 한다. 단어를 벡터화 방법인 원-핫 인코딩으로 벡터화 하면\n",
    "\n",
    "|단어|One-hot vector|\n",
    "|---|---|\n",
    "I|[ 1 0 0 0 0 0 ]\n",
    "like|[ 0 1 0 0 0 0 ]\n",
    "NLP|[ 0 0 1 0 0 0 ]\n",
    "DL|[ 0 0 0 1 0 0 ]\n",
    "is|[ 0 0 0 0 1 0 ]\n",
    "AI|[ 0 0 0 0 0 1 ]\n",
    "\n",
    "기존에 있던 훈련 데이터를 모두 원-핫 벡터로 바꿔서 인공 신경망의 입력으로 한꺼번에 사용한다고 하면 다음과 같다.( 이렇게 훈련 데이터를 여러개 묶어서 한꺼번에 입력으로 사용하는 것을 배치( batch )라고 한다.\n",
    "\n",
    "[ \n",
    "\n",
    "  [ [ 1, 0, 0, 0, 0, 0 ], [ 0, 1, 0, 0, 0, 0 ], [ 0, 0, 1, 0, 0, 0 ] ],\n",
    "  \n",
    "  [ [ 1, 0, 0, 0, 0, 0 ], [ 0, 1, 0, 0, 0, 0 ], [ 0, 0, 0, 1, 0, 0 ] ],\n",
    "  \n",
    "  [ [ 0, 0, 0, 1, 0, 0 ], [ 0, 0, 0, 0, 1, 0 ], [ 0, 0, 0, 0, 0, 1 ] ]\n",
    "  \n",
    "]\n",
    "\n",
    "이는 ( 3, 3, 6 )의 크기를 가지는 3D 텐서이다."
   ]
  },
  {
   "cell_type": "markdown",
   "metadata": {},
   "source": [
    "### 5) 그 이상의 텐서\n",
    "\n",
    "- 3차원 텐서를 배열로 합치면 4차원 텐서가 된다. 4차원 텐서를 배열로 합치면 5차원 텐서가 된다.\n",
    "- 이런 식으로 텐서는 배열로서 계속해서 확장될 수 있다.\n",
    "\n",
    "### 6) 케라스에서의 텐서\n",
    "\n",
    "- NumPy로 각 텐서의 ndim( 차원 )과 shape( 크기 )를 사용했다. 3차원 텐서는 3차원이고 크기는 ( 2, 3, 5 )와 같이 표현\n",
    "- 케라스에서는 입력의 크기( shape )를 인자로 줄 때 input_shape라는 인자를 사용한다.\n",
    "- input_shape는 배치 크기를 제외하고 차원을 지정, 예를 들어 input_shape( 6, 5 )라는 인자값을 사용하고 배치 크기를 32라고 가정하면 텐서의 크기는 ( 32, 6, 5 )를 의미. 만약 배치 크기까지 지정하고 싶으면 batch_input_shape = ( 8, 2, 10 )와 같이 인자를 주면 텐서의 크기는 ( 8, 2, 10 )을 의미\n",
    "- 입력의 속성 수를 의미하는 input_dim, 시퀀스 데이터의 길이를 의미하는 input_length등의 인자도 사용\n",
    "- input_shape의 두 개의 인자는 ( input_length, input_dim )라고 볼 수 있다."
   ]
  },
  {
   "cell_type": "markdown",
   "metadata": {},
   "source": [
    "## 3. 벡터와 행렬의 연산\n",
    "\n",
    "### 1) 벡터와 행령의 덧셈과 뺄셈\n",
    "\n",
    "- 같은 크기의 두 개의 벡터나 행렬은 덧셈과 뺄샘을 할 수 있다. 이 경우 같은 위치의 원소끼리 연산하면 된다.\n",
    "- 이러한 연산은 요소별( element_wise )연산이라 한다."
   ]
  },
  {
   "cell_type": "code",
   "execution_count": 8,
   "metadata": {},
   "outputs": [
    {
     "name": "stdout",
     "output_type": "stream",
     "text": [
      "[9 6 8]\n",
      "\n",
      "[7 2 2]\n"
     ]
    }
   ],
   "source": [
    "# 두 벡터간 덧셈, 뺄셈\n",
    "a = np.array( [ 8, 4, 5 ] )\n",
    "b = np.array( [ 1, 2, 3 ] )\n",
    "\n",
    "print( a + b )\n",
    "print()\n",
    "print( a - b )"
   ]
  },
  {
   "cell_type": "code",
   "execution_count": 9,
   "metadata": {},
   "outputs": [
    {
     "name": "stdout",
     "output_type": "stream",
     "text": [
      "[[15 26 37 48]\n",
      " [51 62 73 84]]\n",
      "\n",
      "[[ 5 14 23 32]\n",
      " [49 58 67 76]]\n"
     ]
    }
   ],
   "source": [
    "# 두 행렬간 덧셈, 뺄셈\n",
    "a = np.array( [ [ 10, 20, 30, 40 ], [ 50, 60, 70, 80 ] ] )\n",
    "b = np.array( [ [ 5, 6, 7, 8 ], [ 1, 2, 3, 4 ] ] )\n",
    "\n",
    "print( a + b )\n",
    "print()\n",
    "print( a - b )"
   ]
  },
  {
   "cell_type": "markdown",
   "metadata": {},
   "source": [
    "### 2) 벡터의 내적과 행렬의 곱셈"
   ]
  }
 ],
 "metadata": {
  "kernelspec": {
   "display_name": "Python 3",
   "language": "python",
   "name": "python3"
  },
  "language_info": {
   "codemirror_mode": {
    "name": "ipython",
    "version": 3
   },
   "file_extension": ".py",
   "mimetype": "text/x-python",
   "name": "python",
   "nbconvert_exporter": "python",
   "pygments_lexer": "ipython3",
   "version": "3.7.6"
  }
 },
 "nbformat": 4,
 "nbformat_minor": 4
}
