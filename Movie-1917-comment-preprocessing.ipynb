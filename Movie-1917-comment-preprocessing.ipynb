{
 "cells": [
  {
   "cell_type": "markdown",
   "metadata": {},
   "source": [
    "# 1917 영화 댓글 Preprocessing"
   ]
  },
  {
   "cell_type": "code",
   "execution_count": 1,
   "metadata": {},
   "outputs": [],
   "source": [
    "import requests\n",
    "from bs4 import BeautifulSoup\n",
    "from selenium import webdriver\n",
    "\n",
    "import math\n",
    "import time"
   ]
  },
  {
   "cell_type": "markdown",
   "metadata": {},
   "source": [
    "## Naver 영화 페이지의 '1917'영화 댓글 Crawling"
   ]
  },
  {
   "cell_type": "code",
   "execution_count": 2,
   "metadata": {},
   "outputs": [
    {
     "name": "stderr",
     "output_type": "stream",
     "text": [
      "/Users/wolee-mac/opt/anaconda3/envs/nlp/lib/python3.7/site-packages/ipykernel_launcher.py:13: DeprecationWarning: use driver.switch_to.frame instead\n",
      "  del sys.path[0]\n"
     ]
    }
   ],
   "source": [
    "# Chromedriver로 chrome browser 실행\n",
    "path = '/Users/wolee-mac/WorkSpace/chromedriver'\n",
    "browser = webdriver.Chrome( path )\n",
    "\n",
    "# Naver 영화 페이지의 '1917'영화 페이지 이동\n",
    "url = 'https://movie.naver.com/movie/bi/mi/basic.nhn?code=187321'\n",
    "browser.get( url )\n",
    "\n",
    "# 평점에 더보기 링크 클릭\n",
    "view_more = browser.find_element_by_xpath( '//*[@id=\"content\"]/div[1]/div[4]/div[5]/div[2]/div[1]/a' )\n",
    "view_more.click()\n",
    "\n",
    "browser.switch_to_frame( browser.find_element_by_id( 'pointAfterListIframe' ) )"
   ]
  },
  {
   "cell_type": "code",
   "execution_count": 3,
   "metadata": {},
   "outputs": [
    {
     "name": "stdout",
     "output_type": "stream",
     "text": [
      "3096\n",
      "309.6\n",
      "309\n"
     ]
    }
   ],
   "source": [
    "# 전체 댓글수에 따른 페이지 계산\n",
    "html0 = browser.page_source\n",
    "html1 = BeautifulSoup( html0, 'lxml' )\n",
    "html2 = html1.find( 'div', { 'class': 'score_total' } ).find( 'strong' ).findChildren( 'em' )[ 0 ].getText()\n",
    "total_comment = int( html2.replace(',', '') )\n",
    "total_page = total_comment / 10\n",
    "\n",
    "print( total_comment )\n",
    "print( total_page )\n",
    "print( math.trunc( total_page ) )"
   ]
  },
  {
   "cell_type": "code",
   "execution_count": 4,
   "metadata": {},
   "outputs": [],
   "source": [
    "movie_comments = []\n",
    "\n",
    "for page in range( 0, math.trunc( total_page ) ): # 전체 페이지를 이동\n",
    "    time.sleep( 1 ) #1초의 시간 delay\n",
    "    html0 = browser.page_source #selenuim에서 현재 있는 browser의 페이지 소스 불러오기\n",
    "    html1 = BeautifulSoup( html0, 'lxml') #bs4를 이용하여 html로 파싱하기\n",
    "    html2 = html1.find( 'div', { 'class': 'ifr_area basic_ifr' } ) #댓글을 포함하고 있는 tag찾기\n",
    "    review0 = html2.find( 'div', { 'class': 'score_result' } ).find_all( 'li' ) #각 댓글별로 list화\n",
    "    \n",
    "    for i in range( len( review0 ) ): #한페이지 내에서 모든 댓글을 수집하기 위한 반복문\n",
    "        review = review0[ i ].find( 'div',{ 'class': 'score_reple' } ).find( 'span' ).text.strip() #댓글\n",
    "        if review not in '관람객': # 불필요한 내용 삭제\n",
    "            movie_comments.append( review + '\\n' )\n",
    "        \n",
    "    #다음페이지로 넘어가기\n",
    "    if page == 0:\n",
    "        browser.find_elements_by_xpath('//*[@class = \"paging\"]/div/a')[10].click()\n",
    "    else:\n",
    "        browser.find_elements_by_xpath('//*[@class = \"paging\"]/div/a')[11].click()\n"
   ]
  },
  {
   "cell_type": "code",
   "execution_count": null,
   "metadata": {},
   "outputs": [],
   "source": []
  }
 ],
 "metadata": {
  "kernelspec": {
   "display_name": "Python 3",
   "language": "python",
   "name": "python3"
  },
  "language_info": {
   "codemirror_mode": {
    "name": "ipython",
    "version": 3
   },
   "file_extension": ".py",
   "mimetype": "text/x-python",
   "name": "python",
   "nbconvert_exporter": "python",
   "pygments_lexer": "ipython3",
   "version": "3.7.6"
  }
 },
 "nbformat": 4,
 "nbformat_minor": 4
}
