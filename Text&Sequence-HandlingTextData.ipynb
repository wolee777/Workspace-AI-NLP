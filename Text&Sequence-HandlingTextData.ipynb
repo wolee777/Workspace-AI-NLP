{
 "cells": [
  {
   "cell_type": "markdown",
   "metadata": {},
   "source": [
    "# 텍스트 다르기( Handling text data )"
   ]
  },
  {
   "cell_type": "markdown",
   "metadata": {},
   "source": [
    "## 단어 수준의 원-핫 인코딩"
   ]
  },
  {
   "cell_type": "code",
   "execution_count": 1,
   "metadata": {},
   "outputs": [],
   "source": [
    "import numpy as np"
   ]
  },
  {
   "cell_type": "code",
   "execution_count": 2,
   "metadata": {},
   "outputs": [],
   "source": [
    "# 초기 데이터: 각 원소가 샘플입니다\n",
    "# (이 예에서 하나의 샘플이 하나의 문장입니다. 하지만 문서 전체가 될 수도 있습니다)\n",
    "samples = [ 'The cat sat on the mat.', 'The dog ate my homework.' ]"
   ]
  },
  {
   "cell_type": "code",
   "execution_count": 3,
   "metadata": {},
   "outputs": [],
   "source": [
    "# 데이터에 있는 모든 토큰의 인덱스를 구축합니다\n",
    "token_index = {}\n",
    "for sample in samples:\n",
    "    # split() 메서드를 사용해 샘플을 토큰으로 나눕니다.\n",
    "    # 실전에서는 구둣점과 특수 문자도 사용합니다.\n",
    "    for word in sample.split():\n",
    "        if word not in token_index:\n",
    "            # 단어마다 고유한 인덱스를 할당합니다.\n",
    "            token_index[ word ] = len( token_index ) + 1\n",
    "            # 인덱스 0은 사용하지 않습니다."
   ]
  },
  {
   "cell_type": "code",
   "execution_count": 4,
   "metadata": {},
   "outputs": [],
   "source": [
    "# 샘플을 벡터로 변환합니다.\n",
    "# 각 샘플에서 max_length 까지 단어만 사용합니다.\n",
    "max_length = 10"
   ]
  },
  {
   "cell_type": "code",
   "execution_count": 5,
   "metadata": {},
   "outputs": [],
   "source": [
    "# 결과를 저장할 배열입니다\n",
    "results = np.zeros( ( len( samples ), max_length, max( token_index.values() ) + 1 ) )\n",
    "for i, sample in enumerate( samples ):\n",
    "    for j, word in list( enumerate( sample.split() ) )[ :max_length ]:\n",
    "        index = token_index.get( word )\n",
    "        results[ i, j, index ] = 1."
   ]
  },
  {
   "cell_type": "markdown",
   "metadata": {},
   "source": [
    "## 문자 수준 원-핫 인코딩"
   ]
  },
  {
   "cell_type": "code",
   "execution_count": 6,
   "metadata": {},
   "outputs": [],
   "source": [
    "import string"
   ]
  },
  {
   "cell_type": "code",
   "execution_count": 7,
   "metadata": {},
   "outputs": [],
   "source": [
    "samples = [ 'The cat sat on the mat.', 'The dog ate my homework.' ]\n",
    "characters = string.printable  # 출력 가능한 모든 아스키(ASCII) 문자\n",
    "token_index = dict( zip( characters, range( 1, len( characters ) + 1 ) ) )"
   ]
  },
  {
   "cell_type": "code",
   "execution_count": 8,
   "metadata": {},
   "outputs": [],
   "source": [
    "max_length = 50\n",
    "results = np.zeros( ( len( samples ), max_length, max( token_index.values() ) + 1 ) )\n",
    "for i, sample in enumerate( samples ):\n",
    "    for j, character in enumerate( sample[ :max_length ] ):\n",
    "        index = token_index.get( character)\n",
    "        results[ i, j, index ] = 1."
   ]
  },
  {
   "cell_type": "markdown",
   "metadata": {},
   "source": [
    "## 케라스를 사용한 단어 수준의 원-핫 인코딩"
   ]
  },
  {
   "cell_type": "code",
   "execution_count": 9,
   "metadata": {},
   "outputs": [],
   "source": [
    "from tensorflow.keras.preprocessing.text import Tokenizer"
   ]
  },
  {
   "cell_type": "code",
   "execution_count": 10,
   "metadata": {},
   "outputs": [
    {
     "name": "stdout",
     "output_type": "stream",
     "text": [
      "Found 9 unique tokens.\n"
     ]
    }
   ],
   "source": [
    "samples = ['The cat sat on the mat.', 'The dog ate my homework.']\n",
    "\n",
    "# 가장 빈도가 높은 1,000개의 단어만 선택하도록 Tokenizer 객체를 만듭니다.\n",
    "tokenizer = Tokenizer( num_words = 1000 )\n",
    "# 단어 인덱스를 구축합니다.\n",
    "tokenizer.fit_on_texts( samples )\n",
    "\n",
    "# 문자열을 정수 인덱스의 리스트로 변환합니다.\n",
    "sequences = tokenizer.texts_to_sequences( samples )\n",
    "\n",
    "# 직접 원-핫 이진 벡터 표현을 얻을 수 있습니다.\n",
    "# 원-핫 인코딩 외에 다른 벡터화 방법들도 제공합니다!\n",
    "one_hot_results = tokenizer.texts_to_matrix( samples, mode = 'binary' )\n",
    "\n",
    "# 계산된 단어 인덱스를 구합니다.\n",
    "word_index = tokenizer.word_index\n",
    "print( 'Found %s unique tokens.' % len( word_index ) )"
   ]
  },
  {
   "cell_type": "markdown",
   "metadata": {},
   "source": [
    "## 해싱 기법을 사용한 단어 수준의 원-핫 인코딩\n",
    "\n",
    "- 원-핫 인코딩의 변종 중 하나는 원-핫 해싱 기법입니다. \n",
    "- 이 방식은 어휘 사전에 있는 고유한 토큰의 수가 너무 커서 모두 다루기 어려울 때 사용합니다. \n",
    "- 각 단어에 명시적으로 인덱스를 할당하고 이 인덱스를 딕셔너리에 저장하는 대신에 단어를 해싱하여 고정된 크기의 벡터로 변환합니다. \n",
    "- 일반적으로 간단한 해싱 함수를 사용합니다. \n",
    "- 이 방식의 주요 장점은 명시적인 단어 인덱스가 필요 없기 때문에 메모리를 절약하고 온라인 방식으로 데이터를 인코딩할 수 있습니다(전체 데이터를 확인하지 않고 토큰을 생성할 수 있습니다). \n",
    "- 한 가지 단점은 해시 충돌입니다. \n",
    "- 두 개의 단어가 같은 해시를 만들면 이를 바라보는 머신 러닝 모델은 단어 사이의 차이를 인식하지 못합니다. \n",
    "- 해싱 공간의 차원이 해싱될 고유 토큰의 전체 개수보다 훨씬 크면 해시 충돌의 가능성은 감소합니다."
   ]
  },
  {
   "cell_type": "code",
   "execution_count": 11,
   "metadata": {},
   "outputs": [],
   "source": [
    "samples = [ 'The cat sat on the mat.', 'The dog ate my homework.' ]\n",
    "\n",
    "# 단어를 크기가 1,000인 벡터로 저장합니다.\n",
    "# 1,000개(또는 그이상)의 단어가 있다면 해싱 충돌이 늘어나고 인코딩의 정확도가 감소될 것입니다\n",
    "dimensionality = 1000\n",
    "max_length = 10\n",
    "\n",
    "results = np.zeros( ( len( samples ), max_length, dimensionality ) )\n",
    "for i, sample in enumerate( samples ):\n",
    "    for j, word in list(enumerate( sample.split() ) )[ :max_length ]:\n",
    "        # 단어를 해싱하여 0과 1,000 사이의 랜덤한 정수 인덱스로 변환합니다.\n",
    "        index = abs( hash( word ) ) % dimensionality\n",
    "        results[ i, j, index ] = 1."
   ]
  },
  {
   "cell_type": "markdown",
   "metadata": {},
   "source": [
    "## 단어 임베딩"
   ]
  },
  {
   "cell_type": "code",
   "execution_count": 14,
   "metadata": {},
   "outputs": [],
   "source": [
    "from tensorflow.keras.datasets import imdb\n",
    "\n",
    "from tensorflow.keras import preprocessing\n",
    "from tensorflow.keras.layers import Embedding\n",
    "\n",
    "from tensorflow.keras.models import Sequential\n",
    "from tensorflow.keras.layers import Flatten, Dense, Embedding"
   ]
  },
  {
   "cell_type": "code",
   "execution_count": 16,
   "metadata": {},
   "outputs": [
    {
     "name": "stdout",
     "output_type": "stream",
     "text": [
      "Downloading data from https://storage.googleapis.com/tensorflow/tf-keras-datasets/imdb.npz\n",
      "17465344/17464789 [==============================] - 4s 0us/step\n"
     ]
    }
   ],
   "source": [
    "# 특성으로 사용할 단어의 수\n",
    "max_features = 10000\n",
    "# 사용할 텍스트의 길이(가장 빈번한 max_features 개의 단어만 사용합니다)\n",
    "maxlen = 20\n",
    "\n",
    "# 정수 리스트로 데이터를 로드합니다.\n",
    "( X_train, y_train ), ( X_test, y_test ) = imdb.load_data( num_words = max_features )\n",
    "\n",
    "# 리스트를 (samples, maxlen) 크기의 2D 정수 텐서로 변환합니다.\n",
    "X_train = preprocessing.sequence.pad_sequences( X_train, maxlen = maxlen )\n",
    "X_test = preprocessing.sequence.pad_sequences( X_test, maxlen = maxlen )"
   ]
  },
  {
   "cell_type": "code",
   "execution_count": 17,
   "metadata": {},
   "outputs": [
    {
     "name": "stdout",
     "output_type": "stream",
     "text": [
      "Model: \"sequential_1\"\n",
      "_________________________________________________________________\n",
      "Layer (type)                 Output Shape              Param #   \n",
      "=================================================================\n",
      "embedding (Embedding)        (None, 20, 8)             80000     \n",
      "_________________________________________________________________\n",
      "flatten (Flatten)            (None, 160)               0         \n",
      "_________________________________________________________________\n",
      "dense (Dense)                (None, 1)                 161       \n",
      "=================================================================\n",
      "Total params: 80,161\n",
      "Trainable params: 80,161\n",
      "Non-trainable params: 0\n",
      "_________________________________________________________________\n",
      "Train on 20000 samples, validate on 5000 samples\n",
      "Epoch 1/10\n",
      "20000/20000 [==============================] - 4s 184us/sample - loss: 0.6761 - acc: 0.6014 - val_loss: 0.6325 - val_acc: 0.6878\n",
      "Epoch 2/10\n",
      "20000/20000 [==============================] - 2s 82us/sample - loss: 0.5509 - acc: 0.7477 - val_loss: 0.5302 - val_acc: 0.7268\n",
      "Epoch 3/10\n",
      "20000/20000 [==============================] - 2s 91us/sample - loss: 0.4649 - acc: 0.7853 - val_loss: 0.5033 - val_acc: 0.7418\n",
      "Epoch 4/10\n",
      "20000/20000 [==============================] - 1s 69us/sample - loss: 0.4243 - acc: 0.8071 - val_loss: 0.4950 - val_acc: 0.7546\n",
      "Epoch 5/10\n",
      "20000/20000 [==============================] - 2s 76us/sample - loss: 0.3971 - acc: 0.8217 - val_loss: 0.4958 - val_acc: 0.7556\n",
      "Epoch 6/10\n",
      "20000/20000 [==============================] - 2s 80us/sample - loss: 0.3741 - acc: 0.8347 - val_loss: 0.4988 - val_acc: 0.7548\n",
      "Epoch 7/10\n",
      "20000/20000 [==============================] - 2s 99us/sample - loss: 0.3532 - acc: 0.8465 - val_loss: 0.5042 - val_acc: 0.7520\n",
      "Epoch 8/10\n",
      "20000/20000 [==============================] - 2s 80us/sample - loss: 0.3335 - acc: 0.8587 - val_loss: 0.5105 - val_acc: 0.7506\n",
      "Epoch 9/10\n",
      "20000/20000 [==============================] - 2s 79us/sample - loss: 0.3145 - acc: 0.8696 - val_loss: 0.5165 - val_acc: 0.7512\n",
      "Epoch 10/10\n",
      "20000/20000 [==============================] - 1s 73us/sample - loss: 0.2968 - acc: 0.8782 - val_loss: 0.5250 - val_acc: 0.7496\n"
     ]
    }
   ],
   "source": [
    "model = Sequential()\n",
    "# 나중에 임베딩된 입력을 Flatten 층에서 펼치기 위해 Embedding 층에 input_length를 지정합니다.\n",
    "model.add( Embedding( 10000, 8, input_length = maxlen ) )\n",
    "# Embedding 층의 출력 크기는 (samples, maxlen, 8)가 됩니다.\n",
    "\n",
    "# 3D 임베딩 텐서를 (samples, maxlen * 8) 크기의 2D 텐서로 펼칩니다.\n",
    "model.add( Flatten() )\n",
    "\n",
    "# 분류기를 추가합니다.\n",
    "model.add( Dense( 1, activation='sigmoid' ) ) \n",
    "model.compile( optimizer = 'rmsprop', loss = 'binary_crossentropy', metrics = [ 'acc' ] )\n",
    "model.summary()\n",
    "\n",
    "history = model.fit( X_train, y_train,\n",
    "                     epochs = 10,\n",
    "                     batch_size = 32,\n",
    "                     validation_split = 0.2 )"
   ]
  },
  {
   "cell_type": "markdown",
   "metadata": {},
   "source": [
    "## 사전 훈련된 단어 임베딩 사용\n",
    "\n",
    "## 모든 내용을 적용하기: 원본 텍스트에서 단어 임베딩까지\n",
    "\n",
    " http://mng.bz/0tIo 에서 IMDB 원본 데이터셋을 다운로드하고 압축을 해제\n",
    " \n",
    "- 훈련용 리뷰 하나를 문자열 하나로 만들어 훈련 데이터를 문자열의 리스트로 구성해 보죠. \n",
    "- 리뷰 레이블(긍정/부정)도 labels 리스트로 만들겠습니다:"
   ]
  },
  {
   "cell_type": "code",
   "execution_count": 18,
   "metadata": {},
   "outputs": [],
   "source": [
    "import os"
   ]
  },
  {
   "cell_type": "code",
   "execution_count": 22,
   "metadata": {},
   "outputs": [],
   "source": [
    "imdb_dir = './datasets/aclImdb'\n",
    "train_dir = os.path.join( imdb_dir, 'train' )\n",
    "\n",
    "labels = []\n",
    "texts = []\n",
    "\n",
    "for label_type in [ 'neg', 'pos' ]:\n",
    "    dir_name = os.path.join( train_dir, label_type )\n",
    "    for fname in os.listdir( dir_name ):\n",
    "        if fname[ -4: ] == '.txt':\n",
    "            f = open( os.path.join( dir_name, fname ), encoding = 'utf8' )\n",
    "            texts.append( f.read() )\n",
    "            f.close()\n",
    "            if label_type == 'neg':\n",
    "                labels.append( 0 )\n",
    "            else:\n",
    "                labels.append( 1 )"
   ]
  },
  {
   "cell_type": "code",
   "execution_count": null,
   "metadata": {},
   "outputs": [],
   "source": []
  }
 ],
 "metadata": {
  "kernelspec": {
   "display_name": "Python 3",
   "language": "python",
   "name": "python3"
  },
  "language_info": {
   "codemirror_mode": {
    "name": "ipython",
    "version": 3
   },
   "file_extension": ".py",
   "mimetype": "text/x-python",
   "name": "python",
   "nbconvert_exporter": "python",
   "pygments_lexer": "ipython3",
   "version": "3.7.6"
  }
 },
 "nbformat": 4,
 "nbformat_minor": 4
}
