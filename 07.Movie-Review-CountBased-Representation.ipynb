{
 "cells": [
  {
   "cell_type": "markdown",
   "metadata": {},
   "source": [
    "# 영화 Review이용 카운트 기반 단어표현"
   ]
  },
  {
   "cell_type": "code",
   "execution_count": 3,
   "metadata": {},
   "outputs": [],
   "source": [
    "import pandas as pd"
   ]
  },
  {
   "cell_type": "markdown",
   "metadata": {},
   "source": [
    "## 영화 Review data Load 및 review 내용 list로 변환"
   ]
  },
  {
   "cell_type": "code",
   "execution_count": 4,
   "metadata": {},
   "outputs": [],
   "source": [
    "movie_df = pd.read_csv( 'movie_reviews.csv' )"
   ]
  },
  {
   "cell_type": "code",
   "execution_count": 5,
   "metadata": {},
   "outputs": [
    {
     "data": {
      "text/plain": [
       "(384, 4)"
      ]
     },
     "execution_count": 5,
     "metadata": {},
     "output_type": "execute_result"
    }
   ],
   "source": [
    "movie_df.shape"
   ]
  },
  {
   "cell_type": "code",
   "execution_count": 8,
   "metadata": {},
   "outputs": [
    {
     "data": {
      "text/html": [
       "<div>\n",
       "<style scoped>\n",
       "    .dataframe tbody tr th:only-of-type {\n",
       "        vertical-align: middle;\n",
       "    }\n",
       "\n",
       "    .dataframe tbody tr th {\n",
       "        vertical-align: top;\n",
       "    }\n",
       "\n",
       "    .dataframe thead th {\n",
       "        text-align: right;\n",
       "    }\n",
       "</style>\n",
       "<table border=\"1\" class=\"dataframe\">\n",
       "  <thead>\n",
       "    <tr style=\"text-align: right;\">\n",
       "      <th></th>\n",
       "      <th>title</th>\n",
       "      <th>story</th>\n",
       "      <th>genre</th>\n",
       "    </tr>\n",
       "  </thead>\n",
       "  <tbody>\n",
       "    <tr>\n",
       "      <th>0</th>\n",
       "      <td>그린 북</td>\n",
       "      <td>1962년 미국 입담과 주먹만 믿고 살아가던 토니 발레롱가비고 모텐슨는 교양과 우아...</td>\n",
       "      <td>드라마</td>\n",
       "    </tr>\n",
       "    <tr>\n",
       "      <th>1</th>\n",
       "      <td>가버나움</td>\n",
       "      <td>나를 세상에 태어나게 한 부모님을 고소하고 싶어요출생기록조차 없이 살아온 어쩌면 1...</td>\n",
       "      <td>드라마</td>\n",
       "    </tr>\n",
       "    <tr>\n",
       "      <th>2</th>\n",
       "      <td>베일리 어게인</td>\n",
       "      <td>귀여운 소년 이든의 단짝 반려견 베일리는 행복한 생을 마감한다하지만 눈을 떠보니 다...</td>\n",
       "      <td>모험</td>\n",
       "    </tr>\n",
       "    <tr>\n",
       "      <th>3</th>\n",
       "      <td>주전장</td>\n",
       "      <td>일본의 인종차별 문제를 다룬 영상을 올린 후 우익들의 공격 대상이 된 일본계 미국인...</td>\n",
       "      <td>다큐멘터리</td>\n",
       "    </tr>\n",
       "    <tr>\n",
       "      <th>4</th>\n",
       "      <td>포드 V 페라리</td>\n",
       "      <td>1960년대 매출 감소에 빠진 포드는 판매 활로를 찾기 위해스포츠카 레이스를 장악한...</td>\n",
       "      <td>액션</td>\n",
       "    </tr>\n",
       "    <tr>\n",
       "      <th>...</th>\n",
       "      <td>...</td>\n",
       "      <td>...</td>\n",
       "      <td>...</td>\n",
       "    </tr>\n",
       "    <tr>\n",
       "      <th>379</th>\n",
       "      <td>바그다드 카페 : 디렉터스컷</td>\n",
       "      <td>황량한 사막 한가운데 자리 잡은 초라한 바그다드 카페 커피머신은 고장난지 오래고 먼...</td>\n",
       "      <td>코미디</td>\n",
       "    </tr>\n",
       "    <tr>\n",
       "      <th>380</th>\n",
       "      <td>론 서바이버</td>\n",
       "      <td>2005년 6월 28일 아프가니스탄에서 복무중인 네이비씰 대원 마커스 마이클 대니 ...</td>\n",
       "      <td>액션</td>\n",
       "    </tr>\n",
       "    <tr>\n",
       "      <th>381</th>\n",
       "      <td>국제시장</td>\n",
       "      <td>1950년대 한국전쟁 이후로부터 현재에 이르기까지 격변의 시대를 관통하며 살아온 우...</td>\n",
       "      <td>드라마</td>\n",
       "    </tr>\n",
       "    <tr>\n",
       "      <th>382</th>\n",
       "      <td>말레나</td>\n",
       "      <td>2차 대전이 한창인 햇빛 찬란한 지중해의 작은 마을 매혹적인 말레나 걸어갈 때면 어...</td>\n",
       "      <td>드라마</td>\n",
       "    </tr>\n",
       "    <tr>\n",
       "      <th>383</th>\n",
       "      <td>콜드 마운틴</td>\n",
       "      <td>남군 병사인 인만주드 로은 전투 중에 중상을 입고 병원에 입원해있던 도중에 탈영을 ...</td>\n",
       "      <td>드라마</td>\n",
       "    </tr>\n",
       "  </tbody>\n",
       "</table>\n",
       "<p>384 rows × 3 columns</p>\n",
       "</div>"
      ],
      "text/plain": [
       "               title                                              story  genre\n",
       "0               그린 북  1962년 미국 입담과 주먹만 믿고 살아가던 토니 발레롱가비고 모텐슨는 교양과 우아...    드라마\n",
       "1               가버나움  나를 세상에 태어나게 한 부모님을 고소하고 싶어요출생기록조차 없이 살아온 어쩌면 1...    드라마\n",
       "2            베일리 어게인  귀여운 소년 이든의 단짝 반려견 베일리는 행복한 생을 마감한다하지만 눈을 떠보니 다...     모험\n",
       "3                주전장  일본의 인종차별 문제를 다룬 영상을 올린 후 우익들의 공격 대상이 된 일본계 미국인...  다큐멘터리\n",
       "4           포드 V 페라리  1960년대 매출 감소에 빠진 포드는 판매 활로를 찾기 위해스포츠카 레이스를 장악한...     액션\n",
       "..               ...                                                ...    ...\n",
       "379  바그다드 카페 : 디렉터스컷  황량한 사막 한가운데 자리 잡은 초라한 바그다드 카페 커피머신은 고장난지 오래고 먼...    코미디\n",
       "380           론 서바이버  2005년 6월 28일 아프가니스탄에서 복무중인 네이비씰 대원 마커스 마이클 대니 ...     액션\n",
       "381             국제시장  1950년대 한국전쟁 이후로부터 현재에 이르기까지 격변의 시대를 관통하며 살아온 우...    드라마\n",
       "382              말레나  2차 대전이 한창인 햇빛 찬란한 지중해의 작은 마을 매혹적인 말레나 걸어갈 때면 어...    드라마\n",
       "383           콜드 마운틴  남군 병사인 인만주드 로은 전투 중에 중상을 입고 병원에 입원해있던 도중에 탈영을 ...    드라마\n",
       "\n",
       "[384 rows x 3 columns]"
      ]
     },
     "execution_count": 8,
     "metadata": {},
     "output_type": "execute_result"
    }
   ],
   "source": [
    "movie_df.drop( movie_df.columns[ [ 0 ] ], axis = 'columns' )"
   ]
  },
  {
   "cell_type": "code",
   "execution_count": 12,
   "metadata": {},
   "outputs": [],
   "source": [
    "movie_storys = movie_df.story"
   ]
  },
  {
   "cell_type": "code",
   "execution_count": 13,
   "metadata": {},
   "outputs": [],
   "source": [
    "# list로 변환\n",
    "movie_reviews = movie_storys.values.tolist()"
   ]
  },
  {
   "cell_type": "code",
   "execution_count": 15,
   "metadata": {},
   "outputs": [
    {
     "data": {
      "text/plain": [
       "['1962년 미국 입담과 주먹만 믿고 살아가던 토니 발레롱가비고 모텐슨는 교양과 우아함 그 자체인천재 피아니스트 돈 셜리마허샬라 알리 박사의 운전기사 면접을 보게 된다백악관에도 초청되는 등 미국 전역에서 콘서트 요청을 받으며 명성을 떨치고 있는 돈 셜리는위험하기로 소문난 미국 남부 투어 공연을 떠나기로 결심하고투어 기간 동안 자신의 보디가드 겸 운전기사로 토니를 고용한다거친 인생을 살아온 토니 발레롱가와 교양과 기품을 지키며 살아온 돈 셜리 박사생각 행동 말투 취향까지 달라도 너무 다른 두 사람은그들을 위한 여행안내서 그린북에 의존해 특별한 남부 투어를 시작하는데',\n",
       " '나를 세상에 태어나게 한 부모님을 고소하고 싶어요출생기록조차 없이 살아온 어쩌면 12살 소년 자인으로부터',\n",
       " '귀여운 소년 이든의 단짝 반려견 베일리는 행복한 생을 마감한다하지만 눈을 떠보니 다시 시작된 견생 2회차 아니 3회차1등 경찰견 엘리에서 찰떡같이 마음을 알아주는 소울메이트 티노까지다시 태어날 때마다 성별과 생김새 직업에 이름도 바뀌지만여전히 영혼만은 사랑 충만 애교 충만 주인바라기 베일리어느덧 견생 4회차 방랑견이 되어 떠돌던 베일리는마침내 자신이 돌아온 진짜 이유를 깨닫고 어딘가로 달려가기 시작하는데',\n",
       " '일본의 인종차별 문제를 다룬 영상을 올린 후 우익들의 공격 대상이 된 일본계 미국인 유튜버 미키 데자키 그는 일본군위안부에 관한 기사를 쓴 기자가 우익들에게 인신공격 당하는 것을 보며 왜 그토록 이들이 이 문제를 감추려고 하는지 궁금해졌다호기심을 안고 찾아간 그들은 무시무시한 이야기를 전하고 그들의 주장을 반격하는 또 다른 인물들을 만나면서 숨겨진 비밀을 발견하게 되는데 숨 쉴 틈 없는 전쟁이 시작된다',\n",
       " '1960년대 매출 감소에 빠진 포드는 판매 활로를 찾기 위해스포츠카 레이스를 장악한 절대적 1위 페라리와의 인수 합병을 추진한다막대한 자금력에도 불구 계약에 실패하고 엔초 페라리로부터 모욕까지 당한 헨리 포드 2세는르망 24시간 레이스에서 페라리를 박살 낼 차를 만들 것을 지시한다 불가능을 즐기는 두 남자를 주목하라세계 3대 자동차 레이싱 대회이자 지옥의 레이스로 불리는 르망 24시간 레이스출전 경험조차 없는 포드는 대회 6연패를 차지한 페라리에 대항하기 위해르망 레이스 우승자 출신 자동차 디자이너 캐롤 셸비맷 데이먼를 고용하고 그는 누구와도 타협하지 않지만 열정과 실력만큼은 최고인 레이서 켄 마일스크리스찬 베일를 자신의 파트너로 영입한다포드의 경영진은 제 멋대로인 켄 마일스를 눈엣가시처럼 여기며자신들의 입맛에 맞춘 레이스를 펼치기를 강요하지만두 사람은 어떤 간섭에도 굴하지 않고 불가능을 뛰어넘기 위한 질주를 시작하는데그 어떤 각본보다 놀라운 실화가 펼쳐진다']"
      ]
     },
     "execution_count": 15,
     "metadata": {},
     "output_type": "execute_result"
    }
   ],
   "source": [
    "movie_reviews[ :5 ]"
   ]
  },
  {
   "cell_type": "markdown",
   "metadata": {},
   "source": [
    "## 카운트 기반 단어 표현( Count based word Representation )\n",
    "\n",
    "### BoW - python으로 표현"
   ]
  },
  {
   "cell_type": "code",
   "execution_count": 16,
   "metadata": {},
   "outputs": [],
   "source": [
    "from konlpy.tag import Okt"
   ]
  },
  {
   "cell_type": "code",
   "execution_count": 17,
   "metadata": {},
   "outputs": [],
   "source": [
    "okt = Okt()"
   ]
  },
  {
   "cell_type": "code",
   "execution_count": 79,
   "metadata": {},
   "outputs": [
    {
     "data": {
      "text/plain": [
       "['나를',\n",
       " '세상',\n",
       " '에',\n",
       " '태어나게',\n",
       " '한',\n",
       " '부모님',\n",
       " '을',\n",
       " '고소하고',\n",
       " '싶어요',\n",
       " '출생',\n",
       " '기록',\n",
       " '조차',\n",
       " '없이',\n",
       " '살아온',\n",
       " '어쩌면',\n",
       " '12',\n",
       " '살',\n",
       " '소년',\n",
       " '자인',\n",
       " '으로부터']"
      ]
     },
     "execution_count": 79,
     "metadata": {},
     "output_type": "execute_result"
    }
   ],
   "source": [
    "# Okt 형태소 분석기를 이용한 형태소 추출\n",
    "movie_review_tokens = []\n",
    "\n",
    "for review in movie_reviews:\n",
    "    movie_review_tokens.append( okt.morphs( review ) )\n",
    "    \n",
    "movie_review_tokens[ 1 ]"
   ]
  },
  {
   "cell_type": "code",
   "execution_count": 80,
   "metadata": {},
   "outputs": [
    {
     "data": {
      "text/plain": [
       "['세상', '부모님', '출생', '기록', '어쩌면', '살', '소년', '자인']"
      ]
     },
     "execution_count": 80,
     "metadata": {},
     "output_type": "execute_result"
    }
   ],
   "source": [
    "# Okt 형태소 분석기를 이용한 명사 추출\n",
    "movie_review_nouns = []\n",
    "\n",
    "for review in movie_reviews:\n",
    "    movie_review_nouns.append( okt.nouns( review ) )\n",
    "    \n",
    "movie_review_nouns[ 1 ]"
   ]
  },
  {
   "cell_type": "code",
   "execution_count": 81,
   "metadata": {},
   "outputs": [],
   "source": [
    "# 1) 각 단어에 대한 고유한 정수 인데스 부여\n",
    "word2indexs = []\n",
    "bows = []\n",
    "\n",
    "for review_token in movie_review_tokens:\n",
    "    word2index = {}\n",
    "    bow  = []\n",
    "    for voca in review_token:\n",
    "        if voca not in word2index.keys():\n",
    "            word2index[ voca ] = len( word2index )\n",
    "            bow.insert( len( word2index ) - 1, 1 )\n",
    "        else:\n",
    "            index = word2index.get( voca )\n",
    "            bow[ index ] += 1\n",
    "    \n",
    "    word2indexs.append( word2index )\n",
    "    bows.append( bow )"
   ]
  },
  {
   "cell_type": "code",
   "execution_count": 82,
   "metadata": {},
   "outputs": [
    {
     "data": {
      "text/plain": [
       "{'나를': 0,\n",
       " '세상': 1,\n",
       " '에': 2,\n",
       " '태어나게': 3,\n",
       " '한': 4,\n",
       " '부모님': 5,\n",
       " '을': 6,\n",
       " '고소하고': 7,\n",
       " '싶어요': 8,\n",
       " '출생': 9,\n",
       " '기록': 10,\n",
       " '조차': 11,\n",
       " '없이': 12,\n",
       " '살아온': 13,\n",
       " '어쩌면': 14,\n",
       " '12': 15,\n",
       " '살': 16,\n",
       " '소년': 17,\n",
       " '자인': 18,\n",
       " '으로부터': 19}"
      ]
     },
     "execution_count": 82,
     "metadata": {},
     "output_type": "execute_result"
    }
   ],
   "source": [
    "word2indexs[ 1 ]"
   ]
  },
  {
   "cell_type": "code",
   "execution_count": 83,
   "metadata": {},
   "outputs": [
    {
     "data": {
      "text/plain": [
       "[1, 1, 1, 1, 1, 1, 1, 1, 1, 1, 1, 1, 1, 1, 1, 1, 1, 1, 1, 1]"
      ]
     },
     "execution_count": 83,
     "metadata": {},
     "output_type": "execute_result"
    }
   ],
   "source": [
    "bows[ 1 ]"
   ]
  },
  {
   "cell_type": "markdown",
   "metadata": {},
   "source": [
    "### BoW - Scikit Learn의 CountVectorizer이용"
   ]
  },
  {
   "cell_type": "code",
   "execution_count": 30,
   "metadata": {},
   "outputs": [],
   "source": [
    "from sklearn.feature_extraction.text import CountVectorizer"
   ]
  },
  {
   "cell_type": "code",
   "execution_count": 31,
   "metadata": {},
   "outputs": [],
   "source": [
    "vector = CountVectorizer()"
   ]
  },
  {
   "cell_type": "code",
   "execution_count": 34,
   "metadata": {},
   "outputs": [],
   "source": [
    "s_word2indexs = []\n",
    "s_bows = []\n",
    "\n",
    "for review_token in movie_review_tokens:\n",
    "    s_bows.append( vector.fit_transform( review_token ) )\n",
    "    s_word2indexs.append( vector.vocabulary_ )    "
   ]
  },
  {
   "cell_type": "code",
   "execution_count": 35,
   "metadata": {},
   "outputs": [
    {
     "data": {
      "text/plain": [
       "{'나를': 3,\n",
       " '세상': 6,\n",
       " '태어나게': 15,\n",
       " '부모님': 4,\n",
       " '고소하고': 1,\n",
       " '싶어요': 8,\n",
       " '출생': 14,\n",
       " '기록': 2,\n",
       " '조차': 13,\n",
       " '없이': 10,\n",
       " '살아온': 5,\n",
       " '어쩌면': 9,\n",
       " '12': 0,\n",
       " '소년': 7,\n",
       " '자인': 12,\n",
       " '으로부터': 11}"
      ]
     },
     "execution_count": 35,
     "metadata": {},
     "output_type": "execute_result"
    }
   ],
   "source": [
    "s_word2indexs[ 1 ]"
   ]
  },
  {
   "cell_type": "code",
   "execution_count": 38,
   "metadata": {},
   "outputs": [
    {
     "name": "stdout",
     "output_type": "stream",
     "text": [
      "  (0, 3)\t1\n",
      "  (1, 6)\t1\n",
      "  (3, 15)\t1\n",
      "  (5, 4)\t1\n",
      "  (7, 1)\t1\n",
      "  (8, 8)\t1\n",
      "  (9, 14)\t1\n",
      "  (10, 2)\t1\n",
      "  (11, 13)\t1\n",
      "  (12, 10)\t1\n",
      "  (13, 5)\t1\n",
      "  (14, 9)\t1\n",
      "  (15, 0)\t1\n",
      "  (17, 7)\t1\n",
      "  (18, 12)\t1\n",
      "  (19, 11)\t1\n"
     ]
    }
   ],
   "source": [
    "print( s_bows[ 1 ] )"
   ]
  },
  {
   "cell_type": "markdown",
   "metadata": {},
   "source": [
    "### BoW - 불용어 제거 후 Scikit Learn의 CountVectorizer이용"
   ]
  },
  {
   "cell_type": "code",
   "execution_count": 39,
   "metadata": {},
   "outputs": [],
   "source": [
    "stop_words = []\n",
    "\n",
    "with open( 'stopwords.txt', 'r', encoding = 'utf-8' ) as f:\n",
    "    lines = f.readlines()\n",
    "    for line in lines:\n",
    "        stop_words.append( line.rstrip( '\\n' ) )"
   ]
  },
  {
   "cell_type": "code",
   "execution_count": 44,
   "metadata": {},
   "outputs": [],
   "source": [
    "movie_review_tokens_stop = []\n",
    "\n",
    "for review in movie_review_tokens:\n",
    "    results = []\n",
    "    for word in review:\n",
    "        if word not in stop_words:\n",
    "            results.append( word )\n",
    "    movie_review_tokens_stop.append( results )"
   ]
  },
  {
   "cell_type": "code",
   "execution_count": 49,
   "metadata": {},
   "outputs": [
    {
     "data": {
      "text/plain": [
       "['나를',\n",
       " '세상',\n",
       " '태어나게',\n",
       " '한',\n",
       " '부모님',\n",
       " '고소하고',\n",
       " '싶어요',\n",
       " '출생',\n",
       " '기록',\n",
       " '없이',\n",
       " '살아온',\n",
       " '어쩌면',\n",
       " '12',\n",
       " '살',\n",
       " '소년',\n",
       " '자인',\n",
       " '으로부터']"
      ]
     },
     "execution_count": 49,
     "metadata": {},
     "output_type": "execute_result"
    }
   ],
   "source": [
    "movie_review_tokens_stop[ 1 ]"
   ]
  },
  {
   "cell_type": "code",
   "execution_count": 46,
   "metadata": {},
   "outputs": [],
   "source": [
    "word2indexs = []\n",
    "bows = []\n",
    "\n",
    "for review_token in movie_review_tokens_stop:\n",
    "    bows.append( vector.fit_transform( review_token ) )\n",
    "    word2indexs.append( vector.vocabulary_ )    "
   ]
  },
  {
   "cell_type": "code",
   "execution_count": 47,
   "metadata": {},
   "outputs": [
    {
     "data": {
      "text/plain": [
       "{'나를': 3,\n",
       " '세상': 6,\n",
       " '태어나게': 14,\n",
       " '부모님': 4,\n",
       " '고소하고': 1,\n",
       " '싶어요': 8,\n",
       " '출생': 13,\n",
       " '기록': 2,\n",
       " '없이': 10,\n",
       " '살아온': 5,\n",
       " '어쩌면': 9,\n",
       " '12': 0,\n",
       " '소년': 7,\n",
       " '자인': 12,\n",
       " '으로부터': 11}"
      ]
     },
     "execution_count": 47,
     "metadata": {},
     "output_type": "execute_result"
    }
   ],
   "source": [
    "word2indexs[ 1 ]"
   ]
  },
  {
   "cell_type": "code",
   "execution_count": 48,
   "metadata": {},
   "outputs": [
    {
     "name": "stdout",
     "output_type": "stream",
     "text": [
      "  (0, 3)\t1\n",
      "  (1, 6)\t1\n",
      "  (2, 14)\t1\n",
      "  (4, 4)\t1\n",
      "  (5, 1)\t1\n",
      "  (6, 8)\t1\n",
      "  (7, 13)\t1\n",
      "  (8, 2)\t1\n",
      "  (9, 10)\t1\n",
      "  (10, 5)\t1\n",
      "  (11, 9)\t1\n",
      "  (12, 0)\t1\n",
      "  (14, 7)\t1\n",
      "  (15, 12)\t1\n",
      "  (16, 11)\t1\n"
     ]
    }
   ],
   "source": [
    "print( bows[ 1 ] )"
   ]
  },
  {
   "cell_type": "markdown",
   "metadata": {},
   "source": [
    "### 문서 단어 행렬( Document-Term Matrix, DTM )"
   ]
  },
  {
   "cell_type": "code",
   "execution_count": 54,
   "metadata": {},
   "outputs": [],
   "source": [
    "from math import log # IDF 계산을 위해"
   ]
  },
  {
   "cell_type": "code",
   "execution_count": 57,
   "metadata": {},
   "outputs": [],
   "source": [
    "vocab = list( set( w for review in movie_reviews for w in review.split() ) )\n",
    "vocab.sort()"
   ]
  },
  {
   "cell_type": "code",
   "execution_count": 62,
   "metadata": {},
   "outputs": [],
   "source": [
    "# tf(d,t) : 특정 문서 d에서의 특정 단어 t의 등장 횟수.\n",
    "# df(t) : 특정 단어 t가 등장한 문서의 수.\n",
    "# idf(d, t) : df(t)에 반비례하는 수.\n",
    "N = len( movie_reviews ) # 총 문서의 수\n",
    "\n",
    "def tf( t, d ):\n",
    "    return d.count( t )\n",
    "\n",
    "def idf( t ):\n",
    "    df = 0\n",
    "    for review in movie_reviews:\n",
    "        df += t in review\n",
    "    return log( N / ( df + 1 ) )\n",
    "\n",
    "def tfidf( t, d ):\n",
    "    return tf( t, d )* idf( t )"
   ]
  },
  {
   "cell_type": "code",
   "execution_count": 60,
   "metadata": {},
   "outputs": [
    {
     "data": {
      "text/html": [
       "<div>\n",
       "<style scoped>\n",
       "    .dataframe tbody tr th:only-of-type {\n",
       "        vertical-align: middle;\n",
       "    }\n",
       "\n",
       "    .dataframe tbody tr th {\n",
       "        vertical-align: top;\n",
       "    }\n",
       "\n",
       "    .dataframe thead th {\n",
       "        text-align: right;\n",
       "    }\n",
       "</style>\n",
       "<table border=\"1\" class=\"dataframe\">\n",
       "  <thead>\n",
       "    <tr style=\"text-align: right;\">\n",
       "      <th></th>\n",
       "      <th>1</th>\n",
       "      <th>100</th>\n",
       "      <th>1000점을</th>\n",
       "      <th>100m도</th>\n",
       "      <th>100년전</th>\n",
       "      <th>100를</th>\n",
       "      <th>100만</th>\n",
       "      <th>100만이</th>\n",
       "      <th>100미터</th>\n",
       "      <th>100번째</th>\n",
       "      <th>...</th>\n",
       "      <th>힘없는</th>\n",
       "      <th>힘없이</th>\n",
       "      <th>힘에</th>\n",
       "      <th>힘으로</th>\n",
       "      <th>힘은</th>\n",
       "      <th>힘을</th>\n",
       "      <th>힘의</th>\n",
       "      <th>힘이</th>\n",
       "      <th>힘입어</th>\n",
       "      <th>힘차게</th>\n",
       "    </tr>\n",
       "  </thead>\n",
       "  <tbody>\n",
       "    <tr>\n",
       "      <th>0</th>\n",
       "      <td>1</td>\n",
       "      <td>0</td>\n",
       "      <td>0</td>\n",
       "      <td>0</td>\n",
       "      <td>0</td>\n",
       "      <td>0</td>\n",
       "      <td>0</td>\n",
       "      <td>0</td>\n",
       "      <td>0</td>\n",
       "      <td>0</td>\n",
       "      <td>...</td>\n",
       "      <td>0</td>\n",
       "      <td>0</td>\n",
       "      <td>0</td>\n",
       "      <td>0</td>\n",
       "      <td>0</td>\n",
       "      <td>0</td>\n",
       "      <td>0</td>\n",
       "      <td>0</td>\n",
       "      <td>0</td>\n",
       "      <td>0</td>\n",
       "    </tr>\n",
       "    <tr>\n",
       "      <th>1</th>\n",
       "      <td>1</td>\n",
       "      <td>0</td>\n",
       "      <td>0</td>\n",
       "      <td>0</td>\n",
       "      <td>0</td>\n",
       "      <td>0</td>\n",
       "      <td>0</td>\n",
       "      <td>0</td>\n",
       "      <td>0</td>\n",
       "      <td>0</td>\n",
       "      <td>...</td>\n",
       "      <td>0</td>\n",
       "      <td>0</td>\n",
       "      <td>0</td>\n",
       "      <td>0</td>\n",
       "      <td>0</td>\n",
       "      <td>0</td>\n",
       "      <td>0</td>\n",
       "      <td>0</td>\n",
       "      <td>0</td>\n",
       "      <td>0</td>\n",
       "    </tr>\n",
       "    <tr>\n",
       "      <th>2</th>\n",
       "      <td>1</td>\n",
       "      <td>0</td>\n",
       "      <td>0</td>\n",
       "      <td>0</td>\n",
       "      <td>0</td>\n",
       "      <td>0</td>\n",
       "      <td>0</td>\n",
       "      <td>0</td>\n",
       "      <td>0</td>\n",
       "      <td>0</td>\n",
       "      <td>...</td>\n",
       "      <td>0</td>\n",
       "      <td>0</td>\n",
       "      <td>0</td>\n",
       "      <td>0</td>\n",
       "      <td>0</td>\n",
       "      <td>0</td>\n",
       "      <td>0</td>\n",
       "      <td>0</td>\n",
       "      <td>0</td>\n",
       "      <td>0</td>\n",
       "    </tr>\n",
       "    <tr>\n",
       "      <th>3</th>\n",
       "      <td>0</td>\n",
       "      <td>0</td>\n",
       "      <td>0</td>\n",
       "      <td>0</td>\n",
       "      <td>0</td>\n",
       "      <td>0</td>\n",
       "      <td>0</td>\n",
       "      <td>0</td>\n",
       "      <td>0</td>\n",
       "      <td>0</td>\n",
       "      <td>...</td>\n",
       "      <td>0</td>\n",
       "      <td>0</td>\n",
       "      <td>0</td>\n",
       "      <td>0</td>\n",
       "      <td>0</td>\n",
       "      <td>0</td>\n",
       "      <td>0</td>\n",
       "      <td>0</td>\n",
       "      <td>0</td>\n",
       "      <td>0</td>\n",
       "    </tr>\n",
       "    <tr>\n",
       "      <th>4</th>\n",
       "      <td>2</td>\n",
       "      <td>0</td>\n",
       "      <td>0</td>\n",
       "      <td>0</td>\n",
       "      <td>0</td>\n",
       "      <td>0</td>\n",
       "      <td>0</td>\n",
       "      <td>0</td>\n",
       "      <td>0</td>\n",
       "      <td>0</td>\n",
       "      <td>...</td>\n",
       "      <td>0</td>\n",
       "      <td>0</td>\n",
       "      <td>0</td>\n",
       "      <td>0</td>\n",
       "      <td>0</td>\n",
       "      <td>0</td>\n",
       "      <td>0</td>\n",
       "      <td>0</td>\n",
       "      <td>0</td>\n",
       "      <td>0</td>\n",
       "    </tr>\n",
       "    <tr>\n",
       "      <th>...</th>\n",
       "      <td>...</td>\n",
       "      <td>...</td>\n",
       "      <td>...</td>\n",
       "      <td>...</td>\n",
       "      <td>...</td>\n",
       "      <td>...</td>\n",
       "      <td>...</td>\n",
       "      <td>...</td>\n",
       "      <td>...</td>\n",
       "      <td>...</td>\n",
       "      <td>...</td>\n",
       "      <td>...</td>\n",
       "      <td>...</td>\n",
       "      <td>...</td>\n",
       "      <td>...</td>\n",
       "      <td>...</td>\n",
       "      <td>...</td>\n",
       "      <td>...</td>\n",
       "      <td>...</td>\n",
       "      <td>...</td>\n",
       "      <td>...</td>\n",
       "    </tr>\n",
       "    <tr>\n",
       "      <th>379</th>\n",
       "      <td>0</td>\n",
       "      <td>0</td>\n",
       "      <td>0</td>\n",
       "      <td>0</td>\n",
       "      <td>0</td>\n",
       "      <td>0</td>\n",
       "      <td>0</td>\n",
       "      <td>0</td>\n",
       "      <td>0</td>\n",
       "      <td>0</td>\n",
       "      <td>...</td>\n",
       "      <td>0</td>\n",
       "      <td>0</td>\n",
       "      <td>0</td>\n",
       "      <td>0</td>\n",
       "      <td>0</td>\n",
       "      <td>0</td>\n",
       "      <td>0</td>\n",
       "      <td>0</td>\n",
       "      <td>0</td>\n",
       "      <td>0</td>\n",
       "    </tr>\n",
       "    <tr>\n",
       "      <th>380</th>\n",
       "      <td>0</td>\n",
       "      <td>0</td>\n",
       "      <td>0</td>\n",
       "      <td>0</td>\n",
       "      <td>0</td>\n",
       "      <td>0</td>\n",
       "      <td>0</td>\n",
       "      <td>0</td>\n",
       "      <td>0</td>\n",
       "      <td>0</td>\n",
       "      <td>...</td>\n",
       "      <td>0</td>\n",
       "      <td>0</td>\n",
       "      <td>0</td>\n",
       "      <td>0</td>\n",
       "      <td>0</td>\n",
       "      <td>0</td>\n",
       "      <td>0</td>\n",
       "      <td>0</td>\n",
       "      <td>0</td>\n",
       "      <td>0</td>\n",
       "    </tr>\n",
       "    <tr>\n",
       "      <th>381</th>\n",
       "      <td>1</td>\n",
       "      <td>0</td>\n",
       "      <td>0</td>\n",
       "      <td>0</td>\n",
       "      <td>0</td>\n",
       "      <td>0</td>\n",
       "      <td>0</td>\n",
       "      <td>0</td>\n",
       "      <td>0</td>\n",
       "      <td>0</td>\n",
       "      <td>...</td>\n",
       "      <td>0</td>\n",
       "      <td>0</td>\n",
       "      <td>0</td>\n",
       "      <td>0</td>\n",
       "      <td>0</td>\n",
       "      <td>0</td>\n",
       "      <td>0</td>\n",
       "      <td>0</td>\n",
       "      <td>0</td>\n",
       "      <td>0</td>\n",
       "    </tr>\n",
       "    <tr>\n",
       "      <th>382</th>\n",
       "      <td>1</td>\n",
       "      <td>0</td>\n",
       "      <td>0</td>\n",
       "      <td>0</td>\n",
       "      <td>0</td>\n",
       "      <td>0</td>\n",
       "      <td>0</td>\n",
       "      <td>0</td>\n",
       "      <td>0</td>\n",
       "      <td>0</td>\n",
       "      <td>...</td>\n",
       "      <td>0</td>\n",
       "      <td>0</td>\n",
       "      <td>0</td>\n",
       "      <td>0</td>\n",
       "      <td>0</td>\n",
       "      <td>0</td>\n",
       "      <td>0</td>\n",
       "      <td>0</td>\n",
       "      <td>0</td>\n",
       "      <td>0</td>\n",
       "    </tr>\n",
       "    <tr>\n",
       "      <th>383</th>\n",
       "      <td>0</td>\n",
       "      <td>0</td>\n",
       "      <td>0</td>\n",
       "      <td>0</td>\n",
       "      <td>0</td>\n",
       "      <td>0</td>\n",
       "      <td>0</td>\n",
       "      <td>0</td>\n",
       "      <td>0</td>\n",
       "      <td>0</td>\n",
       "      <td>...</td>\n",
       "      <td>0</td>\n",
       "      <td>0</td>\n",
       "      <td>0</td>\n",
       "      <td>0</td>\n",
       "      <td>0</td>\n",
       "      <td>0</td>\n",
       "      <td>0</td>\n",
       "      <td>0</td>\n",
       "      <td>0</td>\n",
       "      <td>0</td>\n",
       "    </tr>\n",
       "  </tbody>\n",
       "</table>\n",
       "<p>384 rows × 22441 columns</p>\n",
       "</div>"
      ],
      "text/plain": [
       "     1  100  1000점을  100m도  100년전  100를  100만  100만이  100미터  100번째  ...  힘없는  \\\n",
       "0    1    0       0      0      0     0     0      0      0      0  ...    0   \n",
       "1    1    0       0      0      0     0     0      0      0      0  ...    0   \n",
       "2    1    0       0      0      0     0     0      0      0      0  ...    0   \n",
       "3    0    0       0      0      0     0     0      0      0      0  ...    0   \n",
       "4    2    0       0      0      0     0     0      0      0      0  ...    0   \n",
       "..  ..  ...     ...    ...    ...   ...   ...    ...    ...    ...  ...  ...   \n",
       "379  0    0       0      0      0     0     0      0      0      0  ...    0   \n",
       "380  0    0       0      0      0     0     0      0      0      0  ...    0   \n",
       "381  1    0       0      0      0     0     0      0      0      0  ...    0   \n",
       "382  1    0       0      0      0     0     0      0      0      0  ...    0   \n",
       "383  0    0       0      0      0     0     0      0      0      0  ...    0   \n",
       "\n",
       "     힘없이  힘에  힘으로  힘은  힘을  힘의  힘이  힘입어  힘차게  \n",
       "0      0   0    0   0   0   0   0    0    0  \n",
       "1      0   0    0   0   0   0   0    0    0  \n",
       "2      0   0    0   0   0   0   0    0    0  \n",
       "3      0   0    0   0   0   0   0    0    0  \n",
       "4      0   0    0   0   0   0   0    0    0  \n",
       "..   ...  ..  ...  ..  ..  ..  ..  ...  ...  \n",
       "379    0   0    0   0   0   0   0    0    0  \n",
       "380    0   0    0   0   0   0   0    0    0  \n",
       "381    0   0    0   0   0   0   0    0    0  \n",
       "382    0   0    0   0   0   0   0    0    0  \n",
       "383    0   0    0   0   0   0   0    0    0  \n",
       "\n",
       "[384 rows x 22441 columns]"
      ]
     },
     "execution_count": 60,
     "metadata": {},
     "output_type": "execute_result"
    }
   ],
   "source": [
    "# DTM\n",
    "result = []\n",
    "for i in range( N ): # 각 문서에 대해서 아래 명령을 수행\n",
    "    result.append( [] )\n",
    "    d = movie_reviews[ i ]\n",
    "    for j in range( len( vocab ) ):\n",
    "        t = vocab[ j ]        \n",
    "        result[ -1 ].append( tf( t, d ) )\n",
    "\n",
    "tf_ = pd.DataFrame( result, columns = vocab )\n",
    "tf_"
   ]
  },
  {
   "cell_type": "code",
   "execution_count": 63,
   "metadata": {},
   "outputs": [
    {
     "data": {
      "text/html": [
       "<div>\n",
       "<style scoped>\n",
       "    .dataframe tbody tr th:only-of-type {\n",
       "        vertical-align: middle;\n",
       "    }\n",
       "\n",
       "    .dataframe tbody tr th {\n",
       "        vertical-align: top;\n",
       "    }\n",
       "\n",
       "    .dataframe thead th {\n",
       "        text-align: right;\n",
       "    }\n",
       "</style>\n",
       "<table border=\"1\" class=\"dataframe\">\n",
       "  <thead>\n",
       "    <tr style=\"text-align: right;\">\n",
       "      <th></th>\n",
       "      <th>IDF</th>\n",
       "    </tr>\n",
       "  </thead>\n",
       "  <tbody>\n",
       "    <tr>\n",
       "      <th>1</th>\n",
       "      <td>0.875469</td>\n",
       "    </tr>\n",
       "    <tr>\n",
       "      <th>100</th>\n",
       "      <td>3.465736</td>\n",
       "    </tr>\n",
       "    <tr>\n",
       "      <th>1000점을</th>\n",
       "      <td>5.257495</td>\n",
       "    </tr>\n",
       "    <tr>\n",
       "      <th>100m도</th>\n",
       "      <td>5.257495</td>\n",
       "    </tr>\n",
       "    <tr>\n",
       "      <th>100년전</th>\n",
       "      <td>5.257495</td>\n",
       "    </tr>\n",
       "    <tr>\n",
       "      <th>...</th>\n",
       "      <td>...</td>\n",
       "    </tr>\n",
       "    <tr>\n",
       "      <th>힘을</th>\n",
       "      <td>2.906120</td>\n",
       "    </tr>\n",
       "    <tr>\n",
       "      <th>힘의</th>\n",
       "      <td>4.158883</td>\n",
       "    </tr>\n",
       "    <tr>\n",
       "      <th>힘이</th>\n",
       "      <td>4.158883</td>\n",
       "    </tr>\n",
       "    <tr>\n",
       "      <th>힘입어</th>\n",
       "      <td>5.257495</td>\n",
       "    </tr>\n",
       "    <tr>\n",
       "      <th>힘차게</th>\n",
       "      <td>5.257495</td>\n",
       "    </tr>\n",
       "  </tbody>\n",
       "</table>\n",
       "<p>22441 rows × 1 columns</p>\n",
       "</div>"
      ],
      "text/plain": [
       "             IDF\n",
       "1       0.875469\n",
       "100     3.465736\n",
       "1000점을  5.257495\n",
       "100m도   5.257495\n",
       "100년전   5.257495\n",
       "...          ...\n",
       "힘을      2.906120\n",
       "힘의      4.158883\n",
       "힘이      4.158883\n",
       "힘입어     5.257495\n",
       "힘차게     5.257495\n",
       "\n",
       "[22441 rows x 1 columns]"
      ]
     },
     "execution_count": 63,
     "metadata": {},
     "output_type": "execute_result"
    }
   ],
   "source": [
    "# IDF 값\n",
    "result = []\n",
    "for j in range( len( vocab ) ):\n",
    "    t = vocab[ j ]\n",
    "    result.append( idf( t ) )\n",
    "\n",
    "idf_ = pd.DataFrame( result, index = vocab, columns = [ \"IDF\" ] )\n",
    "idf_"
   ]
  },
  {
   "cell_type": "code",
   "execution_count": 65,
   "metadata": {},
   "outputs": [
    {
     "data": {
      "text/html": [
       "<div>\n",
       "<style scoped>\n",
       "    .dataframe tbody tr th:only-of-type {\n",
       "        vertical-align: middle;\n",
       "    }\n",
       "\n",
       "    .dataframe tbody tr th {\n",
       "        vertical-align: top;\n",
       "    }\n",
       "\n",
       "    .dataframe thead th {\n",
       "        text-align: right;\n",
       "    }\n",
       "</style>\n",
       "<table border=\"1\" class=\"dataframe\">\n",
       "  <thead>\n",
       "    <tr style=\"text-align: right;\">\n",
       "      <th></th>\n",
       "      <th>1</th>\n",
       "      <th>100</th>\n",
       "      <th>1000점을</th>\n",
       "      <th>100m도</th>\n",
       "      <th>100년전</th>\n",
       "      <th>100를</th>\n",
       "      <th>100만</th>\n",
       "      <th>100만이</th>\n",
       "      <th>100미터</th>\n",
       "      <th>100번째</th>\n",
       "      <th>...</th>\n",
       "      <th>힘없는</th>\n",
       "      <th>힘없이</th>\n",
       "      <th>힘에</th>\n",
       "      <th>힘으로</th>\n",
       "      <th>힘은</th>\n",
       "      <th>힘을</th>\n",
       "      <th>힘의</th>\n",
       "      <th>힘이</th>\n",
       "      <th>힘입어</th>\n",
       "      <th>힘차게</th>\n",
       "    </tr>\n",
       "  </thead>\n",
       "  <tbody>\n",
       "    <tr>\n",
       "      <th>0</th>\n",
       "      <td>0.875469</td>\n",
       "      <td>0.0</td>\n",
       "      <td>0.0</td>\n",
       "      <td>0.0</td>\n",
       "      <td>0.0</td>\n",
       "      <td>0.0</td>\n",
       "      <td>0.0</td>\n",
       "      <td>0.0</td>\n",
       "      <td>0.0</td>\n",
       "      <td>0.0</td>\n",
       "      <td>...</td>\n",
       "      <td>0.0</td>\n",
       "      <td>0.0</td>\n",
       "      <td>0.0</td>\n",
       "      <td>0.0</td>\n",
       "      <td>0.0</td>\n",
       "      <td>0.0</td>\n",
       "      <td>0.0</td>\n",
       "      <td>0.0</td>\n",
       "      <td>0.0</td>\n",
       "      <td>0.0</td>\n",
       "    </tr>\n",
       "    <tr>\n",
       "      <th>1</th>\n",
       "      <td>0.875469</td>\n",
       "      <td>0.0</td>\n",
       "      <td>0.0</td>\n",
       "      <td>0.0</td>\n",
       "      <td>0.0</td>\n",
       "      <td>0.0</td>\n",
       "      <td>0.0</td>\n",
       "      <td>0.0</td>\n",
       "      <td>0.0</td>\n",
       "      <td>0.0</td>\n",
       "      <td>...</td>\n",
       "      <td>0.0</td>\n",
       "      <td>0.0</td>\n",
       "      <td>0.0</td>\n",
       "      <td>0.0</td>\n",
       "      <td>0.0</td>\n",
       "      <td>0.0</td>\n",
       "      <td>0.0</td>\n",
       "      <td>0.0</td>\n",
       "      <td>0.0</td>\n",
       "      <td>0.0</td>\n",
       "    </tr>\n",
       "    <tr>\n",
       "      <th>2</th>\n",
       "      <td>0.875469</td>\n",
       "      <td>0.0</td>\n",
       "      <td>0.0</td>\n",
       "      <td>0.0</td>\n",
       "      <td>0.0</td>\n",
       "      <td>0.0</td>\n",
       "      <td>0.0</td>\n",
       "      <td>0.0</td>\n",
       "      <td>0.0</td>\n",
       "      <td>0.0</td>\n",
       "      <td>...</td>\n",
       "      <td>0.0</td>\n",
       "      <td>0.0</td>\n",
       "      <td>0.0</td>\n",
       "      <td>0.0</td>\n",
       "      <td>0.0</td>\n",
       "      <td>0.0</td>\n",
       "      <td>0.0</td>\n",
       "      <td>0.0</td>\n",
       "      <td>0.0</td>\n",
       "      <td>0.0</td>\n",
       "    </tr>\n",
       "    <tr>\n",
       "      <th>3</th>\n",
       "      <td>0.000000</td>\n",
       "      <td>0.0</td>\n",
       "      <td>0.0</td>\n",
       "      <td>0.0</td>\n",
       "      <td>0.0</td>\n",
       "      <td>0.0</td>\n",
       "      <td>0.0</td>\n",
       "      <td>0.0</td>\n",
       "      <td>0.0</td>\n",
       "      <td>0.0</td>\n",
       "      <td>...</td>\n",
       "      <td>0.0</td>\n",
       "      <td>0.0</td>\n",
       "      <td>0.0</td>\n",
       "      <td>0.0</td>\n",
       "      <td>0.0</td>\n",
       "      <td>0.0</td>\n",
       "      <td>0.0</td>\n",
       "      <td>0.0</td>\n",
       "      <td>0.0</td>\n",
       "      <td>0.0</td>\n",
       "    </tr>\n",
       "    <tr>\n",
       "      <th>4</th>\n",
       "      <td>1.750937</td>\n",
       "      <td>0.0</td>\n",
       "      <td>0.0</td>\n",
       "      <td>0.0</td>\n",
       "      <td>0.0</td>\n",
       "      <td>0.0</td>\n",
       "      <td>0.0</td>\n",
       "      <td>0.0</td>\n",
       "      <td>0.0</td>\n",
       "      <td>0.0</td>\n",
       "      <td>...</td>\n",
       "      <td>0.0</td>\n",
       "      <td>0.0</td>\n",
       "      <td>0.0</td>\n",
       "      <td>0.0</td>\n",
       "      <td>0.0</td>\n",
       "      <td>0.0</td>\n",
       "      <td>0.0</td>\n",
       "      <td>0.0</td>\n",
       "      <td>0.0</td>\n",
       "      <td>0.0</td>\n",
       "    </tr>\n",
       "    <tr>\n",
       "      <th>...</th>\n",
       "      <td>...</td>\n",
       "      <td>...</td>\n",
       "      <td>...</td>\n",
       "      <td>...</td>\n",
       "      <td>...</td>\n",
       "      <td>...</td>\n",
       "      <td>...</td>\n",
       "      <td>...</td>\n",
       "      <td>...</td>\n",
       "      <td>...</td>\n",
       "      <td>...</td>\n",
       "      <td>...</td>\n",
       "      <td>...</td>\n",
       "      <td>...</td>\n",
       "      <td>...</td>\n",
       "      <td>...</td>\n",
       "      <td>...</td>\n",
       "      <td>...</td>\n",
       "      <td>...</td>\n",
       "      <td>...</td>\n",
       "      <td>...</td>\n",
       "    </tr>\n",
       "    <tr>\n",
       "      <th>379</th>\n",
       "      <td>0.000000</td>\n",
       "      <td>0.0</td>\n",
       "      <td>0.0</td>\n",
       "      <td>0.0</td>\n",
       "      <td>0.0</td>\n",
       "      <td>0.0</td>\n",
       "      <td>0.0</td>\n",
       "      <td>0.0</td>\n",
       "      <td>0.0</td>\n",
       "      <td>0.0</td>\n",
       "      <td>...</td>\n",
       "      <td>0.0</td>\n",
       "      <td>0.0</td>\n",
       "      <td>0.0</td>\n",
       "      <td>0.0</td>\n",
       "      <td>0.0</td>\n",
       "      <td>0.0</td>\n",
       "      <td>0.0</td>\n",
       "      <td>0.0</td>\n",
       "      <td>0.0</td>\n",
       "      <td>0.0</td>\n",
       "    </tr>\n",
       "    <tr>\n",
       "      <th>380</th>\n",
       "      <td>0.000000</td>\n",
       "      <td>0.0</td>\n",
       "      <td>0.0</td>\n",
       "      <td>0.0</td>\n",
       "      <td>0.0</td>\n",
       "      <td>0.0</td>\n",
       "      <td>0.0</td>\n",
       "      <td>0.0</td>\n",
       "      <td>0.0</td>\n",
       "      <td>0.0</td>\n",
       "      <td>...</td>\n",
       "      <td>0.0</td>\n",
       "      <td>0.0</td>\n",
       "      <td>0.0</td>\n",
       "      <td>0.0</td>\n",
       "      <td>0.0</td>\n",
       "      <td>0.0</td>\n",
       "      <td>0.0</td>\n",
       "      <td>0.0</td>\n",
       "      <td>0.0</td>\n",
       "      <td>0.0</td>\n",
       "    </tr>\n",
       "    <tr>\n",
       "      <th>381</th>\n",
       "      <td>0.875469</td>\n",
       "      <td>0.0</td>\n",
       "      <td>0.0</td>\n",
       "      <td>0.0</td>\n",
       "      <td>0.0</td>\n",
       "      <td>0.0</td>\n",
       "      <td>0.0</td>\n",
       "      <td>0.0</td>\n",
       "      <td>0.0</td>\n",
       "      <td>0.0</td>\n",
       "      <td>...</td>\n",
       "      <td>0.0</td>\n",
       "      <td>0.0</td>\n",
       "      <td>0.0</td>\n",
       "      <td>0.0</td>\n",
       "      <td>0.0</td>\n",
       "      <td>0.0</td>\n",
       "      <td>0.0</td>\n",
       "      <td>0.0</td>\n",
       "      <td>0.0</td>\n",
       "      <td>0.0</td>\n",
       "    </tr>\n",
       "    <tr>\n",
       "      <th>382</th>\n",
       "      <td>0.875469</td>\n",
       "      <td>0.0</td>\n",
       "      <td>0.0</td>\n",
       "      <td>0.0</td>\n",
       "      <td>0.0</td>\n",
       "      <td>0.0</td>\n",
       "      <td>0.0</td>\n",
       "      <td>0.0</td>\n",
       "      <td>0.0</td>\n",
       "      <td>0.0</td>\n",
       "      <td>...</td>\n",
       "      <td>0.0</td>\n",
       "      <td>0.0</td>\n",
       "      <td>0.0</td>\n",
       "      <td>0.0</td>\n",
       "      <td>0.0</td>\n",
       "      <td>0.0</td>\n",
       "      <td>0.0</td>\n",
       "      <td>0.0</td>\n",
       "      <td>0.0</td>\n",
       "      <td>0.0</td>\n",
       "    </tr>\n",
       "    <tr>\n",
       "      <th>383</th>\n",
       "      <td>0.000000</td>\n",
       "      <td>0.0</td>\n",
       "      <td>0.0</td>\n",
       "      <td>0.0</td>\n",
       "      <td>0.0</td>\n",
       "      <td>0.0</td>\n",
       "      <td>0.0</td>\n",
       "      <td>0.0</td>\n",
       "      <td>0.0</td>\n",
       "      <td>0.0</td>\n",
       "      <td>...</td>\n",
       "      <td>0.0</td>\n",
       "      <td>0.0</td>\n",
       "      <td>0.0</td>\n",
       "      <td>0.0</td>\n",
       "      <td>0.0</td>\n",
       "      <td>0.0</td>\n",
       "      <td>0.0</td>\n",
       "      <td>0.0</td>\n",
       "      <td>0.0</td>\n",
       "      <td>0.0</td>\n",
       "    </tr>\n",
       "  </tbody>\n",
       "</table>\n",
       "<p>384 rows × 22441 columns</p>\n",
       "</div>"
      ],
      "text/plain": [
       "            1  100  1000점을  100m도  100년전  100를  100만  100만이  100미터  100번째  \\\n",
       "0    0.875469  0.0     0.0    0.0    0.0   0.0   0.0    0.0    0.0    0.0   \n",
       "1    0.875469  0.0     0.0    0.0    0.0   0.0   0.0    0.0    0.0    0.0   \n",
       "2    0.875469  0.0     0.0    0.0    0.0   0.0   0.0    0.0    0.0    0.0   \n",
       "3    0.000000  0.0     0.0    0.0    0.0   0.0   0.0    0.0    0.0    0.0   \n",
       "4    1.750937  0.0     0.0    0.0    0.0   0.0   0.0    0.0    0.0    0.0   \n",
       "..        ...  ...     ...    ...    ...   ...   ...    ...    ...    ...   \n",
       "379  0.000000  0.0     0.0    0.0    0.0   0.0   0.0    0.0    0.0    0.0   \n",
       "380  0.000000  0.0     0.0    0.0    0.0   0.0   0.0    0.0    0.0    0.0   \n",
       "381  0.875469  0.0     0.0    0.0    0.0   0.0   0.0    0.0    0.0    0.0   \n",
       "382  0.875469  0.0     0.0    0.0    0.0   0.0   0.0    0.0    0.0    0.0   \n",
       "383  0.000000  0.0     0.0    0.0    0.0   0.0   0.0    0.0    0.0    0.0   \n",
       "\n",
       "     ...  힘없는  힘없이   힘에  힘으로   힘은   힘을   힘의   힘이  힘입어  힘차게  \n",
       "0    ...  0.0  0.0  0.0  0.0  0.0  0.0  0.0  0.0  0.0  0.0  \n",
       "1    ...  0.0  0.0  0.0  0.0  0.0  0.0  0.0  0.0  0.0  0.0  \n",
       "2    ...  0.0  0.0  0.0  0.0  0.0  0.0  0.0  0.0  0.0  0.0  \n",
       "3    ...  0.0  0.0  0.0  0.0  0.0  0.0  0.0  0.0  0.0  0.0  \n",
       "4    ...  0.0  0.0  0.0  0.0  0.0  0.0  0.0  0.0  0.0  0.0  \n",
       "..   ...  ...  ...  ...  ...  ...  ...  ...  ...  ...  ...  \n",
       "379  ...  0.0  0.0  0.0  0.0  0.0  0.0  0.0  0.0  0.0  0.0  \n",
       "380  ...  0.0  0.0  0.0  0.0  0.0  0.0  0.0  0.0  0.0  0.0  \n",
       "381  ...  0.0  0.0  0.0  0.0  0.0  0.0  0.0  0.0  0.0  0.0  \n",
       "382  ...  0.0  0.0  0.0  0.0  0.0  0.0  0.0  0.0  0.0  0.0  \n",
       "383  ...  0.0  0.0  0.0  0.0  0.0  0.0  0.0  0.0  0.0  0.0  \n",
       "\n",
       "[384 rows x 22441 columns]"
      ]
     },
     "execution_count": 65,
     "metadata": {},
     "output_type": "execute_result"
    }
   ],
   "source": [
    "# TF-IDF 행렬\n",
    "result = []\n",
    "for i in range( N ):\n",
    "    result.append( [] )\n",
    "    review = movie_reviews[ i ]\n",
    "    for j in range( len( vocab ) ):\n",
    "        t = vocab[ j ]\n",
    "\n",
    "        result[ -1 ].append( tfidf( t, review ) )\n",
    "\n",
    "tfidf_ = pd.DataFrame( result, columns = vocab )\n",
    "tfidf_"
   ]
  },
  {
   "cell_type": "markdown",
   "metadata": {},
   "source": [
    "## 문서 유사도( Document Similarity )\n",
    "\n",
    "### 코사인 유사도( Cosine Similarity )"
   ]
  },
  {
   "cell_type": "code",
   "execution_count": 87,
   "metadata": {},
   "outputs": [
    {
     "data": {
      "text/html": [
       "<div>\n",
       "<style scoped>\n",
       "    .dataframe tbody tr th:only-of-type {\n",
       "        vertical-align: middle;\n",
       "    }\n",
       "\n",
       "    .dataframe tbody tr th {\n",
       "        vertical-align: top;\n",
       "    }\n",
       "\n",
       "    .dataframe thead th {\n",
       "        text-align: right;\n",
       "    }\n",
       "</style>\n",
       "<table border=\"1\" class=\"dataframe\">\n",
       "  <thead>\n",
       "    <tr style=\"text-align: right;\">\n",
       "      <th></th>\n",
       "      <th>Unnamed: 0</th>\n",
       "      <th>title</th>\n",
       "      <th>story</th>\n",
       "      <th>genre</th>\n",
       "    </tr>\n",
       "  </thead>\n",
       "  <tbody>\n",
       "    <tr>\n",
       "      <th>0</th>\n",
       "      <td>0</td>\n",
       "      <td>그린 북</td>\n",
       "      <td>1962년 미국 입담과 주먹만 믿고 살아가던 토니 발레롱가비고 모텐슨는 교양과 우아...</td>\n",
       "      <td>드라마</td>\n",
       "    </tr>\n",
       "    <tr>\n",
       "      <th>1</th>\n",
       "      <td>1</td>\n",
       "      <td>가버나움</td>\n",
       "      <td>나를 세상에 태어나게 한 부모님을 고소하고 싶어요출생기록조차 없이 살아온 어쩌면 1...</td>\n",
       "      <td>드라마</td>\n",
       "    </tr>\n",
       "    <tr>\n",
       "      <th>2</th>\n",
       "      <td>2</td>\n",
       "      <td>베일리 어게인</td>\n",
       "      <td>귀여운 소년 이든의 단짝 반려견 베일리는 행복한 생을 마감한다하지만 눈을 떠보니 다...</td>\n",
       "      <td>모험</td>\n",
       "    </tr>\n",
       "    <tr>\n",
       "      <th>3</th>\n",
       "      <td>3</td>\n",
       "      <td>주전장</td>\n",
       "      <td>일본의 인종차별 문제를 다룬 영상을 올린 후 우익들의 공격 대상이 된 일본계 미국인...</td>\n",
       "      <td>다큐멘터리</td>\n",
       "    </tr>\n",
       "    <tr>\n",
       "      <th>4</th>\n",
       "      <td>4</td>\n",
       "      <td>포드 V 페라리</td>\n",
       "      <td>1960년대 매출 감소에 빠진 포드는 판매 활로를 찾기 위해스포츠카 레이스를 장악한...</td>\n",
       "      <td>액션</td>\n",
       "    </tr>\n",
       "  </tbody>\n",
       "</table>\n",
       "</div>"
      ],
      "text/plain": [
       "   Unnamed: 0     title                                              story  \\\n",
       "0           0      그린 북  1962년 미국 입담과 주먹만 믿고 살아가던 토니 발레롱가비고 모텐슨는 교양과 우아...   \n",
       "1           1      가버나움  나를 세상에 태어나게 한 부모님을 고소하고 싶어요출생기록조차 없이 살아온 어쩌면 1...   \n",
       "2           2   베일리 어게인  귀여운 소년 이든의 단짝 반려견 베일리는 행복한 생을 마감한다하지만 눈을 떠보니 다...   \n",
       "3           3       주전장  일본의 인종차별 문제를 다룬 영상을 올린 후 우익들의 공격 대상이 된 일본계 미국인...   \n",
       "4           4  포드 V 페라리  1960년대 매출 감소에 빠진 포드는 판매 활로를 찾기 위해스포츠카 레이스를 장악한...   \n",
       "\n",
       "   genre  \n",
       "0    드라마  \n",
       "1    드라마  \n",
       "2     모험  \n",
       "3  다큐멘터리  \n",
       "4     액션  "
      ]
     },
     "execution_count": 87,
     "metadata": {},
     "output_type": "execute_result"
    }
   ],
   "source": [
    "movie_df.head()"
   ]
  },
  {
   "cell_type": "code",
   "execution_count": 89,
   "metadata": {},
   "outputs": [
    {
     "data": {
      "text/plain": [
       "(384, 4)"
      ]
     },
     "execution_count": 89,
     "metadata": {},
     "output_type": "execute_result"
    }
   ],
   "source": [
    "movie_df.shape"
   ]
  },
  {
   "cell_type": "code",
   "execution_count": 90,
   "metadata": {},
   "outputs": [
    {
     "data": {
      "text/plain": [
       "0"
      ]
     },
     "execution_count": 90,
     "metadata": {},
     "output_type": "execute_result"
    }
   ],
   "source": [
    "movie_df[ 'story' ].isnull().sum()"
   ]
  },
  {
   "cell_type": "code",
   "execution_count": 91,
   "metadata": {},
   "outputs": [],
   "source": [
    "from sklearn.feature_extraction.text import TfidfVectorizer"
   ]
  },
  {
   "cell_type": "code",
   "execution_count": 92,
   "metadata": {},
   "outputs": [
    {
     "name": "stdout",
     "output_type": "stream",
     "text": [
      "(384, 22078)\n"
     ]
    }
   ],
   "source": [
    "tfidf = TfidfVectorizer()\n",
    "tfidf_matrix = tfidf.fit_transform( movie_df[ 'story' ] )\n",
    "# overview에 대해서 tf-idf 수행\n",
    "print( tfidf_matrix.shape )"
   ]
  },
  {
   "cell_type": "code",
   "execution_count": 93,
   "metadata": {},
   "outputs": [],
   "source": [
    "from sklearn.metrics.pairwise import linear_kernel"
   ]
  },
  {
   "cell_type": "code",
   "execution_count": 94,
   "metadata": {},
   "outputs": [],
   "source": [
    "cosine_sim = linear_kernel( tfidf_matrix, tfidf_matrix )"
   ]
  },
  {
   "cell_type": "code",
   "execution_count": 96,
   "metadata": {},
   "outputs": [
    {
     "name": "stdout",
     "output_type": "stream",
     "text": [
      "title\n",
      "그린 북        0\n",
      "가버나움        1\n",
      "베일리 어게인     2\n",
      "주전장         3\n",
      "포드 V 페라리    4\n",
      "dtype: int64\n"
     ]
    }
   ],
   "source": [
    "indices = pd.Series( movie_df.index, index = movie_df[ 'title' ] ).drop_duplicates()\n",
    "print( indices.head() )"
   ]
  },
  {
   "cell_type": "code",
   "execution_count": 98,
   "metadata": {},
   "outputs": [
    {
     "name": "stdout",
     "output_type": "stream",
     "text": [
      "0\n"
     ]
    }
   ],
   "source": [
    "idx = indices[ '그린 북' ]\n",
    "print( idx )"
   ]
  },
  {
   "cell_type": "code",
   "execution_count": 101,
   "metadata": {},
   "outputs": [],
   "source": [
    "def get_recommendations( title, cosine_sim=cosine_sim) :\n",
    "    # 선택한 영화의 타이틀로부터 해당되는 인덱스를 받아옵니다. 이제 선택한 영화를 가지고 연산할 수 있습니다.\n",
    "    idx = indices[ title ]\n",
    "\n",
    "    # 모든 영화에 대해서 해당 영화와의 유사도를 구합니다.\n",
    "    sim_scores = list( enumerate( cosine_sim[ idx ] ) )\n",
    "\n",
    "    # 유사도에 따라 영화들을 정렬합니다.\n",
    "    sim_scores = sorted( sim_scores, key = lambda x: x[ 1 ], reverse = True )\n",
    "\n",
    "    # 가장 유사한 10개의 영화를 받아옵니다.\n",
    "    sim_scores = sim_scores[ 1: 11 ]\n",
    "\n",
    "    # 가장 유사한 10개의 영화의 인덱스를 받아옵니다.\n",
    "    movie_indices = [ i[ 0 ] for i in sim_scores ]\n",
    "\n",
    "    # 가장 유사한 10개의 영화의 제목을 리턴합니다.\n",
    "    return movie_df[ 'title' ].iloc[ movie_indices ]"
   ]
  },
  {
   "cell_type": "code",
   "execution_count": 102,
   "metadata": {},
   "outputs": [
    {
     "data": {
      "text/plain": [
       "381            국제시장\n",
       "1              가버나움\n",
       "20               헬프\n",
       "355          인사이드 잡\n",
       "148       피아니스트의 전설\n",
       "69     러브 유어셀프 인 서울\n",
       "140       온리 더 브레이브\n",
       "231             칼리토\n",
       "158          트와이스랜드\n",
       "45            클레멘타인\n",
       "Name: title, dtype: object"
      ]
     },
     "execution_count": 102,
     "metadata": {},
     "output_type": "execute_result"
    }
   ],
   "source": [
    "get_recommendations( '그린 북' )"
   ]
  },
  {
   "cell_type": "code",
   "execution_count": 103,
   "metadata": {},
   "outputs": [
    {
     "data": {
      "text/plain": [
       "296             웨딩 드레스\n",
       "1                 가버나움\n",
       "218              나비 효과\n",
       "166               해바라기\n",
       "375             싱 스트리트\n",
       "116    빌리 엘리어트 뮤지컬 라이브\n",
       "0                 그린 북\n",
       "160      해리 포터와 마법사의 돌\n",
       "354                크로싱\n",
       "50          다시 태어나도 우리\n",
       "Name: title, dtype: object"
      ]
     },
     "execution_count": 103,
     "metadata": {},
     "output_type": "execute_result"
    }
   ],
   "source": [
    "get_recommendations( '국제시장' )"
   ]
  },
  {
   "cell_type": "markdown",
   "metadata": {},
   "source": [
    "## Topic Modeling\n",
    "\n",
    "## 잠재 의미 분석( Latent Semantic Analysis, LSA )"
   ]
  },
  {
   "cell_type": "markdown",
   "metadata": {},
   "source": [
    "### TF-IDF 행렬"
   ]
  },
  {
   "cell_type": "code",
   "execution_count": 106,
   "metadata": {},
   "outputs": [
    {
     "data": {
      "text/plain": [
       "(384, 1000)"
      ]
     },
     "execution_count": 106,
     "metadata": {},
     "output_type": "execute_result"
    }
   ],
   "source": [
    "vectorizer = TfidfVectorizer( max_features= 1000, max_df = 0.5, smooth_idf=True )\n",
    "\n",
    "X = vectorizer.fit_transform( movie_reviews )\n",
    "X.shape # TF-IDF 행렬의 크기 확인"
   ]
  },
  {
   "cell_type": "markdown",
   "metadata": {},
   "source": [
    "### Topic Modeling"
   ]
  },
  {
   "cell_type": "code",
   "execution_count": 107,
   "metadata": {},
   "outputs": [
    {
     "data": {
      "text/plain": [
       "20"
      ]
     },
     "execution_count": 107,
     "metadata": {},
     "output_type": "execute_result"
    }
   ],
   "source": [
    "from sklearn.decomposition import TruncatedSVD\n",
    "svd_model = TruncatedSVD( n_components = 20, algorithm = 'randomized', n_iter = 100, random_state = 122 )\n",
    "svd_model.fit( X )\n",
    "len(svd_model.components_)"
   ]
  },
  {
   "cell_type": "code",
   "execution_count": 108,
   "metadata": {},
   "outputs": [
    {
     "data": {
      "text/plain": [
       "(20, 1000)"
      ]
     },
     "execution_count": 108,
     "metadata": {},
     "output_type": "execute_result"
    }
   ],
   "source": [
    "np.shape(svd_model.components_)"
   ]
  },
  {
   "cell_type": "code",
   "execution_count": 109,
   "metadata": {},
   "outputs": [],
   "source": [
    "terms = vectorizer.get_feature_names() # 단어 집합. 1,000개의 단어가 저장됨.\n",
    "\n",
    "def get_topics( components, feature_names, n = 5 ):\n",
    "    for idx, topic in enumerate( components ):\n",
    "        print( \"Topic %d:\" % ( idx + 1 ), [ ( feature_names[ i ], topic[ i ].round( 5 ) ) for i in topic.argsort()[ :-n - 1: -1 ] ] )"
   ]
  },
  {
   "cell_type": "code",
   "execution_count": 110,
   "metadata": {},
   "outputs": [
    {
     "name": "stdout",
     "output_type": "stream",
     "text": [
      "Topic 1: [('된다', 0.21939), ('위해', 0.20719), ('있는', 0.16388), ('함께', 0.1546), ('없는', 0.14288)]\n",
      "Topic 2: [('반지원정대는', 0.28616), ('악의', 0.27503), ('전쟁을', 0.25209), ('위해', 0.22172), ('최후의', 0.16811)]\n",
      "Topic 3: [('있을까', 0.20423), ('이야기가', 0.15772), ('가장', 0.15716), ('시작된다', 0.14525), ('로봇', 0.13999)]\n",
      "Topic 4: [('위해', 0.27143), ('되는데', 0.23134), ('세계', 0.20337), ('미국', 0.18014), ('꿈을', 0.13367)]\n",
      "Topic 5: [('로봇', 0.3401), ('있을까', 0.25133), ('위기에', 0.15261), ('과연', 0.1443), ('된다', 0.12299)]\n",
      "Topic 6: [('되는데', 0.22245), ('된다', 0.17027), ('만나게', 0.15441), ('사랑을', 0.14427), ('만나', 0.12239)]\n",
      "Topic 7: [('위해', 0.29946), ('함께', 0.20103), ('이야기가', 0.14873), ('시작된다', 0.14207), ('일본', 0.11632)]\n",
      "Topic 8: [('되는데', 0.27512), ('있는', 0.24949), ('마을', 0.16557), ('살고', 0.13096), ('그의', 0.12934)]\n",
      "Topic 9: [('가장', 0.21772), ('찾아', 0.17107), ('못했던', 0.16412), ('사랑을', 0.1207), ('이야기가', 0.11854)]\n",
      "Topic 10: [('꿈을', 0.2372), ('함께', 0.18092), ('되는데', 0.14282), ('되고', 0.14207), ('점점', 0.14193)]\n",
      "Topic 11: [('미국', 0.20862), ('위해', 0.15739), ('사랑을', 0.15573), ('다시', 0.14814), ('세계', 0.12262)]\n",
      "Topic 12: [('사건', 0.36539), ('새로운', 0.17422), ('어느', 0.13426), ('않는', 0.12061), ('그러던', 0.11034)]\n",
      "Topic 13: [('그의', 0.26044), ('로봇', 0.20498), ('미국', 0.17665), ('새로운', 0.17429), ('어느', 0.13028)]\n",
      "Topic 14: [('자신의', 0.20917), ('사건', 0.169), ('이야기가', 0.15566), ('살고', 0.13572), ('사랑에', 0.13382)]\n",
      "Topic 15: [('로봇', 0.22443), ('사건', 0.22422), ('사랑을', 0.205), ('눈을', 0.14371), ('없는', 0.14271)]\n",
      "Topic 16: [('꿈을', 0.18892), ('하지만', 0.18095), ('못한', 0.17324), ('다른', 0.13236), ('있다', 0.12845)]\n",
      "Topic 17: [('사건', 0.20611), ('다시', 0.1831), ('마지막', 0.12641), ('소년', 0.11277), ('그는', 0.10815)]\n",
      "Topic 18: [('살아온', 0.16891), ('없이', 0.14095), ('꿈을', 0.13115), ('못했던', 0.12474), ('우리', 0.11935)]\n",
      "Topic 19: [('자신의', 0.23539), ('미국', 0.18484), ('시작하는데', 0.1556), ('다른', 0.10452), ('세계로', 0.10143)]\n",
      "Topic 20: [('찾아', 0.17483), ('가진', 0.13086), ('못한', 0.12268), ('사랑에', 0.12017), ('특별한', 0.11393)]\n"
     ]
    }
   ],
   "source": [
    "get_topics( svd_model.components_,terms )"
   ]
  },
  {
   "cell_type": "code",
   "execution_count": null,
   "metadata": {},
   "outputs": [],
   "source": [
    "6"
   ]
  }
 ],
 "metadata": {
  "kernelspec": {
   "display_name": "Python 3",
   "language": "python",
   "name": "python3"
  },
  "language_info": {
   "codemirror_mode": {
    "name": "ipython",
    "version": 3
   },
   "file_extension": ".py",
   "mimetype": "text/x-python",
   "name": "python",
   "nbconvert_exporter": "python",
   "pygments_lexer": "ipython3",
   "version": "3.7.6"
  }
 },
 "nbformat": 4,
 "nbformat_minor": 4
}
