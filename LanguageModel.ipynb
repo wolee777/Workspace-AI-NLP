{
 "cells": [
  {
   "cell_type": "markdown",
   "metadata": {},
   "source": [
    "# 언어 모델( Language Model )"
   ]
  },
  {
   "cell_type": "markdown",
   "metadata": {},
   "source": [
    "#### 언어 모델( Language Model )이란 단어 시퀀스( 문장 )에 확률을 할당하는 모델을 말한다."
   ]
  },
  {
   "cell_type": "markdown",
   "metadata": {},
   "source": [
    "#### 어떤 문자들이 있을 때, 기계가 이 문장은 '적절해!' '이 문자은 말이 안 돼!' 라고 사람처럼 판단할 수 있다면, 기계가 자연어 처리를 잘 한다고 볼 수 있다. 이게 바로 언어 모델이 하는 일 이다."
   ]
  },
  {
   "cell_type": "markdown",
   "metadata": {},
   "source": [
    "#### 통계에 기반한 전통적인 언어 모델( Statistical Language Model, SLM )은 우리가 실제 사용하는 자연어를 근사하기에는 많은 한계가 있었고, 요즘 들어 인공 신경망이 그러한 한계를 많이 해결해주면서 통계 기반 언어 모델은 많이 사용 용도가 줄었으나, n-gram은 자연어 처리 분야에서 활발하게 활용되고 있으며, 통계 기반 방법론에 대한 이해는 언어 모델에 대한 전체적인 시야를 갖는 일게 도움이 된다."
   ]
  },
  {
   "cell_type": "markdown",
   "metadata": {},
   "source": [
    "## 1) 언어 모델( Language Model )이란?"
   ]
  },
  {
   "cell_type": "markdown",
   "metadata": {},
   "source": [
    "#### 언어 모델( Language Model, LM )은 언어라는 현상을 모델링하고자 단어 시퀀스( 또는 문장 )에 확률을 할당( assign )하는 모델이다."
   ]
  },
  {
   "cell_type": "markdown",
   "metadata": {},
   "source": [
    "#### 언어 모델을 만드는 방법은 크게 통계를 이용한 방법과 인공 신경망을 이용한 방법으로 구분할 수 있다. 최근에는 통계를 이용한 방법보다는 인공 신경망을 이용한 방법이 더 좋은 성능을 보여주고 있다. 자연어 처리 신기술인 GPT나 BERT 또한 인공 신경망 언어 모델의 개념을 사용하여 만들어졌다."
   ]
  },
  {
   "cell_type": "markdown",
   "metadata": {},
   "source": [
    "### 1. 언어 모델( Language Model )"
   ]
  },
  {
   "cell_type": "markdown",
   "metadata": {},
   "source": [
    "#### 언어 모델은 단어 시퀀스에 확률을 할당( assign )하는 일을 하는 모델이다. 언어 모델은 가장 자연스러운 단어 시퀀스를 찿아내는 모델이다. 단어 시퀀스에 확률을 할당하게 하기 위해서 가정 보편적으로 사용되는 방법은 언어 모델이 이전 단어들이 주어졌을 때 다음 단어를 예측하도록 하는 것이다. "
   ]
  },
  {
   "cell_type": "markdown",
   "metadata": {},
   "source": [
    "#### 다른 유형의 언어 모델로는 주어진 양쪽의 단어들로부터 가운데 비어있는 단어를 예측하는 언어 모델이 있다. 이 유형의 언어 모델은 BERT가 있다."
   ]
  },
  {
   "cell_type": "markdown",
   "metadata": {},
   "source": [
    "#### 언어 모델링( Language Modeling )은 주어진 단어들로부터 아직 모르는 단어를 예측하는 작업을 말한다. 즉, 언어 모델이 이전 단어들로부터 다음 단어를 예측하는 일은 언어 모델링이다."
   ]
  },
  {
   "cell_type": "markdown",
   "metadata": {},
   "source": [
    "### 2. 단어 시퀀스의 확률 할당"
   ]
  },
  {
   "cell_type": "markdown",
   "metadata": {},
   "source": [
    "#### 언어 모델은 확률을 통해 보다 적절한 문장을 판단한다."
   ]
  },
  {
   "cell_type": "markdown",
   "metadata": {},
   "source": [
    "#### a. 기계 번역( Machine Translation ) :\n",
    "대문자 P는 확률을 의미한다.\n",
    "\n",
    "P( 나는 버스를 탔다 ) > P( 나는 버스를 태운다 )\n",
    "\n",
    ": 언어 모델은 두 분장을 비교하여 좌측 문장의 확률이 더 높다고 판단한다."
   ]
  },
  {
   "cell_type": "markdown",
   "metadata": {},
   "source": [
    "#### b. 오타 수정( Spell Correction )\n",
    "선생님이 교실로 부리나케\n",
    "\n",
    "P( 달려갔다 ) > P( 잘려갔다 )\n",
    "\n",
    ": 언어 모델은 두 문장을 비교하여 촤측 문장의 확률이 더 높다고 판단한다."
   ]
  },
  {
   "cell_type": "markdown",
   "metadata": {},
   "source": [
    "#### c. 음성 인식( Speech Recognition )\n",
    "P( 나는 메롱을 먹는다 ) < P( 나는 멜론을 먹는다 )\n",
    "\n",
    ": 언어 모델은 두 문장을 비교하여 우측 문장의 확률이 더 높다고 판단한다."
   ]
  },
  {
   "cell_type": "markdown",
   "metadata": {},
   "source": [
    "### 3. 주어진 이전 단어들로부터 다음 단어 예측하기"
   ]
  },
  {
   "cell_type": "markdown",
   "metadata": {},
   "source": [
    "#### 언어 모델은 단어 시퀀스에 확률을 할당하는 모델이다. 단어 시퀀스에 확률을 할다하기 위해서 가장 보편적으로 사용하는 방법은 이전 단어들이 주어졌을 때, 다음 단어를 예측하도록 하는 것이다. 이를 조건부 확률로 표현한다."
   ]
  },
  {
   "cell_type": "markdown",
   "metadata": {},
   "source": [
    "#### A. 단어 시퀀스의 확률\n",
    "하나의 단어 w, 단어 시퀀스를 대문자 W라고 한다면, n개의 단어가 등장하는 단어 시퀀스 W의 확률은 다음과 같다.\n",
    "\n",
    "P( W ) = P( w1, w2, w3, w4, w5, ... , wn )"
   ]
  },
  {
   "cell_type": "markdown",
   "metadata": {},
   "source": [
    "#### B. 다음 단어 등장 확률\n",
    "이제 다음 단어 등장 확률을 식으로 표현. n - 1개의 단어가 나열된 상태에서 n번째 단어의 확률은 다음과 같다.\n",
    "\n",
    "P( wn | w1, ..., wn-1 )\n",
    "\n",
    "|의 기호는 조건부 확률( conditional probability )을 의미한다.\n",
    "\n",
    "예를 들어 다섯번째 단어의 확률은 다음과 같다.\n",
    "\n",
    "P( w5 | w1, w2, w3, w4 )\n",
    "\n",
    "전체 단어 시퀀스 W의 확률은 모든 단어가 예측되고 나서야 알 수 있으므로 단어 시퀀스의 확률은 다음과 같다.\n",
    "\n",
    "P( W ) = P( w1, w2, w3, w5, ... wn ) = P( wn | w1, ..., wn-1 )"
   ]
  },
  {
   "cell_type": "markdown",
   "metadata": {},
   "source": [
    "### 4. 언어 모델의 간단한 직관\n",
    "'비행기를 타려고 공항에 갔는데 지각을 하는 바람에 비행기를'라는 문장이 있다. '비행기를' 다음에 어떤 단어가 오게 될지 사람은 쉽게 '놓쳤다'라고 예상할 수 있다. 우리 지식에 기반하여 나올 수 있는 여러 단어들을 후보에 놓고 놓쳤다는 단어가 나올 확률이 가장 높다고 판단하였기 때문이다.\n",
    "\n",
    "기계에게 위 문장을 주고, '비행기를' 다음에 나올 단어를 예측해보라고 한다면 사람과 비슷하게 처리한다. 앞에 어떤 단어들이 나왔는디 고려하여 후보가 될 수 있는 여러 단어들에 대해서 확률을 예측해보고 가장 높은 확률을 가진 단어를 선택한다. \n",
    "\n",
    "앞에 어떤 단어들이 나왔는지 고려하여 후보가 될 수 있는 여러 단어들에 대해서 등장 확률을 추정하고 가장 높은 확률을 가진 단어를 선택한다."
   ]
  },
  {
   "cell_type": "markdown",
   "metadata": {},
   "source": [
    "## 2) 통계적 언어 모델( Statistical Language Model, SLM )"
   ]
  },
  {
   "cell_type": "markdown",
   "metadata": {},
   "source": [
    "### 1. 조건부 확률"
   ]
  },
  {
   "cell_type": "markdown",
   "metadata": {},
   "source": [
    "조건부 확률은 두 확률 P(A),P(B)에 대해서 아래와 같은 관계를 갖습니다.\n",
    "\n",
    "p( B | A ) = P( A, B ) / P( A )\n",
    "\n",
    "P( A, B ) = P( A )P( B | A )\n",
    "\n",
    "더 많은 확률에 대해서 일반화해봅시다. 4개의 확률이 조건부 확률의 관계를 가질 때, 아래와 같이 표현할 수 있습니다.\n",
    "\n",
    "P( A, B, C, D ) = P( A )P( B | A )P( C | A, B )P( D | A, B, C )\n",
    "\n",
    "이를 조건부 확률의 연쇄 법칙(chain rule)이라고 합니다. 이제는 4개가 아닌 n개에 대해서 일반화를 해봅시다.\n",
    "\n",
    "P( x1, x2, x3 ... xn ) = P( x1 )P( x2 | x1 )P( x3 | x1, x2 )...P( xn | x1 ... xn−1 )\n",
    "\n",
    "조건부 확률에 대한 정의를 통해 문장의 확률을 구해보겠습니다."
   ]
  },
  {
   "cell_type": "markdown",
   "metadata": {},
   "source": [
    "### 2.문자에 대한 확률"
   ]
  },
  {
   "cell_type": "markdown",
   "metadata": {},
   "source": [
    "문장 'An adorable little boy is spreading smiles'의 확률 P(An adorable little boy is spreading smiles)를 식으로 표현해봅시다.\n",
    "\n",
    "각 단어는 문맥이라는 관계로 인해 이전 단어의 영향을 받아 나온 단어입니다. 그리고 모든 단어로부터 하나의 문장이 완성됩니다. 그렇기 때문에 문장의 확률을 구하고자 조건부 확률을 사용하겠습니다. 앞서 언급한 조건부 확률의 일반화 식을 문장의 확률 관점에서 다시 적어보면 문장의 확률은 각 단어들이 이전 단어가 주어졌을 때 다음 단어로 등장할 확률의 곱으로 구성됩니다.\n",
    "\n",
    "P( w1, w2, w3, w4, w5, ... wn ) = P( wn | w1, ... , wn−1 )\n",
    "위의 문장에 해당 식을 적용해보면 다음과 같습니다.\n",
    "\n",
    "P( An adorable little boy is spreading smiles ) =\n",
    "P( An ) × P( adorable | An ) × P( little | An adorable ) × P( boy | An adorable little ) × P( is | An adorable little boy ) × P( spreading | An adorable little boy is ) × P( smiles | An adorable little boy is spreading )\n",
    "문장의 확률을 구하기 위해서 각 단어에 대한 예측 확률들을 곱합니다."
   ]
  },
  {
   "cell_type": "markdown",
   "metadata": {},
   "source": [
    "### 3. 카운트 기반의 접근"
   ]
  },
  {
   "cell_type": "markdown",
   "metadata": {},
   "source": [
    "문장의 확률을 구하기 위해서 다음 단어에 대한 예측 확률을 모두 곱한다는 것은 알았습니다. 그렇다면 SLM은 이전 단어로부터 다음 단어에 대한 확률은 어떻게 구할까요? 정답은 카운트에 기반하여 확률을 계산합니다.\n",
    "\n",
    "An adorable little boy가 나왔을 때, is가 나올 확률인 P( is | An adorable little boy )를 구해봅시다.\n",
    "\n",
    "P( is | An adorable little boy ) = count( An adorable little boy is ) / count( An adorable little boy )\n",
    "그 확률은 위와 같습니다. 예를 들어 기계가 학습한 코퍼스 데이터에서 An adorable little boy가 100번 등장했는데 그 다음에 is가 등장한 경우는 30번이라고 합시다. 이 경우 P( is | An adorable little boy )는 30%입니다."
   ]
  },
  {
   "cell_type": "markdown",
   "metadata": {},
   "source": [
    "### 4. 카운트 기반 접근의 한계 - 희소 문제( Sparsity Problem )"
   ]
  },
  {
   "cell_type": "markdown",
   "metadata": {},
   "source": [
    "언어 모델은 실생활에서 사용되는 언어의 확률 분포를 근사 모델링 합니다. 실제로 정확하게 알아볼 방법은 없겠지만 현실에서도 An adorable little boy가 나왔을 때 is가 나올 확률이라는 것이 존재합니다. 이를 실제 자연어의 확률 분포, 현실에서의 확률 분포라고 명칭합시다. 기계에게 많은 코퍼스를 훈련시켜서 언어 모델을 통해 현실에서의 확률 분포를 근사하는 것이 언어 모델의 목표입니다. 그런데 카운트 기반으로 접근하려고 한다면 갖고있는 코퍼스(corpus). 즉, 다시 말해 기계가 훈련하는 데이터는 정말 방대한 양이 필요합니다.\n",
    "\n",
    "P( is | An adorable little boy ) = count( An adorable little boy is ) / count( An adorable little boy )\n",
    "예를 들어 위와 같이 P( is | An adorable little boy )를 구하는 경우에서 기계가 훈련한 코퍼스에 An adorable little boy is라는 단어 시퀀스가 없었다면 이 단어 시퀀스에 대한 확률은 0이 됩니다. 또는 An adorable little boy라는 단어 시퀀스가 없었다면 분모가 0이 되어 확률은 정의되지 않습니다. 그렇다면 코퍼스에 단어 시퀀스가 없다고 해서 이 확률을 0 또는 정의되지 않는 확률이라고 하는 것이 정확한 모델링 방법일까요? 아닙니다. 현실에선 An adorable little boy is 라는 단어 시퀀스가 존재하고 또 문법에도 적합하므로 정답일 가능성 또한 높습니다. 이와 같이 충분한 데이터를 관측하지 못하여 언어를 정확히 모델링하지 못하는 문제를 희소 문제(sparsity problem)라고 합니다.\n",
    "\n",
    "위 문제를 완화하는 방법으로 다음 챕터에서 배우는 n-gram이나 이 책에서 다루지는 않지만 스무딩이나 백오프와 같은 여러가지 일반화(generalization) 기법이 존재합니다. 하지만 희소 문제에 대한 근본적인 해결책은 되지 못하였습니다. 결국 이러한 한계로 인해 언어 모델의 트렌드는 통계적 언어 모델에서 인공 신경망 언어 모델로 넘어가게 됩니다."
   ]
  },
  {
   "cell_type": "code",
   "execution_count": null,
   "metadata": {},
   "outputs": [],
   "source": []
  }
 ],
 "metadata": {
  "kernelspec": {
   "display_name": "Python 3",
   "language": "python",
   "name": "python3"
  },
  "language_info": {
   "codemirror_mode": {
    "name": "ipython",
    "version": 3
   },
   "file_extension": ".py",
   "mimetype": "text/x-python",
   "name": "python",
   "nbconvert_exporter": "python",
   "pygments_lexer": "ipython3",
   "version": "3.7.6"
  }
 },
 "nbformat": 4,
 "nbformat_minor": 4
}
